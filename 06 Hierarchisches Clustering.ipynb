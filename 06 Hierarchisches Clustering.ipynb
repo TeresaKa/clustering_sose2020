{
 "cells": [
  {
   "cell_type": "markdown",
   "metadata": {},
   "source": [
    "# Hierarchisches Clustering"
   ]
  },
  {
   "cell_type": "markdown",
   "metadata": {},
   "source": [
    "Erklärung: Everitt Kap. 4\n",
    "\n",
    "Die Ergebnisse von hierarch. Clustering will man üblicherweise wie auch von Everitt dargestellt mit einem Dendrogram präsentieren. Das ist Python leider nicht ganz einfach, da die einschlägige Visualisierungsmethode in scipy (scipy.cluster.hierarchy.dendrogram) als Eingabe nur eine linkage matrix akzeptiert, wie sie von dem einschlägigen Verfahren zum hierarch. Clustering in Scipy erzeugt wird (siehe scipy.cluster.hierarchy.linkage) - aber eben nicht von Scikit-Learn. Nun gibt es zwei Auswege: 1. Man macht sein hierch. Clustering mit Scipy, 2. Man baut seine eigene *linkage matrix*. Wir wählen hier den zweiten."
   ]
  },
  {
   "cell_type": "code",
   "execution_count": 23,
   "metadata": {},
   "outputs": [],
   "source": [
    "from sklearn.datasets import make_blobs\n",
    "from sklearn.cluster import AgglomerativeClustering, KMeans\n",
    "from scipy.cluster.hierarchy import dendrogram\n",
    "from sklearn.decomposition import PCA\n",
    "from scipy.spatial.distance import squareform\n",
    "\n",
    "from matplotlib import pyplot as plt\n",
    "import numpy as np"
   ]
  },
  {
   "cell_type": "markdown",
   "metadata": {},
   "source": [
    "Zuerst erzeugen wir künstliche Datenpunkte:"
   ]
  },
  {
   "cell_type": "code",
   "execution_count": 2,
   "metadata": {},
   "outputs": [],
   "source": [
    "X, y = make_blobs(n_samples=12, n_features=20, centers=3, random_state=2)"
   ]
  },
  {
   "cell_type": "markdown",
   "metadata": {},
   "source": [
    "Um eine gewisse Vorstellung der Struktur zu haben, visualisieren wir sie mit PCA: "
   ]
  },
  {
   "cell_type": "code",
   "execution_count": 3,
   "metadata": {},
   "outputs": [
    {
     "data": {
      "image/png": "[encoded data removed]",
      "text/plain": [
       "<Figure size 720x504 with 1 Axes>"
      ]
     },
     "metadata": {
      "needs_background": "light"
     },
     "output_type": "display_data"
    }
   ],
   "source": [
    "X_tf = PCA(2).fit_transform(X)\n",
    "plt.figure(figsize=(10,7))\n",
    "plt.scatter(X_tf[:,0], X_tf[:, 1], c=y);"
   ]
  },
  {
   "cell_type": "markdown",
   "metadata": {},
   "source": [
    "Jetzt verwenden wir die einschlägige Klasse **AgglomerativeClustering()** in der gleichen Weise wie alle anderen Klassen in Scikit-Learn. Mit einem kleinen Unterschied: Wir geben zwei Parameter explizit an, da wir sonst mit einem Bug in Scikit-Learn v. 0.23 zu kämpfen haben:"
   ]
  },
  {
   "cell_type": "code",
   "execution_count": 4,
   "metadata": {},
   "outputs": [],
   "source": [
    "# bug in AgglomerativeClustering: distances_ is not always available, you have \n",
    "# to set n_clusters and distance_threshold explicitly\n",
    "model = AgglomerativeClustering(n_clusters=None, distance_threshold=0).fit(X)"
   ]
  },
  {
   "cell_type": "markdown",
   "metadata": {},
   "source": [
    "Anders als bei KMeans ist hier nicht model.labels_ relevant, da dies nur die Informationen zu unseren 12 Datenpunkten enthält:"
   ]
  },
  {
   "cell_type": "code",
   "execution_count": 5,
   "metadata": {},
   "outputs": [
    {
     "data": {
      "text/plain": [
       "array([ 9,  6,  7, 11,  8, 10,  4,  3,  1,  5,  2,  0], dtype=int64)"
      ]
     },
     "execution_count": 5,
     "metadata": {},
     "output_type": "execute_result"
    }
   ],
   "source": [
    "model.labels_"
   ]
  },
  {
   "cell_type": "markdown",
   "metadata": {},
   "source": [
    "Was wir aber wissen wollen, ist: Welche Datenpunkte sind zu einem Cluster verbunden worden. Das finden wir unter dem Attribut children_. Es handelt sich um einen Array in der Form (n, 2), wobei n die Anzahl der Cluster anzeigt. Jeder Eintrag zeigt an, welche Cluster miteinander verbunden wurden, zuerst z.B. die Datenpunkte 3 und 6. Dann 8 und 9 usw. In der 5. Zeile, [2, 14], sehen wir etwas Auffälliges: Wir haben ja nur 12 Datenpunkte (=n_samples). Jede Zeile erzeugt ein neues Cluster; gezählt wird ab der Anzahl der Samples. [3, 6] ist also Cluster 12, [8, 9] ist Cluster 13 usw.:"
   ]
  },
  {
   "cell_type": "code",
   "execution_count": 6,
   "metadata": {},
   "outputs": [
    {
     "name": "stdout",
     "output_type": "stream",
     "text": [
      "(11, 2)\n"
     ]
    },
    {
     "data": {
      "text/plain": [
       "array([[ 3,  6],\n",
       "       [ 8,  9],\n",
       "       [ 5,  7],\n",
       "       [ 4, 10],\n",
       "       [ 2, 14],\n",
       "       [ 1, 15],\n",
       "       [12, 13],\n",
       "       [ 0, 16],\n",
       "       [11, 17],\n",
       "       [18, 20],\n",
       "       [19, 21]], dtype=int64)"
      ]
     },
     "execution_count": 6,
     "metadata": {},
     "output_type": "execute_result"
    }
   ],
   "source": [
    "print(model.children_.shape)\n",
    "model.children_[:]"
   ]
  },
  {
   "cell_type": "markdown",
   "metadata": {},
   "source": [
    "Außerdem gibt es eine Liste  mit Distanzen: distances_. Sie hat so viele Einträge wie children_ und bezieht sich auf dessen Einträge, d.h. der erste Wert ist die Distanz zwischen den beiden Datenpunkten des ersten Eintrag von children_, usw.:"
   ]
  },
  {
   "cell_type": "code",
   "execution_count": 7,
   "metadata": {},
   "outputs": [
    {
     "name": "stdout",
     "output_type": "stream",
     "text": [
      "(11,)\n"
     ]
    },
    {
     "data": {
      "text/plain": [
       "array([ 5.16909643,  5.4027639 ,  5.80568351,  6.45307436,  6.74684467,\n",
       "        6.77790346,  6.93856175,  7.1487572 ,  8.09120854, 56.82086003,\n",
       "       79.60114892])"
      ]
     },
     "execution_count": 7,
     "metadata": {},
     "output_type": "execute_result"
    }
   ],
   "source": [
    "print(model.distances_.shape)\n",
    "model.distances_"
   ]
  },
  {
   "cell_type": "markdown",
   "metadata": {},
   "source": [
    "## Visualisierung mit Dendrogrammen"
   ]
  },
  {
   "cell_type": "markdown",
   "metadata": {},
   "source": [
    "Wie oben schon erwähnt, müssen wir, wenn wir das Ergebnis visualisieren wollen, eine linkage matrix bauen, die wir dann der Visualisierungsmethode aus scipy als Eingabe geben können"
   ]
  },
  {
   "cell_type": "markdown",
   "metadata": {},
   "source": [
    "Die Linkage Matrix ist nun eine Liste von Listen, die soviele Zeilen hat wie children_ / distances_ Einträge haben und außerdem 4 Spalten. Die ersten beiden Spalten sind identisch mit den Werten von children_, die dritte enthält die Distanzen, also die Werte in distances_. Die Zahl in der vierten Spalte gibt an, wieviele originalen Datenpunkte in dem Cluster sind. So sind etwa in dem ersten Cluster [3, 6], zwei originale Datenpunkte enthalten, die einen Abstand von 5.169 haben:\n",
    "\n",
    "```array([[ 3.        ,  6.        ,  5.16909643,  2.        ],\n",
    "       [ 8.        ,  9.        ,  5.4027639 ,  2.        ],\n",
    "       [ 5.        ,  7.        ,  5.80568351,  2.        ],\n",
    "       [ 4.        , 10.        ,  6.45307436,  2.        ],\n",
    "       [ 2.        , 14.        ,  6.74684467,  3.        ],\n",
    "       [ 1.        , 15.        ,  6.77790346,  3.        ],\n",
    "       [12.        , 13.        ,  6.93856175,  4.        ],\n",
    "       [ 0.        , 16.        ,  7.1487572 ,  4.        ],\n",
    "       [11.        , 17.        ,  8.09120854,  4.        ],\n",
    "       [18.        , 20.        , 56.82086003,  8.        ],\n",
    "       [19.        , 21.        , 79.60114892, 12.        ]])```"
   ]
  },
  {
   "cell_type": "markdown",
   "metadata": {},
   "source": [
    "Die ersten drei Spalten haben wir ja bereits:"
   ]
  },
  {
   "cell_type": "code",
   "execution_count": 8,
   "metadata": {},
   "outputs": [
    {
     "data": {
      "text/plain": [
       "array([[ 3.        ,  6.        ,  5.16909643],\n",
       "       [ 8.        ,  9.        ,  5.4027639 ],\n",
       "       [ 5.        ,  7.        ,  5.80568351],\n",
       "       [ 4.        , 10.        ,  6.45307436],\n",
       "       [ 2.        , 14.        ,  6.74684467],\n",
       "       [ 1.        , 15.        ,  6.77790346],\n",
       "       [12.        , 13.        ,  6.93856175],\n",
       "       [ 0.        , 16.        ,  7.1487572 ],\n",
       "       [11.        , 17.        ,  8.09120854],\n",
       "       [18.        , 20.        , 56.82086003],\n",
       "       [19.        , 21.        , 79.60114892]])"
      ]
     },
     "execution_count": 8,
     "metadata": {},
     "output_type": "execute_result"
    }
   ],
   "source": [
    "np.column_stack([model.children_, model.distances_]).astype(float)"
   ]
  },
  {
   "cell_type": "markdown",
   "metadata": {},
   "source": [
    "Nun müssen wir die vierte berechnen:"
   ]
  },
  {
   "cell_type": "markdown",
   "metadata": {},
   "source": [
    "Zuerst brauchen wir eine Liste, die so lang ist, wie die Tabelle:"
   ]
  },
  {
   "cell_type": "code",
   "execution_count": 9,
   "metadata": {},
   "outputs": [],
   "source": [
    "counts = np.zeros(model.children_.shape[0])"
   ]
  },
  {
   "cell_type": "markdown",
   "metadata": {},
   "source": [
    "Im nächsten Schritt haben wir eine Schleife, die über die Liste der children_ geht. \n",
    "\n",
    "Schauen wir uns an, was in einem Durchgang passiert: \n",
    "In die Variable 'current_count' wird der Wert gespeichert, der dann zuletzt in die jeweiligen Zeile der vierten Spalte wandert.\n",
    "Dann kommt eine weitere Schleife über die Elemente von 'merge'. merge ist aber nichts anderes als ein Eintrag in der Liste model.children_, die aus zwei Elementen besteht.\n",
    "Die if-Abfrage prüft nun, ob der Wert kleiner ist als die Anzahl der Datenpunkte. Wenn das der Fall ist, dann handelt es ich um einen originalen Datenpunkt und der Counter wird um 1 erhöht. \n",
    "Problematischer ist es natürlich, wenn es sich dabei schon um ein Cluster handelt, man also herausfinden muss, wieviele originale Datenpunkte in dem Cluster sind. Das steht hier unter 'else'.  An dieser Stelle kann man sich zunutze machen, dass unsere Liste counts, die wir gerade aufbauen, ja diese Information bereits enthält. Der erste Eintrag ist die Zahl der originalen Datenpunkte in dem Cluster 12 (=n_samples), der zweite Eintrag ist die Zahl der originalen Datenpunkte in dem Cluster 13 (n_samples+1). Wir müssen also nur die Anzahl der Samples von der Cluster-Zahl abziehen (child_idx - n_samples), um den einschlägigen Wert aus der Liste counts ziehen zu können und dem current_count zuzuschlagen."
   ]
  },
  {
   "cell_type": "code",
   "execution_count": 10,
   "metadata": {},
   "outputs": [],
   "source": [
    "n_samples = len(model.labels_)\n",
    "for i, merge in enumerate(model.children_):\n",
    "    current_count = 0\n",
    "    for child_idx in merge:\n",
    "        if child_idx < n_samples:\n",
    "            current_count += 1  # leaf node\n",
    "        else:\n",
    "            current_count += counts[child_idx - n_samples]\n",
    "    counts[i] = current_count\n"
   ]
  },
  {
   "cell_type": "markdown",
   "metadata": {},
   "source": [
    "Jetzt haben wir mit counts die vierte Spalte für die linkage matrix:"
   ]
  },
  {
   "cell_type": "code",
   "execution_count": 11,
   "metadata": {},
   "outputs": [
    {
     "data": {
      "text/plain": [
       "array([ 2.,  2.,  2.,  2.,  3.,  3.,  4.,  4.,  4.,  8., 12.])"
      ]
     },
     "execution_count": 11,
     "metadata": {},
     "output_type": "execute_result"
    }
   ],
   "source": [
    "counts"
   ]
  },
  {
   "cell_type": "markdown",
   "metadata": {},
   "source": [
    "Jetzt bauen wir das noch in eine Matrix und wir sind fertig:"
   ]
  },
  {
   "cell_type": "code",
   "execution_count": 12,
   "metadata": {},
   "outputs": [
    {
     "data": {
      "text/plain": [
       "array([[ 3.        ,  6.        ,  5.16909643,  2.        ],\n",
       "       [ 8.        ,  9.        ,  5.4027639 ,  2.        ],\n",
       "       [ 5.        ,  7.        ,  5.80568351,  2.        ],\n",
       "       [ 4.        , 10.        ,  6.45307436,  2.        ],\n",
       "       [ 2.        , 14.        ,  6.74684467,  3.        ],\n",
       "       [ 1.        , 15.        ,  6.77790346,  3.        ],\n",
       "       [12.        , 13.        ,  6.93856175,  4.        ],\n",
       "       [ 0.        , 16.        ,  7.1487572 ,  4.        ],\n",
       "       [11.        , 17.        ,  8.09120854,  4.        ],\n",
       "       [18.        , 20.        , 56.82086003,  8.        ],\n",
       "       [19.        , 21.        , 79.60114892, 12.        ]])"
      ]
     },
     "execution_count": 12,
     "metadata": {},
     "output_type": "execute_result"
    }
   ],
   "source": [
    "np.column_stack([model.children_, model.distances_, counts]).astype(float)"
   ]
  },
  {
   "cell_type": "markdown",
   "metadata": {},
   "source": [
    "Der Einfachheit halber können wir das in eine Methode fassen:"
   ]
  },
  {
   "cell_type": "code",
   "execution_count": 13,
   "metadata": {},
   "outputs": [],
   "source": [
    "def linkage_matrix(n_samples, children, distances):\n",
    "    \"\"\"\n",
    "    create a linkage matrix for the dendogram method in scipy\n",
    "    n_samples: int, number of samples\n",
    "    children: list of lists, clustered data points (should be 2)\n",
    "    distances: list of distances between nodes\n",
    "    \"\"\"\n",
    "    # Create linkage matrix\n",
    "    \n",
    "\n",
    "    # create the counts of samples under each node\n",
    "    counts = np.zeros(children.shape[0])\n",
    "    for i, merge in enumerate(children):\n",
    "        current_count = 0\n",
    "        for child_idx in merge:\n",
    "            if child_idx < n_samples:\n",
    "                current_count += 1  # leaf node\n",
    "            else:\n",
    "                current_count += counts[child_idx - n_samples]\n",
    "        counts[i] = current_count\n",
    "\n",
    "    return np.column_stack([children, distances, counts]).astype(float)"
   ]
  },
  {
   "cell_type": "code",
   "execution_count": 14,
   "metadata": {},
   "outputs": [
    {
     "data": {
      "image/png": "[encoded data removed]",
      "text/plain": [
       "<Figure size 720x504 with 1 Axes>"
      ]
     },
     "metadata": {
      "needs_background": "light"
     },
     "output_type": "display_data"
    }
   ],
   "source": [
    "lmatrix = linkage_matrix(X.shape[0], model.children_, model.distances_)\n",
    "plt.figure(figsize=(10,7))\n",
    "dendrogram(lmatrix);"
   ]
  },
  {
   "cell_type": "markdown",
   "metadata": {},
   "source": [
    "Ein weiteres Beispiel: Das Iris-Datenset"
   ]
  },
  {
   "cell_type": "code",
   "execution_count": 15,
   "metadata": {},
   "outputs": [],
   "source": [
    "from sklearn.datasets import load_iris\n",
    "X, y = load_iris(return_X_y=True)"
   ]
  },
  {
   "cell_type": "code",
   "execution_count": 16,
   "metadata": {},
   "outputs": [
    {
     "data": {
      "image/png": "[encoded data removed]",
      "text/plain": [
       "<Figure size 864x576 with 1 Axes>"
      ]
     },
     "metadata": {
      "needs_background": "light"
     },
     "output_type": "display_data"
    }
   ],
   "source": [
    "model = AgglomerativeClustering(n_clusters=None, distance_threshold=0).fit(X)\n",
    "link_matrix = linkage_matrix(X.shape[0], model.children_, model.distances_)\n",
    "plt.figure(figsize=(12,8))\n",
    "dendrogram(link_matrix);"
   ]
  },
  {
   "cell_type": "markdown",
   "metadata": {},
   "source": [
    "## Verbindungskriterien"
   ]
  },
  {
   "cell_type": "markdown",
   "metadata": {},
   "source": [
    "Bei jedem Schritt des agg. Clusterings wird das nächste Cluster hinzugefügt. Aber was heißt in diesem Kontext 'ds nächste'. Es haben sich eine Reihe von Verfahren etabliert; hier diejenigen, die Scikit-learn implementiert:\n",
    "* ward: minimiert* die Summe der quadrierten Differenzen, also die Varianz, innerhalb aller Cluster \n",
    "* complete/maximum: minimiert die maximale Distanz zwischen einem Paar von Clustern\n",
    "* average: minimiert den Durchschnitt der Distanzen aller Instanzen eines Paars von Clustern\n",
    "* single: minimiert die Distanz zwischen den kürzesten Verbindungen eine Paars von Clustern\n",
    "\n",
    "Davon ist ward das gebräuchlichste und auch die Voreinstellung in sklearn.\n",
    "\n",
    "\\* sucht den kleinsten Wert"
   ]
  },
  {
   "cell_type": "markdown",
   "metadata": {},
   "source": [
    "Hier eine interessante Grafik aus der Dokumentation von sklearn, die den Effekt der unterschiedlichen Linkage-Verfahren zeigt:\n",
    "<img src='sklearn_doku_linkage_comparison.png' width=500>"
   ]
  },
  {
   "cell_type": "markdown",
   "metadata": {},
   "source": [
    "# Bewertungskriterien für das Ergebnis eines Clustering"
   ]
  },
  {
   "cell_type": "markdown",
   "metadata": {},
   "source": [
    "Ausführliche Diskussion in Hui Xiong: Clustering Validation Measures. "
   ]
  },
  {
   "cell_type": "markdown",
   "metadata": {},
   "source": [
    "Wir unterscheiden: \n",
    "* externe Verfahren, bei denen wir Zugriff auf die wahren Labels haben\n",
    "* interne Verfahren, bei denen wir keinen Zugriff auf die wahren Labels haben"
   ]
  },
  {
   "cell_type": "markdown",
   "metadata": {},
   "source": [
    "## Adjusted Rand Index"
   ]
  },
  {
   "cell_type": "markdown",
   "metadata": {},
   "source": [
    "Wichtiges externes Verfahren.  Vergleicht die Cluster-Zuweisung durch den Algorithmus (K) mit der wahren Zuweisung (C). \n",
    "\n",
    "ARI hat einen Wert zwischen -1 und +1, wobei Werte nahe +1 ein sehr gutes Ergebnis anzeigen, Werte um die 0 eine Zufallsverteilung indizieren und Werte nahe -1 ein nicht zufälliges, aber falsches Labeling anzeigen."
   ]
  },
  {
   "cell_type": "markdown",
   "metadata": {},
   "source": [
    "Berechnung des noch nicht korrigierten Rand Index:\n",
    "\n",
    "a: die Anzahl der Paare, die in C in einem Cluster sind und die in K in einem Cluster sind.\n",
    "\n",
    "b: die Anzahl der Paare, die in C nicht in einem Cluster sind und die in K nicht in einem Cluster sind.\n",
    "\n",
    "In der Sprache des Information Retrieval können wir also auch sagen: \n",
    "\n",
    "a: True positives\n",
    "\n",
    "b: True negatives\n",
    "\n",
    "\n",
    "$$ RI = \\frac{a + b}{\\binom n 2}$$  \n",
    "\n",
    "Im Nenner steht die Anzahl aller möglichen Paare:  $\\binom n 2$ (berechnet durch $n(n-1)/2$\n",
    "\n",
    "Der Rand Index hat nun den Nachteil, dass er nicht berücksichtigt, dass schon aufgrund einer Zufallsverteilung Elemente in dem gleichen Cluster liegen können (und wahrscheinlich werden). Deshalb verwendet man üblicherweise den korrigierten (adjusted) Rand Index. Dabei wird vom berechneten RI der Erwartungswert abgezogen:\n",
    "\n",
    "$$ARI = \\frac{Rand Index-Expected Rand Index}{Maximum Rand Index - Expected Rand Index}$$"
   ]
  },
  {
   "cell_type": "markdown",
   "metadata": {},
   "source": [
    "In scikit-learn findet sich der ARI  im Untermodul metrics:"
   ]
  },
  {
   "cell_type": "code",
   "execution_count": 31,
   "metadata": {},
   "outputs": [
    {
     "data": {
      "text/plain": [
       "0.6672777268560953"
      ]
     },
     "execution_count": 31,
     "metadata": {},
     "output_type": "execute_result"
    }
   ],
   "source": [
    "from sklearn.metrics import adjusted_rand_score\n",
    "\n",
    "labels_true = [0, 0, 0, 0, 0, 1, 1, 1, 1, 1, 1, 1]\n",
    "labels_pred = [0, 0, 0, 0, 1, 1, 1, 1, 1, 1, 1, 1]\n",
    "\n",
    "adjusted_rand_score(labels_true, labels_pred)"
   ]
  },
  {
   "cell_type": "markdown",
   "metadata": {},
   "source": [
    "Das Beispiel zeigt, dass bei einer falschen Zuweisung bei 10 Datenpunkten (also 10%) der ARI Wert bereits nur noch 0.6 beträgt - was für die Interpretation der Zahlen, die wir sehen, nicht ganz unwichtig ist."
   ]
  },
  {
   "cell_type": "markdown",
   "metadata": {},
   "source": [
    "## Silhouettenkoeffizient"
   ]
  },
  {
   "cell_type": "markdown",
   "metadata": {},
   "source": [
    "Der Silhoettenkoeffizient ist ein viel genutztes Verfahren, wenn die wahren Labels (*ground truth*) nicht zur Verfügung steht. Er wird für jeden Datenpunkt einzeln berechnet. Der Sk für ein bestimmtes Clustering wird dann als Durchschnitt aller Datenpunkt-SK berechnet. \n",
    "\n",
    "a: Die durchschnittliche Distanze zwischen einem Datenpunkt und allen anderen Punkten des gleichen Clusters. Kleinere Werte zeigen offensichtlich an, dass das Cluster aus eng beieinander liegenden Datenpunkten besteht, während größere Werte eine größere Dispersion bedeuten.\n",
    "\n",
    "b: Die durchschnittliche Distanze zwischen einem Datenpunkt und allen anderen Punkten des benachbarten Clusters, also das Clusters da am nächsten dem Cluster liegt, in dem der Datenpunkt ist. Ein großer Wert zeigt hier an, dass der Datenpunkt vom benachbarten Cluster weit entfernt ist.\n",
    "\n",
    "Die Berechnung ist ganz einfach:\n",
    "\n",
    "$$ s = \\frac{b - a}{max(a,b)}$$\n",
    "\n",
    "Der Nenner max(a, b) besagt: was immer der größere Wert ist, a oder b, verwende das. \n",
    "\n",
    "Der Silhouettenkoeffizient liegt zwischen -1 und +1. Ein Wert von -1 für einen Datenpunkt bedeutet, dass er eigentlich besser ins andere Cluster passen würde, während ein Wewrt von 0 bedeutet, dass er an der Grenze der beiden Cluster ist."
   ]
  },
  {
   "cell_type": "code",
   "execution_count": 35,
   "metadata": {},
   "outputs": [
    {
     "data": {
      "text/plain": [
       "0.8379167491677293"
      ]
     },
     "execution_count": 35,
     "metadata": {},
     "output_type": "execute_result"
    },
    {
     "data": {
      "image/png": "[encoded data removed]",
      "text/plain": [
       "<Figure size 432x288 with 1 Axes>"
      ]
     },
     "metadata": {
      "needs_background": "light"
     },
     "output_type": "display_data"
    }
   ],
   "source": [
    "from sklearn.metrics import silhouette_score\n",
    "from sklearn.datasets import make_blobs\n",
    "from sklearn.cluster import KMeans\n",
    "\n",
    "X, y = make_blobs(centers=2)\n",
    "plt.scatter(X[:, 0], X[:, 1], c=y)\n",
    "model = KMeans(2).fit(X)\n",
    "silhouette_score(X, model.labels_)"
   ]
  },
  {
   "cell_type": "code",
   "execution_count": null,
   "metadata": {},
   "outputs": [],
   "source": []
  }
 ],
 "metadata": {
  "kernelspec": {
   "display_name": "ml",
   "language": "python",
   "name": "ml"
  },
  "language_info": {
   "codemirror_mode": {
    "name": "ipython",
    "version": 3
   },
   "file_extension": ".py",
   "mimetype": "text/x-python",
   "name": "python",
   "nbconvert_exporter": "python",
   "pygments_lexer": "ipython3",
   "version": "3.7.6"
  },
  "toc": {
   "base_numbering": 1,
   "nav_menu": {},
   "number_sections": true,
   "sideBar": true,
   "skip_h1_title": false,
   "title_cell": "Table of Contents",
   "title_sidebar": "Contents",
   "toc_cell": false,
   "toc_position": {},
   "toc_section_display": true,
   "toc_window_display": false
  }
 },
 "nbformat": 4,
 "nbformat_minor": 4
}
