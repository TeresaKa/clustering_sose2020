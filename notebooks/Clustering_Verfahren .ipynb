{
 "cells": [
  {
   "cell_type": "markdown",
   "metadata": {},
   "source": [
    "# Pipeline Clustering Verfahren"
   ]
  },
  {
   "cell_type": "markdown",
   "metadata": {},
   "source": [
    "# Inhaltsverzeichnis\n",
    "1. [Daten einlesen](#introduction)\n",
    "    1. [Daten aussuchen](#subparagraph1)\n",
    "    2. [Daten zusammenführen](#subparagraph2)\n",
    "    3. [Daten vorbereiten](#subparagraph3)\n",
    "2. [K-Means](#paragraph1)\n",
    "    1. [PCA davor](#subparagraph2.1)\n",
    "    2. [PCA danach](#subparagraph2.2)\n",
    "3. [Hierarchical Clustering](#paragraph2)\n",
    "    1. [nicht reduziert](#subparagraph3.1)\n",
    "    2. [reduziert](#subparagraph3.2)\n",
    "4. [Gaussian Mixture Model](#paragraph3)\n",
    "5. [Bayes Mixture Model](#paragraph4)"
   ]
  },
  {
   "cell_type": "markdown",
   "metadata": {},
   "source": [
    "### Daten einlesen <a name=\"introduction\"></a>"
   ]
  },
  {
   "cell_type": "code",
   "execution_count": 1,
   "metadata": {},
   "outputs": [],
   "source": [
    "from sklearn.datasets import make_blobs\n",
    "from sklearn.cluster import AgglomerativeClustering, KMeans\n",
    "from scipy.cluster.hierarchy import dendrogram, linkage\n",
    "from sklearn.decomposition import PCA\n",
    "from sklearn.feature_extraction.text import TfidfVectorizer\n",
    "from scipy.spatial.distance import squareform\n",
    "from sklearn.preprocessing import normalize\n",
    "import pandas as pd\n",
    "from matplotlib import pyplot as plt\n",
    "import numpy as np\n",
    "# Import necessary libraries\n",
    "from copy import deepcopy\n",
    "import numpy as np # linear algebra\n",
    "import pandas as pd # data processing, CSV file I/O (e.g. pd.read_csv)\n",
    "from matplotlib import pyplot as plt\n",
    "\n",
    "%matplotlib inline\n",
    "from sklearn.cluster import KMeans \n",
    "from sklearn.feature_extraction.text import TfidfVectorizer\n",
    "from sklearn.decomposition import PCA\n",
    "from sklearn.preprocessing import normalize\n",
    "from sklearn.metrics import pairwise_distances\n",
    "import itertools\n",
    "import seaborn as sns\n",
    "from mpl_toolkits.mplot3d import Axes3D\n",
    "from sklearn.decomposition import PCA\n",
    "from sklearn import manifold\n",
    "import sklearn.datasets \n",
    "from sklearn.preprocessing import normalize\n",
    "from sklearn.mixture import GaussianMixture\n",
    "from sklearn.mixture import BayesianGaussianMixture "
   ]
  },
  {
   "cell_type": "code",
   "execution_count": 2,
   "metadata": {},
   "outputs": [
    {
     "data": {
      "text/html": [
       "<div>\n",
       "<style scoped>\n",
       "    .dataframe tbody tr th:only-of-type {\n",
       "        vertical-align: middle;\n",
       "    }\n",
       "\n",
       "    .dataframe tbody tr th {\n",
       "        vertical-align: top;\n",
       "    }\n",
       "\n",
       "    .dataframe thead th {\n",
       "        text-align: right;\n",
       "    }\n",
       "</style>\n",
       "<table border=\"1\" class=\"dataframe\">\n",
       "  <thead>\n",
       "    <tr style=\"text-align: right;\">\n",
       "      <th></th>\n",
       "      <th>Unnamed: 0</th>\n",
       "      <th>artist</th>\n",
       "      <th>decades</th>\n",
       "      <th>text</th>\n",
       "      <th>stemmed_text</th>\n",
       "      <th>POS</th>\n",
       "      <th>Genre1</th>\n",
       "      <th>genre1</th>\n",
       "      <th>number_of_tokens</th>\n",
       "      <th>number_of_types</th>\n",
       "    </tr>\n",
       "  </thead>\n",
       "  <tbody>\n",
       "    <tr>\n",
       "      <th>0</th>\n",
       "      <td>0</td>\n",
       "      <td>\"Weird Al\" Yankovic</td>\n",
       "      <td>1980s</td>\n",
       "      <td>potato skins  potato cakes  hash browns  and i...</td>\n",
       "      <td>potato skin potato cake hash brown and instan...</td>\n",
       "      <td>french plain enough greasy sour lumpy tough en...</td>\n",
       "      <td>Rock</td>\n",
       "      <td>antiviral pop</td>\n",
       "      <td>12745.0</td>\n",
       "      <td>2264.0</td>\n",
       "    </tr>\n",
       "    <tr>\n",
       "      <th>1</th>\n",
       "      <td>37</td>\n",
       "      <td>\"Weird Al\" Yankovic</td>\n",
       "      <td>1990s</td>\n",
       "      <td>as i walk through the valley where i harvest m...</td>\n",
       "      <td>as i walk through the valley where i harvest ...</td>\n",
       "      <td>plain perfect fancy amish amish hard amish ami...</td>\n",
       "      <td>Rock</td>\n",
       "      <td>antiviral pop</td>\n",
       "      <td>10803.0</td>\n",
       "      <td>2317.0</td>\n",
       "    </tr>\n",
       "    <tr>\n",
       "      <th>2</th>\n",
       "      <td>65</td>\n",
       "      <td>\"Weird Al\" Yankovic</td>\n",
       "      <td>2000s</td>\n",
       "      <td>jillian was her name  she was sweeter than asp...</td>\n",
       "      <td>jillian wa her name she wa sweeter than aspar...</td>\n",
       "      <td>same gorgeous perfect close sweet young ripe p...</td>\n",
       "      <td>Rock</td>\n",
       "      <td>antiviral pop</td>\n",
       "      <td>4352.0</td>\n",
       "      <td>1159.0</td>\n",
       "    </tr>\n",
       "    <tr>\n",
       "      <th>3</th>\n",
       "      <td>76</td>\n",
       "      <td>\"Weird Al\" Yankovic</td>\n",
       "      <td>2010s</td>\n",
       "      <td>my mama told me when i was hatched  act like a...</td>\n",
       "      <td>my mama told me when i wa hatch act like a su...</td>\n",
       "      <td>red hard sure swiss crazy little okay crazy ev...</td>\n",
       "      <td>Rock</td>\n",
       "      <td>antiviral pop</td>\n",
       "      <td>2077.0</td>\n",
       "      <td>705.0</td>\n",
       "    </tr>\n",
       "    <tr>\n",
       "      <th>4</th>\n",
       "      <td>81</td>\n",
       "      <td>*NSYNC</td>\n",
       "      <td>1990s</td>\n",
       "      <td>here we go      here we go  one more time  eve...</td>\n",
       "      <td>here we go here we go one more time everybodi...</td>\n",
       "      <td>fine fine free right fine right fine free time...</td>\n",
       "      <td>Electronic</td>\n",
       "      <td>boy band</td>\n",
       "      <td>1786.0</td>\n",
       "      <td>345.0</td>\n",
       "    </tr>\n",
       "  </tbody>\n",
       "</table>\n",
       "</div>"
      ],
      "text/plain": [
       "   Unnamed: 0               artist decades  \\\n",
       "0           0  \"Weird Al\" Yankovic   1980s   \n",
       "1          37  \"Weird Al\" Yankovic   1990s   \n",
       "2          65  \"Weird Al\" Yankovic   2000s   \n",
       "3          76  \"Weird Al\" Yankovic   2010s   \n",
       "4          81               *NSYNC   1990s   \n",
       "\n",
       "                                                text  \\\n",
       "0  potato skins  potato cakes  hash browns  and i...   \n",
       "1  as i walk through the valley where i harvest m...   \n",
       "2  jillian was her name  she was sweeter than asp...   \n",
       "3  my mama told me when i was hatched  act like a...   \n",
       "4  here we go      here we go  one more time  eve...   \n",
       "\n",
       "                                        stemmed_text  \\\n",
       "0   potato skin potato cake hash brown and instan...   \n",
       "1   as i walk through the valley where i harvest ...   \n",
       "2   jillian wa her name she wa sweeter than aspar...   \n",
       "3   my mama told me when i wa hatch act like a su...   \n",
       "4   here we go here we go one more time everybodi...   \n",
       "\n",
       "                                                 POS      Genre1  \\\n",
       "0  french plain enough greasy sour lumpy tough en...        Rock   \n",
       "1  plain perfect fancy amish amish hard amish ami...        Rock   \n",
       "2  same gorgeous perfect close sweet young ripe p...        Rock   \n",
       "3  red hard sure swiss crazy little okay crazy ev...        Rock   \n",
       "4  fine fine free right fine right fine free time...  Electronic   \n",
       "\n",
       "          genre1  number_of_tokens  number_of_types  \n",
       "0  antiviral pop           12745.0           2264.0  \n",
       "1  antiviral pop           10803.0           2317.0  \n",
       "2  antiviral pop            4352.0           1159.0  \n",
       "3  antiviral pop            2077.0            705.0  \n",
       "4       boy band            1786.0            345.0  "
      ]
     },
     "execution_count": 2,
     "metadata": {},
     "output_type": "execute_result"
    }
   ],
   "source": [
    "df = pd.read_csv(\"../song_decades_long.csv\")\n",
    "df.head()"
   ]
  },
  {
   "cell_type": "code",
   "execution_count": 3,
   "metadata": {
    "scrolled": true
   },
   "outputs": [
    {
     "data": {
      "text/html": [
       "<div>\n",
       "<style scoped>\n",
       "    .dataframe tbody tr th:only-of-type {\n",
       "        vertical-align: middle;\n",
       "    }\n",
       "\n",
       "    .dataframe tbody tr th {\n",
       "        vertical-align: top;\n",
       "    }\n",
       "\n",
       "    .dataframe thead th {\n",
       "        text-align: right;\n",
       "    }\n",
       "</style>\n",
       "<table border=\"1\" class=\"dataframe\">\n",
       "  <thead>\n",
       "    <tr style=\"text-align: right;\">\n",
       "      <th></th>\n",
       "      <th>Unnamed: 0</th>\n",
       "      <th>artist</th>\n",
       "      <th>decades</th>\n",
       "      <th>text</th>\n",
       "      <th>stemmed_text</th>\n",
       "      <th>POS</th>\n",
       "      <th>Genre1</th>\n",
       "      <th>genre1</th>\n",
       "      <th>number_of_tokens</th>\n",
       "      <th>number_of_types</th>\n",
       "    </tr>\n",
       "  </thead>\n",
       "  <tbody>\n",
       "    <tr>\n",
       "      <th>7</th>\n",
       "      <td>102</td>\n",
       "      <td>ABBA</td>\n",
       "      <td>1970s</td>\n",
       "      <td>i'll never know why i had to go  why i had to ...</td>\n",
       "      <td>i 'll never know whi i had to go whi i had to...</td>\n",
       "      <td>lousy rotten tough enough good new good new ne...</td>\n",
       "      <td>Pop</td>\n",
       "      <td>europop</td>\n",
       "      <td>8618.0</td>\n",
       "      <td>1070.0</td>\n",
       "    </tr>\n",
       "    <tr>\n",
       "      <th>8</th>\n",
       "      <td>130</td>\n",
       "      <td>ABBA</td>\n",
       "      <td>1980s</td>\n",
       "      <td>take it easy with me  please  touch me gently ...</td>\n",
       "      <td>take it easi with me pleas touch me gentli li...</td>\n",
       "      <td>easy slow andante soft light andante strong st...</td>\n",
       "      <td>Pop</td>\n",
       "      <td>europop</td>\n",
       "      <td>5963.0</td>\n",
       "      <td>1131.0</td>\n",
       "    </tr>\n",
       "    <tr>\n",
       "      <th>11</th>\n",
       "      <td>179</td>\n",
       "      <td>Adele</td>\n",
       "      <td>2000s</td>\n",
       "      <td>right under my feet there's air made of bricks...</td>\n",
       "      <td>right under my feet there 's air made of bric...</td>\n",
       "      <td>weak broken only only only only own dead only ...</td>\n",
       "      <td>Pop</td>\n",
       "      <td>british soul</td>\n",
       "      <td>2439.0</td>\n",
       "      <td>436.0</td>\n",
       "    </tr>\n",
       "    <tr>\n",
       "      <th>12</th>\n",
       "      <td>187</td>\n",
       "      <td>Adele</td>\n",
       "      <td>2010s</td>\n",
       "      <td>[verse 1]  i will leave my heart at the door  ...</td>\n",
       "      <td>[ vers 1 ] i will leav my heart at the door i...</td>\n",
       "      <td>scared scared pre chorus wrong last sure only ...</td>\n",
       "      <td>Pop</td>\n",
       "      <td>british soul</td>\n",
       "      <td>6832.0</td>\n",
       "      <td>793.0</td>\n",
       "    </tr>\n",
       "    <tr>\n",
       "      <th>18</th>\n",
       "      <td>262</td>\n",
       "      <td>Air Supply</td>\n",
       "      <td>1980s</td>\n",
       "      <td>we shared such a special love  it seem to have...</td>\n",
       "      <td>we share such a special love it seem to have ...</td>\n",
       "      <td>special mejust future sure low sure love end d...</td>\n",
       "      <td>Pop</td>\n",
       "      <td>adult standards</td>\n",
       "      <td>2208.0</td>\n",
       "      <td>414.0</td>\n",
       "    </tr>\n",
       "    <tr>\n",
       "      <th>...</th>\n",
       "      <td>...</td>\n",
       "      <td>...</td>\n",
       "      <td>...</td>\n",
       "      <td>...</td>\n",
       "      <td>...</td>\n",
       "      <td>...</td>\n",
       "      <td>...</td>\n",
       "      <td>...</td>\n",
       "      <td>...</td>\n",
       "      <td>...</td>\n",
       "    </tr>\n",
       "    <tr>\n",
       "      <th>974</th>\n",
       "      <td>12566</td>\n",
       "      <td>Wham!</td>\n",
       "      <td>1980s</td>\n",
       "      <td>last christmas  i gave you my heart  but the...</td>\n",
       "      <td>[ choru : ] last christma i gave you my heart...</td>\n",
       "      <td>last next special last next special shy last n...</td>\n",
       "      <td>Pop</td>\n",
       "      <td>dance rock</td>\n",
       "      <td>3027.0</td>\n",
       "      <td>643.0</td>\n",
       "    </tr>\n",
       "    <tr>\n",
       "      <th>978</th>\n",
       "      <td>12620</td>\n",
       "      <td>Whitney Houston</td>\n",
       "      <td>1980s</td>\n",
       "      <td>i believe the children are our are future  tea...</td>\n",
       "      <td>i believ the children are our are futur teach...</td>\n",
       "      <td>future lonely easy special lonely way beauty s...</td>\n",
       "      <td>Pop</td>\n",
       "      <td>dance pop</td>\n",
       "      <td>3050.0</td>\n",
       "      <td>569.0</td>\n",
       "    </tr>\n",
       "    <tr>\n",
       "      <th>979</th>\n",
       "      <td>12631</td>\n",
       "      <td>Whitney Houston</td>\n",
       "      <td>1990s</td>\n",
       "      <td>this is the heart break hotel  this is the hea...</td>\n",
       "      <td>thi is the heart break hotel thi is the heart...</td>\n",
       "      <td>wrong wrong heartbreak heart break hotel heart...</td>\n",
       "      <td>Pop</td>\n",
       "      <td>dance pop</td>\n",
       "      <td>6790.0</td>\n",
       "      <td>896.0</td>\n",
       "    </tr>\n",
       "    <tr>\n",
       "      <th>980</th>\n",
       "      <td>12654</td>\n",
       "      <td>Whitney Houston</td>\n",
       "      <td>2000s</td>\n",
       "      <td>the stars must be aligned tonight  i believe t...</td>\n",
       "      <td>the star must be align tonight i believ thi h...</td>\n",
       "      <td>sane pressed many busy enough pressed possible...</td>\n",
       "      <td>Pop</td>\n",
       "      <td>dance pop</td>\n",
       "      <td>4988.0</td>\n",
       "      <td>736.0</td>\n",
       "    </tr>\n",
       "    <tr>\n",
       "      <th>1032</th>\n",
       "      <td>13238</td>\n",
       "      <td>ZAYN</td>\n",
       "      <td>2010s</td>\n",
       "      <td>[intro]  i've done this before  not like this ...</td>\n",
       "      <td>[ intro ] i 've done thi befor not like thi [...</td>\n",
       "      <td>drunk right right tired pre post - many pre po...</td>\n",
       "      <td>Pop</td>\n",
       "      <td>dance pop</td>\n",
       "      <td>2438.0</td>\n",
       "      <td>459.0</td>\n",
       "    </tr>\n",
       "  </tbody>\n",
       "</table>\n",
       "<p>163 rows × 10 columns</p>\n",
       "</div>"
      ],
      "text/plain": [
       "      Unnamed: 0           artist decades  \\\n",
       "7            102             ABBA   1970s   \n",
       "8            130             ABBA   1980s   \n",
       "11           179            Adele   2000s   \n",
       "12           187            Adele   2010s   \n",
       "18           262       Air Supply   1980s   \n",
       "...          ...              ...     ...   \n",
       "974        12566            Wham!   1980s   \n",
       "978        12620  Whitney Houston   1980s   \n",
       "979        12631  Whitney Houston   1990s   \n",
       "980        12654  Whitney Houston   2000s   \n",
       "1032       13238             ZAYN   2010s   \n",
       "\n",
       "                                                   text  \\\n",
       "7     i'll never know why i had to go  why i had to ...   \n",
       "8     take it easy with me  please  touch me gently ...   \n",
       "11    right under my feet there's air made of bricks...   \n",
       "12    [verse 1]  i will leave my heart at the door  ...   \n",
       "18    we shared such a special love  it seem to have...   \n",
       "...                                                 ...   \n",
       "974     last christmas  i gave you my heart  but the...   \n",
       "978   i believe the children are our are future  tea...   \n",
       "979   this is the heart break hotel  this is the hea...   \n",
       "980   the stars must be aligned tonight  i believe t...   \n",
       "1032  [intro]  i've done this before  not like this ...   \n",
       "\n",
       "                                           stemmed_text  \\\n",
       "7      i 'll never know whi i had to go whi i had to...   \n",
       "8      take it easi with me pleas touch me gentli li...   \n",
       "11     right under my feet there 's air made of bric...   \n",
       "12     [ vers 1 ] i will leav my heart at the door i...   \n",
       "18     we share such a special love it seem to have ...   \n",
       "...                                                 ...   \n",
       "974    [ choru : ] last christma i gave you my heart...   \n",
       "978    i believ the children are our are futur teach...   \n",
       "979    thi is the heart break hotel thi is the heart...   \n",
       "980    the star must be align tonight i believ thi h...   \n",
       "1032   [ intro ] i 've done thi befor not like thi [...   \n",
       "\n",
       "                                                    POS Genre1  \\\n",
       "7     lousy rotten tough enough good new good new ne...    Pop   \n",
       "8     easy slow andante soft light andante strong st...    Pop   \n",
       "11    weak broken only only only only own dead only ...    Pop   \n",
       "12    scared scared pre chorus wrong last sure only ...    Pop   \n",
       "18    special mejust future sure low sure love end d...    Pop   \n",
       "...                                                 ...    ...   \n",
       "974   last next special last next special shy last n...    Pop   \n",
       "978   future lonely easy special lonely way beauty s...    Pop   \n",
       "979   wrong wrong heartbreak heart break hotel heart...    Pop   \n",
       "980   sane pressed many busy enough pressed possible...    Pop   \n",
       "1032  drunk right right tired pre post - many pre po...    Pop   \n",
       "\n",
       "               genre1  number_of_tokens  number_of_types  \n",
       "7             europop            8618.0           1070.0  \n",
       "8             europop            5963.0           1131.0  \n",
       "11       british soul            2439.0            436.0  \n",
       "12       british soul            6832.0            793.0  \n",
       "18    adult standards            2208.0            414.0  \n",
       "...               ...               ...              ...  \n",
       "974        dance rock            3027.0            643.0  \n",
       "978         dance pop            3050.0            569.0  \n",
       "979         dance pop            6790.0            896.0  \n",
       "980         dance pop            4988.0            736.0  \n",
       "1032        dance pop            2438.0            459.0  \n",
       "\n",
       "[163 rows x 10 columns]"
      ]
     },
     "execution_count": 3,
     "metadata": {},
     "output_type": "execute_result"
    }
   ],
   "source": [
    "df[df['Genre1'] == 'Pop']"
   ]
  },
  {
   "cell_type": "code",
   "execution_count": 3,
   "metadata": {},
   "outputs": [],
   "source": [
    "data1 = df[df['artist'] == 'High School Musical Cast']\n",
    "data2 = df[df['artist'] == 'Whitney Houston']"
   ]
  },
  {
   "cell_type": "markdown",
   "metadata": {},
   "source": [
    "spezielle Daten auswählen <a name=\"subparagraph1\"></a>"
   ]
  },
  {
   "cell_type": "code",
   "execution_count": 23,
   "metadata": {},
   "outputs": [],
   "source": [
    "data1 = df[df['artist'] == '*NSYNC']\n",
    "data2 = df[df['artist'] == 'Arrogant Worms']"
   ]
  },
  {
   "cell_type": "code",
   "execution_count": 15,
   "metadata": {},
   "outputs": [],
   "source": [
    "data1 = df[df['artist'] == 'Katy Perry']\n",
    "data2 = df[df['artist'] == 'Olly Murs']\n",
    "popartist = pd.concat([data1, data2], axis = 0)"
   ]
  },
  {
   "cell_type": "code",
   "execution_count": 4,
   "metadata": {},
   "outputs": [],
   "source": [
    "data1 = df[df['artist'] == 'Eminem']\n",
    "data2 = df[df['artist'] == 'ABBA']"
   ]
  },
  {
   "cell_type": "code",
   "execution_count": 5,
   "metadata": {},
   "outputs": [],
   "source": [
    "data = pd.concat([data1, data2], axis = 0)"
   ]
  },
  {
   "cell_type": "code",
   "execution_count": 16,
   "metadata": {},
   "outputs": [],
   "source": [
    "ohnerock = df[df.Genre1!='Rock']\n",
    "ohnerock = ohnerock[ohnerock.Genre1!='Pop']"
   ]
  },
  {
   "cell_type": "code",
   "execution_count": 17,
   "metadata": {},
   "outputs": [
    {
     "data": {
      "text/html": [
       "<div>\n",
       "<style scoped>\n",
       "    .dataframe tbody tr th:only-of-type {\n",
       "        vertical-align: middle;\n",
       "    }\n",
       "\n",
       "    .dataframe tbody tr th {\n",
       "        vertical-align: top;\n",
       "    }\n",
       "\n",
       "    .dataframe thead th {\n",
       "        text-align: right;\n",
       "    }\n",
       "</style>\n",
       "<table border=\"1\" class=\"dataframe\">\n",
       "  <thead>\n",
       "    <tr style=\"text-align: right;\">\n",
       "      <th></th>\n",
       "      <th>Unnamed: 0</th>\n",
       "      <th>artist</th>\n",
       "      <th>decades</th>\n",
       "      <th>text</th>\n",
       "      <th>stemmed_text</th>\n",
       "      <th>POS</th>\n",
       "      <th>Genre1</th>\n",
       "      <th>genre1</th>\n",
       "      <th>number_of_tokens</th>\n",
       "      <th>number_of_types</th>\n",
       "    </tr>\n",
       "  </thead>\n",
       "  <tbody>\n",
       "    <tr>\n",
       "      <th>66</th>\n",
       "      <td>914</td>\n",
       "      <td>Blur</td>\n",
       "      <td>1990s</td>\n",
       "      <td>he's a twentieth century boy  with his hands o...</td>\n",
       "      <td>he 's a twentieth centuri boy with hi hand on...</td>\n",
       "      <td>twentieth sick seamless dear other la la la tw...</td>\n",
       "      <td>Rock</td>\n",
       "      <td>alternative rock</td>\n",
       "      <td>2979.0</td>\n",
       "      <td>760.0</td>\n",
       "    </tr>\n",
       "    <tr>\n",
       "      <th>98</th>\n",
       "      <td>1341</td>\n",
       "      <td>Cake</td>\n",
       "      <td>1990s</td>\n",
       "      <td>well your cd collection looks shiny and costly...</td>\n",
       "      <td>well your cd collect look shini and costli . ...</td>\n",
       "      <td>shiny costly much bad much black much much muc...</td>\n",
       "      <td>Rock</td>\n",
       "      <td>alternative rock</td>\n",
       "      <td>2134.0</td>\n",
       "      <td>568.0</td>\n",
       "    </tr>\n",
       "    <tr>\n",
       "      <th>99</th>\n",
       "      <td>1348</td>\n",
       "      <td>Cake</td>\n",
       "      <td>2000s</td>\n",
       "      <td>adjectives on the typewriter  he moves his wor...</td>\n",
       "      <td>adject on the typewrit he move hi word like a...</td>\n",
       "      <td>frenzied tight white plastic nervous tense hot...</td>\n",
       "      <td>Rock</td>\n",
       "      <td>alternative rock</td>\n",
       "      <td>2050.0</td>\n",
       "      <td>501.0</td>\n",
       "    </tr>\n",
       "    <tr>\n",
       "      <th>131</th>\n",
       "      <td>1738</td>\n",
       "      <td>Counting Crows</td>\n",
       "      <td>1990s</td>\n",
       "      <td>blue morning blue morning  wrapped in strands ...</td>\n",
       "      <td>blue morn blue morn wrap in strand of fist an...</td>\n",
       "      <td>blue own nice slow happy safe warm sorry wrong...</td>\n",
       "      <td>Rock</td>\n",
       "      <td>alternative rock</td>\n",
       "      <td>5774.0</td>\n",
       "      <td>1118.0</td>\n",
       "    </tr>\n",
       "    <tr>\n",
       "      <th>132</th>\n",
       "      <td>1756</td>\n",
       "      <td>Counting Crows</td>\n",
       "      <td>2000s</td>\n",
       "      <td>they paved paradise  and put up a parking lot ...</td>\n",
       "      <td>they pave paradis and put up a park lot with ...</td>\n",
       "      <td>pink swinging hot late last big yellow parking...</td>\n",
       "      <td>Rock</td>\n",
       "      <td>alternative rock</td>\n",
       "      <td>4567.0</td>\n",
       "      <td>975.0</td>\n",
       "    </tr>\n",
       "    <tr>\n",
       "      <th>...</th>\n",
       "      <td>...</td>\n",
       "      <td>...</td>\n",
       "      <td>...</td>\n",
       "      <td>...</td>\n",
       "      <td>...</td>\n",
       "      <td>...</td>\n",
       "      <td>...</td>\n",
       "      <td>...</td>\n",
       "      <td>...</td>\n",
       "      <td>...</td>\n",
       "    </tr>\n",
       "    <tr>\n",
       "      <th>917</th>\n",
       "      <td>11904</td>\n",
       "      <td>Train</td>\n",
       "      <td>2010s</td>\n",
       "      <td>knock knock  who's there?  two thousand and tw...</td>\n",
       "      <td>knock knock who 's there ? two thousand and t...</td>\n",
       "      <td>new dead alone good happy little right right d...</td>\n",
       "      <td>Rock</td>\n",
       "      <td>dance pop</td>\n",
       "      <td>7811.0</td>\n",
       "      <td>1242.0</td>\n",
       "    </tr>\n",
       "    <tr>\n",
       "      <th>978</th>\n",
       "      <td>12620</td>\n",
       "      <td>Whitney Houston</td>\n",
       "      <td>1980s</td>\n",
       "      <td>i believe the children are our are future  tea...</td>\n",
       "      <td>i believ the children are our are futur teach...</td>\n",
       "      <td>future lonely easy special lonely way beauty s...</td>\n",
       "      <td>Pop</td>\n",
       "      <td>dance pop</td>\n",
       "      <td>3050.0</td>\n",
       "      <td>569.0</td>\n",
       "    </tr>\n",
       "    <tr>\n",
       "      <th>979</th>\n",
       "      <td>12631</td>\n",
       "      <td>Whitney Houston</td>\n",
       "      <td>1990s</td>\n",
       "      <td>this is the heart break hotel  this is the hea...</td>\n",
       "      <td>thi is the heart break hotel thi is the heart...</td>\n",
       "      <td>wrong wrong heartbreak heart break hotel heart...</td>\n",
       "      <td>Pop</td>\n",
       "      <td>dance pop</td>\n",
       "      <td>6790.0</td>\n",
       "      <td>896.0</td>\n",
       "    </tr>\n",
       "    <tr>\n",
       "      <th>980</th>\n",
       "      <td>12654</td>\n",
       "      <td>Whitney Houston</td>\n",
       "      <td>2000s</td>\n",
       "      <td>the stars must be aligned tonight  i believe t...</td>\n",
       "      <td>the star must be align tonight i believ thi h...</td>\n",
       "      <td>sane pressed many busy enough pressed possible...</td>\n",
       "      <td>Pop</td>\n",
       "      <td>dance pop</td>\n",
       "      <td>4988.0</td>\n",
       "      <td>736.0</td>\n",
       "    </tr>\n",
       "    <tr>\n",
       "      <th>1032</th>\n",
       "      <td>13238</td>\n",
       "      <td>ZAYN</td>\n",
       "      <td>2010s</td>\n",
       "      <td>[intro]  i've done this before  not like this ...</td>\n",
       "      <td>[ intro ] i 've done thi befor not like thi [...</td>\n",
       "      <td>drunk right right tired pre post - many pre po...</td>\n",
       "      <td>Pop</td>\n",
       "      <td>dance pop</td>\n",
       "      <td>2438.0</td>\n",
       "      <td>459.0</td>\n",
       "    </tr>\n",
       "  </tbody>\n",
       "</table>\n",
       "<p>127 rows × 10 columns</p>\n",
       "</div>"
      ],
      "text/plain": [
       "      Unnamed: 0           artist decades  \\\n",
       "66           914             Blur   1990s   \n",
       "98          1341             Cake   1990s   \n",
       "99          1348             Cake   2000s   \n",
       "131         1738   Counting Crows   1990s   \n",
       "132         1756   Counting Crows   2000s   \n",
       "...          ...              ...     ...   \n",
       "917        11904            Train   2010s   \n",
       "978        12620  Whitney Houston   1980s   \n",
       "979        12631  Whitney Houston   1990s   \n",
       "980        12654  Whitney Houston   2000s   \n",
       "1032       13238             ZAYN   2010s   \n",
       "\n",
       "                                                   text  \\\n",
       "66    he's a twentieth century boy  with his hands o...   \n",
       "98    well your cd collection looks shiny and costly...   \n",
       "99    adjectives on the typewriter  he moves his wor...   \n",
       "131   blue morning blue morning  wrapped in strands ...   \n",
       "132   they paved paradise  and put up a parking lot ...   \n",
       "...                                                 ...   \n",
       "917   knock knock  who's there?  two thousand and tw...   \n",
       "978   i believe the children are our are future  tea...   \n",
       "979   this is the heart break hotel  this is the hea...   \n",
       "980   the stars must be aligned tonight  i believe t...   \n",
       "1032  [intro]  i've done this before  not like this ...   \n",
       "\n",
       "                                           stemmed_text  \\\n",
       "66     he 's a twentieth centuri boy with hi hand on...   \n",
       "98     well your cd collect look shini and costli . ...   \n",
       "99     adject on the typewrit he move hi word like a...   \n",
       "131    blue morn blue morn wrap in strand of fist an...   \n",
       "132    they pave paradis and put up a park lot with ...   \n",
       "...                                                 ...   \n",
       "917    knock knock who 's there ? two thousand and t...   \n",
       "978    i believ the children are our are futur teach...   \n",
       "979    thi is the heart break hotel thi is the heart...   \n",
       "980    the star must be align tonight i believ thi h...   \n",
       "1032   [ intro ] i 've done thi befor not like thi [...   \n",
       "\n",
       "                                                    POS Genre1  \\\n",
       "66    twentieth sick seamless dear other la la la tw...   Rock   \n",
       "98    shiny costly much bad much black much much muc...   Rock   \n",
       "99    frenzied tight white plastic nervous tense hot...   Rock   \n",
       "131   blue own nice slow happy safe warm sorry wrong...   Rock   \n",
       "132   pink swinging hot late last big yellow parking...   Rock   \n",
       "...                                                 ...    ...   \n",
       "917   new dead alone good happy little right right d...   Rock   \n",
       "978   future lonely easy special lonely way beauty s...    Pop   \n",
       "979   wrong wrong heartbreak heart break hotel heart...    Pop   \n",
       "980   sane pressed many busy enough pressed possible...    Pop   \n",
       "1032  drunk right right tired pre post - many pre po...    Pop   \n",
       "\n",
       "                genre1  number_of_tokens  number_of_types  \n",
       "66    alternative rock            2979.0            760.0  \n",
       "98    alternative rock            2134.0            568.0  \n",
       "99    alternative rock            2050.0            501.0  \n",
       "131   alternative rock            5774.0           1118.0  \n",
       "132   alternative rock            4567.0            975.0  \n",
       "...                ...               ...              ...  \n",
       "917          dance pop            7811.0           1242.0  \n",
       "978          dance pop            3050.0            569.0  \n",
       "979          dance pop            6790.0            896.0  \n",
       "980          dance pop            4988.0            736.0  \n",
       "1032         dance pop            2438.0            459.0  \n",
       "\n",
       "[127 rows x 10 columns]"
      ]
     },
     "execution_count": 17,
     "metadata": {},
     "output_type": "execute_result"
    }
   ],
   "source": [
    "alternative = df[df.genre1=='alternative rock']\n",
    "dance = df[df.genre1=='dance pop']\n",
    "alt_danc = pd.concat([alternative, dance], axis = 0)\n",
    "alt_danc"
   ]
  },
  {
   "cell_type": "code",
   "execution_count": 18,
   "metadata": {},
   "outputs": [],
   "source": [
    "eighties = df[df.decades=='1980s']"
   ]
  },
  {
   "cell_type": "markdown",
   "metadata": {},
   "source": [
    "Daten zusammenführen <a name=\"subparagraph2\"></a>"
   ]
  },
  {
   "cell_type": "code",
   "execution_count": 54,
   "metadata": {},
   "outputs": [],
   "source": [
    "bands = pd.concat([data1, data2], axis = 0)"
   ]
  },
  {
   "cell_type": "markdown",
   "metadata": {},
   "source": [
    "Daten vorbereiten <a name=\"subparagraph3\"></a>"
   ]
  },
  {
   "cell_type": "code",
   "execution_count": 56,
   "metadata": {},
   "outputs": [],
   "source": [
    "tf_idf_vectorizor = TfidfVectorizer()\n",
    "tf_idf = tf_idf_vectorizor.fit_transform(data.POS.values.astype(str))\n",
    "tf_idf_norm = normalize(tf_idf)\n",
    "tf_idf_array = tf_idf_norm.toarray()"
   ]
  },
  {
   "cell_type": "markdown",
   "metadata": {},
   "source": [
    "## K-Means <a name=\"paragraph2\"></a>"
   ]
  },
  {
   "cell_type": "markdown",
   "metadata": {},
   "source": [
    "PCA davor <a name=\"subparagraph2.1\"></a>"
   ]
  },
  {
   "cell_type": "code",
   "execution_count": 49,
   "metadata": {},
   "outputs": [],
   "source": [
    "from sklearn.cluster import KMeans\n",
    "sklearn_pca = PCA(n_components = 2)\n",
    "Y_sklearn = sklearn_pca.fit_transform(tf_idf_array)\n",
    "kmeans = KMeans(n_clusters=2, max_iter=600, algorithm = 'auto')\n",
    "fitted = kmeans.fit(Y_sklearn)\n",
    "prediction = kmeans.predict(Y_sklearn)"
   ]
  },
  {
   "cell_type": "code",
   "execution_count": 50,
   "metadata": {},
   "outputs": [
    {
     "data": {
      "text/plain": [
       "Text(0.5, 1.0, 'PCA')"
      ]
     },
     "execution_count": 50,
     "metadata": {},
     "output_type": "execute_result"
    },
    {
     "data": {
      "image/png": "[encoded data removed]",
      "text/plain": [
       "<Figure size 1080x720 with 1 Axes>"
      ]
     },
     "metadata": {
      "needs_background": "light"
     },
     "output_type": "display_data"
    }
   ],
   "source": [
    "markers = ('o', 'v', '^', '<', '>', 's', 'p','8', '*', 'h', 'H', 'D', 'd', 'P', 'X', 'o', 'v', '^')\n",
    "plt.figure(figsize=(15,10))\n",
    "sns.scatterplot(Y_sklearn[:, 0], Y_sklearn[:, 1],hue=prediction, style=data.genre1, markers=markers, palette=sns.color_palette(\"hls\", len(np.unique(prediction))))\n",
    "plt.title('PCA')"
   ]
  },
  {
   "cell_type": "code",
   "execution_count": 5,
   "metadata": {},
   "outputs": [
    {
     "data": {
      "text/plain": [
       "Text(0.5, 1.0, 'PCA')"
      ]
     },
     "execution_count": 5,
     "metadata": {},
     "output_type": "execute_result"
    },
    {
     "data": {
      "image/png": "[encoded data removed]",
      "text/plain": [
       "<Figure size 504x360 with 1 Axes>"
      ]
     },
     "metadata": {
      "needs_background": "light"
     },
     "output_type": "display_data"
    }
   ],
   "source": [
    "plt.figure(figsize=(7,5))\n",
    "plt.scatter(Y_sklearn[:, 0], Y_sklearn[:, 1], c=prediction, s=70, cmap='viridis')\n",
    "plt.title('PCA')\n",
    "#plt.savefig('K_Means/PCA_K-Means_Lyrics.png', bbox_inches = \"tight\")"
   ]
  },
  {
   "cell_type": "markdown",
   "metadata": {},
   "source": [
    "PCA danach <a name=\"subparagraph2.2\"></a>"
   ]
  },
  {
   "cell_type": "code",
   "execution_count": 57,
   "metadata": {},
   "outputs": [],
   "source": [
    "kmeans = KMeans(n_clusters=2, max_iter=600, algorithm = 'auto')\n",
    "fitted = kmeans.fit(tf_idf_array)\n",
    "prediction = kmeans.predict(tf_idf_array)\n",
    "\n",
    "sklearn_pca = PCA(n_components = 2)\n",
    "Y_sklearn = sklearn_pca.fit_transform(tf_idf_array)"
   ]
  },
  {
   "cell_type": "code",
   "execution_count": 58,
   "metadata": {},
   "outputs": [
    {
     "data": {
      "image/png": "[encoded data removed]",
      "text/plain": [
       "<Figure size 1080x720 with 1 Axes>"
      ]
     },
     "metadata": {
      "needs_background": "light"
     },
     "output_type": "display_data"
    }
   ],
   "source": [
    "markers = ('o', 'v', '^', '<', '>', '8', 's', 'p', '*', 'h', 'H', 'D', 'd', 'P', 'X', 'o', 'v', '^')\n",
    "plt.figure(figsize=(15,10))\n",
    "sns.scatterplot(Y_sklearn[:, 0], Y_sklearn[:, 1],hue=prediction, style=data.artist, markers=markers, palette=sns.color_palette(\"hls\", len(np.unique(prediction))))\n",
    "plt.title('PCA')\n",
    "plt.savefig('K-Means_Stage_Screen_Pop.png', bbox_inches = \"tight\")"
   ]
  },
  {
   "cell_type": "markdown",
   "metadata": {},
   "source": [
    "## HC <a name=\"paragraph2\"></a>"
   ]
  },
  {
   "cell_type": "code",
   "execution_count": 59,
   "metadata": {},
   "outputs": [],
   "source": [
    "def linkage_matrix(n_samples, children, distances):\n",
    "    \"\"\"\n",
    "    create a linkage matrix for the dendogram method in scipy\n",
    "    n_samples: int, number of samples\n",
    "    children: list of lists, clustered data points (should be 2)\n",
    "    distances: list of distances between nodes\n",
    "    \"\"\"\n",
    "    # Create linkage matrix\n",
    "    \n",
    "\n",
    "    # create the counts of samples under each node\n",
    "    counts = np.zeros(children.shape[0])\n",
    "    for i, merge in enumerate(children):\n",
    "        current_count = 0\n",
    "        for child_idx in merge:\n",
    "            if child_idx < n_samples:\n",
    "                current_count += 1  # leaf node\n",
    "            else:\n",
    "                current_count += counts[child_idx - n_samples]\n",
    "        counts[i] = current_count\n",
    "\n",
    "    return np.column_stack([children, distances, counts]).astype(float)"
   ]
  },
  {
   "cell_type": "markdown",
   "metadata": {},
   "source": [
    "nicht reduziert <a name=\"subparagraph3.1\"></a>"
   ]
  },
  {
   "cell_type": "code",
   "execution_count": 60,
   "metadata": {},
   "outputs": [
    {
     "data": {
      "image/png": "[encoded data removed]",
      "text/plain": [
       "<Figure size 864x576 with 1 Axes>"
      ]
     },
     "metadata": {
      "needs_background": "light"
     },
     "output_type": "display_data"
    }
   ],
   "source": [
    "model = AgglomerativeClustering(n_clusters=None, distance_threshold=0).fit(tf_idf_array)\n",
    "link_matrix = linkage_matrix(tf_idf_array.shape[0], model.children_, model.distances_)\n",
    "plt.figure(figsize=(12,8))\n",
    "plt.title('HC')\n",
    "\n",
    "dendrogram(link_matrix, labels = data.Genre1.values, leaf_font_size=10);\n",
    "plt.savefig('HC_Stage_Screen_Pop.png', bbox_inches = \"tight\")"
   ]
  },
  {
   "cell_type": "markdown",
   "metadata": {},
   "source": [
    "reduziert <a name=\"subparagraph3.2\"></a>"
   ]
  },
  {
   "cell_type": "code",
   "execution_count": 26,
   "metadata": {},
   "outputs": [
    {
     "ename": "ValueError",
     "evalue": "empty vocabulary; perhaps the documents only contain stop words",
     "output_type": "error",
     "traceback": [
      "\u001b[1;31m---------------------------------------------------------------------------\u001b[0m",
      "\u001b[1;31mValueError\u001b[0m                                Traceback (most recent call last)",
      "\u001b[1;32m<ipython-input-26-2927140d0446>\u001b[0m in \u001b[0;36m<module>\u001b[1;34m\u001b[0m\n\u001b[0;32m      1\u001b[0m \u001b[0mdfs_cleans\u001b[0m \u001b[1;33m=\u001b[0m \u001b[0mdata\u001b[0m\u001b[1;33m.\u001b[0m\u001b[0msample\u001b[0m\u001b[1;33m(\u001b[0m\u001b[0mfrac\u001b[0m\u001b[1;33m=\u001b[0m\u001b[1;36m0.008\u001b[0m\u001b[1;33m)\u001b[0m\u001b[1;33m\u001b[0m\u001b[1;33m\u001b[0m\u001b[0m\n\u001b[0;32m      2\u001b[0m \u001b[0mtf_idf_vectorizor\u001b[0m \u001b[1;33m=\u001b[0m \u001b[0mTfidfVectorizer\u001b[0m\u001b[1;33m(\u001b[0m\u001b[1;33m)\u001b[0m\u001b[1;33m\u001b[0m\u001b[1;33m\u001b[0m\u001b[0m\n\u001b[1;32m----> 3\u001b[1;33m \u001b[0mtf_idf\u001b[0m \u001b[1;33m=\u001b[0m \u001b[0mtf_idf_vectorizor\u001b[0m\u001b[1;33m.\u001b[0m\u001b[0mfit_transform\u001b[0m\u001b[1;33m(\u001b[0m\u001b[0mdfs_cleans\u001b[0m\u001b[1;33m.\u001b[0m\u001b[0mPOS\u001b[0m\u001b[1;33m.\u001b[0m\u001b[0mvalues\u001b[0m\u001b[1;33m.\u001b[0m\u001b[0mastype\u001b[0m\u001b[1;33m(\u001b[0m\u001b[0mstr\u001b[0m\u001b[1;33m)\u001b[0m\u001b[1;33m)\u001b[0m\u001b[1;33m\u001b[0m\u001b[1;33m\u001b[0m\u001b[0m\n\u001b[0m\u001b[0;32m      4\u001b[0m \u001b[0mtf_idf_norm\u001b[0m \u001b[1;33m=\u001b[0m \u001b[0mnormalize\u001b[0m\u001b[1;33m(\u001b[0m\u001b[0mtf_idf\u001b[0m\u001b[1;33m)\u001b[0m\u001b[1;33m\u001b[0m\u001b[1;33m\u001b[0m\u001b[0m\n\u001b[0;32m      5\u001b[0m \u001b[0mtf_idf_array\u001b[0m \u001b[1;33m=\u001b[0m \u001b[0mtf_idf_norm\u001b[0m\u001b[1;33m.\u001b[0m\u001b[0mtoarray\u001b[0m\u001b[1;33m(\u001b[0m\u001b[1;33m)\u001b[0m\u001b[1;33m\u001b[0m\u001b[1;33m\u001b[0m\u001b[0m\n",
      "\u001b[1;32m~\\Anaconda3\\lib\\site-packages\\sklearn\\feature_extraction\\text.py\u001b[0m in \u001b[0;36mfit_transform\u001b[1;34m(self, raw_documents, y)\u001b[0m\n\u001b[0;32m   1857\u001b[0m         \"\"\"\n\u001b[0;32m   1858\u001b[0m         \u001b[0mself\u001b[0m\u001b[1;33m.\u001b[0m\u001b[0m_check_params\u001b[0m\u001b[1;33m(\u001b[0m\u001b[1;33m)\u001b[0m\u001b[1;33m\u001b[0m\u001b[1;33m\u001b[0m\u001b[0m\n\u001b[1;32m-> 1859\u001b[1;33m         \u001b[0mX\u001b[0m \u001b[1;33m=\u001b[0m \u001b[0msuper\u001b[0m\u001b[1;33m(\u001b[0m\u001b[1;33m)\u001b[0m\u001b[1;33m.\u001b[0m\u001b[0mfit_transform\u001b[0m\u001b[1;33m(\u001b[0m\u001b[0mraw_documents\u001b[0m\u001b[1;33m)\u001b[0m\u001b[1;33m\u001b[0m\u001b[1;33m\u001b[0m\u001b[0m\n\u001b[0m\u001b[0;32m   1860\u001b[0m         \u001b[0mself\u001b[0m\u001b[1;33m.\u001b[0m\u001b[0m_tfidf\u001b[0m\u001b[1;33m.\u001b[0m\u001b[0mfit\u001b[0m\u001b[1;33m(\u001b[0m\u001b[0mX\u001b[0m\u001b[1;33m)\u001b[0m\u001b[1;33m\u001b[0m\u001b[1;33m\u001b[0m\u001b[0m\n\u001b[0;32m   1861\u001b[0m         \u001b[1;31m# X is already a transformed view of raw_documents so\u001b[0m\u001b[1;33m\u001b[0m\u001b[1;33m\u001b[0m\u001b[1;33m\u001b[0m\u001b[0m\n",
      "\u001b[1;32m~\\Anaconda3\\lib\\site-packages\\sklearn\\feature_extraction\\text.py\u001b[0m in \u001b[0;36mfit_transform\u001b[1;34m(self, raw_documents, y)\u001b[0m\n\u001b[0;32m   1218\u001b[0m \u001b[1;33m\u001b[0m\u001b[0m\n\u001b[0;32m   1219\u001b[0m         vocabulary, X = self._count_vocab(raw_documents,\n\u001b[1;32m-> 1220\u001b[1;33m                                           self.fixed_vocabulary_)\n\u001b[0m\u001b[0;32m   1221\u001b[0m \u001b[1;33m\u001b[0m\u001b[0m\n\u001b[0;32m   1222\u001b[0m         \u001b[1;32mif\u001b[0m \u001b[0mself\u001b[0m\u001b[1;33m.\u001b[0m\u001b[0mbinary\u001b[0m\u001b[1;33m:\u001b[0m\u001b[1;33m\u001b[0m\u001b[1;33m\u001b[0m\u001b[0m\n",
      "\u001b[1;32m~\\Anaconda3\\lib\\site-packages\\sklearn\\feature_extraction\\text.py\u001b[0m in \u001b[0;36m_count_vocab\u001b[1;34m(self, raw_documents, fixed_vocab)\u001b[0m\n\u001b[0;32m   1148\u001b[0m             \u001b[0mvocabulary\u001b[0m \u001b[1;33m=\u001b[0m \u001b[0mdict\u001b[0m\u001b[1;33m(\u001b[0m\u001b[0mvocabulary\u001b[0m\u001b[1;33m)\u001b[0m\u001b[1;33m\u001b[0m\u001b[1;33m\u001b[0m\u001b[0m\n\u001b[0;32m   1149\u001b[0m             \u001b[1;32mif\u001b[0m \u001b[1;32mnot\u001b[0m \u001b[0mvocabulary\u001b[0m\u001b[1;33m:\u001b[0m\u001b[1;33m\u001b[0m\u001b[1;33m\u001b[0m\u001b[0m\n\u001b[1;32m-> 1150\u001b[1;33m                 raise ValueError(\"empty vocabulary; perhaps the documents only\"\n\u001b[0m\u001b[0;32m   1151\u001b[0m                                  \" contain stop words\")\n\u001b[0;32m   1152\u001b[0m \u001b[1;33m\u001b[0m\u001b[0m\n",
      "\u001b[1;31mValueError\u001b[0m: empty vocabulary; perhaps the documents only contain stop words"
     ]
    }
   ],
   "source": [
    "dfs_cleans = data.sample(frac=0.008)\n",
    "tf_idf_vectorizor = TfidfVectorizer()\n",
    "tf_idf = tf_idf_vectorizor.fit_transform(dfs_cleans.POS.values.astype(str))\n",
    "tf_idf_norm = normalize(tf_idf)\n",
    "tf_idf_array = tf_idf_norm.toarray()\n",
    "\n",
    "\n",
    "model = AgglomerativeClustering(n_clusters=None, distance_threshold=0).fit(tf_idf_array)\n",
    "link_matrix = linkage_matrix(tf_idf_array.shape[0], model.children_, model.distances_)\n",
    "plt.figure(figsize=(12,8))\n",
    "plt.title('HC')\n",
    "\n",
    "dendrogram(link_matrix, labels = data.artist.values, leaf_font_size=10);\n",
    "#plt.savefig('../images/HC/hc_alternative_rock_dance_pop.png', bbox_inches = \"tight\")"
   ]
  },
  {
   "cell_type": "markdown",
   "metadata": {},
   "source": [
    "## Gaussian Mixture Model <a name=\"paragraph3\"></a>"
   ]
  },
  {
   "cell_type": "code",
   "execution_count": 67,
   "metadata": {},
   "outputs": [],
   "source": [
    "tf_idf_vectorizor = TfidfVectorizer()\n",
    "tf_idf = tf_idf_vectorizor.fit_transform(popartist.POS.values.astype(str))\n",
    "tf_idf_norm = normalize(tf_idf)\n",
    "tf_idf_array = tf_idf_norm.toarray()"
   ]
  },
  {
   "cell_type": "markdown",
   "metadata": {},
   "source": [
    "#### BIC"
   ]
  },
  {
   "cell_type": "code",
   "execution_count": 76,
   "metadata": {},
   "outputs": [
    {
     "data": {
      "image/png": "[encoded data removed]",
      "text/plain": [
       "<Figure size 432x288 with 1 Axes>"
      ]
     },
     "metadata": {
      "needs_background": "light"
     },
     "output_type": "display_data"
    }
   ],
   "source": [
    "n_components = np.arange(1, 4)\n",
    "BIC = np.zeros(n_components.shape)\n",
    "AIC = np.zeros(n_components.shape)\n",
    "\n",
    "for i, n in enumerate(n_components):\n",
    "    clf = GaussianMixture(n_components=n,\n",
    "              covariance_type='diag')\n",
    "    clf.fit(tf_idf_array)\n",
    "\n",
    "    AIC[i] = clf.aic(tf_idf_array)\n",
    "    BIC[i] = clf.bic(tf_idf_array)\n",
    "\n",
    "plt.figure()\n",
    "plt.plot(n_components, AIC, label='AIC')\n",
    "plt.plot(n_components, BIC, label='BIC')\n",
    "plt.legend(loc=0)\n",
    "plt.xlabel('n_components')\n",
    "plt.ylabel('AIC / BIC')\n",
    "plt.savefig('GMM_images/BIC_popartist_diag')"
   ]
  },
  {
   "cell_type": "code",
   "execution_count": 21,
   "metadata": {},
   "outputs": [],
   "source": [
    "def compute_PCA(text):\n",
    "    pca = PCA(n_components = 2)\n",
    "    Y = pca.fit_transform(text)\n",
    "    return Y"
   ]
  },
  {
   "cell_type": "markdown",
   "metadata": {},
   "source": [
    "#### hard clustering"
   ]
  },
  {
   "cell_type": "code",
   "execution_count": 84,
   "metadata": {},
   "outputs": [
    {
     "data": {
      "image/png": "[encoded data removed]",
      "text/plain": [
       "<Figure size 432x288 with 1 Axes>"
      ]
     },
     "metadata": {
      "needs_background": "light"
     },
     "output_type": "display_data"
    }
   ],
   "source": [
    "gmm = GaussianMixture(n_components=2, n_init=10, covariance_type='diag').fit(tf_idf_array)\n",
    "prediction = gmm.predict(tf_idf_array)\n",
    "Y = compute_PCA(tf_idf_array)\n",
    "# plt.figure(figsize=(15,10))\n",
    "sns.scatterplot(Y[:, 0], Y[:, 1],hue=prediction, style=popartist.artist, palette=sns.color_palette(\"hls\", len(np.unique(prediction))))\n",
    "plt.savefig('GMM_images/gmm_popartist_diag')"
   ]
  },
  {
   "cell_type": "code",
   "execution_count": 52,
   "metadata": {},
   "outputs": [
    {
     "name": "stdout",
     "output_type": "stream",
     "text": [
      "[[0.01668895 0.         0.         ... 0.         0.         0.        ]\n",
      " [0.         0.00951874 0.00317291 ... 0.00317291 0.00673667 0.00537169]]\n",
      "\n",
      "\n",
      "[[ 1.00000000e-06  0.00000000e+00  0.00000000e+00 ...  0.00000000e+00\n",
      "   0.00000000e+00  0.00000000e+00]\n",
      " [ 0.00000000e+00  1.36909486e-04  4.53031621e-05 ...  4.53031621e-05\n",
      "   5.48289735e-06 -3.83488020e-05]\n",
      " [ 0.00000000e+00  4.53031621e-05  1.61010540e-05 ...  1.51010540e-05\n",
      "   1.82763245e-06 -1.27829340e-05]\n",
      " ...\n",
      " [ 0.00000000e+00  4.53031621e-05  1.51010540e-05 ...  1.61010540e-05\n",
      "   1.82763245e-06 -1.27829340e-05]\n",
      " [ 0.00000000e+00  5.48289735e-06  1.82763245e-06 ...  1.82763245e-06\n",
      "   2.13993252e-05  2.40463249e-05]\n",
      " [ 0.00000000e+00 -3.83488020e-05 -1.27829340e-05 ... -1.27829340e-05\n",
      "   2.40463249e-05  4.42826481e-05]]\n"
     ]
    }
   ],
   "source": [
    "print(gmm.means_)\n",
    "print('\\n')\n",
    "print(gmm.covariances_)"
   ]
  },
  {
   "cell_type": "markdown",
   "metadata": {},
   "source": [
    "#### soft clustering"
   ]
  },
  {
   "cell_type": "code",
   "execution_count": 82,
   "metadata": {},
   "outputs": [
    {
     "name": "stdout",
     "output_type": "stream",
     "text": [
      "[[1. 0.]\n",
      " [0. 1.]\n",
      " [1. 0.]]\n"
     ]
    },
    {
     "data": {
      "image/png": "[encoded data removed]",
      "text/plain": [
       "<Figure size 432x288 with 1 Axes>"
      ]
     },
     "metadata": {
      "needs_background": "light"
     },
     "output_type": "display_data"
    }
   ],
   "source": [
    "probs = gmm.predict_proba(tf_idf_array)\n",
    "print(probs[:5].round(3))\n",
    "size = 50 * probs.max(1) ** 2  # square emphasizes differences\n",
    "# plt.figure(figsize=(15,10))\n",
    "sns.scatterplot(Y[:, 0], Y[:, 1],hue=prediction,style=popartist.artist,palette=sns.color_palette(\"hls\", len(np.unique(prediction))))\n",
    "plt.savefig('GMM_images/gmm_popartist_soft_diag')"
   ]
  },
  {
   "cell_type": "markdown",
   "metadata": {},
   "source": [
    "## Bayes GMM <a name=\"paragraph4\"></a>"
   ]
  },
  {
   "cell_type": "markdown",
   "metadata": {},
   "source": [
    "https://www.geeksforgeeks.org/ml-variational-bayesian-inference-for-gaussian-mixture/"
   ]
  },
  {
   "cell_type": "code",
   "execution_count": 87,
   "metadata": {},
   "outputs": [
    {
     "data": {
      "image/png": "[encoded data removed]",
      "text/plain": [
       "<Figure size 432x288 with 1 Axes>"
      ]
     },
     "metadata": {
      "needs_background": "light"
     },
     "output_type": "display_data"
    }
   ],
   "source": [
    "# Building and training the model \n",
    "bgmm = BayesianGaussianMixture(n_components=2, n_init=10, covariance_type ='diag').fit(tf_idf_array) \n",
    "Y = compute_PCA(tf_idf_array)\n",
    "\n",
    "# Storing the labels \n",
    "prediction = bgmm.predict(tf_idf_array) \n",
    "# print((prediction)) \n",
    "# plt.figure(figsize=(15,10))\n",
    "sns.scatterplot(Y[:, 0], Y[:, 1],hue=prediction, style=popartist.artist, palette=sns.color_palette(\"hls\", len(np.unique(prediction))))\n",
    "plt.savefig('GMM_images/bgmm_popartist_diag')"
   ]
  },
  {
   "cell_type": "code",
   "execution_count": 62,
   "metadata": {},
   "outputs": [
    {
     "data": {
      "text/plain": [
       "True"
      ]
     },
     "execution_count": 62,
     "metadata": {},
     "output_type": "execute_result"
    }
   ],
   "source": [
    "bgmm.converged_"
   ]
  },
  {
   "cell_type": "code",
   "execution_count": null,
   "metadata": {},
   "outputs": [],
   "source": []
  }
 ],
 "metadata": {
  "kernelspec": {
   "display_name": "Python 3",
   "language": "python",
   "name": "python3"
  },
  "language_info": {
   "codemirror_mode": {
    "name": "ipython",
    "version": 3
   },
   "file_extension": ".py",
   "mimetype": "text/x-python",
   "name": "python",
   "nbconvert_exporter": "python",
   "pygments_lexer": "ipython3",
   "version": "3.7.4"
  }
 },
 "nbformat": 4,
 "nbformat_minor": 4
}
