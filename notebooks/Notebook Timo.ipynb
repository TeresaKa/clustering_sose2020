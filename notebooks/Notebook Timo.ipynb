{
 "cells": [
  {
   "cell_type": "code",
   "execution_count": 1,
   "metadata": {},
   "outputs": [],
   "source": [
    "import pandas as pd\n",
    "df = pd.read_csv(\"../songtexte_bereinigt_gekuerzt.csv\")"
   ]
  },
  {
   "cell_type": "code",
   "execution_count": 2,
   "metadata": {},
   "outputs": [
    {
     "data": {
      "text/html": [
       "<div>\n",
       "<style scoped>\n",
       "    .dataframe tbody tr th:only-of-type {\n",
       "        vertical-align: middle;\n",
       "    }\n",
       "\n",
       "    .dataframe tbody tr th {\n",
       "        vertical-align: top;\n",
       "    }\n",
       "\n",
       "    .dataframe thead th {\n",
       "        text-align: right;\n",
       "    }\n",
       "</style>\n",
       "<table border=\"1\" class=\"dataframe\">\n",
       "  <thead>\n",
       "    <tr style=\"text-align: right;\">\n",
       "      <th></th>\n",
       "      <th>Unnamed: 0</th>\n",
       "      <th>artist</th>\n",
       "      <th>song</th>\n",
       "      <th>text</th>\n",
       "      <th>number_of_tokens</th>\n",
       "    </tr>\n",
       "  </thead>\n",
       "  <tbody>\n",
       "    <tr>\n",
       "      <td>0</td>\n",
       "      <td>0</td>\n",
       "      <td>ABBA</td>\n",
       "      <td>Ahe's My Kind Of Girl</td>\n",
       "      <td>look at her face  it's a wonderful face  and i...</td>\n",
       "      <td>741</td>\n",
       "    </tr>\n",
       "    <tr>\n",
       "      <td>1</td>\n",
       "      <td>1</td>\n",
       "      <td>ABBA</td>\n",
       "      <td>Andante, Andante</td>\n",
       "      <td>take it easy with me  please  touch me gently ...</td>\n",
       "      <td>1381</td>\n",
       "    </tr>\n",
       "    <tr>\n",
       "      <td>2</td>\n",
       "      <td>2</td>\n",
       "      <td>ABBA</td>\n",
       "      <td>As Good As New</td>\n",
       "      <td>i'll never know why i had to go  why i had to ...</td>\n",
       "      <td>1438</td>\n",
       "    </tr>\n",
       "    <tr>\n",
       "      <td>3</td>\n",
       "      <td>3</td>\n",
       "      <td>ABBA</td>\n",
       "      <td>Bang</td>\n",
       "      <td>making somebody happy is a question of give an...</td>\n",
       "      <td>1207</td>\n",
       "    </tr>\n",
       "    <tr>\n",
       "      <td>4</td>\n",
       "      <td>4</td>\n",
       "      <td>ABBA</td>\n",
       "      <td>Bang-A-Boomerang</td>\n",
       "      <td>making somebody happy is a question of give an...</td>\n",
       "      <td>1223</td>\n",
       "    </tr>\n",
       "    <tr>\n",
       "      <td>...</td>\n",
       "      <td>...</td>\n",
       "      <td>...</td>\n",
       "      <td>...</td>\n",
       "      <td>...</td>\n",
       "      <td>...</td>\n",
       "    </tr>\n",
       "    <tr>\n",
       "      <td>50827</td>\n",
       "      <td>57642</td>\n",
       "      <td>Ziggy Marley</td>\n",
       "      <td>Friend</td>\n",
       "      <td>i wanna thank you for the things you've done...</td>\n",
       "      <td>691</td>\n",
       "    </tr>\n",
       "    <tr>\n",
       "      <td>50828</td>\n",
       "      <td>57643</td>\n",
       "      <td>Ziggy Marley</td>\n",
       "      <td>G7</td>\n",
       "      <td>seven richest countries in the world  them hav...</td>\n",
       "      <td>1443</td>\n",
       "    </tr>\n",
       "    <tr>\n",
       "      <td>50829</td>\n",
       "      <td>57644</td>\n",
       "      <td>Ziggy Marley</td>\n",
       "      <td>Generation</td>\n",
       "      <td>many generation have passed away  fighting for...</td>\n",
       "      <td>1391</td>\n",
       "    </tr>\n",
       "    <tr>\n",
       "      <td>50830</td>\n",
       "      <td>57645</td>\n",
       "      <td>Ziggy Marley</td>\n",
       "      <td>Good Old Days</td>\n",
       "      <td>irie days come on play  let the angels fly let...</td>\n",
       "      <td>858</td>\n",
       "    </tr>\n",
       "    <tr>\n",
       "      <td>50831</td>\n",
       "      <td>57646</td>\n",
       "      <td>Ziggy Marley</td>\n",
       "      <td>Hand To Mouth</td>\n",
       "      <td>power to the workers  more power  power to the...</td>\n",
       "      <td>2867</td>\n",
       "    </tr>\n",
       "  </tbody>\n",
       "</table>\n",
       "<p>50832 rows × 5 columns</p>\n",
       "</div>"
      ],
      "text/plain": [
       "       Unnamed: 0        artist                   song  \\\n",
       "0               0          ABBA  Ahe's My Kind Of Girl   \n",
       "1               1          ABBA       Andante, Andante   \n",
       "2               2          ABBA         As Good As New   \n",
       "3               3          ABBA                   Bang   \n",
       "4               4          ABBA       Bang-A-Boomerang   \n",
       "...           ...           ...                    ...   \n",
       "50827       57642  Ziggy Marley                 Friend   \n",
       "50828       57643  Ziggy Marley                     G7   \n",
       "50829       57644  Ziggy Marley             Generation   \n",
       "50830       57645  Ziggy Marley          Good Old Days   \n",
       "50831       57646  Ziggy Marley          Hand To Mouth   \n",
       "\n",
       "                                                    text  number_of_tokens  \n",
       "0      look at her face  it's a wonderful face  and i...               741  \n",
       "1      take it easy with me  please  touch me gently ...              1381  \n",
       "2      i'll never know why i had to go  why i had to ...              1438  \n",
       "3      making somebody happy is a question of give an...              1207  \n",
       "4      making somebody happy is a question of give an...              1223  \n",
       "...                                                  ...               ...  \n",
       "50827    i wanna thank you for the things you've done...               691  \n",
       "50828  seven richest countries in the world  them hav...              1443  \n",
       "50829  many generation have passed away  fighting for...              1391  \n",
       "50830  irie days come on play  let the angels fly let...               858  \n",
       "50831  power to the workers  more power  power to the...              2867  \n",
       "\n",
       "[50832 rows x 5 columns]"
      ]
     },
     "execution_count": 2,
     "metadata": {},
     "output_type": "execute_result"
    }
   ],
   "source": [
    "df"
   ]
  },
  {
   "cell_type": "code",
   "execution_count": 3,
   "metadata": {},
   "outputs": [
    {
     "data": {
      "text/plain": [
       "(50832, 5)"
      ]
     },
     "execution_count": 3,
     "metadata": {},
     "output_type": "execute_result"
    }
   ],
   "source": [
    "df.shape"
   ]
  },
  {
   "cell_type": "code",
   "execution_count": 4,
   "metadata": {},
   "outputs": [
    {
     "data": {
      "text/plain": [
       "0        look at her face  it's a wonderful face  and i...\n",
       "1        take it easy with me  please  touch me gently ...\n",
       "2        i'll never know why i had to go  why i had to ...\n",
       "3        making somebody happy is a question of give an...\n",
       "4        making somebody happy is a question of give an...\n",
       "                               ...                        \n",
       "50827      i wanna thank you for the things you've done...\n",
       "50828    seven richest countries in the world  them hav...\n",
       "50829    many generation have passed away  fighting for...\n",
       "50830    irie days come on play  let the angels fly let...\n",
       "50831    power to the workers  more power  power to the...\n",
       "Name: text, Length: 50832, dtype: object"
      ]
     },
     "execution_count": 4,
     "metadata": {},
     "output_type": "execute_result"
    }
   ],
   "source": [
    "df.text"
   ]
  },
  {
   "cell_type": "code",
   "execution_count": 5,
   "metadata": {},
   "outputs": [
    {
     "data": {
      "text/plain": [
       "0                ABBA\n",
       "1                ABBA\n",
       "2                ABBA\n",
       "3                ABBA\n",
       "4                ABBA\n",
       "             ...     \n",
       "50827    Ziggy Marley\n",
       "50828    Ziggy Marley\n",
       "50829    Ziggy Marley\n",
       "50830    Ziggy Marley\n",
       "50831    Ziggy Marley\n",
       "Name: artist, Length: 50832, dtype: object"
      ]
     },
     "execution_count": 5,
     "metadata": {},
     "output_type": "execute_result"
    }
   ],
   "source": [
    "df.artist.dropna()"
   ]
  },
  {
   "cell_type": "code",
   "execution_count": 6,
   "metadata": {},
   "outputs": [],
   "source": [
    "a = df.artist.unique()"
   ]
  },
  {
   "cell_type": "code",
   "execution_count": 7,
   "metadata": {},
   "outputs": [
    {
     "data": {
      "text/plain": [
       "(415,)"
      ]
     },
     "execution_count": 7,
     "metadata": {},
     "output_type": "execute_result"
    }
   ],
   "source": [
    "a.shape"
   ]
  },
  {
   "cell_type": "code",
   "execution_count": 9,
   "metadata": {},
   "outputs": [
    {
     "data": {
      "text/plain": [
       "Text(0.5, 0, 'Bands')"
      ]
     },
     "execution_count": 9,
     "metadata": {},
     "output_type": "execute_result"
    },
    {
     "data": {
      "image/png": "[encoded data removed]",
      "text/plain": [
       "<Figure size 432x288 with 1 Axes>"
      ]
     },
     "metadata": {
      "needs_background": "light"
     },
     "output_type": "display_data"
    }
   ],
   "source": [
    "df.groupby('artist').song.count().plot(kind='bar').set_xlabel('Bands')"
   ]
  },
  {
   "cell_type": "markdown",
   "metadata": {},
   "source": [
    "# UMAP"
   ]
  },
  {
   "cell_type": "markdown",
   "metadata": {},
   "source": [
    "### Mit Songtexte_bereinigt_gekuerzt.csv und den 5 häufigsten Bands"
   ]
  },
  {
   "cell_type": "code",
   "execution_count": 15,
   "metadata": {},
   "outputs": [],
   "source": [
    "from sklearn.preprocessing import LabelEncoder, StandardScaler\n",
    "from sklearn.cluster import KMeans\n",
    "from sklearn.feature_extraction.text import TfidfVectorizer"
   ]
  },
  {
   "cell_type": "code",
   "execution_count": 16,
   "metadata": {},
   "outputs": [],
   "source": [
    "from collections import Counter"
   ]
  },
  {
   "cell_type": "code",
   "execution_count": 17,
   "metadata": {},
   "outputs": [],
   "source": [
    "from yellowbrick.text import UMAPVisualizer"
   ]
  },
  {
   "cell_type": "code",
   "execution_count": 18,
   "metadata": {},
   "outputs": [],
   "source": [
    "import pandas as pd\n",
    "df = pd.read_csv(\"../songtexte_bereinigt_gekuerzt.csv\")"
   ]
  },
  {
   "cell_type": "code",
   "execution_count": 19,
   "metadata": {},
   "outputs": [],
   "source": [
    "c = Counter(df.artist).most_common()[5:]"
   ]
  },
  {
   "cell_type": "code",
   "execution_count": 21,
   "metadata": {},
   "outputs": [
    {
     "data": {
      "text/html": [
       "<div>\n",
       "<style scoped>\n",
       "    .dataframe tbody tr th:only-of-type {\n",
       "        vertical-align: middle;\n",
       "    }\n",
       "\n",
       "    .dataframe tbody tr th {\n",
       "        vertical-align: top;\n",
       "    }\n",
       "\n",
       "    .dataframe thead th {\n",
       "        text-align: right;\n",
       "    }\n",
       "</style>\n",
       "<table border=\"1\" class=\"dataframe\">\n",
       "  <thead>\n",
       "    <tr style=\"text-align: right;\">\n",
       "      <th></th>\n",
       "      <th>Unnamed: 0</th>\n",
       "      <th>artist</th>\n",
       "      <th>song</th>\n",
       "      <th>text</th>\n",
       "      <th>number_of_tokens</th>\n",
       "    </tr>\n",
       "  </thead>\n",
       "  <tbody>\n",
       "    <tr>\n",
       "      <td>334</td>\n",
       "      <td>361</td>\n",
       "      <td>Alabama</td>\n",
       "      <td>Calling All Angels</td>\n",
       "      <td>calling  calling all angels  oh i'm calling  c...</td>\n",
       "      <td>1425</td>\n",
       "    </tr>\n",
       "    <tr>\n",
       "      <td>335</td>\n",
       "      <td>362</td>\n",
       "      <td>Alabama</td>\n",
       "      <td>Can't Keep A Good Man Down</td>\n",
       "      <td>i thought it was forever  i thought it would l...</td>\n",
       "      <td>1714</td>\n",
       "    </tr>\n",
       "    <tr>\n",
       "      <td>336</td>\n",
       "      <td>363</td>\n",
       "      <td>Alabama</td>\n",
       "      <td>Carolina Mountain Dew</td>\n",
       "      <td>somewhere in the mountains......... in norther...</td>\n",
       "      <td>1138</td>\n",
       "    </tr>\n",
       "    <tr>\n",
       "      <td>337</td>\n",
       "      <td>364</td>\n",
       "      <td>Alabama</td>\n",
       "      <td>Christmas In Dixie</td>\n",
       "      <td>by now in new york city  there's snow on the g...</td>\n",
       "      <td>668</td>\n",
       "    </tr>\n",
       "    <tr>\n",
       "      <td>338</td>\n",
       "      <td>365</td>\n",
       "      <td>Alabama</td>\n",
       "      <td>Christmas In Your Arms</td>\n",
       "      <td>all my friends are asking me where i plan to s...</td>\n",
       "      <td>926</td>\n",
       "    </tr>\n",
       "    <tr>\n",
       "      <td>...</td>\n",
       "      <td>...</td>\n",
       "      <td>...</td>\n",
       "      <td>...</td>\n",
       "      <td>...</td>\n",
       "      <td>...</td>\n",
       "    </tr>\n",
       "    <tr>\n",
       "      <td>30544</td>\n",
       "      <td>34356</td>\n",
       "      <td>Gordon Lightfoot</td>\n",
       "      <td>Talking In Your Sleep</td>\n",
       "      <td>i heard you talking in your sleep  is there ...</td>\n",
       "      <td>567</td>\n",
       "    </tr>\n",
       "    <tr>\n",
       "      <td>30545</td>\n",
       "      <td>34357</td>\n",
       "      <td>Gordon Lightfoot</td>\n",
       "      <td>Thank You For The Promises</td>\n",
       "      <td>thank you for the promises we make  i know i c...</td>\n",
       "      <td>1258</td>\n",
       "    </tr>\n",
       "    <tr>\n",
       "      <td>30546</td>\n",
       "      <td>34358</td>\n",
       "      <td>Gordon Lightfoot</td>\n",
       "      <td>That Same Old Obsession</td>\n",
       "      <td>i come to this garden  i come here to rest  ea...</td>\n",
       "      <td>1142</td>\n",
       "    </tr>\n",
       "    <tr>\n",
       "      <td>30547</td>\n",
       "      <td>34359</td>\n",
       "      <td>Gordon Lightfoot</td>\n",
       "      <td>The First Time Ever I Saw Your Face</td>\n",
       "      <td>the first time ever i saw your face  i thought...</td>\n",
       "      <td>795</td>\n",
       "    </tr>\n",
       "    <tr>\n",
       "      <td>30548</td>\n",
       "      <td>34360</td>\n",
       "      <td>Gordon Lightfoot</td>\n",
       "      <td>The Gypsy</td>\n",
       "      <td>step inside my tent  said she  \"i'd like to re...</td>\n",
       "      <td>2008</td>\n",
       "    </tr>\n",
       "  </tbody>\n",
       "</table>\n",
       "<p>943 rows × 5 columns</p>\n",
       "</div>"
      ],
      "text/plain": [
       "       Unnamed: 0            artist                                 song  \\\n",
       "334           361           Alabama                   Calling All Angels   \n",
       "335           362           Alabama           Can't Keep A Good Man Down   \n",
       "336           363           Alabama                Carolina Mountain Dew   \n",
       "337           364           Alabama                   Christmas In Dixie   \n",
       "338           365           Alabama               Christmas In Your Arms   \n",
       "...           ...               ...                                  ...   \n",
       "30544       34356  Gordon Lightfoot                Talking In Your Sleep   \n",
       "30545       34357  Gordon Lightfoot           Thank You For The Promises   \n",
       "30546       34358  Gordon Lightfoot              That Same Old Obsession   \n",
       "30547       34359  Gordon Lightfoot  The First Time Ever I Saw Your Face   \n",
       "30548       34360  Gordon Lightfoot                            The Gypsy   \n",
       "\n",
       "                                                    text  number_of_tokens  \n",
       "334    calling  calling all angels  oh i'm calling  c...              1425  \n",
       "335    i thought it was forever  i thought it would l...              1714  \n",
       "336    somewhere in the mountains......... in norther...              1138  \n",
       "337    by now in new york city  there's snow on the g...               668  \n",
       "338    all my friends are asking me where i plan to s...               926  \n",
       "...                                                  ...               ...  \n",
       "30544    i heard you talking in your sleep  is there ...               567  \n",
       "30545  thank you for the promises we make  i know i c...              1258  \n",
       "30546  i come to this garden  i come here to rest  ea...              1142  \n",
       "30547  the first time ever i saw your face  i thought...               795  \n",
       "30548  step inside my tent  said she  \"i'd like to re...              2008  \n",
       "\n",
       "[943 rows x 5 columns]"
      ]
     },
     "execution_count": 21,
     "metadata": {},
     "output_type": "execute_result"
    }
   ],
   "source": [
    "sample = df.copy()\n",
    "for el in c:\n",
    "    sample = sample[sample.artist!=el[0]]\n",
    "sample"
   ]
  },
  {
   "cell_type": "code",
   "execution_count": 22,
   "metadata": {},
   "outputs": [
    {
     "name": "stderr",
     "output_type": "stream",
     "text": [
      "C:\\ProgramData\\Anaconda3\\lib\\site-packages\\sklearn\\cluster\\k_means_.py:972: ConvergenceWarning: Number of distinct clusters (5) found smaller than n_clusters (8). Possibly due to duplicate points in X.\n",
      "  return_n_iter=True)\n"
     ]
    }
   ],
   "source": [
    "labels = LabelEncoder().fit_transform(sample[\"text\"])\n",
    "labels = labels.reshape(labels.shape[0])\n",
    "features = TfidfVectorizer().fit_transform(sample[\"artist\"])\n",
    "cluster = KMeans(n_clusters=8, random_state=None, n_jobs=None)\n",
    "model = cluster.fit(features)"
   ]
  },
  {
   "cell_type": "code",
   "execution_count": 23,
   "metadata": {},
   "outputs": [
    {
     "name": "stderr",
     "output_type": "stream",
     "text": [
      "C:\\ProgramData\\Anaconda3\\lib\\site-packages\\umap\\spectral.py:229: UserWarning: Embedding a total of 5 separate connected components using meta-embedding (experimental)\n",
      "  n_components\n",
      "'c' argument looks like a single numeric RGB or RGBA sequence, which should be avoided as value-mapping will have precedence in case its length matches with 'x' & 'y'.  Please use a 2-D array with a single row if you really want to specify the same RGB or RGBA value for all points.\n"
     ]
    },
    {
     "data": {
      "image/png": "[encoded data removed]",
      "text/plain": [
       "<Figure size 432x288 with 1 Axes>"
      ]
     },
     "metadata": {},
     "output_type": "display_data"
    },
    {
     "data": {
      "text/plain": [
       "<matplotlib.axes._subplots.AxesSubplot at 0x216030dbd48>"
      ]
     },
     "execution_count": 23,
     "metadata": {},
     "output_type": "execute_result"
    }
   ],
   "source": [
    "umap = UMAPVisualizer()\n",
    "umap.fit(features)\n",
    "umap.show()"
   ]
  },
  {
   "cell_type": "markdown",
   "metadata": {},
   "source": [
    "### mit Sample_25_percent.csv und den 5 häufgisten Bands"
   ]
  },
  {
   "cell_type": "code",
   "execution_count": 24,
   "metadata": {},
   "outputs": [],
   "source": [
    "df = pd.read_csv(\"../sample_25percent.csv\")"
   ]
  },
  {
   "cell_type": "code",
   "execution_count": 25,
   "metadata": {},
   "outputs": [],
   "source": [
    "c = Counter(df.artist).most_common()[5:]"
   ]
  },
  {
   "cell_type": "code",
   "execution_count": 27,
   "metadata": {},
   "outputs": [
    {
     "data": {
      "text/html": [
       "<div>\n",
       "<style scoped>\n",
       "    .dataframe tbody tr th:only-of-type {\n",
       "        vertical-align: middle;\n",
       "    }\n",
       "\n",
       "    .dataframe tbody tr th {\n",
       "        vertical-align: top;\n",
       "    }\n",
       "\n",
       "    .dataframe thead th {\n",
       "        text-align: right;\n",
       "    }\n",
       "</style>\n",
       "<table border=\"1\" class=\"dataframe\">\n",
       "  <thead>\n",
       "    <tr style=\"text-align: right;\">\n",
       "      <th></th>\n",
       "      <th>Unnamed: 0</th>\n",
       "      <th>artist</th>\n",
       "      <th>song</th>\n",
       "      <th>text</th>\n",
       "      <th>number_of_tokens</th>\n",
       "    </tr>\n",
       "  </thead>\n",
       "  <tbody>\n",
       "    <tr>\n",
       "      <td>66</td>\n",
       "      <td>8438</td>\n",
       "      <td>Indigo Girls</td>\n",
       "      <td>Everything In It's Own Time</td>\n",
       "      <td>remember everything i told you  keep it in you...</td>\n",
       "      <td>1098</td>\n",
       "    </tr>\n",
       "    <tr>\n",
       "      <td>74</td>\n",
       "      <td>7501</td>\n",
       "      <td>Hank Williams Jr.</td>\n",
       "      <td>The Cheatin' Hotel</td>\n",
       "      <td>when you check in the cheatin' hotel  you'll b...</td>\n",
       "      <td>1905</td>\n",
       "    </tr>\n",
       "    <tr>\n",
       "      <td>131</td>\n",
       "      <td>8449</td>\n",
       "      <td>Indigo Girls</td>\n",
       "      <td>Heartache For Everyone</td>\n",
       "      <td>you spent five years saying you'd come my way ...</td>\n",
       "      <td>1768</td>\n",
       "    </tr>\n",
       "    <tr>\n",
       "      <td>133</td>\n",
       "      <td>7498</td>\n",
       "      <td>Hank Williams Jr.</td>\n",
       "      <td>Tee Tot Song</td>\n",
       "      <td>every mornin' ole tee tot come 'round  settin'...</td>\n",
       "      <td>1313</td>\n",
       "    </tr>\n",
       "    <tr>\n",
       "      <td>136</td>\n",
       "      <td>33842</td>\n",
       "      <td>George Strait</td>\n",
       "      <td>Back To Bein' Me</td>\n",
       "      <td>i'm back to bein' me  i'm back to bein' nobody...</td>\n",
       "      <td>916</td>\n",
       "    </tr>\n",
       "    <tr>\n",
       "      <td>...</td>\n",
       "      <td>...</td>\n",
       "      <td>...</td>\n",
       "      <td>...</td>\n",
       "      <td>...</td>\n",
       "      <td>...</td>\n",
       "    </tr>\n",
       "    <tr>\n",
       "      <td>12565</td>\n",
       "      <td>35292</td>\n",
       "      <td>Hank Williams Jr.</td>\n",
       "      <td>I've Been Around</td>\n",
       "      <td>i've been around.  i used to sing songs that w...</td>\n",
       "      <td>841</td>\n",
       "    </tr>\n",
       "    <tr>\n",
       "      <td>12581</td>\n",
       "      <td>13057</td>\n",
       "      <td>Michael W. Smith</td>\n",
       "      <td>A Way</td>\n",
       "      <td>[verse 1]  caught in a dream of where  i want ...</td>\n",
       "      <td>968</td>\n",
       "    </tr>\n",
       "    <tr>\n",
       "      <td>12636</td>\n",
       "      <td>43840</td>\n",
       "      <td>Michael W. Smith</td>\n",
       "      <td>Above All</td>\n",
       "      <td>above all powers  above all kings  above all n...</td>\n",
       "      <td>1232</td>\n",
       "    </tr>\n",
       "    <tr>\n",
       "      <td>12652</td>\n",
       "      <td>33884</td>\n",
       "      <td>George Strait</td>\n",
       "      <td>I Met A Friend Of Yours Today</td>\n",
       "      <td>yes  i know i'm late gettin' home tonight  can...</td>\n",
       "      <td>796</td>\n",
       "    </tr>\n",
       "    <tr>\n",
       "      <td>12694</td>\n",
       "      <td>6731</td>\n",
       "      <td>George Strait</td>\n",
       "      <td>Christmas Cookies</td>\n",
       "      <td>i sure do like those christmas cookies  sugar ...</td>\n",
       "      <td>1648</td>\n",
       "    </tr>\n",
       "  </tbody>\n",
       "</table>\n",
       "<p>287 rows × 5 columns</p>\n",
       "</div>"
      ],
      "text/plain": [
       "       Unnamed: 0             artist                           song  \\\n",
       "66           8438       Indigo Girls    Everything In It's Own Time   \n",
       "74           7501  Hank Williams Jr.             The Cheatin' Hotel   \n",
       "131          8449       Indigo Girls         Heartache For Everyone   \n",
       "133          7498  Hank Williams Jr.                   Tee Tot Song   \n",
       "136         33842      George Strait               Back To Bein' Me   \n",
       "...           ...                ...                            ...   \n",
       "12565       35292  Hank Williams Jr.               I've Been Around   \n",
       "12581       13057   Michael W. Smith                          A Way   \n",
       "12636       43840   Michael W. Smith                      Above All   \n",
       "12652       33884      George Strait  I Met A Friend Of Yours Today   \n",
       "12694        6731      George Strait              Christmas Cookies   \n",
       "\n",
       "                                                    text  number_of_tokens  \n",
       "66     remember everything i told you  keep it in you...              1098  \n",
       "74     when you check in the cheatin' hotel  you'll b...              1905  \n",
       "131    you spent five years saying you'd come my way ...              1768  \n",
       "133    every mornin' ole tee tot come 'round  settin'...              1313  \n",
       "136    i'm back to bein' me  i'm back to bein' nobody...               916  \n",
       "...                                                  ...               ...  \n",
       "12565  i've been around.  i used to sing songs that w...               841  \n",
       "12581  [verse 1]  caught in a dream of where  i want ...               968  \n",
       "12636  above all powers  above all kings  above all n...              1232  \n",
       "12652  yes  i know i'm late gettin' home tonight  can...               796  \n",
       "12694  i sure do like those christmas cookies  sugar ...              1648  \n",
       "\n",
       "[287 rows x 5 columns]"
      ]
     },
     "execution_count": 27,
     "metadata": {},
     "output_type": "execute_result"
    }
   ],
   "source": [
    "sample = df.copy()\n",
    "for el in c:\n",
    "    sample = sample[sample.artist!=el[0]]\n",
    "sample"
   ]
  },
  {
   "cell_type": "code",
   "execution_count": 28,
   "metadata": {},
   "outputs": [
    {
     "name": "stderr",
     "output_type": "stream",
     "text": [
      "C:\\ProgramData\\Anaconda3\\lib\\site-packages\\sklearn\\cluster\\k_means_.py:972: ConvergenceWarning: Number of distinct clusters (5) found smaller than n_clusters (8). Possibly due to duplicate points in X.\n",
      "  return_n_iter=True)\n"
     ]
    }
   ],
   "source": [
    "labels = LabelEncoder().fit_transform(sample[\"text\"])\n",
    "labels = labels.reshape(labels.shape[0])\n",
    "features = TfidfVectorizer().fit_transform(sample[\"artist\"])\n",
    "cluster = KMeans(n_clusters=8, random_state=None, n_jobs=None)\n",
    "model = cluster.fit(features)"
   ]
  },
  {
   "cell_type": "code",
   "execution_count": 29,
   "metadata": {},
   "outputs": [
    {
     "name": "stderr",
     "output_type": "stream",
     "text": [
      "C:\\ProgramData\\Anaconda3\\lib\\site-packages\\umap\\spectral.py:229: UserWarning: Embedding a total of 5 separate connected components using meta-embedding (experimental)\n",
      "  n_components\n",
      "'c' argument looks like a single numeric RGB or RGBA sequence, which should be avoided as value-mapping will have precedence in case its length matches with 'x' & 'y'.  Please use a 2-D array with a single row if you really want to specify the same RGB or RGBA value for all points.\n"
     ]
    },
    {
     "data": {
      "image/png": "[encoded data removed]",
      "text/plain": [
       "<Figure size 432x288 with 1 Axes>"
      ]
     },
     "metadata": {},
     "output_type": "display_data"
    },
    {
     "data": {
      "text/plain": [
       "<matplotlib.axes._subplots.AxesSubplot at 0x216007bde88>"
      ]
     },
     "execution_count": 29,
     "metadata": {},
     "output_type": "execute_result"
    }
   ],
   "source": [
    "umap = UMAPVisualizer()\n",
    "umap.fit(features)\n",
    "umap.show()"
   ]
  },
  {
   "cell_type": "markdown",
   "metadata": {},
   "source": [
    "### Mit Songtexte_bereinigt_gekuerzt.csv aber mit allen Bands "
   ]
  },
  {
   "cell_type": "code",
   "execution_count": 30,
   "metadata": {},
   "outputs": [],
   "source": [
    "df = pd.read_csv(\"../songtexte_bereinigt_gekuerzt.csv\")"
   ]
  },
  {
   "cell_type": "code",
   "execution_count": 31,
   "metadata": {},
   "outputs": [
    {
     "data": {
      "text/html": [
       "<div>\n",
       "<style scoped>\n",
       "    .dataframe tbody tr th:only-of-type {\n",
       "        vertical-align: middle;\n",
       "    }\n",
       "\n",
       "    .dataframe tbody tr th {\n",
       "        vertical-align: top;\n",
       "    }\n",
       "\n",
       "    .dataframe thead th {\n",
       "        text-align: right;\n",
       "    }\n",
       "</style>\n",
       "<table border=\"1\" class=\"dataframe\">\n",
       "  <thead>\n",
       "    <tr style=\"text-align: right;\">\n",
       "      <th></th>\n",
       "      <th>Unnamed: 0</th>\n",
       "      <th>artist</th>\n",
       "      <th>song</th>\n",
       "      <th>text</th>\n",
       "      <th>number_of_tokens</th>\n",
       "    </tr>\n",
       "  </thead>\n",
       "  <tbody>\n",
       "    <tr>\n",
       "      <td>0</td>\n",
       "      <td>0</td>\n",
       "      <td>ABBA</td>\n",
       "      <td>Ahe's My Kind Of Girl</td>\n",
       "      <td>look at her face  it's a wonderful face  and i...</td>\n",
       "      <td>741</td>\n",
       "    </tr>\n",
       "    <tr>\n",
       "      <td>1</td>\n",
       "      <td>1</td>\n",
       "      <td>ABBA</td>\n",
       "      <td>Andante, Andante</td>\n",
       "      <td>take it easy with me  please  touch me gently ...</td>\n",
       "      <td>1381</td>\n",
       "    </tr>\n",
       "  </tbody>\n",
       "</table>\n",
       "</div>"
      ],
      "text/plain": [
       "   Unnamed: 0 artist                   song  \\\n",
       "0           0   ABBA  Ahe's My Kind Of Girl   \n",
       "1           1   ABBA       Andante, Andante   \n",
       "\n",
       "                                                text  number_of_tokens  \n",
       "0  look at her face  it's a wonderful face  and i...               741  \n",
       "1  take it easy with me  please  touch me gently ...              1381  "
      ]
     },
     "execution_count": 31,
     "metadata": {},
     "output_type": "execute_result"
    }
   ],
   "source": [
    "df.head(2)"
   ]
  },
  {
   "cell_type": "code",
   "execution_count": 32,
   "metadata": {},
   "outputs": [],
   "source": [
    "labels = LabelEncoder().fit_transform(df[\"text\"])\n",
    "labels = labels.reshape(labels.shape[0])\n",
    "features = TfidfVectorizer().fit_transform(df[\"artist\"])\n",
    "cluster = KMeans(n_clusters=8, random_state=None, n_jobs=None)\n",
    "model = cluster.fit(features)"
   ]
  },
  {
   "cell_type": "code",
   "execution_count": 33,
   "metadata": {
    "scrolled": true
   },
   "outputs": [
    {
     "name": "stderr",
     "output_type": "stream",
     "text": [
      "C:\\ProgramData\\Anaconda3\\lib\\site-packages\\umap\\sparse.py:247: NumbaPerformanceWarning: \u001b[1m\u001b[1m\n",
      "The keyword argument 'parallel=True' was specified but no transformation for parallel execution was possible.\n",
      "\n",
      "To find out why, try turning on parallel diagnostics, see http://numba.pydata.org/numba-doc/latest/user/parallel.html#diagnostics for help.\n",
      "\u001b[1m\n",
      "File \"..\\..\\..\\..\\..\\ProgramData\\Anaconda3\\lib\\site-packages\\umap\\utils.py\", line 409:\u001b[0m\n",
      "\u001b[1m@numba.njit(parallel=True)\n",
      "\u001b[1mdef build_candidates(current_graph, n_vertices, n_neighbors, max_candidates, rng_state):\n",
      "\u001b[0m\u001b[1m^\u001b[0m\u001b[0m\n",
      "\u001b[0m\u001b[0m\n",
      "  current_graph, n_vertices, n_neighbors, max_candidates, rng_state\n",
      "C:\\ProgramData\\Anaconda3\\lib\\site-packages\\numba\\compiler.py:602: NumbaPerformanceWarning: \u001b[1m\n",
      "The keyword argument 'parallel=True' was specified but no transformation for parallel execution was possible.\n",
      "\n",
      "To find out why, try turning on parallel diagnostics, see http://numba.pydata.org/numba-doc/latest/user/parallel.html#diagnostics for help.\n",
      "\u001b[1m\n",
      "File \"..\\..\\..\\..\\..\\ProgramData\\Anaconda3\\lib\\site-packages\\umap\\sparse.py\", line 176:\u001b[0m\n",
      "\u001b[1m    @numba.njit(parallel=True)\n",
      "\u001b[1m    def nn_descent(\n",
      "\u001b[0m    \u001b[1m^\u001b[0m\u001b[0m\n",
      "\u001b[0m\n",
      "  self.func_ir.loc))\n",
      "C:\\ProgramData\\Anaconda3\\lib\\site-packages\\umap\\spectral.py:229: UserWarning: Embedding a total of 108 separate connected components using meta-embedding (experimental)\n",
      "  n_components\n",
      "'c' argument looks like a single numeric RGB or RGBA sequence, which should be avoided as value-mapping will have precedence in case its length matches with 'x' & 'y'.  Please use a 2-D array with a single row if you really want to specify the same RGB or RGBA value for all points.\n"
     ]
    },
    {
     "data": {
      "image/png": "[encoded data removed]",
      "text/plain": [
       "<Figure size 432x288 with 1 Axes>"
      ]
     },
     "metadata": {},
     "output_type": "display_data"
    },
    {
     "data": {
      "text/plain": [
       "<matplotlib.axes._subplots.AxesSubplot at 0x2160f7e3108>"
      ]
     },
     "execution_count": 33,
     "metadata": {},
     "output_type": "execute_result"
    }
   ],
   "source": [
    "umap = UMAPVisualizer()\n",
    "umap.fit(features)\n",
    "umap.show()"
   ]
  },
  {
   "cell_type": "markdown",
   "metadata": {},
   "source": [
    "### mit Sample_25_percent.csv aber mit allen Bands"
   ]
  },
  {
   "cell_type": "code",
   "execution_count": 34,
   "metadata": {},
   "outputs": [],
   "source": [
    "df = pd.read_csv(\"../sample_25percent.csv\")"
   ]
  },
  {
   "cell_type": "code",
   "execution_count": 35,
   "metadata": {},
   "outputs": [
    {
     "data": {
      "text/html": [
       "<div>\n",
       "<style scoped>\n",
       "    .dataframe tbody tr th:only-of-type {\n",
       "        vertical-align: middle;\n",
       "    }\n",
       "\n",
       "    .dataframe tbody tr th {\n",
       "        vertical-align: top;\n",
       "    }\n",
       "\n",
       "    .dataframe thead th {\n",
       "        text-align: right;\n",
       "    }\n",
       "</style>\n",
       "<table border=\"1\" class=\"dataframe\">\n",
       "  <thead>\n",
       "    <tr style=\"text-align: right;\">\n",
       "      <th></th>\n",
       "      <th>Unnamed: 0</th>\n",
       "      <th>artist</th>\n",
       "      <th>song</th>\n",
       "      <th>text</th>\n",
       "      <th>number_of_tokens</th>\n",
       "    </tr>\n",
       "  </thead>\n",
       "  <tbody>\n",
       "    <tr>\n",
       "      <td>0</td>\n",
       "      <td>20468</td>\n",
       "      <td>Van Halen</td>\n",
       "      <td>Take Your Whiskey Home</td>\n",
       "      <td>well  my baby  she don't want me around.  she ...</td>\n",
       "      <td>1197</td>\n",
       "    </tr>\n",
       "    <tr>\n",
       "      <td>1</td>\n",
       "      <td>41605</td>\n",
       "      <td>Lil Wayne</td>\n",
       "      <td>Army Gunz</td>\n",
       "      <td>yeah yeah yeah (i got army gunz)  yeah yeah ...</td>\n",
       "      <td>2860</td>\n",
       "    </tr>\n",
       "  </tbody>\n",
       "</table>\n",
       "</div>"
      ],
      "text/plain": [
       "   Unnamed: 0     artist                    song  \\\n",
       "0       20468  Van Halen  Take Your Whiskey Home   \n",
       "1       41605  Lil Wayne               Army Gunz   \n",
       "\n",
       "                                                text  number_of_tokens  \n",
       "0  well  my baby  she don't want me around.  she ...              1197  \n",
       "1    yeah yeah yeah (i got army gunz)  yeah yeah ...              2860  "
      ]
     },
     "execution_count": 35,
     "metadata": {},
     "output_type": "execute_result"
    }
   ],
   "source": [
    "df.head(2)"
   ]
  },
  {
   "cell_type": "code",
   "execution_count": 36,
   "metadata": {},
   "outputs": [],
   "source": [
    "labels = LabelEncoder().fit_transform(df[\"text\"])\n",
    "labels = labels.reshape(labels.shape[0])\n",
    "features = TfidfVectorizer().fit_transform(df[\"artist\"])\n",
    "cluster = KMeans(n_clusters=8, random_state=None, n_jobs=None)\n",
    "model = cluster.fit(features)"
   ]
  },
  {
   "cell_type": "code",
   "execution_count": 37,
   "metadata": {
    "scrolled": true
   },
   "outputs": [
    {
     "name": "stderr",
     "output_type": "stream",
     "text": [
      "C:\\ProgramData\\Anaconda3\\lib\\site-packages\\numba\\compiler.py:602: NumbaPerformanceWarning: \u001b[1m\n",
      "The keyword argument 'parallel=True' was specified but no transformation for parallel execution was possible.\n",
      "\n",
      "To find out why, try turning on parallel diagnostics, see http://numba.pydata.org/numba-doc/latest/user/parallel.html#diagnostics for help.\n",
      "\u001b[1m\n",
      "File \"..\\..\\..\\..\\..\\ProgramData\\Anaconda3\\lib\\site-packages\\umap\\sparse.py\", line 176:\u001b[0m\n",
      "\u001b[1m    @numba.njit(parallel=True)\n",
      "\u001b[1m    def nn_descent(\n",
      "\u001b[0m    \u001b[1m^\u001b[0m\u001b[0m\n",
      "\u001b[0m\n",
      "  self.func_ir.loc))\n",
      "C:\\ProgramData\\Anaconda3\\lib\\site-packages\\umap\\spectral.py:229: UserWarning: Embedding a total of 54 separate connected components using meta-embedding (experimental)\n",
      "  n_components\n",
      "'c' argument looks like a single numeric RGB or RGBA sequence, which should be avoided as value-mapping will have precedence in case its length matches with 'x' & 'y'.  Please use a 2-D array with a single row if you really want to specify the same RGB or RGBA value for all points.\n"
     ]
    },
    {
     "data": {
      "image/png": "[encoded data removed]",
      "text/plain": [
       "<Figure size 432x288 with 1 Axes>"
      ]
     },
     "metadata": {},
     "output_type": "display_data"
    },
    {
     "data": {
      "text/plain": [
       "<matplotlib.axes._subplots.AxesSubplot at 0x21601660708>"
      ]
     },
     "execution_count": 37,
     "metadata": {},
     "output_type": "execute_result"
    }
   ],
   "source": [
    "umap = UMAPVisualizer()\n",
    "umap.fit(features)\n",
    "umap.show()"
   ]
  },
  {
   "cell_type": "code",
   "execution_count": null,
   "metadata": {},
   "outputs": [],
   "source": []
  }
 ],
 "metadata": {
  "kernelspec": {
   "display_name": "Python 3",
   "language": "python",
   "name": "python3"
  },
  "language_info": {
   "codemirror_mode": {
    "name": "ipython",
    "version": 3
   },
   "file_extension": ".py",
   "mimetype": "text/x-python",
   "name": "python",
   "nbconvert_exporter": "python",
   "pygments_lexer": "ipython3",
   "version": "3.7.4"
  }
 },
 "nbformat": 4,
 "nbformat_minor": 2
}
