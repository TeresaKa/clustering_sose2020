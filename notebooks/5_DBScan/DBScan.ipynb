{
 "cells": [
  {
   "cell_type": "markdown",
   "metadata": {},
   "source": [
    "# DB-Scan"
   ]
  },
  {
   "cell_type": "code",
   "execution_count": 2,
   "metadata": {},
   "outputs": [],
   "source": [
    "from sklearn.cluster import DBSCAN\n",
    "from sklearn.feature_extraction.text import TfidfVectorizer\n",
    "from sklearn.decomposition import PCA\n",
    "from sklearn.preprocessing import normalize\n",
    "#import numpy as np\n",
    "import pandas as pd\n",
    "import matplotlib.pyplot as plt"
   ]
  },
  {
   "cell_type": "markdown",
   "metadata": {},
   "source": [
    "Daten vorbereiten"
   ]
  },
  {
   "cell_type": "code",
   "execution_count": 4,
   "metadata": {},
   "outputs": [],
   "source": [
    "df = pd.read_csv(\"../../datasets/currently_dataset/song_decades_long.csv\")"
   ]
  },
  {
   "cell_type": "code",
   "execution_count": 5,
   "metadata": {},
   "outputs": [
    {
     "data": {
      "text/html": [
       "<div>\n",
       "<style scoped>\n",
       "    .dataframe tbody tr th:only-of-type {\n",
       "        vertical-align: middle;\n",
       "    }\n",
       "\n",
       "    .dataframe tbody tr th {\n",
       "        vertical-align: top;\n",
       "    }\n",
       "\n",
       "    .dataframe thead th {\n",
       "        text-align: right;\n",
       "    }\n",
       "</style>\n",
       "<table border=\"1\" class=\"dataframe\">\n",
       "  <thead>\n",
       "    <tr style=\"text-align: right;\">\n",
       "      <th></th>\n",
       "      <th>Unnamed: 0</th>\n",
       "      <th>artist</th>\n",
       "      <th>decades</th>\n",
       "      <th>text</th>\n",
       "      <th>stemmed_text</th>\n",
       "      <th>POS</th>\n",
       "      <th>Genre1</th>\n",
       "      <th>genre1</th>\n",
       "      <th>number_of_tokens</th>\n",
       "      <th>number_of_types</th>\n",
       "    </tr>\n",
       "  </thead>\n",
       "  <tbody>\n",
       "    <tr>\n",
       "      <th>0</th>\n",
       "      <td>0</td>\n",
       "      <td>\"Weird Al\" Yankovic</td>\n",
       "      <td>1980s</td>\n",
       "      <td>potato skins  potato cakes  hash browns  and i...</td>\n",
       "      <td>potato skin potato cake hash brown and instan...</td>\n",
       "      <td>french plain enough greasy sour lumpy tough en...</td>\n",
       "      <td>Rock</td>\n",
       "      <td>antiviral pop</td>\n",
       "      <td>12745.0</td>\n",
       "      <td>2264.0</td>\n",
       "    </tr>\n",
       "    <tr>\n",
       "      <th>1</th>\n",
       "      <td>37</td>\n",
       "      <td>\"Weird Al\" Yankovic</td>\n",
       "      <td>1990s</td>\n",
       "      <td>as i walk through the valley where i harvest m...</td>\n",
       "      <td>as i walk through the valley where i harvest ...</td>\n",
       "      <td>plain perfect fancy amish amish hard amish ami...</td>\n",
       "      <td>Rock</td>\n",
       "      <td>antiviral pop</td>\n",
       "      <td>10803.0</td>\n",
       "      <td>2317.0</td>\n",
       "    </tr>\n",
       "  </tbody>\n",
       "</table>\n",
       "</div>"
      ],
      "text/plain": [
       "   Unnamed: 0               artist decades  \\\n",
       "0           0  \"Weird Al\" Yankovic   1980s   \n",
       "1          37  \"Weird Al\" Yankovic   1990s   \n",
       "\n",
       "                                                text  \\\n",
       "0  potato skins  potato cakes  hash browns  and i...   \n",
       "1  as i walk through the valley where i harvest m...   \n",
       "\n",
       "                                        stemmed_text  \\\n",
       "0   potato skin potato cake hash brown and instan...   \n",
       "1   as i walk through the valley where i harvest ...   \n",
       "\n",
       "                                                 POS Genre1         genre1  \\\n",
       "0  french plain enough greasy sour lumpy tough en...   Rock  antiviral pop   \n",
       "1  plain perfect fancy amish amish hard amish ami...   Rock  antiviral pop   \n",
       "\n",
       "   number_of_tokens  number_of_types  \n",
       "0           12745.0           2264.0  \n",
       "1           10803.0           2317.0  "
      ]
     },
     "execution_count": 5,
     "metadata": {},
     "output_type": "execute_result"
    }
   ],
   "source": [
    "df.head(2)"
   ]
  },
  {
   "cell_type": "code",
   "execution_count": 6,
   "metadata": {},
   "outputs": [
    {
     "data": {
      "text/html": [
       "<div>\n",
       "<style scoped>\n",
       "    .dataframe tbody tr th:only-of-type {\n",
       "        vertical-align: middle;\n",
       "    }\n",
       "\n",
       "    .dataframe tbody tr th {\n",
       "        vertical-align: top;\n",
       "    }\n",
       "\n",
       "    .dataframe thead th {\n",
       "        text-align: right;\n",
       "    }\n",
       "</style>\n",
       "<table border=\"1\" class=\"dataframe\">\n",
       "  <thead>\n",
       "    <tr style=\"text-align: right;\">\n",
       "      <th></th>\n",
       "      <th>Unnamed: 0</th>\n",
       "      <th>artist</th>\n",
       "      <th>decades</th>\n",
       "      <th>text</th>\n",
       "      <th>stemmed_text</th>\n",
       "      <th>POS</th>\n",
       "      <th>Genre1</th>\n",
       "      <th>genre1</th>\n",
       "      <th>number_of_tokens</th>\n",
       "      <th>number_of_types</th>\n",
       "    </tr>\n",
       "  </thead>\n",
       "  <tbody>\n",
       "    <tr>\n",
       "      <th>59</th>\n",
       "      <td>786</td>\n",
       "      <td>Billie Holiday</td>\n",
       "      <td>1950s</td>\n",
       "      <td>heaven  i'm in heaven  and my heart beats so t...</td>\n",
       "      <td>heaven i 'm in heaven and my heart beat so th...</td>\n",
       "      <td>lucky much much much much heart happiness chee...</td>\n",
       "      <td>Jazz</td>\n",
       "      <td>adult standards</td>\n",
       "      <td>1074.0</td>\n",
       "      <td>266.0</td>\n",
       "    </tr>\n",
       "    <tr>\n",
       "      <th>200</th>\n",
       "      <td>2628</td>\n",
       "      <td>Ella Fitzgerald</td>\n",
       "      <td>1950s</td>\n",
       "      <td>if a custom tailored vet  asks me out for some...</td>\n",
       "      <td>if a custom tailor vet ask me out for someth ...</td>\n",
       "      <td>wet true true big true true keen true true tru...</td>\n",
       "      <td>Jazz</td>\n",
       "      <td>adult standards</td>\n",
       "      <td>2269.0</td>\n",
       "      <td>535.0</td>\n",
       "    </tr>\n",
       "  </tbody>\n",
       "</table>\n",
       "</div>"
      ],
      "text/plain": [
       "     Unnamed: 0           artist decades  \\\n",
       "59          786   Billie Holiday   1950s   \n",
       "200        2628  Ella Fitzgerald   1950s   \n",
       "\n",
       "                                                  text  \\\n",
       "59   heaven  i'm in heaven  and my heart beats so t...   \n",
       "200  if a custom tailored vet  asks me out for some...   \n",
       "\n",
       "                                          stemmed_text  \\\n",
       "59    heaven i 'm in heaven and my heart beat so th...   \n",
       "200   if a custom tailor vet ask me out for someth ...   \n",
       "\n",
       "                                                   POS Genre1  \\\n",
       "59   lucky much much much much heart happiness chee...   Jazz   \n",
       "200  wet true true big true true keen true true tru...   Jazz   \n",
       "\n",
       "              genre1  number_of_tokens  number_of_types  \n",
       "59   adult standards            1074.0            266.0  \n",
       "200  adult standards            2269.0            535.0  "
      ]
     },
     "execution_count": 6,
     "metadata": {},
     "output_type": "execute_result"
    }
   ],
   "source": [
    "data1 = df[df['Genre1'] == 'Jazz']\n",
    "data2 = df[df['Genre1'] == 'Hip Hop']\n",
    "data3 = df[df['Genre1'] == 'Electronic']\n",
    "data4 = df[df['Genre1'] == 'Folk, World, & Country']\n",
    "genres = pd.concat([data1, data2,data3, data4], axis = 0)\n",
    "genres.head(2)"
   ]
  },
  {
   "cell_type": "code",
   "execution_count": 7,
   "metadata": {},
   "outputs": [],
   "source": [
    "tf_idf_vectorizor = TfidfVectorizer()\n",
    "tf_idf = tf_idf_vectorizor.fit_transform(genres.POS)\n",
    "tf_idf_norm = normalize(tf_idf)\n",
    "tf_idf_array = tf_idf_norm.toarray()"
   ]
  },
  {
   "cell_type": "markdown",
   "metadata": {},
   "source": [
    "DB-Scan mit verschiedenen Parametern testen"
   ]
  },
  {
   "cell_type": "code",
   "execution_count": 8,
   "metadata": {},
   "outputs": [],
   "source": [
    "def dbscan(eps, min_points, metric, array): \n",
    "    clustering = DBSCAN(eps=eps, min_samples=min_points, metric=metric)\n",
    "    clusters = clustering.fit(array)\n",
    "    labels = clusters.labels_\n",
    "    n_clusters_ = len(set(labels)) - (1 if -1 in labels else 0)\n",
    "    n_noise_ = list(labels).count(-1)\n",
    "    return 'n_clusters_', n_clusters_, 'n_noise_', n_noise_"
   ]
  },
  {
   "cell_type": "code",
   "execution_count": 9,
   "metadata": {},
   "outputs": [
    {
     "name": "stdout",
     "output_type": "stream",
     "text": [
      "e:  0.05 m: 10 ('n_clusters_', 0, 'n_noise_', 209)\n",
      "e:  0.05 m: 20 ('n_clusters_', 0, 'n_noise_', 209)\n",
      "e:  0.05 m: 30 ('n_clusters_', 0, 'n_noise_', 209)\n",
      "e:  0.05 m: 100 ('n_clusters_', 0, 'n_noise_', 209)\n",
      "e:  0.1 m: 10 ('n_clusters_', 0, 'n_noise_', 209)\n",
      "e:  0.1 m: 20 ('n_clusters_', 0, 'n_noise_', 209)\n",
      "e:  0.1 m: 30 ('n_clusters_', 0, 'n_noise_', 209)\n",
      "e:  0.1 m: 100 ('n_clusters_', 0, 'n_noise_', 209)\n",
      "e:  0.5 m: 10 ('n_clusters_', 1, 'n_noise_', 188)\n",
      "e:  0.5 m: 20 ('n_clusters_', 1, 'n_noise_', 189)\n",
      "e:  0.5 m: 30 ('n_clusters_', 0, 'n_noise_', 209)\n",
      "e:  0.5 m: 100 ('n_clusters_', 0, 'n_noise_', 209)\n",
      "e:  0.9 m: 10 ('n_clusters_', 1, 'n_noise_', 0)\n",
      "e:  0.9 m: 20 ('n_clusters_', 1, 'n_noise_', 0)\n",
      "e:  0.9 m: 30 ('n_clusters_', 1, 'n_noise_', 0)\n",
      "e:  0.9 m: 100 ('n_clusters_', 1, 'n_noise_', 1)\n",
      "e:  1 m: 10 ('n_clusters_', 1, 'n_noise_', 0)\n",
      "e:  1 m: 20 ('n_clusters_', 1, 'n_noise_', 0)\n",
      "e:  1 m: 30 ('n_clusters_', 1, 'n_noise_', 0)\n",
      "e:  1 m: 100 ('n_clusters_', 1, 'n_noise_', 0)\n",
      "e:  1.5 m: 10 ('n_clusters_', 1, 'n_noise_', 0)\n",
      "e:  1.5 m: 20 ('n_clusters_', 1, 'n_noise_', 0)\n",
      "e:  1.5 m: 30 ('n_clusters_', 1, 'n_noise_', 0)\n",
      "e:  1.5 m: 100 ('n_clusters_', 1, 'n_noise_', 0)\n"
     ]
    }
   ],
   "source": [
    "eps = [0.05, 0.1, 0.5, 0.9, 1, 1.5]\n",
    "min_points = [10, 20, 30, 100]\n",
    "for e in eps:\n",
    "    for m in min_points:\n",
    "        print('e: ',e, 'm:',m ,dbscan(e, m, 'cosine', tf_idf_array))"
   ]
  },
  {
   "cell_type": "code",
   "execution_count": 10,
   "metadata": {},
   "outputs": [
    {
     "data": {
      "image/png": "[encoded data removed]",
      "text/plain": [
       "<Figure size 432x288 with 1 Axes>"
      ]
     },
     "metadata": {
      "needs_background": "light"
     },
     "output_type": "display_data"
    }
   ],
   "source": [
    "#bestes Ergebnis anwenden: eps=0.5, min_samples=20\n",
    "\n",
    "clustering = DBSCAN(eps=0.5, min_samples=20, metric='cosine')\n",
    "clusters = clustering.fit(tf_idf_array)\n",
    "labels = clusters.labels_\n",
    "\n",
    "sklearn_pca = PCA(n_components = 2)\n",
    "data = sklearn_pca.fit_transform(tf_idf_array)\n",
    "\n",
    "plt.scatter(data[:, 0], data[:, 1], c=clusters.labels_, cmap=\"viridis\")\n",
    "plt.xlabel(\"Feature 0\")\n",
    "plt.ylabel(\"Feature 1\")\n",
    "plt.savefig('dbscan_viergenres')"
   ]
  },
  {
   "cell_type": "markdown",
   "metadata": {},
   "source": [
    "https://scikit-learn.org/stable/auto_examples/cluster/plot_dbscan.html#sphx-glr-auto-examples-cluster-plot-dbscan-py"
   ]
  },
  {
   "cell_type": "code",
   "execution_count": 11,
   "metadata": {},
   "outputs": [],
   "source": [
    "import numpy as np\n",
    "\n",
    "from sklearn.preprocessing import LabelEncoder\n",
    "from sklearn.cluster import DBSCAN\n",
    "from sklearn import metrics\n",
    "from sklearn.datasets import make_blobs\n",
    "from sklearn.preprocessing import StandardScaler"
   ]
  },
  {
   "cell_type": "code",
   "execution_count": 35,
   "metadata": {},
   "outputs": [],
   "source": [
    "tf_idf_vectorizor = TfidfVectorizer()\n",
    "tf_idf = tf_idf_vectorizor.fit_transform(df.text)\n",
    "tf_idf_norm = normalize(tf_idf)\n",
    "X = tf_idf_norm.toarray()\n",
    "\n",
    "\n",
    "from sklearn import preprocessing\n",
    "le = preprocessing.LabelEncoder()\n",
    "le.fit(df.Genre1)\n",
    "labels_true = le.transform(df.Genre1)"
   ]
  },
  {
   "cell_type": "code",
   "execution_count": 40,
   "metadata": {},
   "outputs": [],
   "source": [
    "db = DBSCAN(eps=0.5, min_samples=20).fit(X)\n",
    "core_samples_mask = np.zeros_like(db.labels_, dtype=bool)\n",
    "core_samples_mask[db.core_sample_indices_] = True\n",
    "labels = db.labels_"
   ]
  },
  {
   "cell_type": "code",
   "execution_count": 41,
   "metadata": {},
   "outputs": [],
   "source": [
    "n_clusters_ = len(set(labels)) - (1 if -1 in labels else 0)\n",
    "n_noise_ = list(labels).count(-1)"
   ]
  },
  {
   "cell_type": "code",
   "execution_count": 43,
   "metadata": {},
   "outputs": [
    {
     "name": "stdout",
     "output_type": "stream",
     "text": [
      "Estimated number of clusters: 0\n",
      "Estimated number of noise points: 1038\n",
      "Homogeneity: -0.000\n",
      "Completeness: 1.000\n",
      "V-measure: -0.000\n",
      "Adjusted Rand Index: 0.000\n",
      "Adjusted Mutual Information: -0.000\n"
     ]
    }
   ],
   "source": [
    "print('Estimated number of clusters: %d' % n_clusters_)\n",
    "print('Estimated number of noise points: %d' % n_noise_)\n",
    "print(\"Homogeneity: %0.3f\" % metrics.homogeneity_score(labels_true, labels))\n",
    "print(\"Completeness: %0.3f\" % metrics.completeness_score(labels_true, labels))\n",
    "print(\"V-measure: %0.3f\" % metrics.v_measure_score(labels_true, labels))\n",
    "print(\"Adjusted Rand Index: %0.3f\"\n",
    "      % metrics.adjusted_rand_score(labels_true, labels))\n",
    "print(\"Adjusted Mutual Information: %0.3f\"\n",
    "      % metrics.adjusted_mutual_info_score(labels_true, labels))"
   ]
  },
  {
   "cell_type": "code",
   "execution_count": 44,
   "metadata": {},
   "outputs": [
    {
     "data": {
      "image/png": "[encoded data removed]",
      "text/plain": [
       "<Figure size 432x288 with 1 Axes>"
      ]
     },
     "metadata": {
      "needs_background": "light"
     },
     "output_type": "display_data"
    }
   ],
   "source": [
    "unique_labels = set(labels)\n",
    "colors = [plt.cm.Spectral(each)\n",
    "          for each in np.linspace(0, 1, len(unique_labels))]\n",
    "for k, col in zip(unique_labels, colors):\n",
    "    if k == -1:\n",
    "        # Black used for noise.\n",
    "        col = [0, 0, 0, 1]\n",
    "\n",
    "    class_member_mask = (labels == k)\n",
    "\n",
    "    xy = X[class_member_mask & core_samples_mask]\n",
    "    plt.plot(xy[:, 0], xy[:, 1], 'o', markerfacecolor=tuple(col),\n",
    "             markeredgecolor='k', markersize=14)\n",
    "\n",
    "    xy = X[class_member_mask & ~core_samples_mask]\n",
    "    plt.plot(xy[:, 0], xy[:, 1], 'o', markerfacecolor=tuple(col),\n",
    "             markeredgecolor='k', markersize=6)\n",
    "\n",
    "plt.title('Estimated number of clusters: %d' % n_clusters_)\n",
    "plt.show()"
   ]
  },
  {
   "cell_type": "markdown",
   "metadata": {},
   "source": [
    "https://towardsdatascience.com/dbscan-clustering-for-data-shapes-k-means-cant-handle-well-in-python-6be89af4e6ea"
   ]
  },
  {
   "cell_type": "code",
   "execution_count": 48,
   "metadata": {},
   "outputs": [],
   "source": [
    "labels_true = df.sample(frac=0.05)\n",
    "\n",
    "tf_idf_vectorizor = TfidfVectorizer()\n",
    "tf_idf = tf_idf_vectorizor.fit_transform(labels_true.text)\n",
    "tf_idf = tf_idf.todense()\n",
    "tf_idf_norm = normalize(tf_idf)\n",
    "#tf_idf_array = tf_idf_norm.toarray()\n",
    "\n",
    "#X_scaled = scaler.fit_transform(tf_idf_array)\n",
    "\n",
    "#tf_idf_array = tf_idf.todense() # <-- This line was needed to resolve the isse\n",
    "\n",
    "sklearn_pca = PCA(n_components = 2)\n",
    "data= sklearn_pca.fit_transform(tf_idf_norm)\n"
   ]
  },
  {
   "cell_type": "code",
   "execution_count": 49,
   "metadata": {},
   "outputs": [],
   "source": [
    "dbscan = DBSCAN(eps=0.2, min_samples = 5, metric=\"cosine\")\n",
    "clusters = dbscan.fit(data)\n",
    "\n",
    "cores = dbscan.components_"
   ]
  },
  {
   "cell_type": "code",
   "execution_count": 50,
   "metadata": {},
   "outputs": [
    {
     "data": {
      "text/plain": [
       "Text(0, 0.5, 'Feature 1')"
      ]
     },
     "execution_count": 50,
     "metadata": {},
     "output_type": "execute_result"
    },
    {
     "data": {
      "image/png": "[encoded data removed]",
      "text/plain": [
       "<Figure size 432x288 with 1 Axes>"
      ]
     },
     "metadata": {
      "needs_background": "light"
     },
     "output_type": "display_data"
    }
   ],
   "source": [
    "import matplotlib.pyplot as plt\n",
    "core_mask = np.zeros_like(dbscan.labels_, dtype=bool)\n",
    "\n",
    "plt.scatter(cores[:, 0], cores[:, 1], c=dbscan.labels_, marker='o', s=20, cmap=\"Paired\")\n",
    "plt.xlabel(\"Feature 0\")\n",
    "plt.ylabel(\"Feature 1\")"
   ]
  },
  {
   "cell_type": "code",
   "execution_count": 51,
   "metadata": {},
   "outputs": [],
   "source": [
    "def plot_dbscan(dbscan, X, size, show_xlabels=True, show_ylabels=True):\n",
    "    core_mask = np.zeros_like(dbscan.labels_, dtype=bool)\n",
    "    core_mask[dbscan.core_sample_indices_] = True\n",
    "    anomalies_mask = dbscan.labels_ == -1\n",
    "    non_core_mask = ~(core_mask | anomalies_mask)\n",
    "\n",
    "    cores = dbscan.components_\n",
    "    anomalies = X[anomalies_mask]\n",
    "    non_cores = X[non_core_mask]\n",
    "    \n",
    "    plt.scatter(cores[:, 0], cores[:, 1],\n",
    "                c=dbscan.labels_[core_mask], marker='o', s=size, cmap=\"Paired\")\n",
    "    plt.scatter(cores[:, 0], cores[:, 1], marker='*', s=20, c=dbscan.labels_[core_mask])\n",
    "    plt.scatter(anomalies[:, 0], anomalies[:, 1],\n",
    "                c=\"r\", marker=\"x\", s=100)\n",
    "    plt.scatter(non_cores[:, 0], non_cores[:, 1], c=dbscan.labels_[non_core_mask], marker=\".\")\n",
    "    if show_xlabels:\n",
    "        plt.xlabel(\"$x_1$\", fontsize=14)\n",
    "    else:\n",
    "        plt.tick_params(labelbottom=False)\n",
    "    if show_ylabels:\n",
    "        plt.ylabel(\"$x_2$\", fontsize=14, rotation=0)\n",
    "    else:\n",
    "        plt.tick_params(labelleft=False)\n",
    "    plt.title(\"eps={:.2f}, min_samples={}\".format(dbscan.eps, dbscan.min_samples), fontsize=14)"
   ]
  },
  {
   "cell_type": "code",
   "execution_count": 53,
   "metadata": {},
   "outputs": [
    {
     "data": {
      "image/png": "[encoded data removed]",
      "text/plain": [
       "<Figure size 432x288 with 1 Axes>"
      ]
     },
     "metadata": {
      "needs_background": "light"
     },
     "output_type": "display_data"
    }
   ],
   "source": [
    "plot_dbscan(dbscan, tf_idf_norm, size=20)"
   ]
  },
  {
   "cell_type": "code",
   "execution_count": null,
   "metadata": {},
   "outputs": [],
   "source": []
  }
 ],
 "metadata": {
  "kernelspec": {
   "display_name": "Python 3",
   "language": "python",
   "name": "python3"
  },
  "language_info": {
   "codemirror_mode": {
    "name": "ipython",
    "version": 3
   },
   "file_extension": ".py",
   "mimetype": "text/x-python",
   "name": "python",
   "nbconvert_exporter": "python",
   "pygments_lexer": "ipython3",
   "version": "3.7.4"
  }
 },
 "nbformat": 4,
 "nbformat_minor": 2
}
