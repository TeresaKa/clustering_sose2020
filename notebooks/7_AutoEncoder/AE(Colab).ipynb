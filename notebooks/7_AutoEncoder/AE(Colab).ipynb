{
 "cells": [
  {
   "cell_type": "markdown",
   "metadata": {
    "colab_type": "text",
    "id": "view-in-github"
   },
   "source": [
    "<a href=\"https://colab.research.google.com/github/TeresaKa/clustering_sose2020/blob/master/AutoEncoder(Colab).ipynb\" target=\"_parent\"><img src=\"https://colab.research.google.com/assets/colab-badge.svg\" alt=\"Open In Colab\"/></a>"
   ]
  },
  {
   "cell_type": "code",
   "execution_count": 1,
   "metadata": {
    "colab": {
     "base_uri": "https://localhost:8080/",
     "height": 35
    },
    "colab_type": "code",
    "id": "g_eY-RPxj5f5",
    "outputId": "e13b77ae-5c1a-454d-89b0-1e836ab48da2"
   },
   "outputs": [
    {
     "name": "stdout",
     "output_type": "stream",
     "text": [
      "Drive already mounted at /content/gdrive; to attempt to forcibly remount, call drive.mount(\"/content/gdrive\", force_remount=True).\n"
     ]
    }
   ],
   "source": [
    "from google.colab import drive\n",
    "drive.mount('/content/gdrive')"
   ]
  },
  {
   "cell_type": "code",
   "execution_count": 87,
   "metadata": {
    "colab": {},
    "colab_type": "code",
    "id": "S9dpHZtok8Ny"
   },
   "outputs": [],
   "source": [
    "import tensorflow as tf\n",
    "import matplotlib.pyplot as plt\n",
    "from mpl_toolkits.mplot3d import Axes3D\n",
    "from matplotlib import cm\n",
    "import numpy as np\n",
    "import pandas as pd\n",
    "from sklearn.preprocessing import LabelEncoder\n",
    "from keras.preprocessing.text import Tokenizer\n",
    "from keras.utils import to_categorical\n",
    "from keras.preprocessing import sequence\n",
    "import random\n",
    "from keras import models\n",
    "from keras import layers\n",
    "from keras.utils.np_utils import to_categorical\n",
    "\n",
    "from sklearn.feature_extraction.text import CountVectorizer, TfidfVectorizer\n",
    "from sklearn.preprocessing import OneHotEncoder\n",
    "from sklearn.model_selection import train_test_split\n",
    "\n",
    "import os\n",
    "os.environ[\"CUDA_VISIBLE_DEVICES\"] = \"3\"\n",
    "import unicodedata\n",
    "import string\n",
    "from tensorflow.keras.preprocessing.sequence import pad_sequences\n",
    "from tensorflow.keras.models import Sequential, Model\n",
    "from tensorflow.keras.layers import *\n",
    "from tensorflow.keras.optimizers import Nadam\n",
    "import numpy as np\n",
    "import tensorflow as tf\n",
    "from tensorflow.keras.callbacks import ModelCheckpoint, TensorBoard\n",
    "from tensorflow.keras.preprocessing.text import Tokenizer\n",
    "from tensorflow.keras.optimizers import SGD, Adam\n",
    "import warnings\n",
    "warnings.filterwarnings('ignore')"
   ]
  },
  {
   "cell_type": "code",
   "execution_count": 88,
   "metadata": {
    "colab": {
     "base_uri": "https://localhost:8080/",
     "height": 274
    },
    "colab_type": "code",
    "id": "2jGf5Ypdjv96",
    "outputId": "8e6a5e39-0126-4aaf-c812-6bb05f0e9921"
   },
   "outputs": [
    {
     "name": "stdout",
     "output_type": "stream",
     "text": [
      "[name: \"/device:CPU:0\"\n",
      "device_type: \"CPU\"\n",
      "memory_limit: 268435456\n",
      "locality {\n",
      "}\n",
      "incarnation: 16702868944531276871\n",
      ", name: \"/device:XLA_CPU:0\"\n",
      "device_type: \"XLA_CPU\"\n",
      "memory_limit: 17179869184\n",
      "locality {\n",
      "}\n",
      "incarnation: 14155751825071700783\n",
      "physical_device_desc: \"device: XLA_CPU device\"\n",
      "]\n"
     ]
    }
   ],
   "source": [
    "from tensorflow.python.client import device_lib\n",
    "print(device_lib.list_local_devices())"
   ]
  },
  {
   "cell_type": "code",
   "execution_count": 89,
   "metadata": {
    "colab": {},
    "colab_type": "code",
    "id": "pcaUjS67lBWz"
   },
   "outputs": [],
   "source": [
    "#df = pd.read_csv(\"/content/gdrive/Meine Ablage/Colab Notebooks/song_decades_long.csv\")\n",
    "df = pd.read_csv('/content/gdrive/My Drive/Colab Notebooks/song_decades_long.csv')"
   ]
  },
  {
   "cell_type": "code",
   "execution_count": 5,
   "metadata": {
    "colab": {
     "base_uri": "https://localhost:8080/",
     "height": 112
    },
    "colab_type": "code",
    "id": "fx2Btlr_laFQ",
    "outputId": "95987e0b-0fa6-43af-a0c4-eddea107fb5e"
   },
   "outputs": [
    {
     "data": {
      "text/html": [
       "<div>\n",
       "<style scoped>\n",
       "    .dataframe tbody tr th:only-of-type {\n",
       "        vertical-align: middle;\n",
       "    }\n",
       "\n",
       "    .dataframe tbody tr th {\n",
       "        vertical-align: top;\n",
       "    }\n",
       "\n",
       "    .dataframe thead th {\n",
       "        text-align: right;\n",
       "    }\n",
       "</style>\n",
       "<table border=\"1\" class=\"dataframe\">\n",
       "  <thead>\n",
       "    <tr style=\"text-align: right;\">\n",
       "      <th></th>\n",
       "      <th>Unnamed: 0</th>\n",
       "      <th>artist</th>\n",
       "      <th>decades</th>\n",
       "      <th>text</th>\n",
       "      <th>stemmed_text</th>\n",
       "      <th>POS</th>\n",
       "      <th>Genre1</th>\n",
       "      <th>genre1</th>\n",
       "      <th>number_of_tokens</th>\n",
       "      <th>number_of_types</th>\n",
       "    </tr>\n",
       "  </thead>\n",
       "  <tbody>\n",
       "    <tr>\n",
       "      <th>0</th>\n",
       "      <td>0</td>\n",
       "      <td>\"Weird Al\" Yankovic</td>\n",
       "      <td>1980s</td>\n",
       "      <td>potato skins  potato cakes  hash browns  and i...</td>\n",
       "      <td>potato skin potato cake hash brown and instan...</td>\n",
       "      <td>french plain enough greasy sour lumpy tough en...</td>\n",
       "      <td>Rock</td>\n",
       "      <td>antiviral pop</td>\n",
       "      <td>12745.0</td>\n",
       "      <td>2264.0</td>\n",
       "    </tr>\n",
       "    <tr>\n",
       "      <th>1</th>\n",
       "      <td>37</td>\n",
       "      <td>\"Weird Al\" Yankovic</td>\n",
       "      <td>1990s</td>\n",
       "      <td>as i walk through the valley where i harvest m...</td>\n",
       "      <td>as i walk through the valley where i harvest ...</td>\n",
       "      <td>plain perfect fancy amish amish hard amish ami...</td>\n",
       "      <td>Rock</td>\n",
       "      <td>antiviral pop</td>\n",
       "      <td>10803.0</td>\n",
       "      <td>2317.0</td>\n",
       "    </tr>\n",
       "  </tbody>\n",
       "</table>\n",
       "</div>"
      ],
      "text/plain": [
       "   Unnamed: 0               artist  ... number_of_tokens number_of_types\n",
       "0           0  \"Weird Al\" Yankovic  ...          12745.0          2264.0\n",
       "1          37  \"Weird Al\" Yankovic  ...          10803.0          2317.0\n",
       "\n",
       "[2 rows x 10 columns]"
      ]
     },
     "execution_count": 5,
     "metadata": {
      "tags": []
     },
     "output_type": "execute_result"
    }
   ],
   "source": [
    "df.head(2)"
   ]
  },
  {
   "cell_type": "markdown",
   "metadata": {
    "colab_type": "text",
    "id": "l-XhDGD24Tve"
   },
   "source": [
    "AutoEncoder nur mit den 4 besten Genre"
   ]
  },
  {
   "cell_type": "code",
   "execution_count": 20,
   "metadata": {
    "colab": {},
    "colab_type": "code",
    "id": "NpWvRTdNyiu-"
   },
   "outputs": [],
   "source": [
    "data1 = df[df['Genre1'] == 'Jazz']\n",
    "data2 = df[df['Genre1'] == 'Hip Hop']\n",
    "data3 = df[df['Genre1'] == 'Electronic']\n",
    "data4 = df[df['Genre1'] == 'Folk, World, & Country']"
   ]
  },
  {
   "cell_type": "code",
   "execution_count": 21,
   "metadata": {
    "colab": {},
    "colab_type": "code",
    "id": "Izy1Q7wwylH-"
   },
   "outputs": [],
   "source": [
    "data5 = pd.concat([data1, data2], axis = 0)"
   ]
  },
  {
   "cell_type": "code",
   "execution_count": 22,
   "metadata": {
    "colab": {
     "base_uri": "https://localhost:8080/",
     "height": 580
    },
    "colab_type": "code",
    "id": "Bsm3eDfLyt9Y",
    "outputId": "86103945-e605-4cbd-fef7-f497f3cc06bf"
   },
   "outputs": [
    {
     "data": {
      "text/html": [
       "<div>\n",
       "<style scoped>\n",
       "    .dataframe tbody tr th:only-of-type {\n",
       "        vertical-align: middle;\n",
       "    }\n",
       "\n",
       "    .dataframe tbody tr th {\n",
       "        vertical-align: top;\n",
       "    }\n",
       "\n",
       "    .dataframe thead th {\n",
       "        text-align: right;\n",
       "    }\n",
       "</style>\n",
       "<table border=\"1\" class=\"dataframe\">\n",
       "  <thead>\n",
       "    <tr style=\"text-align: right;\">\n",
       "      <th></th>\n",
       "      <th>Unnamed: 0</th>\n",
       "      <th>artist</th>\n",
       "      <th>decades</th>\n",
       "      <th>text</th>\n",
       "      <th>stemmed_text</th>\n",
       "      <th>POS</th>\n",
       "      <th>Genre1</th>\n",
       "      <th>genre1</th>\n",
       "      <th>number_of_tokens</th>\n",
       "      <th>number_of_types</th>\n",
       "    </tr>\n",
       "  </thead>\n",
       "  <tbody>\n",
       "    <tr>\n",
       "      <th>59</th>\n",
       "      <td>786</td>\n",
       "      <td>Billie Holiday</td>\n",
       "      <td>1950s</td>\n",
       "      <td>heaven  i'm in heaven  and my heart beats so t...</td>\n",
       "      <td>heaven i 'm in heaven and my heart beat so th...</td>\n",
       "      <td>lucky much much much much heart happiness chee...</td>\n",
       "      <td>Jazz</td>\n",
       "      <td>adult standards</td>\n",
       "      <td>1074.0</td>\n",
       "      <td>266.0</td>\n",
       "    </tr>\n",
       "    <tr>\n",
       "      <th>200</th>\n",
       "      <td>2628</td>\n",
       "      <td>Ella Fitzgerald</td>\n",
       "      <td>1950s</td>\n",
       "      <td>if a custom tailored vet  asks me out for some...</td>\n",
       "      <td>if a custom tailor vet ask me out for someth ...</td>\n",
       "      <td>wet true true big true true keen true true tru...</td>\n",
       "      <td>Jazz</td>\n",
       "      <td>adult standards</td>\n",
       "      <td>2269.0</td>\n",
       "      <td>535.0</td>\n",
       "    </tr>\n",
       "    <tr>\n",
       "      <th>278</th>\n",
       "      <td>3558</td>\n",
       "      <td>George Jones</td>\n",
       "      <td>1970s</td>\n",
       "      <td>well  i remember back in my younger days of hi...</td>\n",
       "      <td>well i rememb back in my younger day of high ...</td>\n",
       "      <td>high brave little wildest clean school basebal...</td>\n",
       "      <td>Jazz</td>\n",
       "      <td>country</td>\n",
       "      <td>1804.0</td>\n",
       "      <td>490.0</td>\n",
       "    </tr>\n",
       "    <tr>\n",
       "      <th>279</th>\n",
       "      <td>3565</td>\n",
       "      <td>George Jones</td>\n",
       "      <td>1980s</td>\n",
       "      <td>well i can see you're advertisin' cause you ke...</td>\n",
       "      <td>well i can see you 're advertisin ' caus you ...</td>\n",
       "      <td>hard hard big hard big hard hard double hard h...</td>\n",
       "      <td>Jazz</td>\n",
       "      <td>country</td>\n",
       "      <td>1001.0</td>\n",
       "      <td>318.0</td>\n",
       "    </tr>\n",
       "    <tr>\n",
       "      <th>325</th>\n",
       "      <td>4151</td>\n",
       "      <td>Harry Connick, Jr.</td>\n",
       "      <td>1990s</td>\n",
       "      <td>i used to be a booze hound  spent my time down...</td>\n",
       "      <td>i use to be a booz hound spent my time downto...</td>\n",
       "      <td>round enough fine sweet midtown loaded mighty ...</td>\n",
       "      <td>Jazz</td>\n",
       "      <td>adult standards</td>\n",
       "      <td>1284.0</td>\n",
       "      <td>477.0</td>\n",
       "    </tr>\n",
       "    <tr>\n",
       "      <th>...</th>\n",
       "      <td>...</td>\n",
       "      <td>...</td>\n",
       "      <td>...</td>\n",
       "      <td>...</td>\n",
       "      <td>...</td>\n",
       "      <td>...</td>\n",
       "      <td>...</td>\n",
       "      <td>...</td>\n",
       "      <td>...</td>\n",
       "      <td>...</td>\n",
       "    </tr>\n",
       "    <tr>\n",
       "      <th>1026</th>\n",
       "      <td>13170</td>\n",
       "      <td>Youngbloodz</td>\n",
       "      <td>2000s</td>\n",
       "      <td>and not once but twice am i back on line  rema...</td>\n",
       "      <td>and not onc but twice am i back on line remar...</td>\n",
       "      <td>nice last loose free good high last wee drunk ...</td>\n",
       "      <td>Hip Hop</td>\n",
       "      <td>atl hip hop</td>\n",
       "      <td>5893.0</td>\n",
       "      <td>1199.0</td>\n",
       "    </tr>\n",
       "    <tr>\n",
       "      <th>1027</th>\n",
       "      <td>13179</td>\n",
       "      <td>Yukmouth</td>\n",
       "      <td>2000s</td>\n",
       "      <td>[?]  get stupid go dumb  ya that's our click  ...</td>\n",
       "      <td>[ ? ] get stupid go dumb ya that 's our click...</td>\n",
       "      <td>stupid dumb side tense light bright red throo ...</td>\n",
       "      <td>Hip Hop</td>\n",
       "      <td>hyphy</td>\n",
       "      <td>2053.0</td>\n",
       "      <td>718.0</td>\n",
       "    </tr>\n",
       "    <tr>\n",
       "      <th>1028</th>\n",
       "      <td>13183</td>\n",
       "      <td>Yung Joc</td>\n",
       "      <td>2000s</td>\n",
       "      <td>shh [incomprehensible]  yo  why?all know what ...</td>\n",
       "      <td>shh [ incomprehens ] yo whi ? all know what i...</td>\n",
       "      <td>top bad nuff different hot real top nuff rich ...</td>\n",
       "      <td>Hip Hop</td>\n",
       "      <td>atl hip hop</td>\n",
       "      <td>4318.0</td>\n",
       "      <td>1194.0</td>\n",
       "    </tr>\n",
       "    <tr>\n",
       "      <th>1030</th>\n",
       "      <td>13214</td>\n",
       "      <td>Z-Ro</td>\n",
       "      <td>2000s</td>\n",
       "      <td>from the south  i got the diamonds in my mou...</td>\n",
       "      <td>from the south i got the diamond in my mouth ...</td>\n",
       "      <td>ready rear cold deep nice many enough many rea...</td>\n",
       "      <td>Hip Hop</td>\n",
       "      <td>chopped and screwed</td>\n",
       "      <td>10992.0</td>\n",
       "      <td>2210.0</td>\n",
       "    </tr>\n",
       "    <tr>\n",
       "      <th>1031</th>\n",
       "      <td>13233</td>\n",
       "      <td>Z-Ro</td>\n",
       "      <td>2010s</td>\n",
       "      <td>[z-ro]  time and time again  i try to cope wit...</td>\n",
       "      <td>[ z-ro ] time and time again i tri to cope wi...</td>\n",
       "      <td>poor confused survive bad desperate ready role...</td>\n",
       "      <td>Hip Hop</td>\n",
       "      <td>chopped and screwed</td>\n",
       "      <td>3260.0</td>\n",
       "      <td>955.0</td>\n",
       "    </tr>\n",
       "  </tbody>\n",
       "</table>\n",
       "<p>83 rows × 10 columns</p>\n",
       "</div>"
      ],
      "text/plain": [
       "      Unnamed: 0              artist  ... number_of_tokens number_of_types\n",
       "59           786      Billie Holiday  ...           1074.0           266.0\n",
       "200         2628     Ella Fitzgerald  ...           2269.0           535.0\n",
       "278         3558        George Jones  ...           1804.0           490.0\n",
       "279         3565        George Jones  ...           1001.0           318.0\n",
       "325         4151  Harry Connick, Jr.  ...           1284.0           477.0\n",
       "...          ...                 ...  ...              ...             ...\n",
       "1026       13170         Youngbloodz  ...           5893.0          1199.0\n",
       "1027       13179            Yukmouth  ...           2053.0           718.0\n",
       "1028       13183            Yung Joc  ...           4318.0          1194.0\n",
       "1030       13214                Z-Ro  ...          10992.0          2210.0\n",
       "1031       13233                Z-Ro  ...           3260.0           955.0\n",
       "\n",
       "[83 rows x 10 columns]"
      ]
     },
     "execution_count": 22,
     "metadata": {
      "tags": []
     },
     "output_type": "execute_result"
    }
   ],
   "source": [
    "data5.head(83)"
   ]
  },
  {
   "cell_type": "code",
   "execution_count": 23,
   "metadata": {
    "colab": {},
    "colab_type": "code",
    "id": "G98O53Vv3e-h"
   },
   "outputs": [],
   "source": [
    "data6 = pd.concat([data3, data4], axis = 0)"
   ]
  },
  {
   "cell_type": "code",
   "execution_count": 24,
   "metadata": {
    "colab": {
     "base_uri": "https://localhost:8080/",
     "height": 615
    },
    "colab_type": "code",
    "id": "DjXZO_Rh3qSV",
    "outputId": "0133420e-08eb-4daf-b1ca-4d2f4024aaaa"
   },
   "outputs": [
    {
     "data": {
      "text/html": [
       "<div>\n",
       "<style scoped>\n",
       "    .dataframe tbody tr th:only-of-type {\n",
       "        vertical-align: middle;\n",
       "    }\n",
       "\n",
       "    .dataframe tbody tr th {\n",
       "        vertical-align: top;\n",
       "    }\n",
       "\n",
       "    .dataframe thead th {\n",
       "        text-align: right;\n",
       "    }\n",
       "</style>\n",
       "<table border=\"1\" class=\"dataframe\">\n",
       "  <thead>\n",
       "    <tr style=\"text-align: right;\">\n",
       "      <th></th>\n",
       "      <th>Unnamed: 0</th>\n",
       "      <th>artist</th>\n",
       "      <th>decades</th>\n",
       "      <th>text</th>\n",
       "      <th>stemmed_text</th>\n",
       "      <th>POS</th>\n",
       "      <th>Genre1</th>\n",
       "      <th>genre1</th>\n",
       "      <th>number_of_tokens</th>\n",
       "      <th>number_of_types</th>\n",
       "    </tr>\n",
       "  </thead>\n",
       "  <tbody>\n",
       "    <tr>\n",
       "      <th>4</th>\n",
       "      <td>81</td>\n",
       "      <td>*NSYNC</td>\n",
       "      <td>1990s</td>\n",
       "      <td>here we go      here we go  one more time  eve...</td>\n",
       "      <td>here we go here we go one more time everybodi...</td>\n",
       "      <td>fine fine free right fine right fine free time...</td>\n",
       "      <td>Electronic</td>\n",
       "      <td>boy band</td>\n",
       "      <td>1786.0</td>\n",
       "      <td>345.0</td>\n",
       "    </tr>\n",
       "    <tr>\n",
       "      <th>5</th>\n",
       "      <td>87</td>\n",
       "      <td>*NSYNC</td>\n",
       "      <td>2000s</td>\n",
       "      <td>this is the time of year  that we learn to giv...</td>\n",
       "      <td>thi is the time of year that we learn to give...</td>\n",
       "      <td>true hard alone dark true true true time year ...</td>\n",
       "      <td>Electronic</td>\n",
       "      <td>boy band</td>\n",
       "      <td>3700.0</td>\n",
       "      <td>548.0</td>\n",
       "    </tr>\n",
       "    <tr>\n",
       "      <th>6</th>\n",
       "      <td>98</td>\n",
       "      <td>*NSYNC</td>\n",
       "      <td>2010s</td>\n",
       "      <td>girl don't say that it's over  'cause you are ...</td>\n",
       "      <td>girl do n't say that it 's over 'caus you are...</td>\n",
       "      <td>wrong lonely beautiful beautiful beautiful bea...</td>\n",
       "      <td>Electronic</td>\n",
       "      <td>boy band</td>\n",
       "      <td>1499.0</td>\n",
       "      <td>299.0</td>\n",
       "    </tr>\n",
       "    <tr>\n",
       "      <th>136</th>\n",
       "      <td>1799</td>\n",
       "      <td>Culture Club</td>\n",
       "      <td>1980s</td>\n",
       "      <td>do you deal in black money?  do you deal in bl...</td>\n",
       "      <td>do you deal in black money ? do you deal in b...</td>\n",
       "      <td>black black black black black black black blac...</td>\n",
       "      <td>Electronic</td>\n",
       "      <td>dance rock</td>\n",
       "      <td>2726.0</td>\n",
       "      <td>538.0</td>\n",
       "    </tr>\n",
       "    <tr>\n",
       "      <th>137</th>\n",
       "      <td>1811</td>\n",
       "      <td>Culture Club</td>\n",
       "      <td>2000s</td>\n",
       "      <td>sweet cunning eyes try to take from me  you're...</td>\n",
       "      <td>sweet cun eye tri to take from me you 're too...</td>\n",
       "      <td>sweet cunning young wise fatal cold cold right...</td>\n",
       "      <td>Electronic</td>\n",
       "      <td>dance rock</td>\n",
       "      <td>1740.0</td>\n",
       "      <td>324.0</td>\n",
       "    </tr>\n",
       "    <tr>\n",
       "      <th>...</th>\n",
       "      <td>...</td>\n",
       "      <td>...</td>\n",
       "      <td>...</td>\n",
       "      <td>...</td>\n",
       "      <td>...</td>\n",
       "      <td>...</td>\n",
       "      <td>...</td>\n",
       "      <td>...</td>\n",
       "      <td>...</td>\n",
       "      <td>...</td>\n",
       "    </tr>\n",
       "    <tr>\n",
       "      <th>284</th>\n",
       "      <td>3621</td>\n",
       "      <td>George Strait</td>\n",
       "      <td>1990s</td>\n",
       "      <td>well i woke up this mornin'  looked outdoors  ...</td>\n",
       "      <td>well i woke up thi mornin ' look outdoor i ca...</td>\n",
       "      <td>right little sorry little little right happy g...</td>\n",
       "      <td>Folk, World, &amp; Country</td>\n",
       "      <td>contemporary country</td>\n",
       "      <td>2044.0</td>\n",
       "      <td>511.0</td>\n",
       "    </tr>\n",
       "    <tr>\n",
       "      <th>285</th>\n",
       "      <td>3629</td>\n",
       "      <td>George Strait</td>\n",
       "      <td>2000s</td>\n",
       "      <td>baby  what do you say when love comes down on ...</td>\n",
       "      <td>babi what do you say when love come down on y...</td>\n",
       "      <td>golden wheatfield alive right beautiful alive ...</td>\n",
       "      <td>Folk, World, &amp; Country</td>\n",
       "      <td>contemporary country</td>\n",
       "      <td>3396.0</td>\n",
       "      <td>835.0</td>\n",
       "    </tr>\n",
       "    <tr>\n",
       "      <th>286</th>\n",
       "      <td>3642</td>\n",
       "      <td>George Strait</td>\n",
       "      <td>2010s</td>\n",
       "      <td>july moonlight shines  your pretty little head...</td>\n",
       "      <td>juli moonlight shine your pretti littl head o...</td>\n",
       "      <td>little asleep right right right head shoulder ...</td>\n",
       "      <td>Folk, World, &amp; Country</td>\n",
       "      <td>contemporary country</td>\n",
       "      <td>1741.0</td>\n",
       "      <td>485.0</td>\n",
       "    </tr>\n",
       "    <tr>\n",
       "      <th>289</th>\n",
       "      <td>3730</td>\n",
       "      <td>Glen Campbell</td>\n",
       "      <td>1960s</td>\n",
       "      <td>pity a man for he don't know  the trouble he'l...</td>\n",
       "      <td>piti a man for he do n't know the troubl he '...</td>\n",
       "      <td>strong nice little old bright ready good blind...</td>\n",
       "      <td>Folk, World, &amp; Country</td>\n",
       "      <td>adult standards</td>\n",
       "      <td>1438.0</td>\n",
       "      <td>469.0</td>\n",
       "    </tr>\n",
       "    <tr>\n",
       "      <th>293</th>\n",
       "      <td>3785</td>\n",
       "      <td>Gordon Lightfoot</td>\n",
       "      <td>1960s</td>\n",
       "      <td>well  it's four o'clock in the afternoon  and ...</td>\n",
       "      <td>well it 's four o'clock in the afternoon and ...</td>\n",
       "      <td>open many old tiny red open bright goodnight m...</td>\n",
       "      <td>Folk, World, &amp; Country</td>\n",
       "      <td>album rock</td>\n",
       "      <td>4782.0</td>\n",
       "      <td>1045.0</td>\n",
       "    </tr>\n",
       "  </tbody>\n",
       "</table>\n",
       "<p>83 rows × 10 columns</p>\n",
       "</div>"
      ],
      "text/plain": [
       "     Unnamed: 0            artist  ... number_of_tokens number_of_types\n",
       "4            81            *NSYNC  ...           1786.0           345.0\n",
       "5            87            *NSYNC  ...           3700.0           548.0\n",
       "6            98            *NSYNC  ...           1499.0           299.0\n",
       "136        1799      Culture Club  ...           2726.0           538.0\n",
       "137        1811      Culture Club  ...           1740.0           324.0\n",
       "..          ...               ...  ...              ...             ...\n",
       "284        3621     George Strait  ...           2044.0           511.0\n",
       "285        3629     George Strait  ...           3396.0           835.0\n",
       "286        3642     George Strait  ...           1741.0           485.0\n",
       "289        3730     Glen Campbell  ...           1438.0           469.0\n",
       "293        3785  Gordon Lightfoot  ...           4782.0          1045.0\n",
       "\n",
       "[83 rows x 10 columns]"
      ]
     },
     "execution_count": 24,
     "metadata": {
      "tags": []
     },
     "output_type": "execute_result"
    }
   ],
   "source": [
    "data6.head(83)"
   ]
  },
  {
   "cell_type": "code",
   "execution_count": 25,
   "metadata": {
    "colab": {},
    "colab_type": "code",
    "id": "zuB7s9D03xgh"
   },
   "outputs": [],
   "source": [
    "data = pd.concat([data5, data6], axis = 0)"
   ]
  },
  {
   "cell_type": "code",
   "execution_count": 26,
   "metadata": {
    "colab": {
     "base_uri": "https://localhost:8080/",
     "height": 615
    },
    "colab_type": "code",
    "id": "LEetGpMP37v7",
    "outputId": "21c34421-efd8-4a84-efcc-56fb02fc64df"
   },
   "outputs": [
    {
     "data": {
      "text/html": [
       "<div>\n",
       "<style scoped>\n",
       "    .dataframe tbody tr th:only-of-type {\n",
       "        vertical-align: middle;\n",
       "    }\n",
       "\n",
       "    .dataframe tbody tr th {\n",
       "        vertical-align: top;\n",
       "    }\n",
       "\n",
       "    .dataframe thead th {\n",
       "        text-align: right;\n",
       "    }\n",
       "</style>\n",
       "<table border=\"1\" class=\"dataframe\">\n",
       "  <thead>\n",
       "    <tr style=\"text-align: right;\">\n",
       "      <th></th>\n",
       "      <th>Unnamed: 0</th>\n",
       "      <th>artist</th>\n",
       "      <th>decades</th>\n",
       "      <th>text</th>\n",
       "      <th>stemmed_text</th>\n",
       "      <th>POS</th>\n",
       "      <th>Genre1</th>\n",
       "      <th>genre1</th>\n",
       "      <th>number_of_tokens</th>\n",
       "      <th>number_of_types</th>\n",
       "    </tr>\n",
       "  </thead>\n",
       "  <tbody>\n",
       "    <tr>\n",
       "      <th>59</th>\n",
       "      <td>786</td>\n",
       "      <td>Billie Holiday</td>\n",
       "      <td>1950s</td>\n",
       "      <td>heaven  i'm in heaven  and my heart beats so t...</td>\n",
       "      <td>heaven i 'm in heaven and my heart beat so th...</td>\n",
       "      <td>lucky much much much much heart happiness chee...</td>\n",
       "      <td>Jazz</td>\n",
       "      <td>adult standards</td>\n",
       "      <td>1074.0</td>\n",
       "      <td>266.0</td>\n",
       "    </tr>\n",
       "    <tr>\n",
       "      <th>200</th>\n",
       "      <td>2628</td>\n",
       "      <td>Ella Fitzgerald</td>\n",
       "      <td>1950s</td>\n",
       "      <td>if a custom tailored vet  asks me out for some...</td>\n",
       "      <td>if a custom tailor vet ask me out for someth ...</td>\n",
       "      <td>wet true true big true true keen true true tru...</td>\n",
       "      <td>Jazz</td>\n",
       "      <td>adult standards</td>\n",
       "      <td>2269.0</td>\n",
       "      <td>535.0</td>\n",
       "    </tr>\n",
       "    <tr>\n",
       "      <th>278</th>\n",
       "      <td>3558</td>\n",
       "      <td>George Jones</td>\n",
       "      <td>1970s</td>\n",
       "      <td>well  i remember back in my younger days of hi...</td>\n",
       "      <td>well i rememb back in my younger day of high ...</td>\n",
       "      <td>high brave little wildest clean school basebal...</td>\n",
       "      <td>Jazz</td>\n",
       "      <td>country</td>\n",
       "      <td>1804.0</td>\n",
       "      <td>490.0</td>\n",
       "    </tr>\n",
       "    <tr>\n",
       "      <th>279</th>\n",
       "      <td>3565</td>\n",
       "      <td>George Jones</td>\n",
       "      <td>1980s</td>\n",
       "      <td>well i can see you're advertisin' cause you ke...</td>\n",
       "      <td>well i can see you 're advertisin ' caus you ...</td>\n",
       "      <td>hard hard big hard big hard hard double hard h...</td>\n",
       "      <td>Jazz</td>\n",
       "      <td>country</td>\n",
       "      <td>1001.0</td>\n",
       "      <td>318.0</td>\n",
       "    </tr>\n",
       "    <tr>\n",
       "      <th>325</th>\n",
       "      <td>4151</td>\n",
       "      <td>Harry Connick, Jr.</td>\n",
       "      <td>1990s</td>\n",
       "      <td>i used to be a booze hound  spent my time down...</td>\n",
       "      <td>i use to be a booz hound spent my time downto...</td>\n",
       "      <td>round enough fine sweet midtown loaded mighty ...</td>\n",
       "      <td>Jazz</td>\n",
       "      <td>adult standards</td>\n",
       "      <td>1284.0</td>\n",
       "      <td>477.0</td>\n",
       "    </tr>\n",
       "    <tr>\n",
       "      <th>...</th>\n",
       "      <td>...</td>\n",
       "      <td>...</td>\n",
       "      <td>...</td>\n",
       "      <td>...</td>\n",
       "      <td>...</td>\n",
       "      <td>...</td>\n",
       "      <td>...</td>\n",
       "      <td>...</td>\n",
       "      <td>...</td>\n",
       "      <td>...</td>\n",
       "    </tr>\n",
       "    <tr>\n",
       "      <th>284</th>\n",
       "      <td>3621</td>\n",
       "      <td>George Strait</td>\n",
       "      <td>1990s</td>\n",
       "      <td>well i woke up this mornin'  looked outdoors  ...</td>\n",
       "      <td>well i woke up thi mornin ' look outdoor i ca...</td>\n",
       "      <td>right little sorry little little right happy g...</td>\n",
       "      <td>Folk, World, &amp; Country</td>\n",
       "      <td>contemporary country</td>\n",
       "      <td>2044.0</td>\n",
       "      <td>511.0</td>\n",
       "    </tr>\n",
       "    <tr>\n",
       "      <th>285</th>\n",
       "      <td>3629</td>\n",
       "      <td>George Strait</td>\n",
       "      <td>2000s</td>\n",
       "      <td>baby  what do you say when love comes down on ...</td>\n",
       "      <td>babi what do you say when love come down on y...</td>\n",
       "      <td>golden wheatfield alive right beautiful alive ...</td>\n",
       "      <td>Folk, World, &amp; Country</td>\n",
       "      <td>contemporary country</td>\n",
       "      <td>3396.0</td>\n",
       "      <td>835.0</td>\n",
       "    </tr>\n",
       "    <tr>\n",
       "      <th>286</th>\n",
       "      <td>3642</td>\n",
       "      <td>George Strait</td>\n",
       "      <td>2010s</td>\n",
       "      <td>july moonlight shines  your pretty little head...</td>\n",
       "      <td>juli moonlight shine your pretti littl head o...</td>\n",
       "      <td>little asleep right right right head shoulder ...</td>\n",
       "      <td>Folk, World, &amp; Country</td>\n",
       "      <td>contemporary country</td>\n",
       "      <td>1741.0</td>\n",
       "      <td>485.0</td>\n",
       "    </tr>\n",
       "    <tr>\n",
       "      <th>289</th>\n",
       "      <td>3730</td>\n",
       "      <td>Glen Campbell</td>\n",
       "      <td>1960s</td>\n",
       "      <td>pity a man for he don't know  the trouble he'l...</td>\n",
       "      <td>piti a man for he do n't know the troubl he '...</td>\n",
       "      <td>strong nice little old bright ready good blind...</td>\n",
       "      <td>Folk, World, &amp; Country</td>\n",
       "      <td>adult standards</td>\n",
       "      <td>1438.0</td>\n",
       "      <td>469.0</td>\n",
       "    </tr>\n",
       "    <tr>\n",
       "      <th>293</th>\n",
       "      <td>3785</td>\n",
       "      <td>Gordon Lightfoot</td>\n",
       "      <td>1960s</td>\n",
       "      <td>well  it's four o'clock in the afternoon  and ...</td>\n",
       "      <td>well it 's four o'clock in the afternoon and ...</td>\n",
       "      <td>open many old tiny red open bright goodnight m...</td>\n",
       "      <td>Folk, World, &amp; Country</td>\n",
       "      <td>album rock</td>\n",
       "      <td>4782.0</td>\n",
       "      <td>1045.0</td>\n",
       "    </tr>\n",
       "  </tbody>\n",
       "</table>\n",
       "<p>166 rows × 10 columns</p>\n",
       "</div>"
      ],
      "text/plain": [
       "     Unnamed: 0              artist  ... number_of_tokens number_of_types\n",
       "59          786      Billie Holiday  ...           1074.0           266.0\n",
       "200        2628     Ella Fitzgerald  ...           2269.0           535.0\n",
       "278        3558        George Jones  ...           1804.0           490.0\n",
       "279        3565        George Jones  ...           1001.0           318.0\n",
       "325        4151  Harry Connick, Jr.  ...           1284.0           477.0\n",
       "..          ...                 ...  ...              ...             ...\n",
       "284        3621       George Strait  ...           2044.0           511.0\n",
       "285        3629       George Strait  ...           3396.0           835.0\n",
       "286        3642       George Strait  ...           1741.0           485.0\n",
       "289        3730       Glen Campbell  ...           1438.0           469.0\n",
       "293        3785    Gordon Lightfoot  ...           4782.0          1045.0\n",
       "\n",
       "[166 rows x 10 columns]"
      ]
     },
     "execution_count": 26,
     "metadata": {
      "tags": []
     },
     "output_type": "execute_result"
    }
   ],
   "source": [
    "data.head(166)"
   ]
  },
  {
   "cell_type": "code",
   "execution_count": 27,
   "metadata": {
    "colab": {
     "base_uri": "https://localhost:8080/",
     "height": 35
    },
    "colab_type": "code",
    "id": "PVJNFgCp4gN0",
    "outputId": "05855f78-6ef1-4d66-ef6f-bda55e436db4"
   },
   "outputs": [
    {
     "data": {
      "text/plain": [
       "(209, 10)"
      ]
     },
     "execution_count": 27,
     "metadata": {
      "tags": []
     },
     "output_type": "execute_result"
    }
   ],
   "source": [
    "data.shape"
   ]
  },
  {
   "cell_type": "code",
   "execution_count": 28,
   "metadata": {
    "colab": {
     "base_uri": "https://localhost:8080/",
     "height": 237
    },
    "colab_type": "code",
    "id": "uF7z1g8C4tBP",
    "outputId": "8c81a257-f17b-4ae2-ae0a-52347fc322f3"
   },
   "outputs": [
    {
     "data": {
      "text/plain": [
       "59      heaven  i'm in heaven  and my heart beats so t...\n",
       "200     if a custom tailored vet  asks me out for some...\n",
       "278     well  i remember back in my younger days of hi...\n",
       "279     well i can see you're advertisin' cause you ke...\n",
       "325     i used to be a booze hound  spent my time down...\n",
       "                              ...                        \n",
       "911     among the strangest things i ever heard  was w...\n",
       "912     well  billy went down to the battleground  to ...\n",
       "954     they used to be rough and rowdy  and honky-ton...\n",
       "1033    you know i like my chicken fried  cold beer on...\n",
       "1034    we never spoke a word  but every thought she h...\n",
       "Name: text, Length: 209, dtype: object"
      ]
     },
     "execution_count": 28,
     "metadata": {
      "tags": []
     },
     "output_type": "execute_result"
    }
   ],
   "source": [
    "data.text"
   ]
  },
  {
   "cell_type": "code",
   "execution_count": 29,
   "metadata": {
    "colab": {},
    "colab_type": "code",
    "id": "7MeQ6SLz4xw_"
   },
   "outputs": [],
   "source": [
    "texts = data.text.to_list()"
   ]
  },
  {
   "cell_type": "code",
   "execution_count": 52,
   "metadata": {
    "colab": {},
    "colab_type": "code",
    "id": "xkqLu8R447y6"
   },
   "outputs": [],
   "source": [
    "num_words = 1000\n",
    "tk = Tokenizer(num_words=num_words, char_level=False, oov_token='UNK')\n",
    "\n",
    "tk.fit_on_texts(texts)\n",
    "sequences = tk.texts_to_sequences(texts)\n",
    "\n",
    "char_dict = {char: index + 1 for index, char in enumerate(tk.word_index)}\n",
    "char_dict[tk.oov_token] = max(char_dict.values()) + 1\n",
    "tk.word_index = char_dict\n",
    "n_letters = len(tk.word_index) + 1"
   ]
  },
  {
   "cell_type": "code",
   "execution_count": 53,
   "metadata": {
    "colab": {},
    "colab_type": "code",
    "id": "l3C7G3MH4-LU"
   },
   "outputs": [],
   "source": [
    "maxlen = 1500\n",
    "\n",
    "sequences = pad_sequences(sequences=sequences, maxlen=maxlen, padding='post')"
   ]
  },
  {
   "cell_type": "code",
   "execution_count": 54,
   "metadata": {
    "colab": {},
    "colab_type": "code",
    "id": "UkE_sh5Z5CDj"
   },
   "outputs": [],
   "source": [
    "X = []\n",
    "\n",
    "for entry in sequences:\n",
    "    oh_entry = []\n",
    "    for token_index in entry:\n",
    "        oh = np.zeros(num_words, dtype='int8')\n",
    "        oh[token_index] = 1\n",
    "        oh_entry.append(oh)\n",
    "    X.append(oh_entry)\n",
    "X = np.asarray(X, dtype='int8')"
   ]
  },
  {
   "cell_type": "code",
   "execution_count": 55,
   "metadata": {
    "colab": {
     "base_uri": "https://localhost:8080/",
     "height": 35
    },
    "colab_type": "code",
    "id": "mdFAUefX5GY9",
    "outputId": "da30422c-f5b6-433d-a964-5c856b60b945"
   },
   "outputs": [
    {
     "data": {
      "text/plain": [
       "((209, 1500, 1000), 313500000000000.0)"
      ]
     },
     "execution_count": 55,
     "metadata": {
      "tags": []
     },
     "output_type": "execute_result"
    }
   ],
   "source": [
    "X.shape, X.nbytes * 1e6"
   ]
  },
  {
   "cell_type": "code",
   "execution_count": 56,
   "metadata": {
    "colab": {},
    "colab_type": "code",
    "id": "M3HmruNk5K9R"
   },
   "outputs": [],
   "source": [
    "def rounded_accuracy(y_true, y_pred):\n",
    "    return keras.metrics.binary_accuracy(tf.round(y_true), tf.round(y_pred))"
   ]
  },
  {
   "cell_type": "code",
   "execution_count": 83,
   "metadata": {
    "colab": {
     "base_uri": "https://localhost:8080/",
     "height": 237
    },
    "colab_type": "code",
    "id": "LCQ_J-fU5QWc",
    "outputId": "f449581d-c974-42b2-a365-e5cc929c61cb"
   },
   "outputs": [
    {
     "name": "stdout",
     "output_type": "stream",
     "text": [
      "Model: \"sequential_30\"\n",
      "_________________________________________________________________\n",
      "Layer (type)                 Output Shape              Param #   \n",
      "=================================================================\n",
      "sequential_28 (Sequential)   (None, 32)                109504    \n",
      "_________________________________________________________________\n",
      "sequential_29 (Sequential)   (None, 1500)              8353      \n",
      "=================================================================\n",
      "Total params: 117,857\n",
      "Trainable params: 117,857\n",
      "Non-trainable params: 0\n",
      "_________________________________________________________________\n"
     ]
    }
   ],
   "source": [
    "import keras \n",
    "\n",
    "recurrent_encoder = keras.models.Sequential([\n",
    "    keras.layers.Embedding(num_words+1, 64, input_length=maxlen),\n",
    "    keras.layers.LSTM(64, return_sequences=True),\n",
    "    keras.layers.LSTM(32)\n",
    "])\n",
    "recurrent_decoder = keras.models.Sequential([\n",
    "    keras.layers.RepeatVector(maxlen, input_shape=[32]),\n",
    "    keras.layers.LSTM(32, return_sequences=True),\n",
    "    keras.layers.TimeDistributed(keras.layers.Dense(1, activation=\"sigmoid\")),\n",
    "    keras.layers.Flatten(),\n",
    "    \n",
    "])\n",
    "recurrent_ae = keras.models.Sequential([recurrent_encoder, recurrent_decoder])\n",
    "recurrent_ae.compile(loss=\"binary_crossentropy\", optimizer=keras.optimizers.RMSprop(learning_rate=1),\n",
    "                     metrics=[rounded_accuracy])\n",
    "recurrent_ae.summary()"
   ]
  },
  {
   "cell_type": "code",
   "execution_count": 84,
   "metadata": {
    "colab": {
     "base_uri": "https://localhost:8080/",
     "height": 384
    },
    "colab_type": "code",
    "id": "bximAmP35WDw",
    "outputId": "e51f594f-1d2d-4ea9-e09d-0289ef2f3bcd"
   },
   "outputs": [
    {
     "name": "stdout",
     "output_type": "stream",
     "text": [
      "Epoch 1/10\n",
      "209/209 [==============================] - 21s 99ms/step - loss: -1488.5872 - rounded_accuracy: 0.1522\n",
      "Epoch 2/10\n",
      "209/209 [==============================] - 20s 96ms/step - loss: -1745.9333 - rounded_accuracy: 0.1618\n",
      "Epoch 3/10\n",
      "209/209 [==============================] - 20s 96ms/step - loss: -1745.9334 - rounded_accuracy: 0.1618\n",
      "Epoch 4/10\n",
      "209/209 [==============================] - 21s 99ms/step - loss: -1745.9334 - rounded_accuracy: 0.1618\n",
      "Epoch 5/10\n",
      "209/209 [==============================] - 21s 99ms/step - loss: -1745.9333 - rounded_accuracy: 0.1618\n",
      "Epoch 6/10\n",
      "209/209 [==============================] - 21s 99ms/step - loss: -1745.9333 - rounded_accuracy: 0.1618\n",
      "Epoch 7/10\n",
      "209/209 [==============================] - 21s 99ms/step - loss: -1745.9334 - rounded_accuracy: 0.1618\n",
      "Epoch 8/10\n",
      "209/209 [==============================] - 20s 98ms/step - loss: -1745.9333 - rounded_accuracy: 0.1618\n",
      "Epoch 9/10\n",
      "209/209 [==============================] - 20s 97ms/step - loss: -1745.9333 - rounded_accuracy: 0.1618\n",
      "Epoch 10/10\n",
      "209/209 [==============================] - 20s 98ms/step - loss: -1745.9333 - rounded_accuracy: 0.1618\n"
     ]
    }
   ],
   "source": [
    "history = recurrent_ae.fit(sequences, sequences, epochs=10)"
   ]
  },
  {
   "cell_type": "code",
   "execution_count": 85,
   "metadata": {
    "colab": {
     "base_uri": "https://localhost:8080/",
     "height": 35
    },
    "colab_type": "code",
    "id": "TrpfMuNh5rat",
    "outputId": "a7a9149c-341d-41a5-9557-92734002c067"
   },
   "outputs": [
    {
     "name": "stdout",
     "output_type": "stream",
     "text": [
      "(209, 32)\n"
     ]
    }
   ],
   "source": [
    "embeddings = recurrent_encoder.predict(sequences)\n",
    "print(embeddings.shape)\n",
    "with open('autoencoder_embeddings.npy', 'wb') as f:\n",
    "    np.save(f, embeddings)"
   ]
  },
  {
   "cell_type": "code",
   "execution_count": 86,
   "metadata": {
    "colab": {
     "base_uri": "https://localhost:8080/",
     "height": 610
    },
    "colab_type": "code",
    "id": "gZxG3yov5vSn",
    "outputId": "5d1a1f51-5fd3-43db-e64f-51e84631d884"
   },
   "outputs": [
    {
     "data": {
      "text/plain": [
       "<matplotlib.axes._subplots.AxesSubplot at 0x7f14dd5d3c18>"
      ]
     },
     "execution_count": 86,
     "metadata": {
      "tags": []
     },
     "output_type": "execute_result"
    },
    {
     "data": {
      "image/png": "[encoded data removed]",
      "text/plain": [
       "<Figure size 1080x720 with 1 Axes>"
      ]
     },
     "metadata": {
      "needs_background": "light",
      "tags": []
     },
     "output_type": "display_data"
    }
   ],
   "source": [
    "from umap import UMAP\n",
    "from sklearn.manifold import TSNE\n",
    "from sklearn.decomposition import PCA\n",
    "import seaborn as sns\n",
    "\n",
    "plt.figure(figsize=(15,10))\n",
    "r = UMAP(n_components=2).fit_transform(embeddings)\n",
    "sns.scatterplot(x=r[:,0], y=r[:,1], hue=data.Genre1)"
   ]
  },
  {
   "cell_type": "markdown",
   "metadata": {
    "colab_type": "text",
    "id": "hBUxBxMK4b8S"
   },
   "source": [
    "AutoEncoder mit dem ganzen Datensatz"
   ]
  },
  {
   "cell_type": "code",
   "execution_count": 5,
   "metadata": {
    "colab": {
     "base_uri": "https://localhost:8080/",
     "height": 237
    },
    "colab_type": "code",
    "id": "7iimsJc7ngmv",
    "outputId": "27024e67-b2b0-4893-8743-0bef0efd1d80"
   },
   "outputs": [
    {
     "data": {
      "text/plain": [
       "0       potato skins  potato cakes  hash browns  and i...\n",
       "1       as i walk through the valley where i harvest m...\n",
       "2       jillian was her name  she was sweeter than asp...\n",
       "3       my mama told me when i was hatched  act like a...\n",
       "4       here we go      here we go  one more time  eve...\n",
       "                              ...                        \n",
       "1033    you know i like my chicken fried  cold beer on...\n",
       "1034    we never spoke a word  but every thought she h...\n",
       "1035    well you're walking on the moon  but there's n...\n",
       "1036    i lie awake  i've gone to ground  i'm watching...\n",
       "1037    everybody's worried about time  but i just kee...\n",
       "Name: text, Length: 1038, dtype: object"
      ]
     },
     "execution_count": 5,
     "metadata": {
      "tags": []
     },
     "output_type": "execute_result"
    }
   ],
   "source": [
    "df.text"
   ]
  },
  {
   "cell_type": "code",
   "execution_count": 18,
   "metadata": {
    "colab": {},
    "colab_type": "code",
    "id": "U7MFmo1M3MIT"
   },
   "outputs": [],
   "source": [
    "texts = df.text.to_list()"
   ]
  },
  {
   "cell_type": "code",
   "execution_count": 19,
   "metadata": {
    "colab": {},
    "colab_type": "code",
    "id": "5bERmPAt3cdl"
   },
   "outputs": [],
   "source": [
    "num_words = 1000\n",
    "tk = Tokenizer(num_words=num_words, char_level=False, oov_token='UNK')\n",
    "\n",
    "tk.fit_on_texts(texts)\n",
    "sequences = tk.texts_to_sequences(texts)\n",
    "\n",
    "char_dict = {char: index + 1 for index, char in enumerate(tk.word_index)}\n",
    "char_dict[tk.oov_token] = max(char_dict.values()) + 1\n",
    "tk.word_index = char_dict\n",
    "n_letters = len(tk.word_index) + 1"
   ]
  },
  {
   "cell_type": "code",
   "execution_count": 20,
   "metadata": {
    "colab": {},
    "colab_type": "code",
    "id": "FwnsyWCt43m2"
   },
   "outputs": [],
   "source": [
    "maxlen = 500\n",
    "\n",
    "sequences = pad_sequences(sequences=sequences, maxlen=maxlen, padding='post')"
   ]
  },
  {
   "cell_type": "code",
   "execution_count": 21,
   "metadata": {
    "colab": {},
    "colab_type": "code",
    "id": "KPkjLZ8648wQ"
   },
   "outputs": [],
   "source": [
    "X = []\n",
    "\n",
    "for entry in sequences:\n",
    "    oh_entry = []\n",
    "    for token_index in entry:\n",
    "        oh = np.zeros(num_words, dtype='int8')\n",
    "        oh[token_index] = 1\n",
    "        oh_entry.append(oh)\n",
    "    X.append(oh_entry)\n",
    "X = np.asarray(X, dtype='int8')\n",
    "\n"
   ]
  },
  {
   "cell_type": "code",
   "execution_count": 22,
   "metadata": {
    "colab": {
     "base_uri": "https://localhost:8080/",
     "height": 35
    },
    "colab_type": "code",
    "id": "X-PXsGI95A9v",
    "outputId": "b1f98f38-3063-449c-ddef-92a044295b23"
   },
   "outputs": [
    {
     "data": {
      "text/plain": [
       "((1038, 500, 1000), 519000000000000.0)"
      ]
     },
     "execution_count": 22,
     "metadata": {
      "tags": []
     },
     "output_type": "execute_result"
    }
   ],
   "source": [
    "X.shape, X.nbytes * 1e6"
   ]
  },
  {
   "cell_type": "code",
   "execution_count": 24,
   "metadata": {
    "colab": {},
    "colab_type": "code",
    "id": "pxqWjI7ah-a0"
   },
   "outputs": [],
   "source": [
    "def rounded_accuracy(y_true, y_pred):\n",
    "    return keras.metrics.binary_accuracy(tf.round(y_true), tf.round(y_pred))"
   ]
  },
  {
   "cell_type": "code",
   "execution_count": 98,
   "metadata": {
    "colab": {
     "base_uri": "https://localhost:8080/",
     "height": 237
    },
    "colab_type": "code",
    "id": "2hIafHPp5d6F",
    "outputId": "adc5a3f4-0a86-42d5-d00c-b78de0a11f32"
   },
   "outputs": [
    {
     "name": "stdout",
     "output_type": "stream",
     "text": [
      "Model: \"sequential_36\"\n",
      "_________________________________________________________________\n",
      "Layer (type)                 Output Shape              Param #   \n",
      "=================================================================\n",
      "sequential_34 (Sequential)   (None, 32)                109504    \n",
      "_________________________________________________________________\n",
      "sequential_35 (Sequential)   (None, 500)               8353      \n",
      "=================================================================\n",
      "Total params: 117,857\n",
      "Trainable params: 117,857\n",
      "Non-trainable params: 0\n",
      "_________________________________________________________________\n"
     ]
    }
   ],
   "source": [
    "#unser Modell\n",
    "import keras \n",
    "\n",
    "recurrent_encoder = keras.models.Sequential([\n",
    "    keras.layers.Embedding(num_words+1, 64, input_length=maxlen),\n",
    "    keras.layers.LSTM(64, return_sequences=True),\n",
    "    keras.layers.LSTM(32)\n",
    "])\n",
    "recurrent_decoder = keras.models.Sequential([\n",
    "    keras.layers.RepeatVector(maxlen, input_shape=[32]),\n",
    "    keras.layers.LSTM(32, return_sequences=True),\n",
    "    keras.layers.TimeDistributed(keras.layers.Dense(1, activation=\"sigmoid\")),\n",
    "    keras.layers.Flatten(),\n",
    "    \n",
    "])\n",
    "recurrent_ae = keras.models.Sequential([recurrent_encoder, recurrent_decoder])\n",
    "recurrent_ae.compile(loss=\"categorical_crossentropy\", optimizer=keras.optimizers.Adam(learning_rate=0.1),\n",
    "                     metrics=[rounded_accuracy])\n",
    "recurrent_ae.summary()"
   ]
  },
  {
   "cell_type": "code",
   "execution_count": 99,
   "metadata": {
    "colab": {
     "base_uri": "https://localhost:8080/",
     "height": 384
    },
    "colab_type": "code",
    "id": "uKde9yFf6beP",
    "outputId": "77ade311-8358-4591-e4cc-db0be268ab2a"
   },
   "outputs": [
    {
     "name": "stdout",
     "output_type": "stream",
     "text": [
      "Epoch 1/10\n",
      "471/471 [==============================] - 15s 31ms/step - loss: 366912.4922 - rounded_accuracy: 0.1242\n",
      "Epoch 2/10\n",
      "471/471 [==============================] - 14s 29ms/step - loss: 366894.2484 - rounded_accuracy: 0.1405\n",
      "Epoch 3/10\n",
      "471/471 [==============================] - 14s 29ms/step - loss: 366893.8876 - rounded_accuracy: 0.1405\n",
      "Epoch 4/10\n",
      "471/471 [==============================] - 14s 29ms/step - loss: 366893.9820 - rounded_accuracy: 0.1405\n",
      "Epoch 5/10\n",
      "471/471 [==============================] - 14s 29ms/step - loss: 366894.2664 - rounded_accuracy: 0.1405\n",
      "Epoch 6/10\n",
      "471/471 [==============================] - 14s 29ms/step - loss: 366893.8322 - rounded_accuracy: 0.1405\n",
      "Epoch 7/10\n",
      "471/471 [==============================] - 14s 29ms/step - loss: 366893.1207 - rounded_accuracy: 0.1405\n",
      "Epoch 8/10\n",
      "471/471 [==============================] - 14s 29ms/step - loss: 366894.0461 - rounded_accuracy: 0.1405\n",
      "Epoch 9/10\n",
      "471/471 [==============================] - 14s 29ms/step - loss: 366893.4519 - rounded_accuracy: 0.1405\n",
      "Epoch 10/10\n",
      "471/471 [==============================] - 14s 29ms/step - loss: 366893.1298 - rounded_accuracy: 0.1405\n"
     ]
    }
   ],
   "source": [
    "history = recurrent_ae.fit(sequences, sequences, epochs=10)\n",
    "# history = recurrent_ae.fit(train_padded, train_padded, epochs=5, validation_data=(test_padded, test_padded))"
   ]
  },
  {
   "cell_type": "code",
   "execution_count": 100,
   "metadata": {
    "colab": {
     "base_uri": "https://localhost:8080/",
     "height": 35
    },
    "colab_type": "code",
    "id": "9_jKaCFP6uAB",
    "outputId": "8c871e50-c39e-41d7-b830-b1d88fe476d6"
   },
   "outputs": [
    {
     "name": "stdout",
     "output_type": "stream",
     "text": [
      "(471, 32)\n"
     ]
    }
   ],
   "source": [
    "embeddings = recurrent_encoder.predict(sequences)\n",
    "print(embeddings.shape)\n",
    "with open('autoencoder_embeddings.npy', 'wb') as f:\n",
    "    np.save(f, embeddings)"
   ]
  },
  {
   "cell_type": "code",
   "execution_count": 103,
   "metadata": {
    "colab": {
     "base_uri": "https://localhost:8080/",
     "height": 610
    },
    "colab_type": "code",
    "id": "b4GhCKNF8XbD",
    "outputId": "db192543-9314-4bab-bb47-d518fef6255c"
   },
   "outputs": [
    {
     "data": {
      "text/plain": [
       "<matplotlib.axes._subplots.AxesSubplot at 0x7f55b3c25a90>"
      ]
     },
     "execution_count": 103,
     "metadata": {
      "tags": []
     },
     "output_type": "execute_result"
    },
    {
     "data": {
      "image/png": "[encoded data removed]",
      "text/plain": [
       "<Figure size 1080x720 with 1 Axes>"
      ]
     },
     "metadata": {
      "needs_background": "light",
      "tags": []
     },
     "output_type": "display_data"
    }
   ],
   "source": [
    "from umap import UMAP\n",
    "from sklearn.decomposition import PCA\n",
    "import seaborn as sns\n",
    "\n",
    "plt.figure(figsize=(15,10))\n",
    "r = TSNE(n_components=2).fit_transform(embeddings)\n",
    "sns.scatterplot(x=r[:,0], y=r[:,1], hue=df.Genre1)"
   ]
  },
  {
   "cell_type": "markdown",
   "metadata": {
    "colab_type": "text",
    "id": "TAJXv9NPlfq6"
   },
   "source": [
    "Lennarts Code (Mit angepasstem Model von Jan)"
   ]
  },
  {
   "cell_type": "code",
   "execution_count": 90,
   "metadata": {
    "colab": {},
    "colab_type": "code",
    "id": "XaB0scfQlhpi"
   },
   "outputs": [],
   "source": [
    "import os\n",
    "os.environ[\"CUDA_VISIBLE_DEVICES\"] = \"3\"\n",
    "import pandas as pd\n",
    "import unicodedata\n",
    "import string\n",
    "import numpy as np\n",
    "from tensorflow.keras.preprocessing.sequence import pad_sequences\n",
    "from tensorflow.keras.models import Sequential, Model\n",
    "from tensorflow.keras.layers import *\n",
    "from tensorflow.keras.optimizers import Nadam\n",
    "import numpy as np\n",
    "import tensorflow as tf\n",
    "from tensorflow.keras.callbacks import ModelCheckpoint, TensorBoard\n",
    "from tensorflow.keras.preprocessing.text import Tokenizer\n",
    "from tensorflow.keras.optimizers import SGD, Adam"
   ]
  },
  {
   "cell_type": "code",
   "execution_count": 91,
   "metadata": {
    "colab": {
     "base_uri": "https://localhost:8080/",
     "height": 274
    },
    "colab_type": "code",
    "id": "iAR6ViZPlsfX",
    "outputId": "3a972dea-86b8-469e-d801-12ffc3178dc0"
   },
   "outputs": [
    {
     "name": "stdout",
     "output_type": "stream",
     "text": [
      "[name: \"/device:CPU:0\"\n",
      "device_type: \"CPU\"\n",
      "memory_limit: 268435456\n",
      "locality {\n",
      "}\n",
      "incarnation: 5474093327856618535\n",
      ", name: \"/device:XLA_CPU:0\"\n",
      "device_type: \"XLA_CPU\"\n",
      "memory_limit: 17179869184\n",
      "locality {\n",
      "}\n",
      "incarnation: 11598079881482798974\n",
      "physical_device_desc: \"device: XLA_CPU device\"\n",
      "]\n"
     ]
    }
   ],
   "source": [
    "from tensorflow.python.client import device_lib\n",
    "print(device_lib.list_local_devices())"
   ]
  },
  {
   "cell_type": "code",
   "execution_count": 92,
   "metadata": {
    "colab": {},
    "colab_type": "code",
    "id": "CyFrk2mxlum9"
   },
   "outputs": [],
   "source": [
    "df.text = df.text.str.replace('\\s+', ' ')"
   ]
  },
  {
   "cell_type": "code",
   "execution_count": 93,
   "metadata": {
    "colab": {},
    "colab_type": "code",
    "id": "qqqvyZHzl5B4"
   },
   "outputs": [],
   "source": [
    "df['text_length'] = df.text.apply(lambda x: len(x.split()))\n",
    "daf = df[df['text_length'] >= 3000]"
   ]
  },
  {
   "cell_type": "code",
   "execution_count": 94,
   "metadata": {
    "colab": {
     "base_uri": "https://localhost:8080/",
     "height": 237
    },
    "colab_type": "code",
    "id": "2ZbcKhktl_ba",
    "outputId": "534fa22a-a3f5-46af-bf15-5e9f9bfc43a8"
   },
   "outputs": [
    {
     "data": {
      "text/plain": [
       "0       12745\n",
       "1       10803\n",
       "2        4352\n",
       "5        3700\n",
       "7        8618\n",
       "        ...  \n",
       "1028     4318\n",
       "1029     5082\n",
       "1030    10992\n",
       "1031     3260\n",
       "1034     5467\n",
       "Name: text_length, Length: 471, dtype: int64"
      ]
     },
     "execution_count": 94,
     "metadata": {
      "tags": []
     },
     "output_type": "execute_result"
    }
   ],
   "source": [
    "daf.text_length"
   ]
  },
  {
   "cell_type": "code",
   "execution_count": 95,
   "metadata": {
    "colab": {},
    "colab_type": "code",
    "id": "CpOGuJ3-mEQL"
   },
   "outputs": [],
   "source": [
    "all_letters = string.ascii_letters + \" .,;'\"\n",
    "n_letters = len(all_letters) +1 # for unknown token\n",
    "\n",
    "def unicodeToAscii(s):\n",
    "    return ''.join(\n",
    "        c for c in unicodedata.normalize('NFD', s)\n",
    "        if unicodedata.category(c) != 'Mn'\n",
    "        and c in all_letters\n",
    "    )"
   ]
  },
  {
   "cell_type": "code",
   "execution_count": 96,
   "metadata": {
    "colab": {},
    "colab_type": "code",
    "id": "6bMe1icemKC7"
   },
   "outputs": [],
   "source": [
    "texts = daf.text.apply(unicodeToAscii).to_list()"
   ]
  },
  {
   "cell_type": "code",
   "execution_count": 97,
   "metadata": {
    "colab": {},
    "colab_type": "code",
    "id": "_EatH2oNmMRS"
   },
   "outputs": [],
   "source": [
    "#Preprocessing(Keras)\n",
    "\n",
    "num_words = 1000\n",
    "tk = Tokenizer(num_words=num_words, char_level=False, oov_token='UNK')\n",
    "\n",
    "tk.fit_on_texts(texts)\n",
    "sequences = tk.texts_to_sequences(texts)\n",
    "\n",
    "char_dict = {char: index + 1 for index, char in enumerate(tk.word_index)}\n",
    "char_dict[tk.oov_token] = max(char_dict.values()) + 1\n",
    "tk.word_index = char_dict\n",
    "n_letters = len(tk.word_index) + 1\n",
    "\n"
   ]
  },
  {
   "cell_type": "code",
   "execution_count": 98,
   "metadata": {
    "colab": {},
    "colab_type": "code",
    "id": "Mt1GM461miWu"
   },
   "outputs": [],
   "source": [
    "maxlen = 500\n",
    "\n",
    "sequences = pad_sequences(sequences=sequences, maxlen=maxlen, padding='post')"
   ]
  },
  {
   "cell_type": "code",
   "execution_count": 99,
   "metadata": {
    "colab": {},
    "colab_type": "code",
    "id": "6KB6OZuPnNsx"
   },
   "outputs": [],
   "source": [
    "X = []\n",
    "\n",
    "for entry in sequences:\n",
    "    oh_entry = []\n",
    "    for token_index in entry:\n",
    "        oh = np.zeros(num_words, dtype='int8')\n",
    "        oh[token_index] = 1\n",
    "        oh_entry.append(oh)\n",
    "    X.append(oh_entry)\n",
    "X = np.asarray(X, dtype='int8')"
   ]
  },
  {
   "cell_type": "code",
   "execution_count": 100,
   "metadata": {
    "colab": {
     "base_uri": "https://localhost:8080/",
     "height": 35
    },
    "colab_type": "code",
    "id": "TxI7Nb8gnTUy",
    "outputId": "06776a4d-ca10-46ba-f508-23ed06297af2"
   },
   "outputs": [
    {
     "data": {
      "text/plain": [
       "((471, 500, 1000), 235500000000000.0)"
      ]
     },
     "execution_count": 100,
     "metadata": {
      "tags": []
     },
     "output_type": "execute_result"
    }
   ],
   "source": [
    "X.shape, X.nbytes * 1e6"
   ]
  },
  {
   "cell_type": "code",
   "execution_count": 101,
   "metadata": {
    "colab": {},
    "colab_type": "code",
    "id": "OLWfYfgUnXYL"
   },
   "outputs": [],
   "source": [
    "def build_dense(num_words):\n",
    "    \n",
    "    stacked_encoder = Sequential([\n",
    "        Input(shape=(num_words)),\n",
    "        Dense(256, activation=\"linear\"),\n",
    "        Dense(128, activation=\"linear\"),\n",
    "    ])\n",
    "    \n",
    "    stacked_decoder = Sequential([\n",
    "        Dense(128, activation='linear', input_shape=[128]),\n",
    "        Dense(256, activation=\"linear\"),\n",
    "        Dense(num_words, activation=\"sigmoid\")\n",
    "    ])\n",
    "    stacked_ae = Sequential([stacked_encoder, stacked_decoder])\n",
    "    stacked_ae.compile(loss=\"binary_crossentropy\",\n",
    "    optimizer=Adam(lr=0.01))\n",
    "    return stacked_ae, stacked_encoder"
   ]
  },
  {
   "cell_type": "code",
   "execution_count": 102,
   "metadata": {
    "colab": {},
    "colab_type": "code",
    "id": "ZKh02V_pnc6l"
   },
   "outputs": [],
   "source": [
    "from tensorflow.keras.layers import Input, LSTM, RepeatVector\n",
    "from tensorflow.keras.models import Model\n",
    "\n",
    "def build_recurrent_model(n_letters, maxlen):\n",
    "    encoder = Sequential([\n",
    "        Input(shape=(maxlen,)),\n",
    "        Embedding(n_letters, 32),\n",
    "        LSTM(32,\n",
    "             return_sequences=True,\n",
    "            ),\n",
    "        LSTM(16,\n",
    "             return_sequences=False,\n",
    "            ),\n",
    "    ])\n",
    "    decoder = Sequential([\n",
    "        RepeatVector(maxlen),\n",
    "        LSTM(16,\n",
    "             return_sequences=True,\n",
    "            ),\n",
    "        TimeDistributed(Dense(n_letters, activation='sigmoid'))\n",
    "    ])\n",
    "    autoencoder = Sequential([encoder, decoder])\n",
    "    autoencoder.compile(loss='mse', optimizer='rmsprop')\n",
    "    return autoencoder, encoder"
   ]
  },
  {
   "cell_type": "code",
   "execution_count": 103,
   "metadata": {
    "colab": {},
    "colab_type": "code",
    "id": "6OnNWh8jnlHl"
   },
   "outputs": [],
   "source": [
    "callbacks = [\n",
    "    ModelCheckpoint(filepath='../Results/autoencoder/model.{epoch:02d}-{loss:.2f}.h5',\n",
    "                    monitor='loss',\n",
    "                    save_best_only=True,\n",
    "                    save_freq=5),\n",
    "    TensorBoard(log_dir='../Results/tensorboard_logs',\n",
    "                embeddings_freq=1)\n",
    "]"
   ]
  },
  {
   "cell_type": "code",
   "execution_count": 104,
   "metadata": {
    "colab": {
     "base_uri": "https://localhost:8080/",
     "height": 495
    },
    "colab_type": "code",
    "id": "a4zPJUcznqR3",
    "outputId": "33240326-638d-4de7-e0ee-9e1ceb1fb102"
   },
   "outputs": [
    {
     "name": "stdout",
     "output_type": "stream",
     "text": [
      "Model: \"sequential_2\"\n",
      "_________________________________________________________________\n",
      "Layer (type)                 Output Shape              Param #   \n",
      "=================================================================\n",
      "sequential (Sequential)      (None, 16)                43456     \n",
      "_________________________________________________________________\n",
      "sequential_1 (Sequential)    (None, 500, 1000)         19112     \n",
      "=================================================================\n",
      "Total params: 62,568\n",
      "Trainable params: 62,568\n",
      "Non-trainable params: 0\n",
      "_________________________________________________________________\n",
      "Model: \"sequential\"\n",
      "_________________________________________________________________\n",
      "Layer (type)                 Output Shape              Param #   \n",
      "=================================================================\n",
      "embedding (Embedding)        (None, 500, 32)           32000     \n",
      "_________________________________________________________________\n",
      "lstm (LSTM)                  (None, 500, 32)           8320      \n",
      "_________________________________________________________________\n",
      "lstm_1 (LSTM)                (None, 16)                3136      \n",
      "=================================================================\n",
      "Total params: 43,456\n",
      "Trainable params: 43,456\n",
      "Non-trainable params: 0\n",
      "_________________________________________________________________\n"
     ]
    }
   ],
   "source": [
    "recurrent_autoencoder, recurrent_encoder = build_recurrent_model(num_words, maxlen)\n",
    "recurrent_autoencoder.summary()\n",
    "recurrent_encoder.summary()"
   ]
  },
  {
   "cell_type": "code",
   "execution_count": 105,
   "metadata": {
    "colab": {
     "base_uri": "https://localhost:8080/",
     "height": 384
    },
    "colab_type": "code",
    "id": "hYi1PC7FntCe",
    "outputId": "7b89e881-5672-45c2-f96f-180a8f3e394f"
   },
   "outputs": [
    {
     "name": "stdout",
     "output_type": "stream",
     "text": [
      "Epoch 1/10\n",
      "8/8 [==============================] - 8s 968ms/step - loss: 0.2444\n",
      "Epoch 2/10\n",
      "8/8 [==============================] - 8s 969ms/step - loss: 0.2056\n",
      "Epoch 3/10\n",
      "8/8 [==============================] - 8s 976ms/step - loss: 0.1676\n",
      "Epoch 4/10\n",
      "8/8 [==============================] - 8s 950ms/step - loss: 0.1374\n",
      "Epoch 5/10\n",
      "8/8 [==============================] - 8s 956ms/step - loss: 0.1134\n",
      "Epoch 6/10\n",
      "8/8 [==============================] - 8s 948ms/step - loss: 0.0935\n",
      "Epoch 7/10\n",
      "8/8 [==============================] - 8s 938ms/step - loss: 0.0768\n",
      "Epoch 8/10\n",
      "8/8 [==============================] - 8s 948ms/step - loss: 0.0631\n",
      "Epoch 9/10\n",
      "8/8 [==============================] - 8s 947ms/step - loss: 0.0519\n",
      "Epoch 10/10\n",
      "8/8 [==============================] - 8s 944ms/step - loss: 0.0427\n"
     ]
    }
   ],
   "source": [
    "history = recurrent_autoencoder.fit(sequences, X, batch_size=64, epochs=10, callbacks=callbacks)"
   ]
  },
  {
   "cell_type": "code",
   "execution_count": 106,
   "metadata": {
    "colab": {
     "base_uri": "https://localhost:8080/",
     "height": 35
    },
    "colab_type": "code",
    "id": "1jg9Aarin5Ah",
    "outputId": "b085790e-cfa7-44ad-c54b-88a2a57229be"
   },
   "outputs": [
    {
     "name": "stdout",
     "output_type": "stream",
     "text": [
      "(209, 32)\n"
     ]
    }
   ],
   "source": [
    "print(embeddings.shape)\n",
    "with open('autoencoder_embeddings.npy', 'wb') as f:\n",
    "    np.save(f, embeddings)"
   ]
  },
  {
   "cell_type": "code",
   "execution_count": 112,
   "metadata": {
    "colab": {
     "base_uri": "https://localhost:8080/",
     "height": 612
    },
    "colab_type": "code",
    "id": "oC1NuaEaoVJc",
    "outputId": "5bd619fa-5886-4b47-c963-e58e1918b45a"
   },
   "outputs": [
    {
     "data": {
      "text/plain": [
       "<matplotlib.axes._subplots.AxesSubplot at 0x7f14dc654cf8>"
      ]
     },
     "execution_count": 112,
     "metadata": {
      "tags": []
     },
     "output_type": "execute_result"
    },
    {
     "data": {
      "image/png": "[encoded data removed]",
      "text/plain": [
       "<Figure size 1080x720 with 1 Axes>"
      ]
     },
     "metadata": {
      "needs_background": "light",
      "tags": []
     },
     "output_type": "display_data"
    }
   ],
   "source": [
    "from umap import UMAP\n",
    "from sklearn.decomposition import PCA\n",
    "from sklearn.manifold import TSNE\n",
    "import seaborn as sns\n",
    "\n",
    "#plt.figure(figsize=(30,20))\n",
    "#r = UMAP(n_components=2).fit_transform(embeddings)\n",
    "#sns.scatterplot(x=r[:,0], y=r[:,1], hue=df.Genre1)\n",
    "\n",
    "plt.figure(figsize=(15, 10))\n",
    "r = PCA(n_components=2).fit_transform(embeddings)\n",
    "sns.scatterplot(x=r[:,0], y=r[:,1])"
   ]
  },
  {
   "cell_type": "code",
   "execution_count": 109,
   "metadata": {
    "colab": {
     "base_uri": "https://localhost:8080/",
     "height": 485
    },
    "colab_type": "code",
    "id": "C8jTS5ultWkI",
    "outputId": "0aab61d4-1a80-426b-f333-40d7ba781952"
   },
   "outputs": [
    {
     "data": {
      "text/html": [
       "<div>\n",
       "<style scoped>\n",
       "    .dataframe tbody tr th:only-of-type {\n",
       "        vertical-align: middle;\n",
       "    }\n",
       "\n",
       "    .dataframe tbody tr th {\n",
       "        vertical-align: top;\n",
       "    }\n",
       "\n",
       "    .dataframe thead th {\n",
       "        text-align: right;\n",
       "    }\n",
       "</style>\n",
       "<table border=\"1\" class=\"dataframe\">\n",
       "  <thead>\n",
       "    <tr style=\"text-align: right;\">\n",
       "      <th></th>\n",
       "      <th>Unnamed: 0</th>\n",
       "      <th>artist</th>\n",
       "      <th>decades</th>\n",
       "      <th>text</th>\n",
       "      <th>stemmed_text</th>\n",
       "      <th>POS</th>\n",
       "      <th>Genre1</th>\n",
       "      <th>genre1</th>\n",
       "      <th>number_of_tokens</th>\n",
       "      <th>number_of_types</th>\n",
       "      <th>text_length</th>\n",
       "    </tr>\n",
       "  </thead>\n",
       "  <tbody>\n",
       "    <tr>\n",
       "      <th>0</th>\n",
       "      <td>0</td>\n",
       "      <td>\"Weird Al\" Yankovic</td>\n",
       "      <td>1980s</td>\n",
       "      <td>potato skins potato cakes hash browns and inst...</td>\n",
       "      <td>potato skin potato cake hash brown and instan...</td>\n",
       "      <td>french plain enough greasy sour lumpy tough en...</td>\n",
       "      <td>Rock</td>\n",
       "      <td>antiviral pop</td>\n",
       "      <td>12745.0</td>\n",
       "      <td>2264.0</td>\n",
       "      <td>12745</td>\n",
       "    </tr>\n",
       "    <tr>\n",
       "      <th>1</th>\n",
       "      <td>37</td>\n",
       "      <td>\"Weird Al\" Yankovic</td>\n",
       "      <td>1990s</td>\n",
       "      <td>as i walk through the valley where i harvest m...</td>\n",
       "      <td>as i walk through the valley where i harvest ...</td>\n",
       "      <td>plain perfect fancy amish amish hard amish ami...</td>\n",
       "      <td>Rock</td>\n",
       "      <td>antiviral pop</td>\n",
       "      <td>10803.0</td>\n",
       "      <td>2317.0</td>\n",
       "      <td>10803</td>\n",
       "    </tr>\n",
       "    <tr>\n",
       "      <th>2</th>\n",
       "      <td>65</td>\n",
       "      <td>\"Weird Al\" Yankovic</td>\n",
       "      <td>2000s</td>\n",
       "      <td>jillian was her name she was sweeter than aspa...</td>\n",
       "      <td>jillian wa her name she wa sweeter than aspar...</td>\n",
       "      <td>same gorgeous perfect close sweet young ripe p...</td>\n",
       "      <td>Rock</td>\n",
       "      <td>antiviral pop</td>\n",
       "      <td>4352.0</td>\n",
       "      <td>1159.0</td>\n",
       "      <td>4352</td>\n",
       "    </tr>\n",
       "    <tr>\n",
       "      <th>3</th>\n",
       "      <td>76</td>\n",
       "      <td>\"Weird Al\" Yankovic</td>\n",
       "      <td>2010s</td>\n",
       "      <td>my mama told me when i was hatched act like a ...</td>\n",
       "      <td>my mama told me when i wa hatch act like a su...</td>\n",
       "      <td>red hard sure swiss crazy little okay crazy ev...</td>\n",
       "      <td>Rock</td>\n",
       "      <td>antiviral pop</td>\n",
       "      <td>2077.0</td>\n",
       "      <td>705.0</td>\n",
       "      <td>2077</td>\n",
       "    </tr>\n",
       "    <tr>\n",
       "      <th>4</th>\n",
       "      <td>81</td>\n",
       "      <td>*NSYNC</td>\n",
       "      <td>1990s</td>\n",
       "      <td>here we go here we go one more time everybody'...</td>\n",
       "      <td>here we go here we go one more time everybodi...</td>\n",
       "      <td>fine fine free right fine right fine free time...</td>\n",
       "      <td>Electronic</td>\n",
       "      <td>boy band</td>\n",
       "      <td>1786.0</td>\n",
       "      <td>345.0</td>\n",
       "      <td>1786</td>\n",
       "    </tr>\n",
       "    <tr>\n",
       "      <th>5</th>\n",
       "      <td>87</td>\n",
       "      <td>*NSYNC</td>\n",
       "      <td>2000s</td>\n",
       "      <td>this is the time of year that we learn to give...</td>\n",
       "      <td>thi is the time of year that we learn to give...</td>\n",
       "      <td>true hard alone dark true true true time year ...</td>\n",
       "      <td>Electronic</td>\n",
       "      <td>boy band</td>\n",
       "      <td>3700.0</td>\n",
       "      <td>548.0</td>\n",
       "      <td>3700</td>\n",
       "    </tr>\n",
       "    <tr>\n",
       "      <th>6</th>\n",
       "      <td>98</td>\n",
       "      <td>*NSYNC</td>\n",
       "      <td>2010s</td>\n",
       "      <td>girl don't say that it's over 'cause you are a...</td>\n",
       "      <td>girl do n't say that it 's over 'caus you are...</td>\n",
       "      <td>wrong lonely beautiful beautiful beautiful bea...</td>\n",
       "      <td>Electronic</td>\n",
       "      <td>boy band</td>\n",
       "      <td>1499.0</td>\n",
       "      <td>299.0</td>\n",
       "      <td>1499</td>\n",
       "    </tr>\n",
       "    <tr>\n",
       "      <th>7</th>\n",
       "      <td>102</td>\n",
       "      <td>ABBA</td>\n",
       "      <td>1970s</td>\n",
       "      <td>i'll never know why i had to go why i had to p...</td>\n",
       "      <td>i 'll never know whi i had to go whi i had to...</td>\n",
       "      <td>lousy rotten tough enough good new good new ne...</td>\n",
       "      <td>Pop</td>\n",
       "      <td>europop</td>\n",
       "      <td>8618.0</td>\n",
       "      <td>1070.0</td>\n",
       "      <td>8618</td>\n",
       "    </tr>\n",
       "    <tr>\n",
       "      <th>8</th>\n",
       "      <td>130</td>\n",
       "      <td>ABBA</td>\n",
       "      <td>1980s</td>\n",
       "      <td>take it easy with me please touch me gently li...</td>\n",
       "      <td>take it easi with me pleas touch me gentli li...</td>\n",
       "      <td>easy slow andante soft light andante strong st...</td>\n",
       "      <td>Pop</td>\n",
       "      <td>europop</td>\n",
       "      <td>5963.0</td>\n",
       "      <td>1131.0</td>\n",
       "      <td>5963</td>\n",
       "    </tr>\n",
       "    <tr>\n",
       "      <th>9</th>\n",
       "      <td>154</td>\n",
       "      <td>Adam Sandler</td>\n",
       "      <td>1990s</td>\n",
       "      <td>i'm sitting in my chair watching the tv it's ...</td>\n",
       "      <td>i 'm sit in my chair watch the tv it 's not e...</td>\n",
       "      <td>crazy wicked last sweet baked chair tv plenty ...</td>\n",
       "      <td>Rock</td>\n",
       "      <td>comedy</td>\n",
       "      <td>7421.0</td>\n",
       "      <td>2201.0</td>\n",
       "      <td>7421</td>\n",
       "    </tr>\n",
       "  </tbody>\n",
       "</table>\n",
       "</div>"
      ],
      "text/plain": [
       "   Unnamed: 0               artist  ... number_of_types text_length\n",
       "0           0  \"Weird Al\" Yankovic  ...          2264.0       12745\n",
       "1          37  \"Weird Al\" Yankovic  ...          2317.0       10803\n",
       "2          65  \"Weird Al\" Yankovic  ...          1159.0        4352\n",
       "3          76  \"Weird Al\" Yankovic  ...           705.0        2077\n",
       "4          81               *NSYNC  ...           345.0        1786\n",
       "5          87               *NSYNC  ...           548.0        3700\n",
       "6          98               *NSYNC  ...           299.0        1499\n",
       "7         102                 ABBA  ...          1070.0        8618\n",
       "8         130                 ABBA  ...          1131.0        5963\n",
       "9         154         Adam Sandler  ...          2201.0        7421\n",
       "\n",
       "[10 rows x 11 columns]"
      ]
     },
     "execution_count": 109,
     "metadata": {
      "tags": []
     },
     "output_type": "execute_result"
    }
   ],
   "source": [
    "df.head(10)"
   ]
  },
  {
   "cell_type": "code",
   "execution_count": 65,
   "metadata": {
    "colab": {
     "base_uri": "https://localhost:8080/",
     "height": 109
    },
    "colab_type": "code",
    "id": "ZFFJwTZjoYwo",
    "outputId": "d71f208c-c73e-433f-fef0-917d513fd696"
   },
   "outputs": [
    {
     "data": {
      "text/plain": [
       "array([2.1816943e-06, 1.4802617e-02, 5.0274910e-05, 5.8030717e-05,\n",
       "       1.7512744e-05, 6.8370737e-06, 2.9528709e-04, 5.6989069e-07,\n",
       "       6.7792564e-05, 2.6173890e-05, 3.2219268e-05, 2.2368191e-08,\n",
       "       2.4192597e-09, 6.5313543e-08, 1.0001689e-07, 6.2715316e-08],\n",
       "      dtype=float32)"
      ]
     },
     "execution_count": 65,
     "metadata": {
      "tags": []
     },
     "output_type": "execute_result"
    }
   ],
   "source": [
    "embeddings.std(axis=0)"
   ]
  },
  {
   "cell_type": "code",
   "execution_count": 66,
   "metadata": {
    "colab": {
     "base_uri": "https://localhost:8080/",
     "height": 256
    },
    "colab_type": "code",
    "id": "_PNhlDKJohHH",
    "outputId": "20750b48-a196-4b48-ed67-c3c31b143b4e"
   },
   "outputs": [
    {
     "data": {
      "text/plain": [
       "array([[-8.0815212e-09,  7.7167088e-01,  9.9999011e-01, ...,\n",
       "         2.6746208e-10,  3.0489380e-10,  3.9447876e-11],\n",
       "       [-8.3007506e-10,  7.6472372e-01,  9.9999511e-01, ...,\n",
       "         3.0927982e-11,  2.9255598e-11,  2.2221198e-12],\n",
       "       [-1.6901050e-10,  7.6250803e-01,  9.9999714e-01, ...,\n",
       "         1.1494129e-11,  4.4197298e-12,  3.8751034e-13],\n",
       "       ...,\n",
       "       [-4.2134113e-10,  7.6206791e-01,  9.9999511e-01, ...,\n",
       "         5.0481272e-11,  1.8267464e-11,  1.7619015e-12],\n",
       "       [-3.7576647e-10,  7.6217997e-01,  9.9999535e-01, ...,\n",
       "         4.0212448e-11,  1.5034382e-11,  1.4171648e-12],\n",
       "       [-3.8754830e-10,  7.6209104e-01,  9.9999511e-01, ...,\n",
       "         4.2465309e-11,  1.5837795e-11,  1.4670386e-12]], dtype=float32)"
      ]
     },
     "execution_count": 66,
     "metadata": {
      "tags": []
     },
     "output_type": "execute_result"
    }
   ],
   "source": [
    "embeddings"
   ]
  },
  {
   "cell_type": "markdown",
   "metadata": {
    "colab_type": "text",
    "id": "zPZhsmgC7pyP"
   },
   "source": [
    "AutoEncoder mit altem komplettem Datensatz"
   ]
  },
  {
   "cell_type": "code",
   "execution_count": 4,
   "metadata": {
    "colab": {},
    "colab_type": "code",
    "id": "rhFOHLKp75mP"
   },
   "outputs": [],
   "source": [
    "df = pd.read_csv('/content/gdrive/My Drive/Colab Notebooks/songtexte_bereinigt_gekuerzt.csv')"
   ]
  },
  {
   "cell_type": "code",
   "execution_count": 5,
   "metadata": {
    "colab": {
     "base_uri": "https://localhost:8080/",
     "height": 112
    },
    "colab_type": "code",
    "id": "IPJ0hgbu83EK",
    "outputId": "141b9a43-af9e-4634-8d29-97fe6ceba7e9"
   },
   "outputs": [
    {
     "data": {
      "text/html": [
       "<div>\n",
       "<style scoped>\n",
       "    .dataframe tbody tr th:only-of-type {\n",
       "        vertical-align: middle;\n",
       "    }\n",
       "\n",
       "    .dataframe tbody tr th {\n",
       "        vertical-align: top;\n",
       "    }\n",
       "\n",
       "    .dataframe thead th {\n",
       "        text-align: right;\n",
       "    }\n",
       "</style>\n",
       "<table border=\"1\" class=\"dataframe\">\n",
       "  <thead>\n",
       "    <tr style=\"text-align: right;\">\n",
       "      <th></th>\n",
       "      <th>Unnamed: 0</th>\n",
       "      <th>artist</th>\n",
       "      <th>song</th>\n",
       "      <th>text</th>\n",
       "      <th>number_of_tokens</th>\n",
       "    </tr>\n",
       "  </thead>\n",
       "  <tbody>\n",
       "    <tr>\n",
       "      <th>0</th>\n",
       "      <td>0</td>\n",
       "      <td>ABBA</td>\n",
       "      <td>Ahe's My Kind Of Girl</td>\n",
       "      <td>look at her face  it's a wonderful face  and i...</td>\n",
       "      <td>741</td>\n",
       "    </tr>\n",
       "    <tr>\n",
       "      <th>1</th>\n",
       "      <td>1</td>\n",
       "      <td>ABBA</td>\n",
       "      <td>Andante, Andante</td>\n",
       "      <td>take it easy with me  please  touch me gently ...</td>\n",
       "      <td>1381</td>\n",
       "    </tr>\n",
       "  </tbody>\n",
       "</table>\n",
       "</div>"
      ],
      "text/plain": [
       "   Unnamed: 0  ... number_of_tokens\n",
       "0           0  ...              741\n",
       "1           1  ...             1381\n",
       "\n",
       "[2 rows x 5 columns]"
      ]
     },
     "execution_count": 5,
     "metadata": {
      "tags": []
     },
     "output_type": "execute_result"
    }
   ],
   "source": [
    "df.head(2)"
   ]
  },
  {
   "cell_type": "code",
   "execution_count": 6,
   "metadata": {
    "colab": {},
    "colab_type": "code",
    "id": "SwD3ki8_9WKs"
   },
   "outputs": [],
   "source": [
    "texts = df.text.to_list()"
   ]
  },
  {
   "cell_type": "code",
   "execution_count": 7,
   "metadata": {
    "colab": {},
    "colab_type": "code",
    "id": "WaSMTn4N9bL_"
   },
   "outputs": [],
   "source": [
    "num_words = 500\n",
    "tk = Tokenizer(num_words=num_words, char_level=False, oov_token='UNK')\n",
    "\n",
    "tk.fit_on_texts(texts)\n",
    "sequences = tk.texts_to_sequences(texts)\n",
    "\n",
    "char_dict = {char: index + 1 for index, char in enumerate(tk.word_index)}\n",
    "char_dict[tk.oov_token] = max(char_dict.values()) + 1\n",
    "tk.word_index = char_dict\n",
    "n_letters = len(tk.word_index) + 1"
   ]
  },
  {
   "cell_type": "code",
   "execution_count": 8,
   "metadata": {
    "colab": {},
    "colab_type": "code",
    "id": "4QpRZRmH9gdp"
   },
   "outputs": [],
   "source": [
    "maxlen = 200\n",
    "\n",
    "sequences = pad_sequences(sequences=sequences, maxlen=maxlen, padding='post')"
   ]
  },
  {
   "cell_type": "code",
   "execution_count": 9,
   "metadata": {
    "colab": {},
    "colab_type": "code",
    "id": "Z4mmywCa9oe3"
   },
   "outputs": [],
   "source": [
    "X = []\n",
    "\n",
    "for entry in sequences:\n",
    "    oh_entry = []\n",
    "    for token_index in entry:\n",
    "        oh = np.zeros(num_words, dtype='int8')\n",
    "        oh[token_index] = 1\n",
    "        oh_entry.append(oh)\n",
    "    X.append(oh_entry)\n",
    "X = np.asarray(X, dtype='int8')"
   ]
  },
  {
   "cell_type": "code",
   "execution_count": 10,
   "metadata": {
    "colab": {
     "base_uri": "https://localhost:8080/",
     "height": 35
    },
    "colab_type": "code",
    "id": "g6gI9XTz9uKO",
    "outputId": "69717d1f-5fda-4fdf-ea73-b394186bd552"
   },
   "outputs": [
    {
     "data": {
      "text/plain": [
       "((50832, 200, 500), 5083200000000000.0)"
      ]
     },
     "execution_count": 10,
     "metadata": {
      "tags": []
     },
     "output_type": "execute_result"
    }
   ],
   "source": [
    "X.shape, X.nbytes * 1e6"
   ]
  },
  {
   "cell_type": "code",
   "execution_count": 12,
   "metadata": {
    "colab": {},
    "colab_type": "code",
    "id": "p5WW250I_MRo"
   },
   "outputs": [],
   "source": [
    "def rounded_accuracy(y_true, y_pred):\n",
    "    return keras.metrics.binary_accuracy(tf.round(y_true), tf.round(y_pred))"
   ]
  },
  {
   "cell_type": "code",
   "execution_count": 13,
   "metadata": {
    "colab": {
     "base_uri": "https://localhost:8080/",
     "height": 237
    },
    "colab_type": "code",
    "id": "fmrub4Tc_RjI",
    "outputId": "8c1269e4-7e09-4ad4-cf77-155db6b33307"
   },
   "outputs": [
    {
     "name": "stdout",
     "output_type": "stream",
     "text": [
      "Model: \"sequential_3\"\n",
      "_________________________________________________________________\n",
      "Layer (type)                 Output Shape              Param #   \n",
      "=================================================================\n",
      "sequential_1 (Sequential)    (None, 32)                77504     \n",
      "_________________________________________________________________\n",
      "sequential_2 (Sequential)    (None, 200)               8353      \n",
      "=================================================================\n",
      "Total params: 85,857\n",
      "Trainable params: 85,857\n",
      "Non-trainable params: 0\n",
      "_________________________________________________________________\n"
     ]
    }
   ],
   "source": [
    "import keras \n",
    "\n",
    "recurrent_encoder = keras.models.Sequential([\n",
    "    keras.layers.Embedding(num_words+1, 64, input_length=maxlen),\n",
    "    keras.layers.LSTM(64, return_sequences=True),\n",
    "    keras.layers.LSTM(32)\n",
    "])\n",
    "recurrent_decoder = keras.models.Sequential([\n",
    "    keras.layers.RepeatVector(maxlen, input_shape=[32]),\n",
    "    keras.layers.LSTM(32, return_sequences=True),\n",
    "    keras.layers.TimeDistributed(keras.layers.Dense(1, activation=\"sigmoid\")),\n",
    "    keras.layers.Flatten(),\n",
    "    \n",
    "])\n",
    "recurrent_ae = keras.models.Sequential([recurrent_encoder, recurrent_decoder])\n",
    "recurrent_ae.compile(loss=\"categorical_crossentropy\", optimizer=keras.optimizers.Adam(learning_rate=0.1),\n",
    "                     metrics=[rounded_accuracy])\n",
    "recurrent_ae.summary()"
   ]
  },
  {
   "cell_type": "code",
   "execution_count": 14,
   "metadata": {
    "colab": {
     "base_uri": "https://localhost:8080/",
     "height": 384
    },
    "colab_type": "code",
    "id": "B2tbKKxg_lOC",
    "outputId": "2f1e9a87-effa-452d-9917-50d2d972fe0e"
   },
   "outputs": [
    {
     "name": "stdout",
     "output_type": "stream",
     "text": [
      "Epoch 1/10\n",
      "50832/50832 [==============================] - 529s 10ms/step - loss: 64195.4706 - rounded_accuracy: 0.1444\n",
      "Epoch 2/10\n",
      "50832/50832 [==============================] - 543s 11ms/step - loss: 64230.5560 - rounded_accuracy: 0.1704\n",
      "Epoch 3/10\n",
      "50832/50832 [==============================] - 548s 11ms/step - loss: 64230.4773 - rounded_accuracy: 0.1791\n",
      "Epoch 4/10\n",
      "50832/50832 [==============================] - 548s 11ms/step - loss: 64230.4766 - rounded_accuracy: 0.1791\n",
      "Epoch 5/10\n",
      "50832/50832 [==============================] - 546s 11ms/step - loss: 64230.4754 - rounded_accuracy: 0.1791\n",
      "Epoch 6/10\n",
      "50832/50832 [==============================] - 547s 11ms/step - loss: 64230.4760 - rounded_accuracy: 0.1791\n",
      "Epoch 7/10\n",
      "50832/50832 [==============================] - 544s 11ms/step - loss: 64230.4782 - rounded_accuracy: 0.1791\n",
      "Epoch 8/10\n",
      "50832/50832 [==============================] - 540s 11ms/step - loss: 64230.4764 - rounded_accuracy: 0.1791\n",
      "Epoch 9/10\n",
      "50832/50832 [==============================] - 543s 11ms/step - loss: 64230.4764 - rounded_accuracy: 0.1791\n",
      "Epoch 10/10\n",
      "50832/50832 [==============================] - 546s 11ms/step - loss: 64230.4762 - rounded_accuracy: 0.1791\n"
     ]
    }
   ],
   "source": [
    "history = recurrent_ae.fit(sequences, sequences, epochs=10)"
   ]
  },
  {
   "cell_type": "code",
   "execution_count": 15,
   "metadata": {
    "colab": {
     "base_uri": "https://localhost:8080/",
     "height": 35
    },
    "colab_type": "code",
    "id": "3uwdxYag_r6_",
    "outputId": "93eab381-0ccd-4b3e-bc58-674b262b0185"
   },
   "outputs": [
    {
     "name": "stdout",
     "output_type": "stream",
     "text": [
      "(50832, 32)\n"
     ]
    }
   ],
   "source": [
    "embeddings = recurrent_encoder.predict(sequences)\n",
    "print(embeddings.shape)\n",
    "with open('autoencoder_embeddings.npy', 'wb') as f:\n",
    "    np.save(f, embeddings)"
   ]
  },
  {
   "cell_type": "code",
   "execution_count": 16,
   "metadata": {
    "colab": {
     "base_uri": "https://localhost:8080/",
     "height": 610
    },
    "colab_type": "code",
    "id": "u5sxV-WiBQIh",
    "outputId": "d8fbd30f-0e83-4c4a-cefc-e18764018273"
   },
   "outputs": [
    {
     "data": {
      "text/plain": [
       "<matplotlib.axes._subplots.AxesSubplot at 0x7f14e58607b8>"
      ]
     },
     "execution_count": 16,
     "metadata": {
      "tags": []
     },
     "output_type": "execute_result"
    },
    {
     "data": {
      "image/png": "[encoded data removed]",
      "text/plain": [
       "<Figure size 1080x720 with 1 Axes>"
      ]
     },
     "metadata": {
      "needs_background": "light",
      "tags": []
     },
     "output_type": "display_data"
    }
   ],
   "source": [
    "from umap import UMAP\n",
    "from sklearn.manifold import TSNE\n",
    "from sklearn.decomposition import PCA\n",
    "import seaborn as sns\n",
    "\n",
    "plt.figure(figsize=(15,10))\n",
    "r = TSNE(n_components=2).fit_transform(embeddings)\n",
    "sns.scatterplot(x=r[:,0], y=r[:,1])"
   ]
  },
  {
   "cell_type": "code",
   "execution_count": null,
   "metadata": {
    "colab": {},
    "colab_type": "code",
    "id": "igZFpPSpUzwS"
   },
   "outputs": [],
   "source": []
  }
 ],
 "metadata": {
  "accelerator": "GPU",
  "colab": {
   "collapsed_sections": [],
   "include_colab_link": true,
   "name": "Kopie von AutoEncoder(Colab).ipynb",
   "provenance": []
  },
  "kernelspec": {
   "display_name": "Python 3",
   "language": "python",
   "name": "python3"
  },
  "language_info": {
   "codemirror_mode": {
    "name": "ipython",
    "version": 3
   },
   "file_extension": ".py",
   "mimetype": "text/x-python",
   "name": "python",
   "nbconvert_exporter": "python",
   "pygments_lexer": "ipython3",
   "version": "3.7.4"
  },
  "toc": {
   "base_numbering": 1,
   "nav_menu": {},
   "number_sections": true,
   "sideBar": true,
   "skip_h1_title": false,
   "title_cell": "Table of Contents",
   "title_sidebar": "Contents",
   "toc_cell": false,
   "toc_position": {},
   "toc_section_display": true,
   "toc_window_display": false
  }
 },
 "nbformat": 4,
 "nbformat_minor": 1
}
