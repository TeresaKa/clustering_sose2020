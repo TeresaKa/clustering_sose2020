{
 "cells": [
  {
   "cell_type": "markdown",
   "metadata": {},
   "source": [
    "# Version 1"
   ]
  },
  {
   "cell_type": "markdown",
   "metadata": {},
   "source": [
    "https://medium.com/mlreview/topic-modeling-with-scikit-learn-e80d33668730"
   ]
  },
  {
   "cell_type": "code",
   "execution_count": 58,
   "metadata": {},
   "outputs": [],
   "source": [
    "from sklearn.feature_extraction.text import TfidfVectorizer, CountVectorizer\n",
    "from sklearn.decomposition import NMF, LatentDirichletAllocation\n",
    "import pandas as pd"
   ]
  },
  {
   "cell_type": "code",
   "execution_count": 59,
   "metadata": {},
   "outputs": [],
   "source": [
    "def display_topics(model, feature_names, no_top_words):\n",
    "    for topic_idx, topic in enumerate(model.components_):\n",
    "        message = \"Topic #%d: \" % topic_idx\n",
    "        message += \" \".join([feature_names[i]\n",
    "                             for i in topic.argsort()[:-n_top_words - 1:-1]])\n",
    "        print(message)\n",
    "    print()"
   ]
  },
  {
   "cell_type": "code",
   "execution_count": 60,
   "metadata": {},
   "outputs": [],
   "source": [
    "df = pd.read_csv(\"../../datasets/currently_dataset/song_decades_long.csv\")"
   ]
  },
  {
   "cell_type": "code",
   "execution_count": 61,
   "metadata": {},
   "outputs": [
    {
     "data": {
      "text/html": [
       "<div>\n",
       "<style scoped>\n",
       "    .dataframe tbody tr th:only-of-type {\n",
       "        vertical-align: middle;\n",
       "    }\n",
       "\n",
       "    .dataframe tbody tr th {\n",
       "        vertical-align: top;\n",
       "    }\n",
       "\n",
       "    .dataframe thead th {\n",
       "        text-align: right;\n",
       "    }\n",
       "</style>\n",
       "<table border=\"1\" class=\"dataframe\">\n",
       "  <thead>\n",
       "    <tr style=\"text-align: right;\">\n",
       "      <th></th>\n",
       "      <th>Unnamed: 0</th>\n",
       "      <th>artist</th>\n",
       "      <th>decades</th>\n",
       "      <th>text</th>\n",
       "      <th>stemmed_text</th>\n",
       "      <th>POS</th>\n",
       "      <th>Genre1</th>\n",
       "      <th>genre1</th>\n",
       "      <th>number_of_tokens</th>\n",
       "      <th>number_of_types</th>\n",
       "    </tr>\n",
       "  </thead>\n",
       "  <tbody>\n",
       "    <tr>\n",
       "      <td>0</td>\n",
       "      <td>0</td>\n",
       "      <td>\"Weird Al\" Yankovic</td>\n",
       "      <td>1980s</td>\n",
       "      <td>potato skins  potato cakes  hash browns  and i...</td>\n",
       "      <td>potato skin potato cake hash brown and instan...</td>\n",
       "      <td>french plain enough greasy sour lumpy tough en...</td>\n",
       "      <td>Rock</td>\n",
       "      <td>antiviral pop</td>\n",
       "      <td>12745.0</td>\n",
       "      <td>2264.0</td>\n",
       "    </tr>\n",
       "    <tr>\n",
       "      <td>1</td>\n",
       "      <td>37</td>\n",
       "      <td>\"Weird Al\" Yankovic</td>\n",
       "      <td>1990s</td>\n",
       "      <td>as i walk through the valley where i harvest m...</td>\n",
       "      <td>as i walk through the valley where i harvest ...</td>\n",
       "      <td>plain perfect fancy amish amish hard amish ami...</td>\n",
       "      <td>Rock</td>\n",
       "      <td>antiviral pop</td>\n",
       "      <td>10803.0</td>\n",
       "      <td>2317.0</td>\n",
       "    </tr>\n",
       "  </tbody>\n",
       "</table>\n",
       "</div>"
      ],
      "text/plain": [
       "   Unnamed: 0               artist decades  \\\n",
       "0           0  \"Weird Al\" Yankovic   1980s   \n",
       "1          37  \"Weird Al\" Yankovic   1990s   \n",
       "\n",
       "                                                text  \\\n",
       "0  potato skins  potato cakes  hash browns  and i...   \n",
       "1  as i walk through the valley where i harvest m...   \n",
       "\n",
       "                                        stemmed_text  \\\n",
       "0   potato skin potato cake hash brown and instan...   \n",
       "1   as i walk through the valley where i harvest ...   \n",
       "\n",
       "                                                 POS Genre1         genre1  \\\n",
       "0  french plain enough greasy sour lumpy tough en...   Rock  antiviral pop   \n",
       "1  plain perfect fancy amish amish hard amish ami...   Rock  antiviral pop   \n",
       "\n",
       "   number_of_tokens  number_of_types  \n",
       "0           12745.0           2264.0  \n",
       "1           10803.0           2317.0  "
      ]
     },
     "execution_count": 61,
     "metadata": {},
     "output_type": "execute_result"
    }
   ],
   "source": [
    "df.head(2)"
   ]
  },
  {
   "cell_type": "code",
   "execution_count": 62,
   "metadata": {},
   "outputs": [],
   "source": [
    "documents = df.text"
   ]
  },
  {
   "cell_type": "code",
   "execution_count": 63,
   "metadata": {},
   "outputs": [
    {
     "data": {
      "text/plain": [
       "0       potato skins  potato cakes  hash browns  and i...\n",
       "1       as i walk through the valley where i harvest m...\n",
       "2       jillian was her name  she was sweeter than asp...\n",
       "3       my mama told me when i was hatched  act like a...\n",
       "4       here we go      here we go  one more time  eve...\n",
       "                              ...                        \n",
       "1033    you know i like my chicken fried  cold beer on...\n",
       "1034    we never spoke a word  but every thought she h...\n",
       "1035    well you're walking on the moon  but there's n...\n",
       "1036    i lie awake  i've gone to ground  i'm watching...\n",
       "1037    everybody's worried about time  but i just kee...\n",
       "Name: text, Length: 1038, dtype: object"
      ]
     },
     "execution_count": 63,
     "metadata": {},
     "output_type": "execute_result"
    }
   ],
   "source": [
    "documents"
   ]
  },
  {
   "cell_type": "code",
   "execution_count": 72,
   "metadata": {},
   "outputs": [],
   "source": [
    "no_features = 1000\n",
    "no_topics = 20\n",
    "n_components = 10\n",
    "n_top_words = 20"
   ]
  },
  {
   "cell_type": "code",
   "execution_count": 73,
   "metadata": {},
   "outputs": [],
   "source": [
    "tfidf_vectorizer = TfidfVectorizer(max_df=0.95, min_df=2, max_features=no_features, stop_words='english')\n",
    "tfidf = tfidf_vectorizer.fit_transform(documents)\n",
    "tfidf_feature_names = tfidf_vectorizer.get_feature_names()"
   ]
  },
  {
   "cell_type": "code",
   "execution_count": 74,
   "metadata": {},
   "outputs": [],
   "source": [
    "tf_vectorizer = CountVectorizer(max_df=0.95, min_df=2, max_features=no_features, stop_words='english')\n",
    "tf = tf_vectorizer.fit_transform(documents)\n",
    "tf_feature_names = tf_vectorizer.get_feature_names()"
   ]
  },
  {
   "cell_type": "code",
   "execution_count": 75,
   "metadata": {},
   "outputs": [],
   "source": [
    "nmf = NMF(n_components=no_topics, random_state=1, alpha=.1, l1_ratio=.5, init='nndsvd').fit(tfidf)"
   ]
  },
  {
   "cell_type": "code",
   "execution_count": 76,
   "metadata": {},
   "outputs": [],
   "source": [
    "lda = LatentDirichletAllocation(n_components=no_topics, max_iter=5,\n",
    "                                learning_method='online',\n",
    "                                learning_offset=50.,\n",
    "                                random_state=0)"
   ]
  },
  {
   "cell_type": "code",
   "execution_count": 135,
   "metadata": {},
   "outputs": [
    {
     "name": "stdout",
     "output_type": "stream",
     "text": [
      "Topic #0: ve way say let away life come got world make feel cause day heart night eyes right love gonna think\n",
      "Topic #1: nigga niggas shit fuck bitch ya yo ain got ass wit em bitches money niggaz gon fuckin cause hoes hit\n",
      "Topic #2: love heart need feel forever say let ain make hold somebody ve life lonely gonna arms true chance woman want\n",
      "Topic #3: la eh sing boy di let oh yeah day bout song boom brown home fun hey radio rock round miles\n",
      "Topic #4: ooh ah ready got hold boom woo say ha run magic come wild gettin money somebody matter stop gotta feeling\n",
      "Topic #5: na di eh chorus freak oo verse ma mama dirty oh everybody pre bow ooo ain boy boom crazy pulled\n",
      "Topic #6: oh whoa ah gonna cause yeah love christmas eh tonight boy bye woo verse yes come tell em ay chorus\n",
      "Topic #7: got ain man said little old gonna good woman home boy big blues roll town rock mama em nothin lord\n",
      "Topic #8: yeah oh gotta gonna beautiful got alright ha everybody whoa ya right ah hey party love tell feeling rock want\n",
      "Topic #9: baby got oh love yeah let right come want babe ain need make ooh whoa ya girl tonight lovin cause\n",
      "Topic #10: da bang oo run bar whoa cha bow boom music woo going gonna funky feel body brain ride shout cause\n",
      "Topic #11: girl little ya daddy cause bigger gon ain tell gotta girls gonna yea tryna says yo lips favorite let queen\n",
      "Topic #12: wanna let tonight make verse cause pre gotta breathe party right dirty chorus ya shoot body feel bout need hold\n",
      "Topic #13: lord god jesus glory holy thank sing mercy soul pray life grace blood yes cross son lift heaven spirit free\n",
      "Topic #14: dance magic dancing dancin rock beat night gimme romance play boys wants sex really darlin ya want shake ooo bar\n",
      "Topic #15: ba quit goin flow check blues ah kinda goodbye kiss machine let ways middle ay gonna eat hello bang low\n",
      "Topic #16: doo bop jump skin run streets feelin takin ah man little push road good send doing stuff jesus em thinkin\n",
      "Topic #17: want need gonna rock cha say tonight believe anymore phone tell ha really easy think gotta yea talk guy trip\n",
      "Topic #18: huh uh yo summer come mon tryin wait money pride ya got babe bum leave tired fight better beat crack\n",
      "Topic #19: hey hello ha sky real live free ride scream party wall burn stone knees life need today crazy dj world\n",
      "\n"
     ]
    }
   ],
   "source": [
    "no_top_words = 10\n",
    "display_topics(nmf, tfidf_feature_names, no_top_words)\n",
    "#display_topics(lda, tf_feature_names, no_top_words)"
   ]
  },
  {
   "cell_type": "markdown",
   "metadata": {},
   "source": [
    "# Version 2"
   ]
  },
  {
   "cell_type": "markdown",
   "metadata": {},
   "source": [
    "https://github.com/derekgreene/topic-model-tutorial"
   ]
  },
  {
   "cell_type": "markdown",
   "metadata": {},
   "source": [
    "## Text Preprocessing"
   ]
  },
  {
   "cell_type": "code",
   "execution_count": 84,
   "metadata": {},
   "outputs": [
    {
     "name": "stdout",
     "output_type": "stream",
     "text": [
      "Stopword list has 2640 entries\n"
     ]
    }
   ],
   "source": [
    "custom_stop_words = []\n",
    "with open( \"stopwords.txt\", \"r\", encoding=\"utf8\" ) as fin:\n",
    "    for line in fin.readlines():\n",
    "        custom_stop_words.append( line.strip() )\n",
    "# note that we need to make it hashable\n",
    "print(\"Stopword list has %d entries\" % len(custom_stop_words) )"
   ]
  },
  {
   "cell_type": "code",
   "execution_count": 85,
   "metadata": {},
   "outputs": [
    {
     "name": "stderr",
     "output_type": "stream",
     "text": [
      "C:\\ProgramData\\Anaconda3\\lib\\site-packages\\sklearn\\feature_extraction\\text.py:300: UserWarning: Your stop_words may be inconsistent with your preprocessing. Tokenizing the stop words generated tokens ['00', '000', '000000', '001', '0011', '0014', '0016', '001a', '001h10', '001l', '001z', '002', '002h', '003', '003v', '004', '004l', '005', '006', '006a', '006c0', '006l', '007', '007a', '008', '008a', '009c', '01', '010', '011', '0110', '0111', '0113', '0114', '0115', '012', '013', '014', '015', '016', '017', '018', '019', '019a1', '01c', '01l', '02', '023a1', '023c11', '024c4', '02c', '032', '038', '03t16', '03t19', '03t23', '04', '041', '042', '044h', '046', '047zm9', '049', '04a', '04z', '05', '057', '05a2', '05t23', '06', '064', '064l6', '066', '068a', '06a', '06l', '06l1', '06l10', '06l11', '06l13', '06l14', '06l2', '06l3', '06l4', '06l6', '06l7', '06l8', '06l9', '06z', '07', '072', '073', '073l9', '074', '078', '078c1', '07r', '08', '082', '084', '084a', '086', '086a1', '086zm11', '087a', '088', '09', '090269e327597d1f40067179c632a2458093eb541980d66ef5ef3713288617e9', '091', '096', '097', '098', '0a', '0a1', '0a4', '0a8', '0c', '0c2', '0c3', '0e3252cb', '0e7d6237a993d0f3b2d976155f31e208444e1d5f174caaaf3389b2e76293328c', '0f7474ea1664f11dcdd85eba43236d71b5ccbf5b0d0b6ca0d9aa178eeba40c92', '0h1', '0h2', '0h8', '0l', '0l1', '0l10', '0l2', '0l3', '0l5', '0l6', '0l8', '0qkcidpfjgd13b0fw6wxcdkxzbvws8nxr4qkcjzipvrghdfsp2ylxje75irfjmfbieyvnrj', '0v', '0v1', '0v12', '0v2', '0v3', '0v3a', '0v3h2', '0v5', '0v5a2', '0v8', '0z', '0zm', '0zm0', '0zm3', '0zm5', '0zm6', '0zm8', '10', '100', '101', '102', '103', '104', '104863604', '106', '107', '108', '108l', '109', '10px', '11', '110', '111', '1113', '1116', '112', '113', '114', '115', '116', '117', '117a', '118', '119', '11a1', '11h1', '12', '120', '121', '122', '122a2', '122v5', '122v6a2', '123', '124', '125', '126', '127', '128', '128a2', '129', '12a', '12h3', '12h6', '13', '130', '131', '132', '132a', '133', '133a1', '134', '135', '136', '136c', '136zm8', '137', '138', '139', '139l1', '13h', '13h2', '13zm0', '14', '140', '1401488693436528', '141', '142', '143', '144', '145', '146', '147', '1477376905', '148', '149', '149l', '14c1', '14f5aff4525c6ea1712dcac3b8e93d6e52e8e9efbf19eefba957a793724e32f0', '15', '150', '151', '152', '153', '154', '155', '156', '157', '158', '159', '1593783731096', '15h1', '15h5', '15l', '15s16', '16', '160', '161', '162', '163', '164', '164a', '165', '166', '167', '168', '169', '16a2', '16a8', '16h12', '16h6', '16z', '17', '170', '171', '172', '173', '174', '175', '175l', '176', '177', '177l7', '178', '179', '18', '180', '180px', '181', '182', '183', '184', '184a', '185', '185px', '186', '187', '188', '189', '18h', '18zm7', '19', '190', '191', '192', '192a', '193', '194', '194l', '195', '196', '197', '198', '199', '19a', '19c', '1a', '1a1', '1c0a312', '1d19df706e3aa48e98104f9fb3ecc5f828bb190aa3d10329a9b2c8002bca5729', '1e2327', '1f334', '1f3af', '1f3e0', '1f912', '1h1', '1h2', '1h4', '1h8zm5', '1px', '1v', '1v1', '1v4h1a1', '1v5', '1v9h', '1zm9', '20', '200', '201', '202', '2020', '203', '204', '205', '206', '207', '208', '208v2', '209', '20px', '21', '210', '211', '212', '213', '213c', '214', '214l4', '215', '216', '217', '218', '219', '22', '220', '220px', '221', '222', '223', '224', '225', '225h', '225l', '226', '227', '227a', '227z', '228', '229', '22a', '23', '230', '231', '232', '233', '234', '235', '236', '237', '237l', '238', '238v7c0', '239', '24', '240', '241', '242', '243', '243c', '244', '245', '245a', '246', '247', '248', '249', '24l4', '24px', '25', '250', '251', '252', '253', '253a2', '253c1', '254', '255', '256', '256a2', '257', '258', '259', '25a', '25a1', '25a2', '25h', '25h1', '25h12', '25h14', '25h2', '25h2a', '25l9', '25v', '25v1', '25v10', '25v12', '25v2', '25v3', '25v3h', '25v7', '25z', '25zm0', '25zm11', '25zm14', '25zm4', '25zm6', '26', '260', '261', '262', '263', '263a', '264', '265', '266', '267', '268', '269', '27', '270', '271', '272', '273', '274', '275', '276', '277', '278', '279', '279l', '27caa82', '28', '280', '281', '282', '283', '284', '285', '286', '286z', '287', '287a', '288', '289', '28a', '28l4', '29', '290', '291', '292', '293', '294', '295', '296', '297', '297a', '298', '298c13', '299', '2a', '2c', '2c1bded638ef5a812503b22591d1998e0565b2a6670ccd5b51874f60e616002f', '2h', '2h12', '2k8ddhk0yt52ukvovgc9cwoxoejhxbfvp5kps2brcdytdmteij2yone26vfenayk1a2afq7kdgeevrqafuaf8a', '2l1', '2px', '2v', '2z', '2zm0', '2zm7', '30', '300', '301', '302', '303', '304', '305', '306', '307', '308', '309', '31', '310', '311', '312', '313', '314', '315', '316', '317', '318', '319', '31c', '31l', '32', '320', '321', '322', '322zm', '323', '324', '324l', '325', '326', '327', '328', '329', '32c', '32l6', '32s', '33', '330', '331', '332', '333', '334', '335', '336', '337', '338', '339', '33vh', '34', '340', '341', '342', '343', '344', '345', '346', '347', '347l', '348', '349', '34c', '35', '350', '354', '354l', '354zm3', '356', '357', '358', '35zm5', '35zm8', '36', '360px', '364', '366', '367', '368h12', '368l8', '36l1', '37', '371', '372a2', '374a', '3769691', '378a', '378a1', '379', '38', '38a8', '38v7', '3a', '3a1', '3a2', '3v1', '3z', '3zm1', '3zm13', '40', '400', '405', '41', '412', '414', '416', '4160974', '418', '418l1', '41l', '41l8', '42', '423', '427', '427a', '427a1', '428l6', '429a', '43', '431', '431c', '431v', '432', '439', '43a', '44', '440fc52803ea30455ae4dba43813bdfe2dfa7c3c641ead4ec29df7858d524489', '442v5', '445', '445l', '445l6', '447', '45', '456', '456a', '457', '45a', '46', '467', '47', '472', '473', '474', '474l', '47a', '48', '482', '488', '48a', '48a1', '48v7c0', '49', '492', '495', '496', '498', '499', '4gcswgoe36', '4pfwt8bmmmhq', '4yaluojig50zypubiwiucrdo6jebf2twvmd5aelxgpqjo', '4z', '50', '501a3', '504', '507a2', '51', '518', '518a1', '52', '527', '528', '53', '53a', '53px', '54', '543', '55', '554a', '554a1', '555a1', '556a', '558', '558a', '559a', '56', '564', '565', '566', '566a5', '56757609', '57', '572l', '573', '574z', '575l6', '576l', '57l3', '58', '582', '585', '59', '591', '59c4264f', '5a', '5a1', '5a2', '5a3', '5a5', '5a6', '5c', '5c0', '5c1', '5c10', '5d6cf91d', '5e6827ef', '5eff35ad', '5em', '5h', '5h1', '5h12', '5h2', '5h3', '5h4', '5h5', '5h5v1', '5h6', '5h6a1', '5twieackpeumxwywzze34x33taa3kppgb', '5v', '5v1', '5v2', '5v4', '5v9h', '5v9h3', '5z', '5zm', '5zm1', '5zm3', '5zm8', '60', '602', '61', '611l7', '612a', '613', '614', '615', '619', '61c', '61zm1', '62', '621', '621a', '621a2', '622', '62491272839454b5084a5aa189a9be8e', '628a2', '629', '63', '636a', '637', '638', '63a3', '64', '65', '652', '657l', '659', '659l', '66', '664l', '664l2', '666', '667l5', '668a', '67', '671', '673', '675a', '677a', '678', '679', '68', '681', '682', '683', '68a', '68a1', '68zm', '68zm9', '69', '694', '694v', '698', '69c0', '69l', '6a', '6a1', '6aicxsi6ouxx2y1mzdhtm6l14c7rdjg99ke', '6z', '70', '703', '704dbcc8', '707c', '71', '714', '715', '715c2', '716', '717a', '717c10', '717c5', '719', '72', '723l3', '727a1', '727c', '72a', '72z', '73', '74', '741', '742', '744', '74a6', '75', '754a', '754zm', '755', '756', '757a', '757a3', '757c', '757h3', '758', '758l8', '75a', '75a1', '75a2', '75c', '75c2', '75c5', '75h', '75h14', '75l1', '75v', '75v1', '75v10', '75v12', '75v2', '75v3', '75v4', '75v7', '75z', '75zm', '75zm0', '75zm1', '75zm10', '75zm11', '75zm14', '75zm4', '75zm8', '76', '763', '765', '766', '769', '77', '772', '78', '784', '78a', '78s', '78z', '78zm5', '79', '791l8', '792a', '797', '798c', '79c', '79l', '79s', '7a', '7a35c0ca6187de854166d1dec7dacca6c6547dc87b8087851ebe8223e5ad7323', '7a4', '7a5747e2a26944f47a6a10e5b729c7bdf6ad7bea5039ea1777212341384d4a6c', '7b1c37cabec193d176590b37b8e8806065b2b59ffbd553be9d4a7edadfd41cb8', '7c196d9d6e51b99ba931b4b218bbfbd6fd17ff1f264790c0d922af179c5f3354', '7h12', '7h4a1', '7v3', '7zm', '80', '81', '811', '813', '815', '818', '81l', '82', '824', '825', '82a', '83', '836a2', '84', '85', '854v4', '855a1', '855c1', '86', '87', '872', '878a', '878a2', '878zm3', '87l', '88', '882', '885', '88667632c75fdd27cb2c5c7271f37f80d6e416a86954a3cadba378b057d0ef73', '89', '8a1', '8a2', '8a6', '8a8', '8affb8c8', '8c', '8c0', '8d13f0b19141664e042da8f39ee4f439857431dbab05ed0545a0a1ba1bbfe3dc', '8l', '8l1', '8l3', '8z', '8zhxvog4zq', '8zm9', '90', '91', '918a1', '92', '927', '928l', '929', '92qyre6kwya9viuoq', '93', '932', '932c', '933', '93a', '94', '946', '947c0', '947v5z', '94l', '94l3', '94l6', '95', '953', '954', '955', '956', '96', '964l', '967', '97', '97a', '97l', '97v5a3', '97z', '98', '981', '982a5', '983', '984', '985', '98a', '99', '992', '994', '998', '9a1', '9zm10', '_graphql', '_method', '_private', '_sockets', '_ws', 'a1a34e67597bc2e5c08833a5af900c8d', 'about', 'above', 'absolute', 'accept', 'according', 'account', 'across', 'action', 'actions', 'actions_manual_run', 'actor', 'actually', 'add', 'adj', 'after', 'afterwards', 'again', 'ajax', 'ajs68g6u7h5aced8el7pujojksuh9nxhuwk7', 'akn', 'alert', 'alerts', 'alias', 'align', 'alive', 'all', 'almost', 'along', 'already', 'also', 'alt', 'alternate', 'although', 'always', 'am', 'amazonaws', 'among', 'amongst', 'amp', 'an', 'analytics', 'and', 'anim', 'anonymous', 'another', 'any', 'anyhow', 'anyone', 'anything', 'anywhere', 'api', 'app', 'app_id', 'apple', 'application', 'are', 'aren', 'arent', 'aria', 'around', 'as', 'assets', 'assign', 'assigned', 'async', 'at', 'atom', 'authenticity_token', 'author', 'auto', 'autocapitalize', 'autocomplete', 'autofocus', 'availability', 'avatar', 'avatars0', 'avatars1', 'avatars2', 'avatars3', 'awvmv0fr0zyw3eqawzdlfa', 'badge', 'banner', 'bar', 'bars', 'base', 'baseline', 'be', 'became', 'because', 'become', 'becomes', 'been', 'beforehand', 'begin', 'being', 'bell', 'below', 'beside', 'besides', 'beta', 'between', 'bg', 'billion', 'billions', 'blame', 'blob', 'blob_contributors', 'blobtoolbar', 'block', 'blog', 'blue', 'bmfyzprx2a', 'body', 'bold', 'book', 'bootstrap', 'border', 'both', 'bottom', 'bowho4gtjcbyze8j43w', 'box', 'br', 'branch', 'branches', 'breadcrumb', 'break', 'browser', 'browser_event', 'bsjfqp97jkoccruwhpi7crqsfendhiswejcopzee0nkm5lslvlyw', 'btn', 'btngroup', 'busy', 'but', 'button', 'by', 'c0yo4xw6rvflk6gdfgowaldjqtpnyvjjwvh6xkikkka0pinjacap3zekzuptbqwza6w8', 'c1kud', 'can', 'cannot', 'canonical', 'cant', 'caption', 'capture', 'card', 'caret', 'cc38', 'ce28yln9o04w5dxhwewjeerr', 'cell', 'center', 'channel', 'characters', 'charset', 'check', 'checkbox', 'checked', 'checks', 'choose', 'chromeless', 'circle', 'class', 'classes', 'clear', 'clearable', 'clearfix', 'click', 'clicks', 'client', 'clipboard', 'close', 'close_modal', 'cloud', 'cmkrlry6n93imk', 'co', 'code', 'code_scanning', 'col', 'collaborate', 'collapsed', 'collector', 'color', 'column', 'com', 'combobox', 'come', 'commit', 'commits', 'compact', 'compat', 'condensed', 'conditional', 'contact', 'container', 'content', 'contentinfo', 'contents', 'context', 'contrib', 'contributors', 'control', 'controls', 'conversations', 'copy', 'could', 'couldn', 'couldnt', 'count', 'counter', 'create', 'created', 'credentials', 'crossorigin', 'csrf', 'css', 'current', 'cursor', 'custom', 'd2a90289d3df8c6775ddbd1f5bac3108', 'd3194f85d0d0af8184351b005892518341331fc2', 'd44fce3f29e566af5cf95100162fbb729f1eccd0', 'd6f45dcee2c3fd9550656248ad0293f92156878d35422e99211d2a1815503ad1', 'da4f1d0c', 'danger', 'dark', 'dart', 'dashboard', 'data', 'date', 'dczzabhq9atntjjdmo5b7sv0j', 'default', 'delete', 'dependabot_updates', 'dependency_graph', 'derekgreene', 'describedby', 'description', 'desktop', 'details', 'detection', 'developer', 'developers', 'device', 'dialog', 'did', 'didn', 'didnt', 'dimension', 'dimension1', 'dimension10', 'dimensions', 'disable', 'disabled', 'discussion', 'dismiss', 'display', 'div', 'divider', 'djjsy0gdogm5bxtxcttlhqcunljrvcfu0hq0wnxgkmy6z3a5xc8ay2o5629xo44uaipak08psiigih60zkqvtq', 'dns', 'do', 'doctype', 'does', 'doesn', 'doesnt', 'don', 'dont', 'down', 'dr', 'drag', 'drop', 'dropdown', 'during', 'e0671258', 'e0a8a550423e41464b54331f8d1fc395147578a1e138ff8b4a0f40539a071e39', 'e1a49ab371b2335dafd8b6f00a9ae5bc877af0af1bab7eadc755994f595334ba', 'e4vmdkqet5m073', 'e9bf9abf5f4f2de9c1be79f5c6ce2c6bd20a87f4b45dd28ec52eddc1a308b793', 'each', 'early', 'eda7920d24ac4c22c59e5484a935c66985322b328ea20956fbf9b2ca7b89ecba', 'edit', 'edit_user_status', 'ee204d582bf99070e72391958449677b6f915c0db995e267806847cbfee15c86', 'eeb706dcf0e987422a81eee78e717733ca3594430f45435aca5362253aa4035e', 'eg', 'eight', 'eighty', 'either', 'eleven', 'else', 'elsewhere', 'emoji', 'en', 'enabled', 'end', 'ending', 'enough', 'enrollment', 'env', 'environment', 'equiv', 'error', 'errors', 'etc', 'even', 'evenodd', 'event', 'event_type', 'ever', 'every', 'everywhere', 'except', 'expanded', 'expander', 'expected', 'expiration', 'expire', 'expires_at', 'explore', 'external', 'eye', 'eyj2ijoivjmilcj1ijo1njc1nzywoswicyi6nta4mzmzmzm2lcjjijo0mta2nju1mtm2lcj0ijoxntkznzgznzmxfq', 'eyjjijoibm90awzpy2f0aw9ulwnoyw5nzwq6nty3ntc2mdkilcj0ijoxntkznzgznzmxfq', 'eyjyzwzlcnjlcii6imh0dhbzoi8vz2l0ahvilmnvbs9kzxjla2dyzwvuzs90b3bpyy1tb2rlbc10dxrvcmlhbcisinjlcxvlc3rfawqioijdqzm4okyzmki6mumwqtmxmjoyn0nbqtgyojvfrkyznufeiiwidmlzaxrvcl9pzci6ijyyodixmdywmdgxmtexmtk5otyilcjyzwdpb25fzwrnzsi6imftcyisinjlz2lvbl9yzw5kzxiioijpywqifq', 'f02ef45640b94fc13f766c2dd78d6e6e5d5cc0836ad623c29d92d4968351ce82', 'f3', 'f32b', 'f5', 'f6', 'f6fae3c799c0808a563da2d0f9c9b4e7', 'face_with_thermometer', 'fade', 'fallback', 'false', 'fast', 'favicon', 'favicons', 'fb', 'feature', 'feature_preview', 'feature_previews', 'features', 'feecb8f4bc5dce34742f7eae4fa0a799', 'few', 'field', 'fifteen', 'fifth', 'fifty', 'file', 'filepath', 'fill', 'final', 'find', 'find_file_button', 'first', 'fit', 'five', 'fixed', 'flash', 'flex', 'float', 'fluid', 'fluidicon', 'fn', 'focus', 'focusing', 'footer', 'for', 'fork', 'fork_button', 'forked', 'form', 'forty', 'found', 'four', 'fourteen', 'fourth', 'fr', 'fragment', 'frameworks', 'from', 'full', 'further', 'ga', 'ga_id', 'get', 'getsuggestednavigationdestinations', 'gif', 'gist', 'gists', 'git', 'github', 'githubapp', 'githubassets', 'githubstatus', 'githubusercontent', 'global', 'global_header', 'go', 'google', 'graph', 'gray', 'group', 'grow', 'gt', 'gxs5kouukncoaazn7wpn', 'h1', 'h2', 'h3', 'h4', 'h4jxkrq', 'h6', 'h7fqwkmk6lueed9eqxynrcetgrkh6dnq', 'h8ewgwx4e2lorkjohr14egwg', 'had', 'hadnt', 'happening', 'has', 'hasfilter', 'hash', 'hasn', 'hasnt', 'haspopup', 'have', 'haven', 'havent', 'he', 'head', 'header', 'heading', 'height', 'hellip', 'help', 'hence', 'her', 'here', 'hereafter', 'hereby', 'herein', 'hereupon', 'hers', 'hidden', 'hide', 'highlight', 'him', 'his', 'hmac', 'home', 'homepage', 'horizontal', 'host', 'hostname', 'hotkey', 'hour', 'hours', 'house', 'hovercard', 'hovercards', 'how', 'however', 'hqsj2gq', 'hr', 'href', 'hsuomksxrlchkx', 'html', 'http', 'https', 'hundred', 'hundredth', 'hx_rsm', 'hx_underlinenav', 'hydro', 'i0tqqy0sbg3mmmzbvftceewlxsdqkum5x', 'i5fvxncsxwyg1csfcrqmlfw', 'icon', 'icons', 'id', 'ie', 'if', 'ignore', 'ignoring', 'image', 'images', 'img', 'import', 'in', 'inc', 'include', 'included', 'indeed', 'index', 'indicator', 'indicator_check', 'info', 'inline', 'inner', 'input', 'insights', 'instead', 'integrations', 'integrity', 'interval', 'into', 'is', 'isn', 'isnt', 'issue', 'issues', 'it', 'item', 'itemprop', 'items', 'itemscope', 'itemtype', 'its', 'itself', 'itunes', 'iv', 'ja_wbfyt4umy', 'javascript', 'js', 'json', 'jump', 'jumpto', 'just', 'justify', 'jznsd4kpu6iknwc', 'k2hivf635lypcswpod4kilo5', 'kb', 'kc6wcy3iccboeyvanvuizyaa', 'kebab', 'keep', 'key', 'keyboard', 'keys', 'know', 'kt5gs8h0wvaaglkavwq8bbenwnzzk1r1xqysx3xurlu', 'l1', 'l10', 'l100', 'l101', 'l102', 'l103', 'l104', 'l105', 'l106', 'l107', 'l108', 'l109', 'l11', 'l110', 'l111', 'l112', 'l113', 'l114', 'l115', 'l116', 'l117', 'l118', 'l119', 'l12', 'l120', 'l121', 'l122', 'l123', 'l124', 'l125', 'l126', 'l127', 'l128', 'l129', 'l13', 'l130', 'l131', 'l132', 'l133', 'l134', 'l135', 'l136', 'l137', 'l138', 'l139', 'l14', 'l140', 'l141', 'l142', 'l143', 'l144', 'l145', 'l146', 'l147', 'l148', 'l149', 'l15', 'l150', 'l151', 'l152', 'l153', 'l154', 'l155', 'l156', 'l157', 'l158', 'l159', 'l16', 'l160', 'l161', 'l162', 'l163', 'l164', 'l165', 'l166', 'l167', 'l168', 'l169', 'l17', 'l170', 'l171', 'l172', 'l173', 'l174', 'l175', 'l176', 'l177', 'l178', 'l179', 'l18', 'l180', 'l181', 'l182', 'l183', 'l184', 'l185', 'l186', 'l187', 'l188', 'l189', 'l19', 'l190', 'l191', 'l192', 'l193', 'l194', 'l195', 'l196', 'l197', 'l198', 'l199', 'l1biq64cup9jeq', 'l2', 'l20', 'l200', 'l201', 'l202', 'l203', 'l204', 'l205', 'l206', 'l207', 'l208', 'l209', 'l21', 'l210', 'l211', 'l212', 'l213', 'l214', 'l215', 'l216', 'l217', 'l218', 'l219', 'l22', 'l220', 'l221', 'l222', 'l223', 'l224', 'l225', 'l226', 'l227', 'l228', 'l229', 'l23', 'l230', 'l231', 'l232', 'l233', 'l234', 'l235', 'l236', 'l237', 'l238', 'l239', 'l24', 'l240', 'l241', 'l242', 'l243', 'l244', 'l245', 'l246', 'l247', 'l248', 'l249', 'l25', 'l250', 'l251', 'l252', 'l253', 'l254', 'l255', 'l256', 'l257', 'l258', 'l259', 'l26', 'l260', 'l261', 'l262', 'l263', 'l264', 'l265', 'l266', 'l267', 'l268', 'l269', 'l27', 'l270', 'l271', 'l272', 'l273', 'l274', 'l275', 'l276', 'l277', 'l278', 'l279', 'l28', 'l280', 'l281', 'l282', 'l283', 'l284', 'l285', 'l286', 'l287', 'l288', 'l289', 'l29', 'l290', 'l291', 'l292', 'l293', 'l294', 'l295', 'l296', 'l297', 'l298', 'l299', 'l3', 'l30', 'l300', 'l301', 'l302', 'l303', 'l304', 'l305', 'l306', 'l307', 'l308', 'l309', 'l31', 'l310', 'l311', 'l312', 'l313', 'l314', 'l315', 'l316', 'l317', 'l318', 'l319', 'l32', 'l320', 'l321', 'l322', 'l323', 'l324', 'l325', 'l326', 'l327', 'l328', 'l329', 'l33', 'l330', 'l331', 'l332', 'l333', 'l334', 'l335', 'l336', 'l337', 'l338', 'l339', 'l34', 'l340', 'l341', 'l342', 'l343', 'l344', 'l345', 'l346', 'l347', 'l348', 'l349', 'l35', 'l350', 'l36', 'l37', 'l38', 'l39', 'l4', 'l40', 'l41', 'l42', 'l43', 'l44', 'l45', 'l46', 'l47', 'l48', 'l49', 'l5', 'l50', 'l51', 'l52', 'l53', 'l54', 'l55', 'l56', 'l57', 'l58', 'l59', 'l6', 'l60', 'l61', 'l62', 'l63', 'l64', 'l65', 'l66', 'l67', 'l68', 'l69', 'l7', 'l70', 'l71', 'l72', 'l73', 'l74', 'l75', 'l76', 'l77', 'l78', 'l79', 'l8', 'l80', 'l81', 'l82', 'l83', 'l84', 'l85', 'l86', 'l87', 'l88', 'l89', 'l9', 'l90', 'l91', 'l92', 'l93', 'l94', 'l95', 'l96', 'l97', 'l98', 'l99', 'label', 'lang', 'large', 'last', 'late', 'later', 'lc1', 'lc10', 'lc100', 'lc101', 'lc102', 'lc103', 'lc104', 'lc105', 'lc106', 'lc107', 'lc108', 'lc109', 'lc11', 'lc110', 'lc111', 'lc112', 'lc113', 'lc114', 'lc115', 'lc116', 'lc117', 'lc118', 'lc119', 'lc12', 'lc120', 'lc121', 'lc122', 'lc123', 'lc124', 'lc125', 'lc126', 'lc127', 'lc128', 'lc129', 'lc13', 'lc130', 'lc131', 'lc132', 'lc133', 'lc134', 'lc135', 'lc136', 'lc137', 'lc138', 'lc139', 'lc14', 'lc140', 'lc141', 'lc142', 'lc143', 'lc144', 'lc145', 'lc146', 'lc147', 'lc148', 'lc149', 'lc15', 'lc150', 'lc151', 'lc152', 'lc153', 'lc154', 'lc155', 'lc156', 'lc157', 'lc158', 'lc159', 'lc16', 'lc160', 'lc161', 'lc162', 'lc163', 'lc164', 'lc165', 'lc166', 'lc167', 'lc168', 'lc169', 'lc17', 'lc170', 'lc171', 'lc172', 'lc173', 'lc174', 'lc175', 'lc176', 'lc177', 'lc178', 'lc179', 'lc18', 'lc180', 'lc181', 'lc182', 'lc183', 'lc184', 'lc185', 'lc186', 'lc187', 'lc188', 'lc189', 'lc19', 'lc190', 'lc191', 'lc192', 'lc193', 'lc194', 'lc195', 'lc196', 'lc197', 'lc198', 'lc199', 'lc2', 'lc20', 'lc200', 'lc201', 'lc202', 'lc203', 'lc204', 'lc205', 'lc206', 'lc207', 'lc208', 'lc209', 'lc21', 'lc210', 'lc211', 'lc212', 'lc213', 'lc214', 'lc215', 'lc216', 'lc217', 'lc218', 'lc219', 'lc22', 'lc220', 'lc221', 'lc222', 'lc223', 'lc224', 'lc225', 'lc226', 'lc227', 'lc228', 'lc229', 'lc23', 'lc230', 'lc231', 'lc232', 'lc233', 'lc234', 'lc235', 'lc236', 'lc237', 'lc238', 'lc239', 'lc24', 'lc240', 'lc241', 'lc242', 'lc243', 'lc244', 'lc245', 'lc246', 'lc247', 'lc248', 'lc249', 'lc25', 'lc250', 'lc251', 'lc252', 'lc253', 'lc254', 'lc255', 'lc256', 'lc257', 'lc258', 'lc259', 'lc26', 'lc260', 'lc261', 'lc262', 'lc263', 'lc264', 'lc265', 'lc266', 'lc267', 'lc268', 'lc269', 'lc27', 'lc270', 'lc271', 'lc272', 'lc273', 'lc274', 'lc275', 'lc276', 'lc277', 'lc278', 'lc279', 'lc28', 'lc280', 'lc281', 'lc282', 'lc283', 'lc284', 'lc285', 'lc286', 'lc287', 'lc288', 'lc289', 'lc29', 'lc290', 'lc291', 'lc292', 'lc293', 'lc294', 'lc295', 'lc296', 'lc297', 'lc298', 'lc299', 'lc3', 'lc30', 'lc300', 'lc301', 'lc302', 'lc303', 'lc304', 'lc305', 'lc306', 'lc307', 'lc308', 'lc309', 'lc31', 'lc310', 'lc311', 'lc312', 'lc313', 'lc314', 'lc315', 'lc316', 'lc317', 'lc318', 'lc319', 'lc32', 'lc320', 'lc321', 'lc322', 'lc323', 'lc324', 'lc325', 'lc326', 'lc327', 'lc328', 'lc329', 'lc33', 'lc330', 'lc331', 'lc332', 'lc333', 'lc334', 'lc335', 'lc336', 'lc337', 'lc338', 'lc339', 'lc34', 'lc340', 'lc341', 'lc342', 'lc343', 'lc344', 'lc345', 'lc346', 'lc347', 'lc348', 'lc349', 'lc35', 'lc350', 'lc36', 'lc37', 'lc38', 'lc39', 'lc4', 'lc40', 'lc41', 'lc42', 'lc43', 'lc44', 'lc45', 'lc46', 'lc47', 'lc48', 'lc49', 'lc5', 'lc50', 'lc51', 'lc52', 'lc53', 'lc54', 'lc55', 'lc56', 'lc57', 'lc58', 'lc59', 'lc6', 'lc60', 'lc61', 'lc62', 'lc63', 'lc64', 'lc65', 'lc66', 'lc67', 'lc68', 'lc69', 'lc7', 'lc70', 'lc71', 'lc72', 'lc73', 'lc74', 'lc75', 'lc76', 'lc77', 'lc78', 'lc79', 'lc8', 'lc80', 'lc81', 'lc82', 'lc83', 'lc84', 'lc85', 'lc86', 'lc87', 'lc88', 'lc89', 'lc9', 'lc90', 'lc91', 'lc92', 'lc93', 'lc94', 'lc95', 'lc96', 'lc97', 'lc98', 'lc99', 'learn', 'left', 'less', 'let', 'lg', 'lh', 'li', 'light', 'like', 'likely', 'limited', 'limited_availability', 'line', 'linejump', 'lines', 'link', 'link_location', 'link_mentions', 'link_type', 'links', 'list', 'listbox', 'll', 'lma4g17nmme2r8dpsln9mtyl7khmg', 'loader', 'loading', 'location', 'logged', 'login', 'logo', 'logout', 'lt', 'lt2', 'ltd', 'm0', 'm1', 'm11', 'm13', 'm14', 'm2', 'm3', 'm4', 'm5', 'm6', 'm7', 'm8', 'mac', 'made', 'mail', 'main', 'make', 'makes', 'manifest', 'many', 'margin', 'mark', 'markdown', 'marketplace', 'marketplace_click', 'marketplace_pending_installations', 'mask', 'master', 'max', 'maxfc005iyifz3hkwhdnrpc2b', 'maxlength', 'may', 'maybe', 'mb', 'md', 'me', 'meantime', 'meanwhile', 'media', 'members', 'mention', 'mention_suggester', 'mentioned', 'menu', 'menuitem', 'menuitemradio', 'message', 'meta', 'method', 'middle', 'might', 'million', 'millions', 'min', 'mine', 'minute', 'minutes', 'miss', 'ml', 'modal', 'model', 'models', 'modifier', 'module', 'mono', 'more', 'most', 'mostly', 'mr', 'mrs', 'ms', 'mt', 'mtg2zjm5mzkwy2m5ztawzdrjnwjiztllmzgxyzkwzddmoduznte0zjnmzgzmognhm2nkmtbjmmrmmjljm2u0ynx7injlbw90zv9hzgryzxnzijoiotiunzqunzyumiisinjlcxvlc3rfawqioijdqzm4okyzmki6mumwqtmxmjoyn0nbqtgyojvfrkyznufeiiwidgltzxn0yw1wijoxntkznzgznzmxlcjob3n0ijoiz2l0ahvilmnvbsj9', 'mu9aoznog', 'much', 'must', 'mute', 'mx', 'my', 'myrr3npv52fnpkbf5kj3h', 'myself', 'myvl6f3gcvbxykazxts', 'n1', 'n2', 'n3', 'name', 'namely', 'nav', 'nav_bar', 'navigation', 'nbsp', 'near', 'neither', 'network', 'never', 'nevertheless', 'new', 'new_repo_project', 'next', 'nine', 'ninety', 'no', 'nobody', 'non', 'nonce', 'none', 'nonetheless', 'noone', 'nor', 'normal', 'not', 'note', 'notification', 'notifications', 'notified', 'now', 'nowrap', 'nsltqbnkqylwkthxot7icdquh94etcgvmxlm5dzwxahkgergfy1yc2zfzw', 'num', 'number', 'nw', 'object', 'octicon', 'octo', 'octocat', 'octoface', 'octolytics', 'of', 'off', 'often', 'og', 'on', 'once', 'one', 'only', 'onto', 'open', 'open_modal', 'opened', 'openrepo', 'opensearch', 'opensearchdescription', 'option', 'options', 'or', 'order', 'org', 'organization', 'organization_id', 'organizations', 'original', 'originating_url', 'other', 'others', 'otherwise', 'our', 'ours', 'ourselves', 'out', 'outline', 'over', 'overall', 'overflow', 'overlay', 'overview', 'own', 'owns', 'padding', 'page', 'page_stale_check', 'pagehead', 'palm_tree', 'participating', 'paste', 'path', 'payload', 'pb', 'pde3rmbxrvsgd29yipdwuiywe8fvod2b2cszbqapgxsznute3xg', 'pencil', 'people', 'per', 'percent', 'perform', 'perhaps', 'permalink', 'picker', 'pinned', 'pjax', 'pl', 'placeholder', 'platform', 'platforms', 'play', 'please', 'plus', 'png', 'podc93vfrdnszlklq8u2ndvvkkqfngnjkwxc4oqiroq7nivjgoupsnavrlvoj9sg46gdq', 'pointer', 'policy', 'popover', 'position', 'post', 'pr', 'predefined', 'prefetch', 'preload', 'preview', 'pricing', 'primary', 'primer_next', 'privacy', 'production', 'prof', 'profile', 'profile_user_id', 'progress', 'project', 'projects', 'property', 'proxy', 'pt', 'public', 'pull', 'pulls', 'pulse', 'put', 'px', 'py', 'python', 'quot', 'quql494gnkwrzdfcqrpkgp1xhbu7hxwqvmxz8w9yxgjrjelbnaw5wulapbnudvefaes1wsqb4vs5lfrbjuo9ng', 'randomcolor', 'rather', 'raw', 're', 'read', 'readability', 'rec5i', 'recent', 'red', 'reference', 'refresh', 'refs', 'rel', 'relative', 'release_only', 'releases', 'reload', 'remaining', 'remote', 'remove', 'repo', 'repo_actions', 'repo_branches', 'repo_commits', 'repo_contributors', 'repo_deployments', 'repo_downloads', 'repo_graphs', 'repo_issues', 'repo_labels', 'repo_milestones', 'repo_packages', 'repo_project', 'repo_projects', 'repo_pulls', 'repo_releases', 'repo_source', 'repo_tags', 'repo_wiki', 'repohead', 'repos', 'repositories', 'repository', 'repository_explore_github_marketplace_ci_cta_shown', 'repository_id', 'repository_is_fork', 'repository_network_root_id', 'repository_network_root_nwo', 'repository_nwo', 'repository_public', 'request', 'request_url', 'requests', 'required_field_4337', 'reset', 'respond', 'responsive', 'results', 'retrieve', 'rev', 'reverse', 'review', 'right', 'role', 'root', 'rounded', 'row', 'rslrmbhxlrawmpgytjit', 'rule', 's3', 'safe', 'said', 'same', 'say', 'says', 'schema', 'scikit', 'scope', 'scoped', 'script', 'se', 'search', 'second', 'security', 'seem', 'seemed', 'seeming', 'seems', 'segment', 'select', 'selected', 'selectmenu', 'self', 'separator', 'session', 'sessions', 'set', 'settings', 'seven', 'seventy', 'several', 'sha512', 'shadow', 'shared', 'she', 'shelf', 'shield', 'ship', 'shortcut', 'shortcuts', 'should', 'shouldn', 'shouldnt', 'show', 'showcases', 'showcases_landing', 'showcases_search', 'shrink', 'sick', 'sidenav', 'sign', 'sign_out', 'signed', 'signout', 'since', 'site', 'site_name', 'six', 'sixty', 'size', 'skeleton', 'skip', 'slash', 'sloc', 'slow', 'sm', 'small', 'smiley', 'so', 'social', 'socket', 'softwaresourcecode', 'solid', 'some', 'source', 'source_action', 'source_controller', 'span', 'spellcheck', 'spinner', 'spinners', 'sr', 'src', 'stale', 'star', 'star_button', 'stargazers', 'starred', 'starring', 'stars', 'start', 'stats', 'status', 'still', 'stop', 'stopwords', 'stretch', 'strong', 'style', 'stylesheet', 'subject', 'submit', 'subscribe', 'subscribed', 'such', 'sudo', 'sudo_modal', 'suffix', 'suggested', 'suggestion', 'suggestions', 'summary', 'svg', 'sw', 'switch', 't01pywp9m3sejnt_3_zwpc', 'tab', 'tabindex', 'table', 'tag', 'tags', 'taking', 'target', 'td', 'team', 'template', 'ten', 'tenth', 'terms', 'text', 'textarea', 'th', 'than', 'that', 'the', 'their', 'them', 'theme', 'themselves', 'then', 'thence', 'there', 'thereafter', 'thereby', 'therefore', 'therein', 'thereupon', 'these', 'they', 'third', 'thirteen', 'thirty', 'this', 'those', 'though', 'thousand', 'three', 'through', 'throughout', 'thru', 'thus', 'time', 'timeline', 'timestamp', 'timestamp_secret', 'title', 'to', 'together', 'toggle', 'toggler', 'token_scanning', 'too', 'toolbar', 'tooltipped', 'top', 'topic', 'toward', 'towards', 'tr', 'training', 'transient', 'transparent', 'trashcan', 'trending', 'trigger', 'true', 'truncate', 'try', 'tutorial', 'twelve', 'twenty', 'twitter', 'two', 'txt', 'type', 'ua', 'ueowsoj21ne', 'ul', 'ultra', 'under', 'underline', 'underlinenav', 'unicode', 'unless', 'unlike', 'unlikely', 'unread', 'unscoped', 'unstar', 'unstar_button', 'unstarred', 'until', 'unwatch', 'uotltm8jsck2f5stvihd0exw2fsa', 'up', 'update', 'upon', 'url', 'us', 'use', 'used', 'user', 'user_dropdown', 'user_id', 'user_login', 'user_menu_dropdown', 'user_profile', 'userid', 'users', 'using', 'utf', 'uy49lxdzjr0l36ut6cnmv1omp', 'v22', 'vacation', 'value', 've', 'vendor', 'verification', 'version', 'very', 'via', 'view', 'viewbox', 'viewport', 'visibility', 'visitor', 'warn', 'was', 'wasn', 'watch', 'watch_button', 'watchers', 'watching', 'wazbzwttrjzqecrkmxcgd76cgo', 'wb', 'wcqmt2vhcclfvoaaajv', 'we', 'web', 'week', 'well', 'were', 'weren', 'werent', 'wgrgropydqcwejwrqotfgbfyl8d', 'what', 'whatever', 'when', 'whence', 'whenever', 'where', 'whereafter', 'whereas', 'whereby', 'wherein', 'whereupon', 'wherever', 'whether', 'which', 'while', 'white', 'whither', 'who', 'whoever', 'whole', 'whom', 'whomever', 'whose', 'why', 'width', 'wiki', 'wikis', 'will', 'window', 'windows', 'with', 'within', 'without', 'won', 'word', 'working', 'would', 'wouldn', 'wouldnt', 'wrap', 'wrapper', 'ws', 'wss', 'xc1onmgtmddfkt30p7g7fheotz2uthwdj9ppq', 'xfvxsg7rwq0h5exeqdaevdko1tyla5yjt9oh7vieob4uwgfw0jrbuwchbt4k9t8kjx2fqz8smnxnp26xaaqztq', 'xl', 'xmgn7zbbctmyyn3nwkqjmhjq5wacdf1m6vxp7htdqgt96krjvvzhm', 'xml', 'xmp', 'xwz5haattrtqpbip', 'year', 'years', 'yes', 'yet', 'you', 'your', 'your_gists', 'your_profile', 'your_projects', 'your_repositories', 'your_stars', 'yours', 'yourself', 'yourselves', 'yr', 'yxbyl7tqnoiwvoltcrx1bkojtjjxkvupqmhptwqbqhpo1zt8ijqnxtncdibv6u8guyt3hfntcfttg4efeg', 'zpd4rcpu7r', 'zzhvyefwb7w3e0'] not in stop_words.\n",
      "  'stop_words.' % sorted(inconsistent))\n"
     ]
    },
    {
     "name": "stdout",
     "output_type": "stream",
     "text": [
      "Created 1038 X 4798 document-term matrix\n"
     ]
    }
   ],
   "source": [
    "from sklearn.feature_extraction.text import CountVectorizer\n",
    "# use a custom stopwords list, set the minimum term-document frequency to 20\n",
    "vectorizer = CountVectorizer(stop_words = custom_stop_words, min_df = 20)\n",
    "A = vectorizer.fit_transform(documents)\n",
    "print( \"Created %d X %d document-term matrix\" % (A.shape[0], A.shape[1]) )"
   ]
  },
  {
   "cell_type": "code",
   "execution_count": 86,
   "metadata": {},
   "outputs": [
    {
     "name": "stdout",
     "output_type": "stream",
     "text": [
      "Vocabulary has 4798 distinct terms\n"
     ]
    }
   ],
   "source": [
    "terms = vectorizer.get_feature_names()\n",
    "print(\"Vocabulary has %d distinct terms\" % len(terms))"
   ]
  },
  {
   "cell_type": "code",
   "execution_count": 93,
   "metadata": {},
   "outputs": [
    {
     "data": {
      "text/plain": [
       "['articles-raw.pkl']"
      ]
     },
     "execution_count": 93,
     "metadata": {},
     "output_type": "execute_result"
    }
   ],
   "source": [
    "from sklearn.externals import joblib\n",
    "snippets = []\n",
    "joblib.dump((A,terms,snippets), \"articles-raw.pkl\")"
   ]
  },
  {
   "cell_type": "code",
   "execution_count": 88,
   "metadata": {},
   "outputs": [
    {
     "name": "stderr",
     "output_type": "stream",
     "text": [
      "C:\\ProgramData\\Anaconda3\\lib\\site-packages\\sklearn\\feature_extraction\\text.py:300: UserWarning: Your stop_words may be inconsistent with your preprocessing. Tokenizing the stop words generated tokens ['00', '000', '000000', '001', '0011', '0014', '0016', '001a', '001h10', '001l', '001z', '002', '002h', '003', '003v', '004', '004l', '005', '006', '006a', '006c0', '006l', '007', '007a', '008', '008a', '009c', '01', '010', '011', '0110', '0111', '0113', '0114', '0115', '012', '013', '014', '015', '016', '017', '018', '019', '019a1', '01c', '01l', '02', '023a1', '023c11', '024c4', '02c', '032', '038', '03t16', '03t19', '03t23', '04', '041', '042', '044h', '046', '047zm9', '049', '04a', '04z', '05', '057', '05a2', '05t23', '06', '064', '064l6', '066', '068a', '06a', '06l', '06l1', '06l10', '06l11', '06l13', '06l14', '06l2', '06l3', '06l4', '06l6', '06l7', '06l8', '06l9', '06z', '07', '072', '073', '073l9', '074', '078', '078c1', '07r', '08', '082', '084', '084a', '086', '086a1', '086zm11', '087a', '088', '09', '090269e327597d1f40067179c632a2458093eb541980d66ef5ef3713288617e9', '091', '096', '097', '098', '0a', '0a1', '0a4', '0a8', '0c', '0c2', '0c3', '0e3252cb', '0e7d6237a993d0f3b2d976155f31e208444e1d5f174caaaf3389b2e76293328c', '0f7474ea1664f11dcdd85eba43236d71b5ccbf5b0d0b6ca0d9aa178eeba40c92', '0h1', '0h2', '0h8', '0l', '0l1', '0l10', '0l2', '0l3', '0l5', '0l6', '0l8', '0qkcidpfjgd13b0fw6wxcdkxzbvws8nxr4qkcjzipvrghdfsp2ylxje75irfjmfbieyvnrj', '0v', '0v1', '0v12', '0v2', '0v3', '0v3a', '0v3h2', '0v5', '0v5a2', '0v8', '0z', '0zm', '0zm0', '0zm3', '0zm5', '0zm6', '0zm8', '10', '100', '101', '102', '103', '104', '104863604', '106', '107', '108', '108l', '109', '10px', '11', '110', '111', '1113', '1116', '112', '113', '114', '115', '116', '117', '117a', '118', '119', '11a1', '11h1', '12', '120', '121', '122', '122a2', '122v5', '122v6a2', '123', '124', '125', '126', '127', '128', '128a2', '129', '12a', '12h3', '12h6', '13', '130', '131', '132', '132a', '133', '133a1', '134', '135', '136', '136c', '136zm8', '137', '138', '139', '139l1', '13h', '13h2', '13zm0', '14', '140', '1401488693436528', '141', '142', '143', '144', '145', '146', '147', '1477376905', '148', '149', '149l', '14c1', '14f5aff4525c6ea1712dcac3b8e93d6e52e8e9efbf19eefba957a793724e32f0', '15', '150', '151', '152', '153', '154', '155', '156', '157', '158', '159', '1593783731096', '15h1', '15h5', '15l', '15s16', '16', '160', '161', '162', '163', '164', '164a', '165', '166', '167', '168', '169', '16a2', '16a8', '16h12', '16h6', '16z', '17', '170', '171', '172', '173', '174', '175', '175l', '176', '177', '177l7', '178', '179', '18', '180', '180px', '181', '182', '183', '184', '184a', '185', '185px', '186', '187', '188', '189', '18h', '18zm7', '19', '190', '191', '192', '192a', '193', '194', '194l', '195', '196', '197', '198', '199', '19a', '19c', '1a', '1a1', '1c0a312', '1d19df706e3aa48e98104f9fb3ecc5f828bb190aa3d10329a9b2c8002bca5729', '1e2327', '1f334', '1f3af', '1f3e0', '1f912', '1h1', '1h2', '1h4', '1h8zm5', '1px', '1v', '1v1', '1v4h1a1', '1v5', '1v9h', '1zm9', '20', '200', '201', '202', '2020', '203', '204', '205', '206', '207', '208', '208v2', '209', '20px', '21', '210', '211', '212', '213', '213c', '214', '214l4', '215', '216', '217', '218', '219', '22', '220', '220px', '221', '222', '223', '224', '225', '225h', '225l', '226', '227', '227a', '227z', '228', '229', '22a', '23', '230', '231', '232', '233', '234', '235', '236', '237', '237l', '238', '238v7c0', '239', '24', '240', '241', '242', '243', '243c', '244', '245', '245a', '246', '247', '248', '249', '24l4', '24px', '25', '250', '251', '252', '253', '253a2', '253c1', '254', '255', '256', '256a2', '257', '258', '259', '25a', '25a1', '25a2', '25h', '25h1', '25h12', '25h14', '25h2', '25h2a', '25l9', '25v', '25v1', '25v10', '25v12', '25v2', '25v3', '25v3h', '25v7', '25z', '25zm0', '25zm11', '25zm14', '25zm4', '25zm6', '26', '260', '261', '262', '263', '263a', '264', '265', '266', '267', '268', '269', '27', '270', '271', '272', '273', '274', '275', '276', '277', '278', '279', '279l', '27caa82', '28', '280', '281', '282', '283', '284', '285', '286', '286z', '287', '287a', '288', '289', '28a', '28l4', '29', '290', '291', '292', '293', '294', '295', '296', '297', '297a', '298', '298c13', '299', '2a', '2c', '2c1bded638ef5a812503b22591d1998e0565b2a6670ccd5b51874f60e616002f', '2h', '2h12', '2k8ddhk0yt52ukvovgc9cwoxoejhxbfvp5kps2brcdytdmteij2yone26vfenayk1a2afq7kdgeevrqafuaf8a', '2l1', '2px', '2v', '2z', '2zm0', '2zm7', '30', '300', '301', '302', '303', '304', '305', '306', '307', '308', '309', '31', '310', '311', '312', '313', '314', '315', '316', '317', '318', '319', '31c', '31l', '32', '320', '321', '322', '322zm', '323', '324', '324l', '325', '326', '327', '328', '329', '32c', '32l6', '32s', '33', '330', '331', '332', '333', '334', '335', '336', '337', '338', '339', '33vh', '34', '340', '341', '342', '343', '344', '345', '346', '347', '347l', '348', '349', '34c', '35', '350', '354', '354l', '354zm3', '356', '357', '358', '35zm5', '35zm8', '36', '360px', '364', '366', '367', '368h12', '368l8', '36l1', '37', '371', '372a2', '374a', '3769691', '378a', '378a1', '379', '38', '38a8', '38v7', '3a', '3a1', '3a2', '3v1', '3z', '3zm1', '3zm13', '40', '400', '405', '41', '412', '414', '416', '4160974', '418', '418l1', '41l', '41l8', '42', '423', '427', '427a', '427a1', '428l6', '429a', '43', '431', '431c', '431v', '432', '439', '43a', '44', '440fc52803ea30455ae4dba43813bdfe2dfa7c3c641ead4ec29df7858d524489', '442v5', '445', '445l', '445l6', '447', '45', '456', '456a', '457', '45a', '46', '467', '47', '472', '473', '474', '474l', '47a', '48', '482', '488', '48a', '48a1', '48v7c0', '49', '492', '495', '496', '498', '499', '4gcswgoe36', '4pfwt8bmmmhq', '4yaluojig50zypubiwiucrdo6jebf2twvmd5aelxgpqjo', '4z', '50', '501a3', '504', '507a2', '51', '518', '518a1', '52', '527', '528', '53', '53a', '53px', '54', '543', '55', '554a', '554a1', '555a1', '556a', '558', '558a', '559a', '56', '564', '565', '566', '566a5', '56757609', '57', '572l', '573', '574z', '575l6', '576l', '57l3', '58', '582', '585', '59', '591', '59c4264f', '5a', '5a1', '5a2', '5a3', '5a5', '5a6', '5c', '5c0', '5c1', '5c10', '5d6cf91d', '5e6827ef', '5eff35ad', '5em', '5h', '5h1', '5h12', '5h2', '5h3', '5h4', '5h5', '5h5v1', '5h6', '5h6a1', '5twieackpeumxwywzze34x33taa3kppgb', '5v', '5v1', '5v2', '5v4', '5v9h', '5v9h3', '5z', '5zm', '5zm1', '5zm3', '5zm8', '60', '602', '61', '611l7', '612a', '613', '614', '615', '619', '61c', '61zm1', '62', '621', '621a', '621a2', '622', '62491272839454b5084a5aa189a9be8e', '628a2', '629', '63', '636a', '637', '638', '63a3', '64', '65', '652', '657l', '659', '659l', '66', '664l', '664l2', '666', '667l5', '668a', '67', '671', '673', '675a', '677a', '678', '679', '68', '681', '682', '683', '68a', '68a1', '68zm', '68zm9', '69', '694', '694v', '698', '69c0', '69l', '6a', '6a1', '6aicxsi6ouxx2y1mzdhtm6l14c7rdjg99ke', '6z', '70', '703', '704dbcc8', '707c', '71', '714', '715', '715c2', '716', '717a', '717c10', '717c5', '719', '72', '723l3', '727a1', '727c', '72a', '72z', '73', '74', '741', '742', '744', '74a6', '75', '754a', '754zm', '755', '756', '757a', '757a3', '757c', '757h3', '758', '758l8', '75a', '75a1', '75a2', '75c', '75c2', '75c5', '75h', '75h14', '75l1', '75v', '75v1', '75v10', '75v12', '75v2', '75v3', '75v4', '75v7', '75z', '75zm', '75zm0', '75zm1', '75zm10', '75zm11', '75zm14', '75zm4', '75zm8', '76', '763', '765', '766', '769', '77', '772', '78', '784', '78a', '78s', '78z', '78zm5', '79', '791l8', '792a', '797', '798c', '79c', '79l', '79s', '7a', '7a35c0ca6187de854166d1dec7dacca6c6547dc87b8087851ebe8223e5ad7323', '7a4', '7a5747e2a26944f47a6a10e5b729c7bdf6ad7bea5039ea1777212341384d4a6c', '7b1c37cabec193d176590b37b8e8806065b2b59ffbd553be9d4a7edadfd41cb8', '7c196d9d6e51b99ba931b4b218bbfbd6fd17ff1f264790c0d922af179c5f3354', '7h12', '7h4a1', '7v3', '7zm', '80', '81', '811', '813', '815', '818', '81l', '82', '824', '825', '82a', '83', '836a2', '84', '85', '854v4', '855a1', '855c1', '86', '87', '872', '878a', '878a2', '878zm3', '87l', '88', '882', '885', '88667632c75fdd27cb2c5c7271f37f80d6e416a86954a3cadba378b057d0ef73', '89', '8a1', '8a2', '8a6', '8a8', '8affb8c8', '8c', '8c0', '8d13f0b19141664e042da8f39ee4f439857431dbab05ed0545a0a1ba1bbfe3dc', '8l', '8l1', '8l3', '8z', '8zhxvog4zq', '8zm9', '90', '91', '918a1', '92', '927', '928l', '929', '92qyre6kwya9viuoq', '93', '932', '932c', '933', '93a', '94', '946', '947c0', '947v5z', '94l', '94l3', '94l6', '95', '953', '954', '955', '956', '96', '964l', '967', '97', '97a', '97l', '97v5a3', '97z', '98', '981', '982a5', '983', '984', '985', '98a', '99', '992', '994', '998', '9a1', '9zm10', '_graphql', '_method', '_private', '_sockets', '_ws', 'a1a34e67597bc2e5c08833a5af900c8d', 'about', 'above', 'absolute', 'accept', 'according', 'account', 'across', 'action', 'actions', 'actions_manual_run', 'actor', 'actually', 'add', 'adj', 'after', 'afterwards', 'again', 'ajax', 'ajs68g6u7h5aced8el7pujojksuh9nxhuwk7', 'akn', 'alert', 'alerts', 'alias', 'align', 'alive', 'all', 'almost', 'along', 'already', 'also', 'alt', 'alternate', 'although', 'always', 'am', 'amazonaws', 'among', 'amongst', 'amp', 'an', 'analytics', 'and', 'anim', 'anonymous', 'another', 'any', 'anyhow', 'anyone', 'anything', 'anywhere', 'api', 'app', 'app_id', 'apple', 'application', 'are', 'aren', 'arent', 'aria', 'around', 'as', 'assets', 'assign', 'assigned', 'async', 'at', 'atom', 'authenticity_token', 'author', 'auto', 'autocapitalize', 'autocomplete', 'autofocus', 'availability', 'avatar', 'avatars0', 'avatars1', 'avatars2', 'avatars3', 'awvmv0fr0zyw3eqawzdlfa', 'badge', 'banner', 'bar', 'bars', 'base', 'baseline', 'be', 'became', 'because', 'become', 'becomes', 'been', 'beforehand', 'begin', 'being', 'bell', 'below', 'beside', 'besides', 'beta', 'between', 'bg', 'billion', 'billions', 'blame', 'blob', 'blob_contributors', 'blobtoolbar', 'block', 'blog', 'blue', 'bmfyzprx2a', 'body', 'bold', 'book', 'bootstrap', 'border', 'both', 'bottom', 'bowho4gtjcbyze8j43w', 'box', 'br', 'branch', 'branches', 'breadcrumb', 'break', 'browser', 'browser_event', 'bsjfqp97jkoccruwhpi7crqsfendhiswejcopzee0nkm5lslvlyw', 'btn', 'btngroup', 'busy', 'but', 'button', 'by', 'c0yo4xw6rvflk6gdfgowaldjqtpnyvjjwvh6xkikkka0pinjacap3zekzuptbqwza6w8', 'c1kud', 'can', 'cannot', 'canonical', 'cant', 'caption', 'capture', 'card', 'caret', 'cc38', 'ce28yln9o04w5dxhwewjeerr', 'cell', 'center', 'channel', 'characters', 'charset', 'check', 'checkbox', 'checked', 'checks', 'choose', 'chromeless', 'circle', 'class', 'classes', 'clear', 'clearable', 'clearfix', 'click', 'clicks', 'client', 'clipboard', 'close', 'close_modal', 'cloud', 'cmkrlry6n93imk', 'co', 'code', 'code_scanning', 'col', 'collaborate', 'collapsed', 'collector', 'color', 'column', 'com', 'combobox', 'come', 'commit', 'commits', 'compact', 'compat', 'condensed', 'conditional', 'contact', 'container', 'content', 'contentinfo', 'contents', 'context', 'contrib', 'contributors', 'control', 'controls', 'conversations', 'copy', 'could', 'couldn', 'couldnt', 'count', 'counter', 'create', 'created', 'credentials', 'crossorigin', 'csrf', 'css', 'current', 'cursor', 'custom', 'd2a90289d3df8c6775ddbd1f5bac3108', 'd3194f85d0d0af8184351b005892518341331fc2', 'd44fce3f29e566af5cf95100162fbb729f1eccd0', 'd6f45dcee2c3fd9550656248ad0293f92156878d35422e99211d2a1815503ad1', 'da4f1d0c', 'danger', 'dark', 'dart', 'dashboard', 'data', 'date', 'dczzabhq9atntjjdmo5b7sv0j', 'default', 'delete', 'dependabot_updates', 'dependency_graph', 'derekgreene', 'describedby', 'description', 'desktop', 'details', 'detection', 'developer', 'developers', 'device', 'dialog', 'did', 'didn', 'didnt', 'dimension', 'dimension1', 'dimension10', 'dimensions', 'disable', 'disabled', 'discussion', 'dismiss', 'display', 'div', 'divider', 'djjsy0gdogm5bxtxcttlhqcunljrvcfu0hq0wnxgkmy6z3a5xc8ay2o5629xo44uaipak08psiigih60zkqvtq', 'dns', 'do', 'doctype', 'does', 'doesn', 'doesnt', 'don', 'dont', 'down', 'dr', 'drag', 'drop', 'dropdown', 'during', 'e0671258', 'e0a8a550423e41464b54331f8d1fc395147578a1e138ff8b4a0f40539a071e39', 'e1a49ab371b2335dafd8b6f00a9ae5bc877af0af1bab7eadc755994f595334ba', 'e4vmdkqet5m073', 'e9bf9abf5f4f2de9c1be79f5c6ce2c6bd20a87f4b45dd28ec52eddc1a308b793', 'each', 'early', 'eda7920d24ac4c22c59e5484a935c66985322b328ea20956fbf9b2ca7b89ecba', 'edit', 'edit_user_status', 'ee204d582bf99070e72391958449677b6f915c0db995e267806847cbfee15c86', 'eeb706dcf0e987422a81eee78e717733ca3594430f45435aca5362253aa4035e', 'eg', 'eight', 'eighty', 'either', 'eleven', 'else', 'elsewhere', 'emoji', 'en', 'enabled', 'end', 'ending', 'enough', 'enrollment', 'env', 'environment', 'equiv', 'error', 'errors', 'etc', 'even', 'evenodd', 'event', 'event_type', 'ever', 'every', 'everywhere', 'except', 'expanded', 'expander', 'expected', 'expiration', 'expire', 'expires_at', 'explore', 'external', 'eye', 'eyj2ijoivjmilcj1ijo1njc1nzywoswicyi6nta4mzmzmzm2lcjjijo0mta2nju1mtm2lcj0ijoxntkznzgznzmxfq', 'eyjjijoibm90awzpy2f0aw9ulwnoyw5nzwq6nty3ntc2mdkilcj0ijoxntkznzgznzmxfq', 'eyjyzwzlcnjlcii6imh0dhbzoi8vz2l0ahvilmnvbs9kzxjla2dyzwvuzs90b3bpyy1tb2rlbc10dxrvcmlhbcisinjlcxvlc3rfawqioijdqzm4okyzmki6mumwqtmxmjoyn0nbqtgyojvfrkyznufeiiwidmlzaxrvcl9pzci6ijyyodixmdywmdgxmtexmtk5otyilcjyzwdpb25fzwrnzsi6imftcyisinjlz2lvbl9yzw5kzxiioijpywqifq', 'f02ef45640b94fc13f766c2dd78d6e6e5d5cc0836ad623c29d92d4968351ce82', 'f3', 'f32b', 'f5', 'f6', 'f6fae3c799c0808a563da2d0f9c9b4e7', 'face_with_thermometer', 'fade', 'fallback', 'false', 'fast', 'favicon', 'favicons', 'fb', 'feature', 'feature_preview', 'feature_previews', 'features', 'feecb8f4bc5dce34742f7eae4fa0a799', 'few', 'field', 'fifteen', 'fifth', 'fifty', 'file', 'filepath', 'fill', 'final', 'find', 'find_file_button', 'first', 'fit', 'five', 'fixed', 'flash', 'flex', 'float', 'fluid', 'fluidicon', 'fn', 'focus', 'focusing', 'footer', 'for', 'fork', 'fork_button', 'forked', 'form', 'forty', 'found', 'four', 'fourteen', 'fourth', 'fr', 'fragment', 'frameworks', 'from', 'full', 'further', 'ga', 'ga_id', 'get', 'getsuggestednavigationdestinations', 'gif', 'gist', 'gists', 'git', 'github', 'githubapp', 'githubassets', 'githubstatus', 'githubusercontent', 'global', 'global_header', 'go', 'google', 'graph', 'gray', 'group', 'grow', 'gt', 'gxs5kouukncoaazn7wpn', 'h1', 'h2', 'h3', 'h4', 'h4jxkrq', 'h6', 'h7fqwkmk6lueed9eqxynrcetgrkh6dnq', 'h8ewgwx4e2lorkjohr14egwg', 'had', 'hadnt', 'happening', 'has', 'hasfilter', 'hash', 'hasn', 'hasnt', 'haspopup', 'have', 'haven', 'havent', 'he', 'head', 'header', 'heading', 'height', 'hellip', 'help', 'hence', 'her', 'here', 'hereafter', 'hereby', 'herein', 'hereupon', 'hers', 'hidden', 'hide', 'highlight', 'him', 'his', 'hmac', 'home', 'homepage', 'horizontal', 'host', 'hostname', 'hotkey', 'hour', 'hours', 'house', 'hovercard', 'hovercards', 'how', 'however', 'hqsj2gq', 'hr', 'href', 'hsuomksxrlchkx', 'html', 'http', 'https', 'hundred', 'hundredth', 'hx_rsm', 'hx_underlinenav', 'hydro', 'i0tqqy0sbg3mmmzbvftceewlxsdqkum5x', 'i5fvxncsxwyg1csfcrqmlfw', 'icon', 'icons', 'id', 'ie', 'if', 'ignore', 'ignoring', 'image', 'images', 'img', 'import', 'in', 'inc', 'include', 'included', 'indeed', 'index', 'indicator', 'indicator_check', 'info', 'inline', 'inner', 'input', 'insights', 'instead', 'integrations', 'integrity', 'interval', 'into', 'is', 'isn', 'isnt', 'issue', 'issues', 'it', 'item', 'itemprop', 'items', 'itemscope', 'itemtype', 'its', 'itself', 'itunes', 'iv', 'ja_wbfyt4umy', 'javascript', 'js', 'json', 'jump', 'jumpto', 'just', 'justify', 'jznsd4kpu6iknwc', 'k2hivf635lypcswpod4kilo5', 'kb', 'kc6wcy3iccboeyvanvuizyaa', 'kebab', 'keep', 'key', 'keyboard', 'keys', 'know', 'kt5gs8h0wvaaglkavwq8bbenwnzzk1r1xqysx3xurlu', 'l1', 'l10', 'l100', 'l101', 'l102', 'l103', 'l104', 'l105', 'l106', 'l107', 'l108', 'l109', 'l11', 'l110', 'l111', 'l112', 'l113', 'l114', 'l115', 'l116', 'l117', 'l118', 'l119', 'l12', 'l120', 'l121', 'l122', 'l123', 'l124', 'l125', 'l126', 'l127', 'l128', 'l129', 'l13', 'l130', 'l131', 'l132', 'l133', 'l134', 'l135', 'l136', 'l137', 'l138', 'l139', 'l14', 'l140', 'l141', 'l142', 'l143', 'l144', 'l145', 'l146', 'l147', 'l148', 'l149', 'l15', 'l150', 'l151', 'l152', 'l153', 'l154', 'l155', 'l156', 'l157', 'l158', 'l159', 'l16', 'l160', 'l161', 'l162', 'l163', 'l164', 'l165', 'l166', 'l167', 'l168', 'l169', 'l17', 'l170', 'l171', 'l172', 'l173', 'l174', 'l175', 'l176', 'l177', 'l178', 'l179', 'l18', 'l180', 'l181', 'l182', 'l183', 'l184', 'l185', 'l186', 'l187', 'l188', 'l189', 'l19', 'l190', 'l191', 'l192', 'l193', 'l194', 'l195', 'l196', 'l197', 'l198', 'l199', 'l1biq64cup9jeq', 'l2', 'l20', 'l200', 'l201', 'l202', 'l203', 'l204', 'l205', 'l206', 'l207', 'l208', 'l209', 'l21', 'l210', 'l211', 'l212', 'l213', 'l214', 'l215', 'l216', 'l217', 'l218', 'l219', 'l22', 'l220', 'l221', 'l222', 'l223', 'l224', 'l225', 'l226', 'l227', 'l228', 'l229', 'l23', 'l230', 'l231', 'l232', 'l233', 'l234', 'l235', 'l236', 'l237', 'l238', 'l239', 'l24', 'l240', 'l241', 'l242', 'l243', 'l244', 'l245', 'l246', 'l247', 'l248', 'l249', 'l25', 'l250', 'l251', 'l252', 'l253', 'l254', 'l255', 'l256', 'l257', 'l258', 'l259', 'l26', 'l260', 'l261', 'l262', 'l263', 'l264', 'l265', 'l266', 'l267', 'l268', 'l269', 'l27', 'l270', 'l271', 'l272', 'l273', 'l274', 'l275', 'l276', 'l277', 'l278', 'l279', 'l28', 'l280', 'l281', 'l282', 'l283', 'l284', 'l285', 'l286', 'l287', 'l288', 'l289', 'l29', 'l290', 'l291', 'l292', 'l293', 'l294', 'l295', 'l296', 'l297', 'l298', 'l299', 'l3', 'l30', 'l300', 'l301', 'l302', 'l303', 'l304', 'l305', 'l306', 'l307', 'l308', 'l309', 'l31', 'l310', 'l311', 'l312', 'l313', 'l314', 'l315', 'l316', 'l317', 'l318', 'l319', 'l32', 'l320', 'l321', 'l322', 'l323', 'l324', 'l325', 'l326', 'l327', 'l328', 'l329', 'l33', 'l330', 'l331', 'l332', 'l333', 'l334', 'l335', 'l336', 'l337', 'l338', 'l339', 'l34', 'l340', 'l341', 'l342', 'l343', 'l344', 'l345', 'l346', 'l347', 'l348', 'l349', 'l35', 'l350', 'l36', 'l37', 'l38', 'l39', 'l4', 'l40', 'l41', 'l42', 'l43', 'l44', 'l45', 'l46', 'l47', 'l48', 'l49', 'l5', 'l50', 'l51', 'l52', 'l53', 'l54', 'l55', 'l56', 'l57', 'l58', 'l59', 'l6', 'l60', 'l61', 'l62', 'l63', 'l64', 'l65', 'l66', 'l67', 'l68', 'l69', 'l7', 'l70', 'l71', 'l72', 'l73', 'l74', 'l75', 'l76', 'l77', 'l78', 'l79', 'l8', 'l80', 'l81', 'l82', 'l83', 'l84', 'l85', 'l86', 'l87', 'l88', 'l89', 'l9', 'l90', 'l91', 'l92', 'l93', 'l94', 'l95', 'l96', 'l97', 'l98', 'l99', 'label', 'lang', 'large', 'last', 'late', 'later', 'lc1', 'lc10', 'lc100', 'lc101', 'lc102', 'lc103', 'lc104', 'lc105', 'lc106', 'lc107', 'lc108', 'lc109', 'lc11', 'lc110', 'lc111', 'lc112', 'lc113', 'lc114', 'lc115', 'lc116', 'lc117', 'lc118', 'lc119', 'lc12', 'lc120', 'lc121', 'lc122', 'lc123', 'lc124', 'lc125', 'lc126', 'lc127', 'lc128', 'lc129', 'lc13', 'lc130', 'lc131', 'lc132', 'lc133', 'lc134', 'lc135', 'lc136', 'lc137', 'lc138', 'lc139', 'lc14', 'lc140', 'lc141', 'lc142', 'lc143', 'lc144', 'lc145', 'lc146', 'lc147', 'lc148', 'lc149', 'lc15', 'lc150', 'lc151', 'lc152', 'lc153', 'lc154', 'lc155', 'lc156', 'lc157', 'lc158', 'lc159', 'lc16', 'lc160', 'lc161', 'lc162', 'lc163', 'lc164', 'lc165', 'lc166', 'lc167', 'lc168', 'lc169', 'lc17', 'lc170', 'lc171', 'lc172', 'lc173', 'lc174', 'lc175', 'lc176', 'lc177', 'lc178', 'lc179', 'lc18', 'lc180', 'lc181', 'lc182', 'lc183', 'lc184', 'lc185', 'lc186', 'lc187', 'lc188', 'lc189', 'lc19', 'lc190', 'lc191', 'lc192', 'lc193', 'lc194', 'lc195', 'lc196', 'lc197', 'lc198', 'lc199', 'lc2', 'lc20', 'lc200', 'lc201', 'lc202', 'lc203', 'lc204', 'lc205', 'lc206', 'lc207', 'lc208', 'lc209', 'lc21', 'lc210', 'lc211', 'lc212', 'lc213', 'lc214', 'lc215', 'lc216', 'lc217', 'lc218', 'lc219', 'lc22', 'lc220', 'lc221', 'lc222', 'lc223', 'lc224', 'lc225', 'lc226', 'lc227', 'lc228', 'lc229', 'lc23', 'lc230', 'lc231', 'lc232', 'lc233', 'lc234', 'lc235', 'lc236', 'lc237', 'lc238', 'lc239', 'lc24', 'lc240', 'lc241', 'lc242', 'lc243', 'lc244', 'lc245', 'lc246', 'lc247', 'lc248', 'lc249', 'lc25', 'lc250', 'lc251', 'lc252', 'lc253', 'lc254', 'lc255', 'lc256', 'lc257', 'lc258', 'lc259', 'lc26', 'lc260', 'lc261', 'lc262', 'lc263', 'lc264', 'lc265', 'lc266', 'lc267', 'lc268', 'lc269', 'lc27', 'lc270', 'lc271', 'lc272', 'lc273', 'lc274', 'lc275', 'lc276', 'lc277', 'lc278', 'lc279', 'lc28', 'lc280', 'lc281', 'lc282', 'lc283', 'lc284', 'lc285', 'lc286', 'lc287', 'lc288', 'lc289', 'lc29', 'lc290', 'lc291', 'lc292', 'lc293', 'lc294', 'lc295', 'lc296', 'lc297', 'lc298', 'lc299', 'lc3', 'lc30', 'lc300', 'lc301', 'lc302', 'lc303', 'lc304', 'lc305', 'lc306', 'lc307', 'lc308', 'lc309', 'lc31', 'lc310', 'lc311', 'lc312', 'lc313', 'lc314', 'lc315', 'lc316', 'lc317', 'lc318', 'lc319', 'lc32', 'lc320', 'lc321', 'lc322', 'lc323', 'lc324', 'lc325', 'lc326', 'lc327', 'lc328', 'lc329', 'lc33', 'lc330', 'lc331', 'lc332', 'lc333', 'lc334', 'lc335', 'lc336', 'lc337', 'lc338', 'lc339', 'lc34', 'lc340', 'lc341', 'lc342', 'lc343', 'lc344', 'lc345', 'lc346', 'lc347', 'lc348', 'lc349', 'lc35', 'lc350', 'lc36', 'lc37', 'lc38', 'lc39', 'lc4', 'lc40', 'lc41', 'lc42', 'lc43', 'lc44', 'lc45', 'lc46', 'lc47', 'lc48', 'lc49', 'lc5', 'lc50', 'lc51', 'lc52', 'lc53', 'lc54', 'lc55', 'lc56', 'lc57', 'lc58', 'lc59', 'lc6', 'lc60', 'lc61', 'lc62', 'lc63', 'lc64', 'lc65', 'lc66', 'lc67', 'lc68', 'lc69', 'lc7', 'lc70', 'lc71', 'lc72', 'lc73', 'lc74', 'lc75', 'lc76', 'lc77', 'lc78', 'lc79', 'lc8', 'lc80', 'lc81', 'lc82', 'lc83', 'lc84', 'lc85', 'lc86', 'lc87', 'lc88', 'lc89', 'lc9', 'lc90', 'lc91', 'lc92', 'lc93', 'lc94', 'lc95', 'lc96', 'lc97', 'lc98', 'lc99', 'learn', 'left', 'less', 'let', 'lg', 'lh', 'li', 'light', 'like', 'likely', 'limited', 'limited_availability', 'line', 'linejump', 'lines', 'link', 'link_location', 'link_mentions', 'link_type', 'links', 'list', 'listbox', 'll', 'lma4g17nmme2r8dpsln9mtyl7khmg', 'loader', 'loading', 'location', 'logged', 'login', 'logo', 'logout', 'lt', 'lt2', 'ltd', 'm0', 'm1', 'm11', 'm13', 'm14', 'm2', 'm3', 'm4', 'm5', 'm6', 'm7', 'm8', 'mac', 'made', 'mail', 'main', 'make', 'makes', 'manifest', 'many', 'margin', 'mark', 'markdown', 'marketplace', 'marketplace_click', 'marketplace_pending_installations', 'mask', 'master', 'max', 'maxfc005iyifz3hkwhdnrpc2b', 'maxlength', 'may', 'maybe', 'mb', 'md', 'me', 'meantime', 'meanwhile', 'media', 'members', 'mention', 'mention_suggester', 'mentioned', 'menu', 'menuitem', 'menuitemradio', 'message', 'meta', 'method', 'middle', 'might', 'million', 'millions', 'min', 'mine', 'minute', 'minutes', 'miss', 'ml', 'modal', 'model', 'models', 'modifier', 'module', 'mono', 'more', 'most', 'mostly', 'mr', 'mrs', 'ms', 'mt', 'mtg2zjm5mzkwy2m5ztawzdrjnwjiztllmzgxyzkwzddmoduznte0zjnmzgzmognhm2nkmtbjmmrmmjljm2u0ynx7injlbw90zv9hzgryzxnzijoiotiunzqunzyumiisinjlcxvlc3rfawqioijdqzm4okyzmki6mumwqtmxmjoyn0nbqtgyojvfrkyznufeiiwidgltzxn0yw1wijoxntkznzgznzmxlcjob3n0ijoiz2l0ahvilmnvbsj9', 'mu9aoznog', 'much', 'must', 'mute', 'mx', 'my', 'myrr3npv52fnpkbf5kj3h', 'myself', 'myvl6f3gcvbxykazxts', 'n1', 'n2', 'n3', 'name', 'namely', 'nav', 'nav_bar', 'navigation', 'nbsp', 'near', 'neither', 'network', 'never', 'nevertheless', 'new', 'new_repo_project', 'next', 'nine', 'ninety', 'no', 'nobody', 'non', 'nonce', 'none', 'nonetheless', 'noone', 'nor', 'normal', 'not', 'note', 'notification', 'notifications', 'notified', 'now', 'nowrap', 'nsltqbnkqylwkthxot7icdquh94etcgvmxlm5dzwxahkgergfy1yc2zfzw', 'num', 'number', 'nw', 'object', 'octicon', 'octo', 'octocat', 'octoface', 'octolytics', 'of', 'off', 'often', 'og', 'on', 'once', 'one', 'only', 'onto', 'open', 'open_modal', 'opened', 'openrepo', 'opensearch', 'opensearchdescription', 'option', 'options', 'or', 'order', 'org', 'organization', 'organization_id', 'organizations', 'original', 'originating_url', 'other', 'others', 'otherwise', 'our', 'ours', 'ourselves', 'out', 'outline', 'over', 'overall', 'overflow', 'overlay', 'overview', 'own', 'owns', 'padding', 'page', 'page_stale_check', 'pagehead', 'palm_tree', 'participating', 'paste', 'path', 'payload', 'pb', 'pde3rmbxrvsgd29yipdwuiywe8fvod2b2cszbqapgxsznute3xg', 'pencil', 'people', 'per', 'percent', 'perform', 'perhaps', 'permalink', 'picker', 'pinned', 'pjax', 'pl', 'placeholder', 'platform', 'platforms', 'play', 'please', 'plus', 'png', 'podc93vfrdnszlklq8u2ndvvkkqfngnjkwxc4oqiroq7nivjgoupsnavrlvoj9sg46gdq', 'pointer', 'policy', 'popover', 'position', 'post', 'pr', 'predefined', 'prefetch', 'preload', 'preview', 'pricing', 'primary', 'primer_next', 'privacy', 'production', 'prof', 'profile', 'profile_user_id', 'progress', 'project', 'projects', 'property', 'proxy', 'pt', 'public', 'pull', 'pulls', 'pulse', 'put', 'px', 'py', 'python', 'quot', 'quql494gnkwrzdfcqrpkgp1xhbu7hxwqvmxz8w9yxgjrjelbnaw5wulapbnudvefaes1wsqb4vs5lfrbjuo9ng', 'randomcolor', 'rather', 'raw', 're', 'read', 'readability', 'rec5i', 'recent', 'red', 'reference', 'refresh', 'refs', 'rel', 'relative', 'release_only', 'releases', 'reload', 'remaining', 'remote', 'remove', 'repo', 'repo_actions', 'repo_branches', 'repo_commits', 'repo_contributors', 'repo_deployments', 'repo_downloads', 'repo_graphs', 'repo_issues', 'repo_labels', 'repo_milestones', 'repo_packages', 'repo_project', 'repo_projects', 'repo_pulls', 'repo_releases', 'repo_source', 'repo_tags', 'repo_wiki', 'repohead', 'repos', 'repositories', 'repository', 'repository_explore_github_marketplace_ci_cta_shown', 'repository_id', 'repository_is_fork', 'repository_network_root_id', 'repository_network_root_nwo', 'repository_nwo', 'repository_public', 'request', 'request_url', 'requests', 'required_field_4337', 'reset', 'respond', 'responsive', 'results', 'retrieve', 'rev', 'reverse', 'review', 'right', 'role', 'root', 'rounded', 'row', 'rslrmbhxlrawmpgytjit', 'rule', 's3', 'safe', 'said', 'same', 'say', 'says', 'schema', 'scikit', 'scope', 'scoped', 'script', 'se', 'search', 'second', 'security', 'seem', 'seemed', 'seeming', 'seems', 'segment', 'select', 'selected', 'selectmenu', 'self', 'separator', 'session', 'sessions', 'set', 'settings', 'seven', 'seventy', 'several', 'sha512', 'shadow', 'shared', 'she', 'shelf', 'shield', 'ship', 'shortcut', 'shortcuts', 'should', 'shouldn', 'shouldnt', 'show', 'showcases', 'showcases_landing', 'showcases_search', 'shrink', 'sick', 'sidenav', 'sign', 'sign_out', 'signed', 'signout', 'since', 'site', 'site_name', 'six', 'sixty', 'size', 'skeleton', 'skip', 'slash', 'sloc', 'slow', 'sm', 'small', 'smiley', 'so', 'social', 'socket', 'softwaresourcecode', 'solid', 'some', 'source', 'source_action', 'source_controller', 'span', 'spellcheck', 'spinner', 'spinners', 'sr', 'src', 'stale', 'star', 'star_button', 'stargazers', 'starred', 'starring', 'stars', 'start', 'stats', 'status', 'still', 'stop', 'stopwords', 'stretch', 'strong', 'style', 'stylesheet', 'subject', 'submit', 'subscribe', 'subscribed', 'such', 'sudo', 'sudo_modal', 'suffix', 'suggested', 'suggestion', 'suggestions', 'summary', 'svg', 'sw', 'switch', 't01pywp9m3sejnt_3_zwpc', 'tab', 'tabindex', 'table', 'tag', 'tags', 'taking', 'target', 'td', 'team', 'template', 'ten', 'tenth', 'terms', 'text', 'textarea', 'th', 'than', 'that', 'the', 'their', 'them', 'theme', 'themselves', 'then', 'thence', 'there', 'thereafter', 'thereby', 'therefore', 'therein', 'thereupon', 'these', 'they', 'third', 'thirteen', 'thirty', 'this', 'those', 'though', 'thousand', 'three', 'through', 'throughout', 'thru', 'thus', 'time', 'timeline', 'timestamp', 'timestamp_secret', 'title', 'to', 'together', 'toggle', 'toggler', 'token_scanning', 'too', 'toolbar', 'tooltipped', 'top', 'topic', 'toward', 'towards', 'tr', 'training', 'transient', 'transparent', 'trashcan', 'trending', 'trigger', 'true', 'truncate', 'try', 'tutorial', 'twelve', 'twenty', 'twitter', 'two', 'txt', 'type', 'ua', 'ueowsoj21ne', 'ul', 'ultra', 'under', 'underline', 'underlinenav', 'unicode', 'unless', 'unlike', 'unlikely', 'unread', 'unscoped', 'unstar', 'unstar_button', 'unstarred', 'until', 'unwatch', 'uotltm8jsck2f5stvihd0exw2fsa', 'up', 'update', 'upon', 'url', 'us', 'use', 'used', 'user', 'user_dropdown', 'user_id', 'user_login', 'user_menu_dropdown', 'user_profile', 'userid', 'users', 'using', 'utf', 'uy49lxdzjr0l36ut6cnmv1omp', 'v22', 'vacation', 'value', 've', 'vendor', 'verification', 'version', 'very', 'via', 'view', 'viewbox', 'viewport', 'visibility', 'visitor', 'warn', 'was', 'wasn', 'watch', 'watch_button', 'watchers', 'watching', 'wazbzwttrjzqecrkmxcgd76cgo', 'wb', 'wcqmt2vhcclfvoaaajv', 'we', 'web', 'week', 'well', 'were', 'weren', 'werent', 'wgrgropydqcwejwrqotfgbfyl8d', 'what', 'whatever', 'when', 'whence', 'whenever', 'where', 'whereafter', 'whereas', 'whereby', 'wherein', 'whereupon', 'wherever', 'whether', 'which', 'while', 'white', 'whither', 'who', 'whoever', 'whole', 'whom', 'whomever', 'whose', 'why', 'width', 'wiki', 'wikis', 'will', 'window', 'windows', 'with', 'within', 'without', 'won', 'word', 'working', 'would', 'wouldn', 'wouldnt', 'wrap', 'wrapper', 'ws', 'wss', 'xc1onmgtmddfkt30p7g7fheotz2uthwdj9ppq', 'xfvxsg7rwq0h5exeqdaevdko1tyla5yjt9oh7vieob4uwgfw0jrbuwchbt4k9t8kjx2fqz8smnxnp26xaaqztq', 'xl', 'xmgn7zbbctmyyn3nwkqjmhjq5wacdf1m6vxp7htdqgt96krjvvzhm', 'xml', 'xmp', 'xwz5haattrtqpbip', 'year', 'years', 'yes', 'yet', 'you', 'your', 'your_gists', 'your_profile', 'your_projects', 'your_repositories', 'your_stars', 'yours', 'yourself', 'yourselves', 'yr', 'yxbyl7tqnoiwvoltcrx1bkojtjjxkvupqmhptwqbqhpo1zt8ijqnxtncdibv6u8guyt3hfntcfttg4efeg', 'zpd4rcpu7r', 'zzhvyefwb7w3e0'] not in stop_words.\n",
      "  'stop_words.' % sorted(inconsistent))\n"
     ]
    },
    {
     "name": "stdout",
     "output_type": "stream",
     "text": [
      "Created 1038 X 4798 TF-IDF-normalized document-term matrix\n"
     ]
    }
   ],
   "source": [
    "from sklearn.feature_extraction.text import TfidfVectorizer\n",
    "# we can pass in the same preprocessing parameters\n",
    "vectorizer = TfidfVectorizer(stop_words=custom_stop_words, min_df = 20)\n",
    "A = vectorizer.fit_transform(documents)\n",
    "print( \"Created %d X %d TF-IDF-normalized document-term matrix\" % (A.shape[0], A.shape[1]) )"
   ]
  },
  {
   "cell_type": "code",
   "execution_count": 89,
   "metadata": {},
   "outputs": [
    {
     "name": "stdout",
     "output_type": "stream",
     "text": [
      "Vocabulary has 4798 distinct terms\n"
     ]
    }
   ],
   "source": [
    "# extract the resulting vocabulary\n",
    "terms = vectorizer.get_feature_names()\n",
    "print(\"Vocabulary has %d distinct terms\" % len(terms))"
   ]
  },
  {
   "cell_type": "code",
   "execution_count": 90,
   "metadata": {},
   "outputs": [],
   "source": [
    "import operator\n",
    "def rank_terms( A, terms ):\n",
    "    # get the sums over each column\n",
    "    sums = A.sum(axis=0)\n",
    "    # map weights to the terms\n",
    "    weights = {}\n",
    "    for col, term in enumerate(terms):\n",
    "        weights[term] = sums[0,col]\n",
    "    # rank the terms by their weight over all documents\n",
    "    return sorted(weights.items(), key=operator.itemgetter(1), reverse=True)"
   ]
  },
  {
   "cell_type": "code",
   "execution_count": 91,
   "metadata": {},
   "outputs": [
    {
     "name": "stdout",
     "output_type": "stream",
     "text": [
      "01. the (366.57)\n",
      "02. you (341.84)\n",
      "03. and (213.02)\n",
      "04. to (212.65)\n",
      "05. it (161.81)\n",
      "06. me (139.62)\n",
      "07. in (119.40)\n",
      "08. my (118.03)\n",
      "09. of (103.08)\n",
      "10. that (96.63)\n",
      "11. on (84.42)\n",
      "12. your (83.63)\n",
      "13. we (74.84)\n",
      "14. all (70.23)\n",
      "15. be (65.35)\n",
      "16. can (64.99)\n",
      "17. love (64.83)\n",
      "18. for (63.94)\n",
      "19. is (62.43)\n",
      "20. don (61.72)\n"
     ]
    }
   ],
   "source": [
    "ranking = rank_terms( A, terms )\n",
    "for i, pair in enumerate( ranking[0:20] ):\n",
    "    print( \"%02d. %s (%.2f)\" % ( i+1, pair[0], pair[1] ) )"
   ]
  },
  {
   "cell_type": "code",
   "execution_count": 94,
   "metadata": {},
   "outputs": [
    {
     "data": {
      "text/plain": [
       "['articles-tfidf.pkl']"
      ]
     },
     "execution_count": 94,
     "metadata": {},
     "output_type": "execute_result"
    }
   ],
   "source": [
    "joblib.dump((A,terms,snippets), \"articles-tfidf.pkl\")"
   ]
  },
  {
   "cell_type": "markdown",
   "metadata": {},
   "source": [
    "## NMF Topic Models"
   ]
  },
  {
   "cell_type": "code",
   "execution_count": 95,
   "metadata": {},
   "outputs": [
    {
     "name": "stdout",
     "output_type": "stream",
     "text": [
      "Loaded 1038 X 4798 document-term matrix\n"
     ]
    }
   ],
   "source": [
    "from sklearn.externals import joblib\n",
    "(A,terms,snippets) = joblib.load( \"articles-tfidf.pkl\" )\n",
    "print( \"Loaded %d X %d document-term matrix\" % (A.shape[0], A.shape[1]) )"
   ]
  },
  {
   "cell_type": "code",
   "execution_count": 96,
   "metadata": {},
   "outputs": [],
   "source": [
    "k = 10"
   ]
  },
  {
   "cell_type": "code",
   "execution_count": 97,
   "metadata": {},
   "outputs": [],
   "source": [
    "# create the model\n",
    "from sklearn import decomposition\n",
    "model = decomposition.NMF( init=\"nndsvd\", n_components=k ) \n",
    "# apply the model and extract the two factor matrices\n",
    "W = model.fit_transform( A )\n",
    "H = model.components_"
   ]
  },
  {
   "cell_type": "code",
   "execution_count": 98,
   "metadata": {},
   "outputs": [
    {
     "data": {
      "text/plain": [
       "(1038, 10)"
      ]
     },
     "execution_count": 98,
     "metadata": {},
     "output_type": "execute_result"
    }
   ],
   "source": [
    "W.shape"
   ]
  },
  {
   "cell_type": "code",
   "execution_count": 99,
   "metadata": {},
   "outputs": [
    {
     "data": {
      "text/plain": [
       "array([0.05, 0.06, 0.03, 0.01, 0.02, 0.05, 0.07, 0.06, 0.06, 0.09])"
      ]
     },
     "execution_count": 99,
     "metadata": {},
     "output_type": "execute_result"
    }
   ],
   "source": [
    "# round to 2 decimal places for display purposes\n",
    "W[0,:].round(2)"
   ]
  },
  {
   "cell_type": "code",
   "execution_count": 100,
   "metadata": {},
   "outputs": [
    {
     "data": {
      "text/plain": [
       "(10, 4798)"
      ]
     },
     "execution_count": 100,
     "metadata": {},
     "output_type": "execute_result"
    }
   ],
   "source": [
    "H.shape"
   ]
  },
  {
   "cell_type": "code",
   "execution_count": 103,
   "metadata": {},
   "outputs": [
    {
     "data": {
      "text/plain": [
       "array([0.  , 0.  , 0.  , 0.  , 0.  , 0.  , 0.56, 0.93, 0.  , 0.  ])"
      ]
     },
     "execution_count": 103,
     "metadata": {},
     "output_type": "execute_result"
    }
   ],
   "source": [
    "term_index = terms.index('love')\n",
    "# round to 2 decimal places for display purposes\n",
    "H[:,term_index].round(2)"
   ]
  },
  {
   "cell_type": "code",
   "execution_count": 104,
   "metadata": {},
   "outputs": [],
   "source": [
    "import numpy as np\n",
    "def get_descriptor( terms, H, topic_index, top ):\n",
    "    # reverse sort the values to sort the indices\n",
    "    top_indices = np.argsort( H[topic_index,:] )[::-1]\n",
    "    # now get the terms corresponding to the top-ranked indices\n",
    "    top_terms = []\n",
    "    for term_index in top_indices[0:top]:\n",
    "        top_terms.append( terms[term_index] )\n",
    "    return top_terms"
   ]
  },
  {
   "cell_type": "code",
   "execution_count": 105,
   "metadata": {},
   "outputs": [
    {
     "name": "stdout",
     "output_type": "stream",
     "text": [
      "Topic 01: you, your, the, me, and, to, re, know, can, don\n",
      "Topic 02: the, of, in, to, your, on, is, for, from, they\n",
      "Topic 03: nigga, the, my, niggas, shit, you, fuck, to, and, it\n",
      "Topic 04: la, and, the, to, da, he, it, sha, on, we\n",
      "Topic 05: we, the, and, oh, all, be, is, re, in, of\n",
      "Topic 06: it, the, to, what, on, all, can, got, and, is\n",
      "Topic 07: you, me, oh, baby, my, love, yeah, on, na, your\n",
      "Topic 08: to, me, my, love, of, be, you, for, that, is\n",
      "Topic 09: and, the, he, my, that, in, you, was, on, his\n",
      "Topic 10: she, to, her, the, that, got, he, in, don, girl\n"
     ]
    }
   ],
   "source": [
    "descriptors = []\n",
    "for topic_index in range(k):\n",
    "    descriptors.append( get_descriptor( terms, H, topic_index, 10 ) )\n",
    "    str_descriptor = \", \".join( descriptors[topic_index] )\n",
    "    print(\"Topic %02d: %s\" % ( topic_index+1, str_descriptor ) )"
   ]
  },
  {
   "cell_type": "code",
   "execution_count": 106,
   "metadata": {},
   "outputs": [],
   "source": [
    "%matplotlib inline\n",
    "import numpy as np\n",
    "import matplotlib\n",
    "import matplotlib.pyplot as plt\n",
    "plt.style.use(\"ggplot\")\n",
    "matplotlib.rcParams.update({\"font.size\": 14})"
   ]
  },
  {
   "cell_type": "code",
   "execution_count": 107,
   "metadata": {},
   "outputs": [],
   "source": [
    "def plot_top_term_weights( terms, H, topic_index, top ):\n",
    "    # get the top terms and their weights\n",
    "    top_indices = np.argsort( H[topic_index,:] )[::-1]\n",
    "    top_terms = []\n",
    "    top_weights = []\n",
    "    for term_index in top_indices[0:top]:\n",
    "        top_terms.append( terms[term_index] )\n",
    "        top_weights.append( H[topic_index,term_index] )\n",
    "    # note we reverse the ordering for the plot\n",
    "    top_terms.reverse()\n",
    "    top_weights.reverse()\n",
    "    # create the plot\n",
    "    fig = plt.figure(figsize=(13,8))\n",
    "    # add the horizontal bar chart\n",
    "    ypos = np.arange(top)\n",
    "    ax = plt.barh(ypos, top_weights, align=\"center\", color=\"green\",tick_label=top_terms)\n",
    "    plt.xlabel(\"Term Weight\",fontsize=14)\n",
    "    plt.tight_layout()\n",
    "    plt.show()"
   ]
  },
  {
   "cell_type": "code",
   "execution_count": 108,
   "metadata": {},
   "outputs": [
    {
     "data": {
      "image/png": "[encoded data removed]",
      "text/plain": [
       "<Figure size 936x576 with 1 Axes>"
      ]
     },
     "metadata": {
      "needs_background": "light"
     },
     "output_type": "display_data"
    }
   ],
   "source": [
    "plot_top_term_weights( terms, H, 6, 15 )"
   ]
  },
  {
   "cell_type": "code",
   "execution_count": 111,
   "metadata": {},
   "outputs": [
    {
     "data": {
      "text/plain": [
       "['articles-model-nmf-k10.pkl']"
      ]
     },
     "execution_count": 111,
     "metadata": {},
     "output_type": "execute_result"
    }
   ],
   "source": [
    "joblib.dump((W,H,terms,snippets), \"articles-model-nmf-k%02d.pkl\" % k)"
   ]
  },
  {
   "cell_type": "markdown",
   "metadata": {},
   "source": [
    "## Parameter Selection for NMF"
   ]
  },
  {
   "cell_type": "code",
   "execution_count": 112,
   "metadata": {},
   "outputs": [
    {
     "name": "stdout",
     "output_type": "stream",
     "text": [
      "Loaded 1038 X 4798 document-term matrix\n"
     ]
    }
   ],
   "source": [
    "from sklearn.externals import joblib\n",
    "(A,terms,snippets) = joblib.load( \"articles-tfidf.pkl\" )\n",
    "print( \"Loaded %d X %d document-term matrix\" % (A.shape[0], A.shape[1]) )"
   ]
  },
  {
   "cell_type": "code",
   "execution_count": 113,
   "metadata": {},
   "outputs": [],
   "source": [
    "kmin, kmax = 4, 15"
   ]
  },
  {
   "cell_type": "code",
   "execution_count": 114,
   "metadata": {},
   "outputs": [
    {
     "name": "stdout",
     "output_type": "stream",
     "text": [
      "Applying NMF for k=4 ...\n",
      "Applying NMF for k=5 ...\n",
      "Applying NMF for k=6 ...\n",
      "Applying NMF for k=7 ...\n",
      "Applying NMF for k=8 ...\n",
      "Applying NMF for k=9 ...\n",
      "Applying NMF for k=10 ...\n",
      "Applying NMF for k=11 ...\n",
      "Applying NMF for k=12 ...\n",
      "Applying NMF for k=13 ...\n",
      "Applying NMF for k=14 ...\n",
      "Applying NMF for k=15 ...\n"
     ]
    }
   ],
   "source": [
    "from sklearn import decomposition\n",
    "topic_models = []\n",
    "# try each value of k\n",
    "for k in range(kmin,kmax+1):\n",
    "    print(\"Applying NMF for k=%d ...\" % k )\n",
    "    # run NMF\n",
    "    model = decomposition.NMF( init=\"nndsvd\", n_components=k ) \n",
    "    W = model.fit_transform( A )\n",
    "    H = model.components_    \n",
    "    # store for later\n",
    "    topic_models.append( (k,W,H) )"
   ]
  },
  {
   "cell_type": "code",
   "execution_count": 122,
   "metadata": {},
   "outputs": [
    {
     "name": "stdout",
     "output_type": "stream",
     "text": [
      "Read 1038 raw text documents\n"
     ]
    }
   ],
   "source": [
    "raw_documents = df['text'].to_list()\n",
    "print(\"Read %d raw text documents\" % len(raw_documents))"
   ]
  },
  {
   "cell_type": "code",
   "execution_count": 123,
   "metadata": {},
   "outputs": [
    {
     "name": "stdout",
     "output_type": "stream",
     "text": [
      "Stopword list has 2640 entries\n"
     ]
    }
   ],
   "source": [
    "custom_stop_words = []\n",
    "with open( \"stopwords.txt\", \"r\", encoding = \"utf8\" ) as fin:\n",
    "    for line in fin.readlines():\n",
    "        custom_stop_words.append( line.strip().lower() )\n",
    "# note that we need to make it hashable\n",
    "print(\"Stopword list has %d entries\" % len(custom_stop_words) )"
   ]
  },
  {
   "cell_type": "code",
   "execution_count": 124,
   "metadata": {},
   "outputs": [],
   "source": [
    "import re\n",
    "class TokenGenerator:\n",
    "    def __init__( self, documents, stopwords ):\n",
    "        self.documents = documents\n",
    "        self.stopwords = stopwords\n",
    "        self.tokenizer = re.compile( r\"(?u)\\b\\w\\w+\\b\" )\n",
    "\n",
    "    def __iter__( self ):\n",
    "        print(\"Building Word2Vec model ...\")\n",
    "        for doc in self.documents:\n",
    "            tokens = []\n",
    "            for tok in self.tokenizer.findall( doc ):\n",
    "                if tok in self.stopwords:\n",
    "                    tokens.append( \"<stopword>\" )\n",
    "                elif len(tok) >= 2:\n",
    "                    tokens.append( tok )\n",
    "            yield tokens"
   ]
  },
  {
   "cell_type": "code",
   "execution_count": 126,
   "metadata": {},
   "outputs": [
    {
     "name": "stdout",
     "output_type": "stream",
     "text": [
      "Collecting gensim\n",
      "  Downloading https://files.pythonhosted.org/packages/0b/66/04faeedb98bfa5f241d0399d0102456886179cabac0355475f23a2978847/gensim-3.8.3-cp37-cp37m-win_amd64.whl (24.2MB)\n",
      "Requirement already satisfied: numpy>=1.11.3 in c:\\programdata\\anaconda3\\lib\\site-packages (from gensim) (1.16.5)\n",
      "Collecting smart-open>=1.8.1 (from gensim)\n",
      "  Downloading https://files.pythonhosted.org/packages/0b/8e/464b06f5efd26f2dc16ce7bd1662c2f31cadf9104fdbcbf5994674cc3a51/smart_open-2.1.0.tar.gz (116kB)\n",
      "Requirement already satisfied: six>=1.5.0 in c:\\programdata\\anaconda3\\lib\\site-packages (from gensim) (1.12.0)\n",
      "Requirement already satisfied: scipy>=0.18.1 in c:\\programdata\\anaconda3\\lib\\site-packages (from gensim) (1.3.1)\n",
      "Collecting Cython==0.29.14 (from gensim)\n",
      "  Downloading https://files.pythonhosted.org/packages/1f/be/b14be5c3ad1ff73096b518be1538282f053ec34faaca60a8753d975d7e93/Cython-0.29.14-cp37-cp37m-win_amd64.whl (1.7MB)\n",
      "Requirement already satisfied: requests in c:\\programdata\\anaconda3\\lib\\site-packages (from smart-open>=1.8.1->gensim) (2.22.0)\n",
      "Requirement already satisfied: boto in c:\\programdata\\anaconda3\\lib\\site-packages (from smart-open>=1.8.1->gensim) (2.49.0)\n",
      "Collecting boto3 (from smart-open>=1.8.1->gensim)\n",
      "  Downloading https://files.pythonhosted.org/packages/7e/e9/75f4db5ef020f4c12f05fcfb709c0c9db35aae912d7e90ee3ced3e7e04ad/boto3-1.14.16-py2.py3-none-any.whl (128kB)\n",
      "Requirement already satisfied: chardet<3.1.0,>=3.0.2 in c:\\programdata\\anaconda3\\lib\\site-packages (from requests->smart-open>=1.8.1->gensim) (3.0.4)\n",
      "Requirement already satisfied: certifi>=2017.4.17 in c:\\programdata\\anaconda3\\lib\\site-packages (from requests->smart-open>=1.8.1->gensim) (2019.9.11)\n",
      "Requirement already satisfied: urllib3!=1.25.0,!=1.25.1,<1.26,>=1.21.1 in c:\\programdata\\anaconda3\\lib\\site-packages (from requests->smart-open>=1.8.1->gensim) (1.24.2)\n",
      "Requirement already satisfied: idna<2.9,>=2.5 in c:\\programdata\\anaconda3\\lib\\site-packages (from requests->smart-open>=1.8.1->gensim) (2.8)\n",
      "Collecting jmespath<1.0.0,>=0.7.1 (from boto3->smart-open>=1.8.1->gensim)\n",
      "  Downloading https://files.pythonhosted.org/packages/07/cb/5f001272b6faeb23c1c9e0acc04d48eaaf5c862c17709d20e3469c6e0139/jmespath-0.10.0-py2.py3-none-any.whl\n",
      "Collecting s3transfer<0.4.0,>=0.3.0 (from boto3->smart-open>=1.8.1->gensim)\n",
      "  Downloading https://files.pythonhosted.org/packages/69/79/e6afb3d8b0b4e96cefbdc690f741d7dd24547ff1f94240c997a26fa908d3/s3transfer-0.3.3-py2.py3-none-any.whl (69kB)\n",
      "Collecting botocore<1.18.0,>=1.17.16 (from boto3->smart-open>=1.8.1->gensim)\n",
      "  Downloading https://files.pythonhosted.org/packages/5c/e8/2e1d6580c3d155b4453c88d9b14a38602f67c4f1c23856c932d83e24d317/botocore-1.17.16-py2.py3-none-any.whl (6.3MB)\n",
      "Requirement already satisfied: python-dateutil<3.0.0,>=2.1 in c:\\programdata\\anaconda3\\lib\\site-packages (from botocore<1.18.0,>=1.17.16->boto3->smart-open>=1.8.1->gensim) (2.8.0)\n",
      "Requirement already satisfied: docutils<0.16,>=0.10 in c:\\programdata\\anaconda3\\lib\\site-packages (from botocore<1.18.0,>=1.17.16->boto3->smart-open>=1.8.1->gensim) (0.15.2)\n",
      "Building wheels for collected packages: smart-open\n",
      "  Building wheel for smart-open (setup.py): started\n",
      "  Building wheel for smart-open (setup.py): finished with status 'done'\n",
      "  Created wheel for smart-open: filename=smart_open-2.1.0-cp37-none-any.whl size=110325 sha256=14bf0c6d02ebff35b28c7dedc2d544c5d080f5379b62d735898ce22ab7ca567d\n",
      "  Stored in directory: C:\\Users\\Günther\\AppData\\Local\\pip\\Cache\\wheels\\25\\6c\\db\\7dcb26f19fb260c5629af85ed1c8ef9641143444fc7ec1fa08\n",
      "Successfully built smart-open\n",
      "Installing collected packages: jmespath, botocore, s3transfer, boto3, smart-open, Cython, gensim\n",
      "  Found existing installation: Cython 0.29.13\n",
      "    Uninstalling Cython-0.29.13:\n",
      "      Successfully uninstalled Cython-0.29.13\n",
      "Successfully installed Cython-0.29.14 boto3-1.14.16 botocore-1.17.16 gensim-3.8.3 jmespath-0.10.0 s3transfer-0.3.3 smart-open-2.1.0\n"
     ]
    }
   ],
   "source": [
    "!pip install gensim"
   ]
  },
  {
   "cell_type": "code",
   "execution_count": 127,
   "metadata": {},
   "outputs": [
    {
     "name": "stdout",
     "output_type": "stream",
     "text": [
      "Building Word2Vec model ...\n",
      "Building Word2Vec model ...\n",
      "Building Word2Vec model ...\n",
      "Building Word2Vec model ...\n",
      "Building Word2Vec model ...\n",
      "Building Word2Vec model ...\n"
     ]
    }
   ],
   "source": [
    "import gensim\n",
    "docgen = TokenGenerator( raw_documents, custom_stop_words )\n",
    "# the model has 500 dimensions, the minimum document-term frequency is 20\n",
    "w2v_model = gensim.models.Word2Vec(docgen, size=500, min_count=20, sg=1)"
   ]
  },
  {
   "cell_type": "code",
   "execution_count": 128,
   "metadata": {},
   "outputs": [
    {
     "name": "stdout",
     "output_type": "stream",
     "text": [
      "Model has 6594 terms\n"
     ]
    }
   ],
   "source": [
    "print(\"Model has %d terms\" % len(w2v_model.wv.vocab))"
   ]
  },
  {
   "cell_type": "code",
   "execution_count": 129,
   "metadata": {},
   "outputs": [],
   "source": [
    "w2v_model.save(\"w2v-model.bin\")"
   ]
  },
  {
   "cell_type": "markdown",
   "metadata": {},
   "source": [
    "## Selecting the Number of Topics"
   ]
  },
  {
   "cell_type": "code",
   "execution_count": 130,
   "metadata": {},
   "outputs": [],
   "source": [
    "def calculate_coherence( w2v_model, term_rankings ):\n",
    "    overall_coherence = 0.0\n",
    "    for topic_index in range(len(term_rankings)):\n",
    "        # check each pair of terms\n",
    "        pair_scores = []\n",
    "        for pair in combinations( term_rankings[topic_index], 2 ):\n",
    "            pair_scores.append( w2v_model.similarity(pair[0], pair[1]) )\n",
    "        # get the mean for all pairs in this topic\n",
    "        topic_score = sum(pair_scores) / len(pair_scores)\n",
    "        overall_coherence += topic_score\n",
    "    # get the mean score across all topics\n",
    "    return overall_coherence / len(term_rankings)"
   ]
  },
  {
   "cell_type": "code",
   "execution_count": 131,
   "metadata": {},
   "outputs": [],
   "source": [
    "import numpy as np\n",
    "def get_descriptor( all_terms, H, topic_index, top ):\n",
    "    # reverse sort the values to sort the indices\n",
    "    top_indices = np.argsort( H[topic_index,:] )[::-1]\n",
    "    # now get the terms corresponding to the top-ranked indices\n",
    "    top_terms = []\n",
    "    for term_index in top_indices[0:top]:\n",
    "        top_terms.append( all_terms[term_index] )\n",
    "    return top_terms"
   ]
  },
  {
   "cell_type": "code",
   "execution_count": 132,
   "metadata": {},
   "outputs": [
    {
     "name": "stderr",
     "output_type": "stream",
     "text": [
      "C:\\ProgramData\\Anaconda3\\lib\\site-packages\\ipykernel_launcher.py:7: DeprecationWarning: Call to deprecated `similarity` (Method will be removed in 4.0.0, use self.wv.similarity() instead).\n",
      "  import sys\n"
     ]
    },
    {
     "name": "stdout",
     "output_type": "stream",
     "text": [
      "K=04: Coherence=0.2445\n",
      "K=05: Coherence=0.2452\n",
      "K=06: Coherence=0.2447\n",
      "K=07: Coherence=0.2404\n",
      "K=08: Coherence=0.2523\n",
      "K=09: Coherence=0.2445\n",
      "K=10: Coherence=0.2389\n",
      "K=11: Coherence=0.2379\n",
      "K=12: Coherence=0.2344\n",
      "K=13: Coherence=0.2368\n",
      "K=14: Coherence=0.2359\n",
      "K=15: Coherence=0.2367\n"
     ]
    }
   ],
   "source": [
    "from itertools import combinations\n",
    "k_values = []\n",
    "coherences = []\n",
    "for (k,W,H) in topic_models:\n",
    "    # Get all of the topic descriptors - the term_rankings, based on top 10 terms\n",
    "    term_rankings = []\n",
    "    for topic_index in range(k):\n",
    "        term_rankings.append( get_descriptor( terms, H, topic_index, 10 ) )\n",
    "    # Now calculate the coherence based on our Word2vec model\n",
    "    k_values.append( k )\n",
    "    coherences.append( calculate_coherence( w2v_model, term_rankings ) )\n",
    "    print(\"K=%02d: Coherence=%.4f\" % ( k, coherences[-1] ) )"
   ]
  },
  {
   "cell_type": "code",
   "execution_count": 133,
   "metadata": {},
   "outputs": [],
   "source": [
    "%matplotlib inline\n",
    "import matplotlib\n",
    "import matplotlib.pyplot as plt\n",
    "plt.style.use(\"ggplot\")\n",
    "matplotlib.rcParams.update({\"font.size\": 14})"
   ]
  },
  {
   "cell_type": "code",
   "execution_count": 134,
   "metadata": {},
   "outputs": [
    {
     "data": {
      "image/png": "[encoded data removed]",
      "text/plain": [
       "<Figure size 936x504 with 1 Axes>"
      ]
     },
     "metadata": {},
     "output_type": "display_data"
    }
   ],
   "source": [
    "fig = plt.figure(figsize=(13,7))\n",
    "# create the line plot\n",
    "ax = plt.plot( k_values, coherences )\n",
    "plt.xticks(k_values)\n",
    "plt.xlabel(\"Number of Topics\")\n",
    "plt.ylabel(\"Mean Coherence\")\n",
    "# add the points\n",
    "plt.scatter( k_values, coherences, s=120)\n",
    "# find and annotate the maximum point on the plot\n",
    "ymax = max(coherences)\n",
    "xpos = coherences.index(ymax)\n",
    "best_k = k_values[xpos]\n",
    "plt.annotate( \"k=%d\" % best_k, xy=(best_k, ymax), xytext=(best_k, ymax), textcoords=\"offset points\", fontsize=16)\n",
    "# show the plot\n",
    "plt.show()"
   ]
  },
  {
   "cell_type": "markdown",
   "metadata": {},
   "source": [
    "## Examine the Final Model"
   ]
  },
  {
   "cell_type": "code",
   "execution_count": 136,
   "metadata": {},
   "outputs": [],
   "source": [
    "k = best_k\n",
    "# get the model that we generated earlier.\n",
    "W = topic_models[k-kmin][1]\n",
    "H = topic_models[k-kmin][2]"
   ]
  },
  {
   "cell_type": "code",
   "execution_count": 137,
   "metadata": {},
   "outputs": [
    {
     "name": "stdout",
     "output_type": "stream",
     "text": [
      "Topic 01: and, to, the, he, she, that, her, in, my, you\n",
      "Topic 02: the, of, in, to, and, your, is, we, my, on\n",
      "Topic 03: the, nigga, you, my, niggas, it, shit, fuck, and, to\n",
      "Topic 04: la, the, and, da, on, it, you, he, oh, in\n",
      "Topic 05: you, to, me, and, your, the, it, re, know, can\n",
      "Topic 06: it, the, we, to, all, can, is, what, that, and\n",
      "Topic 07: na, you, di, and, ba, me, my, the, your, mo\n",
      "Topic 08: me, love, my, baby, oh, to, yeah, you, be, don\n"
     ]
    }
   ],
   "source": [
    "for topic_index in range(k):\n",
    "    descriptor = get_descriptor( terms, H, topic_index, 10 )\n",
    "    str_descriptor = \", \".join( descriptor )\n",
    "    print(\"Topic %02d: %s\" % ( topic_index+1, str_descriptor ) )"
   ]
  },
  {
   "cell_type": "code",
   "execution_count": null,
   "metadata": {},
   "outputs": [],
   "source": []
  }
 ],
 "metadata": {
  "kernelspec": {
   "display_name": "Python 3",
   "language": "python",
   "name": "python3"
  },
  "language_info": {
   "codemirror_mode": {
    "name": "ipython",
    "version": 3
   },
   "file_extension": ".py",
   "mimetype": "text/x-python",
   "name": "python",
   "nbconvert_exporter": "python",
   "pygments_lexer": "ipython3",
   "version": "3.7.4"
  }
 },
 "nbformat": 4,
 "nbformat_minor": 2
}
