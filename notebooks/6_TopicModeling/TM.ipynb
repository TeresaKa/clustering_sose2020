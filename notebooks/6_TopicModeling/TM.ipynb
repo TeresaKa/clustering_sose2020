{
 "cells": [
  {
   "cell_type": "code",
   "execution_count": 5,
   "metadata": {},
   "outputs": [],
   "source": [
    "import warnings\n",
    "warnings.filterwarnings('ignore')"
   ]
  },
  {
   "cell_type": "code",
   "execution_count": 1,
   "metadata": {},
   "outputs": [
    {
     "data": {
      "text/plain": [
       "['The', 'Fulton', 'County', 'Grand', 'Jury', 'said', ...]"
      ]
     },
     "execution_count": 1,
     "metadata": {},
     "output_type": "execute_result"
    }
   ],
   "source": [
    "from nltk.corpus import brown\n",
    "brown.words()"
   ]
  },
  {
   "cell_type": "code",
   "execution_count": 255,
   "metadata": {},
   "outputs": [],
   "source": [
    "import nltk\n",
    "from nltk.corpus import stopwords"
   ]
  },
  {
   "cell_type": "code",
   "execution_count": 256,
   "metadata": {},
   "outputs": [],
   "source": [
    "stop_words = set(stopwords.words(\"english\"))"
   ]
  },
  {
   "cell_type": "markdown",
   "metadata": {},
   "source": [
    "# Version 1"
   ]
  },
  {
   "cell_type": "markdown",
   "metadata": {},
   "source": [
    "https://medium.com/mlreview/topic-modeling-with-scikit-learn-e80d33668730"
   ]
  },
  {
   "cell_type": "code",
   "execution_count": 28,
   "metadata": {},
   "outputs": [],
   "source": [
    "from sklearn.feature_extraction.text import TfidfVectorizer, CountVectorizer\n",
    "from sklearn.decomposition import NMF, LatentDirichletAllocation\n",
    "import pandas as pd"
   ]
  },
  {
   "cell_type": "code",
   "execution_count": 237,
   "metadata": {},
   "outputs": [],
   "source": [
    "def display_topics(model, feature_names, no_top_words):\n",
    "    for topic_idx, topic in enumerate(model.components_):\n",
    "        message = \"Topic #%d: \" % topic_idx\n",
    "        message += \" \".join([feature_names[i]\n",
    "                             for i in topic.argsort()[:-n_top_words - 1:-1]])\n",
    "        print(message)\n",
    "    print()"
   ]
  },
  {
   "cell_type": "code",
   "execution_count": 29,
   "metadata": {},
   "outputs": [],
   "source": [
    "df = pd.read_csv(\"../../datasets/currently_dataset/song_decades_long.csv\")"
   ]
  },
  {
   "cell_type": "code",
   "execution_count": 30,
   "metadata": {},
   "outputs": [
    {
     "data": {
      "text/html": [
       "<div>\n",
       "<style scoped>\n",
       "    .dataframe tbody tr th:only-of-type {\n",
       "        vertical-align: middle;\n",
       "    }\n",
       "\n",
       "    .dataframe tbody tr th {\n",
       "        vertical-align: top;\n",
       "    }\n",
       "\n",
       "    .dataframe thead th {\n",
       "        text-align: right;\n",
       "    }\n",
       "</style>\n",
       "<table border=\"1\" class=\"dataframe\">\n",
       "  <thead>\n",
       "    <tr style=\"text-align: right;\">\n",
       "      <th></th>\n",
       "      <th>Unnamed: 0</th>\n",
       "      <th>artist</th>\n",
       "      <th>decades</th>\n",
       "      <th>text</th>\n",
       "      <th>stemmed_text</th>\n",
       "      <th>POS</th>\n",
       "      <th>Genre1</th>\n",
       "      <th>genre1</th>\n",
       "      <th>number_of_tokens</th>\n",
       "      <th>number_of_types</th>\n",
       "    </tr>\n",
       "  </thead>\n",
       "  <tbody>\n",
       "    <tr>\n",
       "      <th>0</th>\n",
       "      <td>0</td>\n",
       "      <td>\"Weird Al\" Yankovic</td>\n",
       "      <td>1980s</td>\n",
       "      <td>potato skins  potato cakes  hash browns  and i...</td>\n",
       "      <td>potato skin potato cake hash brown and instan...</td>\n",
       "      <td>french plain enough greasy sour lumpy tough en...</td>\n",
       "      <td>Rock</td>\n",
       "      <td>antiviral pop</td>\n",
       "      <td>12745.0</td>\n",
       "      <td>2264.0</td>\n",
       "    </tr>\n",
       "    <tr>\n",
       "      <th>1</th>\n",
       "      <td>37</td>\n",
       "      <td>\"Weird Al\" Yankovic</td>\n",
       "      <td>1990s</td>\n",
       "      <td>as i walk through the valley where i harvest m...</td>\n",
       "      <td>as i walk through the valley where i harvest ...</td>\n",
       "      <td>plain perfect fancy amish amish hard amish ami...</td>\n",
       "      <td>Rock</td>\n",
       "      <td>antiviral pop</td>\n",
       "      <td>10803.0</td>\n",
       "      <td>2317.0</td>\n",
       "    </tr>\n",
       "  </tbody>\n",
       "</table>\n",
       "</div>"
      ],
      "text/plain": [
       "   Unnamed: 0               artist decades  \\\n",
       "0           0  \"Weird Al\" Yankovic   1980s   \n",
       "1          37  \"Weird Al\" Yankovic   1990s   \n",
       "\n",
       "                                                text  \\\n",
       "0  potato skins  potato cakes  hash browns  and i...   \n",
       "1  as i walk through the valley where i harvest m...   \n",
       "\n",
       "                                        stemmed_text  \\\n",
       "0   potato skin potato cake hash brown and instan...   \n",
       "1   as i walk through the valley where i harvest ...   \n",
       "\n",
       "                                                 POS Genre1         genre1  \\\n",
       "0  french plain enough greasy sour lumpy tough en...   Rock  antiviral pop   \n",
       "1  plain perfect fancy amish amish hard amish ami...   Rock  antiviral pop   \n",
       "\n",
       "   number_of_tokens  number_of_types  \n",
       "0           12745.0           2264.0  \n",
       "1           10803.0           2317.0  "
      ]
     },
     "execution_count": 30,
     "metadata": {},
     "output_type": "execute_result"
    }
   ],
   "source": [
    "df.head(2)"
   ]
  },
  {
   "cell_type": "code",
   "execution_count": 4,
   "metadata": {},
   "outputs": [],
   "source": [
    "documents = df.text"
   ]
  },
  {
   "cell_type": "code",
   "execution_count": 5,
   "metadata": {},
   "outputs": [
    {
     "data": {
      "text/plain": [
       "0       potato skins  potato cakes  hash browns  and i...\n",
       "1       as i walk through the valley where i harvest m...\n",
       "2       jillian was her name  she was sweeter than asp...\n",
       "3       my mama told me when i was hatched  act like a...\n",
       "4       here we go      here we go  one more time  eve...\n",
       "                              ...                        \n",
       "1033    you know i like my chicken fried  cold beer on...\n",
       "1034    we never spoke a word  but every thought she h...\n",
       "1035    well you're walking on the moon  but there's n...\n",
       "1036    i lie awake  i've gone to ground  i'm watching...\n",
       "1037    everybody's worried about time  but i just kee...\n",
       "Name: text, Length: 1038, dtype: object"
      ]
     },
     "execution_count": 5,
     "metadata": {},
     "output_type": "execute_result"
    }
   ],
   "source": [
    "documents"
   ]
  },
  {
   "cell_type": "code",
   "execution_count": 242,
   "metadata": {},
   "outputs": [],
   "source": [
    "no_features = 1000\n",
    "no_topics = 20\n",
    "n_components = 10\n",
    "n_top_words = 20"
   ]
  },
  {
   "cell_type": "code",
   "execution_count": 261,
   "metadata": {},
   "outputs": [],
   "source": [
    "tfidf_vectorizer = TfidfVectorizer(max_df=0.95, min_df=2, max_features=no_features, stop_words=stop_words)\n",
    "tfidf = tfidf_vectorizer.fit_transform(documents)\n",
    "tfidf_feature_names = tfidf_vectorizer.get_feature_names()"
   ]
  },
  {
   "cell_type": "code",
   "execution_count": 262,
   "metadata": {},
   "outputs": [],
   "source": [
    "tf_vectorizer = CountVectorizer(max_df=0.95, min_df=2, max_features=no_features, stop_words=stop_words)\n",
    "tf = tf_vectorizer.fit_transform(documents)\n",
    "tf_feature_names = tf_vectorizer.get_feature_names()"
   ]
  },
  {
   "cell_type": "code",
   "execution_count": 263,
   "metadata": {},
   "outputs": [],
   "source": [
    "nmf = NMF(n_components=no_topics, random_state=1, alpha=.1, l1_ratio=.5, init='nndsvd').fit(tfidf)"
   ]
  },
  {
   "cell_type": "code",
   "execution_count": 264,
   "metadata": {},
   "outputs": [],
   "source": [
    "lda = LatentDirichletAllocation(n_components=no_topics, max_iter=5,\n",
    "                                learning_method='online',\n",
    "                                learning_offset=50.,\n",
    "                                random_state=0)"
   ]
  },
  {
   "cell_type": "code",
   "execution_count": 265,
   "metadata": {},
   "outputs": [
    {
     "name": "stdout",
     "output_type": "stream",
     "text": [
      "Topic #0: man night day good way world love know old say life light little go head mind get one last everything\n",
      "Topic #1: nigga shit bitch fuck ai ass money niggas wit get hood verse hook niggaz pussy fucking fuckin know man game\n",
      "Topic #2: baby love honey somebody want ready know ai girl good crazy need thing lovin right sweet nobody little heart gimme\n",
      "Topic #3: love need know heart feel night say life world true chance baby lonely someone want happy enough day way goodbye\n",
      "Topic #4: ai good nothin nobody old tryin money talkin roll man know ride band job cowboy honey nothing miss ol boy\n",
      "Topic #5: doo takin feelin welcome happy hate cherry somethin man stuff skin run good heartbeat think bad jump road number something\n",
      "Topic #6: girl daddy ai party world club body tryna sexy want bad gon favorite like think kiss ceiling love young brown\n",
      "Topic #7: want need say real enough party wish gimme thing everything like today end think alone much control get beautiful truth\n",
      "Topic #8: tonight night long right body someone hold boom hot fight lonely party radio town dream moment music alive side alright\n",
      "Topic #9: death blood dead war pain end fucking evil metal sword darkness fire fear hell enemy soul die lie hate grave\n",
      "Topic #10: heart nothing soul broken hope poison lonely dream place world look truth say start close someone true see everything lifetime\n",
      "Topic #11: little bit daddy lovin evening nothing moonlight boy sweet poor dirty dog fever mama many dirt big store monkey silver\n",
      "Topic #12: rock roll lady night fool fire gimme rebel soul guitar la high sister somebody runnin get long gon fun know\n",
      "Topic #13: know verse need nothing everything think something feel right see way want pre thing one say mind gon everybody hold\n",
      "Topic #14: woman good lovin man talkin boy know cowboy old satisfied little daddy blue big mercy mama train diamond killer south\n",
      "Topic #15: life world pain lust alive face new sky sun feel soul strong step strength future perfect happy belong empty hate\n",
      "Topic #16: dance romance magic gimme like sex night mystery bar school beat future want walk fun wall jump music power sister\n",
      "Topic #17: way mine day feel true nothing child look free wave speak hate reason shore today gentle lie step thunder strength\n",
      "Topic #18: praise glory holy name mercy grace king sing peace soul rain free cross voice thank mighty faith strength pray great\n",
      "Topic #19: believe business mercy money madness hat bye truth give see victim free last fool alone feel hold face grace go\n",
      "\n"
     ]
    }
   ],
   "source": [
    "no_top_words = 10\n",
    "display_topics(nmf, tfidf_feature_names, no_top_words)\n",
    "#display_topics(lda, tf_feature_names, no_top_words)"
   ]
  },
  {
   "cell_type": "markdown",
   "metadata": {},
   "source": [
    "mit POS"
   ]
  },
  {
   "cell_type": "code",
   "execution_count": 266,
   "metadata": {},
   "outputs": [],
   "source": [
    "documents = df.POS"
   ]
  },
  {
   "cell_type": "code",
   "execution_count": 267,
   "metadata": {},
   "outputs": [],
   "source": [
    "tfidf_vectorizer = TfidfVectorizer(max_df=0.95, min_df=2, max_features=no_features, stop_words=stop_words)\n",
    "tfidf = tfidf_vectorizer.fit_transform(documents)\n",
    "tfidf_feature_names = tfidf_vectorizer.get_feature_names()"
   ]
  },
  {
   "cell_type": "code",
   "execution_count": 268,
   "metadata": {},
   "outputs": [],
   "source": [
    "nmf = NMF(n_components=no_topics, random_state=1, alpha=.1, l1_ratio=.5, init='nndsvd').fit(tfidf)"
   ]
  },
  {
   "cell_type": "code",
   "execution_count": 269,
   "metadata": {},
   "outputs": [],
   "source": [
    "lda = LatentDirichletAllocation(n_components=no_topics, max_iter=5,\n",
    "                                learning_method='online',\n",
    "                                learning_offset=50.,\n",
    "                                random_state=0)"
   ]
  },
  {
   "cell_type": "code",
   "execution_count": 270,
   "metadata": {},
   "outputs": [
    {
     "name": "stdout",
     "output_type": "stream",
     "text": [
      "Topic #0: man night day good way world love know old say life light little go head mind get one last everything\n",
      "Topic #1: nigga shit bitch fuck ai ass money niggas wit get hood verse hook niggaz pussy fucking fuckin know man game\n",
      "Topic #2: baby love honey somebody want ready know ai girl good crazy need thing lovin right sweet nobody little heart gimme\n",
      "Topic #3: love need know heart feel night say life world true chance baby lonely someone want happy enough day way goodbye\n",
      "Topic #4: ai good nothin nobody old tryin money talkin roll man know ride band job cowboy honey nothing miss ol boy\n",
      "Topic #5: doo takin feelin welcome happy hate cherry somethin man stuff skin run good heartbeat think bad jump road number something\n",
      "Topic #6: girl daddy ai party world club body tryna sexy want bad gon favorite like think kiss ceiling love young brown\n",
      "Topic #7: want need say real enough party wish gimme thing everything like today end think alone much control get beautiful truth\n",
      "Topic #8: tonight night long right body someone hold boom hot fight lonely party radio town dream moment music alive side alright\n",
      "Topic #9: death blood dead war pain end fucking evil metal sword darkness fire fear hell enemy soul die lie hate grave\n",
      "Topic #10: heart nothing soul broken hope poison lonely dream place world look truth say start close someone true see everything lifetime\n",
      "Topic #11: little bit daddy lovin evening nothing moonlight boy sweet poor dirty dog fever mama many dirt big store monkey silver\n",
      "Topic #12: rock roll lady night fool fire gimme rebel soul guitar la high sister somebody runnin get long gon fun know\n",
      "Topic #13: know verse need nothing everything think something feel right see way want pre thing one say mind gon everybody hold\n",
      "Topic #14: woman good lovin man talkin boy know cowboy old satisfied little daddy blue big mercy mama train diamond killer south\n",
      "Topic #15: life world pain lust alive face new sky sun feel soul strong step strength future perfect happy belong empty hate\n",
      "Topic #16: dance romance magic gimme like sex night mystery bar school beat future want walk fun wall jump music power sister\n",
      "Topic #17: way mine day feel true nothing child look free wave speak hate reason shore today gentle lie step thunder strength\n",
      "Topic #18: praise glory holy name mercy grace king sing peace soul rain free cross voice thank mighty faith strength pray great\n",
      "Topic #19: believe business mercy money madness hat bye truth give see victim free last fool alone feel hold face grace go\n",
      "\n"
     ]
    }
   ],
   "source": [
    "no_top_words = 10\n",
    "display_topics(nmf, tfidf_feature_names, no_top_words)"
   ]
  },
  {
   "cell_type": "code",
   "execution_count": 271,
   "metadata": {
    "scrolled": true
   },
   "outputs": [
    {
     "name": "stdout",
     "output_type": "stream",
     "text": [
      "\n",
      "Topics in LDA model:\n",
      "Topic #0: hand little man know baby flow ai dream heart night love want face one big day way goin fat good\n",
      "Topic #1: sword bottle trip buy track get hurry seat hot love plane ready lot tree mad bloody lightning follow honey night\n",
      "Topic #2: oo ride single pistol cool slide love poor desert ai world gentle home young life heart holiday band go name\n",
      "Topic #3: life world heart way know love name day light night soul one blood fire nothing pain free feel mind see\n",
      "Topic #4: big hand woman dream gun man blue road job fat talkin baby flow ai die water island air little high\n",
      "Topic #5: man way little know day good old ai night love life want world mind head say town get go one\n",
      "Topic #6: doo dance jump baby ordinary love magic day ai little takin drum fire feelin girl run good cherry life like\n",
      "Topic #7: old baby sword heart love night day ai want talkin world track get hot little cool know boy honey tonight\n",
      "Topic #8: baby bad love lady night enough want man know heart something need magic good bar way goodbye rock ai life\n",
      "Topic #9: wit big ai chop man know money high mmm moon get niggaz club dem make friend see smokin young nigga\n",
      "Topic #10: ai know nigga shit bitch money get want say love life see need way fuck man gon baby game verse\n",
      "Topic #11: love baby know heart way want life night need day world say good little girl nothing ai tonight right feel\n",
      "Topic #12: thank doctor turn way sing know good mother nobody love ai dream night heart day wind train rain old foot\n",
      "Topic #13: want baby town man young ai mood little street alright night breath keep house call beach lonely everybody body glory\n",
      "Topic #14: music bit heat boat little nothing ocean river machine way sugar know feel kind long person man child home friend\n",
      "Topic #15: dog tv stupid dead boogie man generation eat food free want guy baby star night little nature get love everybody\n",
      "Topic #16: baby love want know man day good ai night way life little say need right house old heart girl thing\n",
      "Topic #17: ass bitch man shit fuck ai fucking chicken boom everybody big dope get brother head mother motherfucker fuckin momma funk\n",
      "Topic #18: baby girl know want love ai tonight man body dance night like get little way need good hot ready rock\n",
      "Topic #19: hand feeling tomorrow watch baby go tender thing shame love good hell tv ill la wood round night alright back\n",
      "\n"
     ]
    }
   ],
   "source": [
    "lda.fit(tf)\n",
    "\n",
    "\n",
    "print(\"\\nTopics in LDA model:\")\n",
    "tf_feature_names = tf_vectorizer.get_feature_names()\n",
    "display_topics(lda, tf_feature_names, n_top_words)"
   ]
  },
  {
   "cell_type": "markdown",
   "metadata": {},
   "source": [
    "# Version 2"
   ]
  },
  {
   "cell_type": "markdown",
   "metadata": {},
   "source": [
    "https://github.com/derekgreene/topic-model-tutorial"
   ]
  },
  {
   "cell_type": "markdown",
   "metadata": {},
   "source": [
    "## Text Preprocessing"
   ]
  },
  {
   "cell_type": "code",
   "execution_count": 6,
   "metadata": {},
   "outputs": [
    {
     "name": "stdout",
     "output_type": "stream",
     "text": [
      "Read 1038 raw text documents\n"
     ]
    }
   ],
   "source": [
    "raw_documents = df['POS'].to_list()\n",
    "print(\"Read %d raw text documents\" % len(raw_documents)) #Laden der Daten"
   ]
  },
  {
   "cell_type": "markdown",
   "metadata": {},
   "source": [
    "### Document-Term Matrix erstellen"
   ]
  },
  {
   "cell_type": "code",
   "execution_count": 7,
   "metadata": {},
   "outputs": [],
   "source": [
    "import nltk\n",
    "from nltk.corpus import stopwords"
   ]
  },
  {
   "cell_type": "code",
   "execution_count": 8,
   "metadata": {},
   "outputs": [
    {
     "data": {
      "text/plain": [
       "{'a',\n",
       " 'about',\n",
       " 'above',\n",
       " 'after',\n",
       " 'again',\n",
       " 'against',\n",
       " 'ain',\n",
       " 'all',\n",
       " 'am',\n",
       " 'an',\n",
       " 'and',\n",
       " 'any',\n",
       " 'are',\n",
       " 'aren',\n",
       " \"aren't\",\n",
       " 'as',\n",
       " 'at',\n",
       " 'be',\n",
       " 'because',\n",
       " 'been',\n",
       " 'before',\n",
       " 'being',\n",
       " 'below',\n",
       " 'between',\n",
       " 'both',\n",
       " 'but',\n",
       " 'by',\n",
       " 'can',\n",
       " 'couldn',\n",
       " \"couldn't\",\n",
       " 'd',\n",
       " 'did',\n",
       " 'didn',\n",
       " \"didn't\",\n",
       " 'do',\n",
       " 'does',\n",
       " 'doesn',\n",
       " \"doesn't\",\n",
       " 'doing',\n",
       " 'don',\n",
       " \"don't\",\n",
       " 'down',\n",
       " 'during',\n",
       " 'each',\n",
       " 'few',\n",
       " 'for',\n",
       " 'from',\n",
       " 'further',\n",
       " 'had',\n",
       " 'hadn',\n",
       " \"hadn't\",\n",
       " 'has',\n",
       " 'hasn',\n",
       " \"hasn't\",\n",
       " 'have',\n",
       " 'haven',\n",
       " \"haven't\",\n",
       " 'having',\n",
       " 'he',\n",
       " 'her',\n",
       " 'here',\n",
       " 'hers',\n",
       " 'herself',\n",
       " 'him',\n",
       " 'himself',\n",
       " 'his',\n",
       " 'how',\n",
       " 'i',\n",
       " 'if',\n",
       " 'in',\n",
       " 'into',\n",
       " 'is',\n",
       " 'isn',\n",
       " \"isn't\",\n",
       " 'it',\n",
       " \"it's\",\n",
       " 'its',\n",
       " 'itself',\n",
       " 'just',\n",
       " 'll',\n",
       " 'm',\n",
       " 'ma',\n",
       " 'me',\n",
       " 'mightn',\n",
       " \"mightn't\",\n",
       " 'more',\n",
       " 'most',\n",
       " 'mustn',\n",
       " \"mustn't\",\n",
       " 'my',\n",
       " 'myself',\n",
       " 'needn',\n",
       " \"needn't\",\n",
       " 'no',\n",
       " 'nor',\n",
       " 'not',\n",
       " 'now',\n",
       " 'o',\n",
       " 'of',\n",
       " 'off',\n",
       " 'on',\n",
       " 'once',\n",
       " 'only',\n",
       " 'or',\n",
       " 'other',\n",
       " 'our',\n",
       " 'ours',\n",
       " 'ourselves',\n",
       " 'out',\n",
       " 'over',\n",
       " 'own',\n",
       " 're',\n",
       " 's',\n",
       " 'same',\n",
       " 'shan',\n",
       " \"shan't\",\n",
       " 'she',\n",
       " \"she's\",\n",
       " 'should',\n",
       " \"should've\",\n",
       " 'shouldn',\n",
       " \"shouldn't\",\n",
       " 'so',\n",
       " 'some',\n",
       " 'such',\n",
       " 't',\n",
       " 'than',\n",
       " 'that',\n",
       " \"that'll\",\n",
       " 'the',\n",
       " 'their',\n",
       " 'theirs',\n",
       " 'them',\n",
       " 'themselves',\n",
       " 'then',\n",
       " 'there',\n",
       " 'these',\n",
       " 'they',\n",
       " 'this',\n",
       " 'those',\n",
       " 'through',\n",
       " 'to',\n",
       " 'too',\n",
       " 'under',\n",
       " 'until',\n",
       " 'up',\n",
       " 've',\n",
       " 'very',\n",
       " 'was',\n",
       " 'wasn',\n",
       " \"wasn't\",\n",
       " 'we',\n",
       " 'were',\n",
       " 'weren',\n",
       " \"weren't\",\n",
       " 'what',\n",
       " 'when',\n",
       " 'where',\n",
       " 'which',\n",
       " 'while',\n",
       " 'who',\n",
       " 'whom',\n",
       " 'why',\n",
       " 'will',\n",
       " 'with',\n",
       " 'won',\n",
       " \"won't\",\n",
       " 'wouldn',\n",
       " \"wouldn't\",\n",
       " 'y',\n",
       " 'you',\n",
       " \"you'd\",\n",
       " \"you'll\",\n",
       " \"you're\",\n",
       " \"you've\",\n",
       " 'your',\n",
       " 'yours',\n",
       " 'yourself',\n",
       " 'yourselves'}"
      ]
     },
     "execution_count": 8,
     "metadata": {},
     "output_type": "execute_result"
    }
   ],
   "source": [
    "stop_words = set(stopwords.words(\"english\"))\n",
    "stop_words"
   ]
  },
  {
   "cell_type": "code",
   "execution_count": 9,
   "metadata": {
    "scrolled": true
   },
   "outputs": [
    {
     "name": "stdout",
     "output_type": "stream",
     "text": [
      "Stopword list has 179 entries\n"
     ]
    }
   ],
   "source": [
    "#custom_stop_words = stopwords\n",
    "#with open( \"stopwords.txt\", \"r\", encoding=\"utf8\" ) as fin:\n",
    "    #for line in fin.readlines():\n",
    "        #custom_stop_words.append( line.strip() )\n",
    "# zur Kenntnis nehmen, dass wir es hashable machen müssen\n",
    "print(\"Stopword list has %d entries\" % len(stop_words))"
   ]
  },
  {
   "cell_type": "code",
   "execution_count": 10,
   "metadata": {},
   "outputs": [
    {
     "name": "stdout",
     "output_type": "stream",
     "text": [
      "Created 1038 X 22624 document-term matrix\n"
     ]
    }
   ],
   "source": [
    "from sklearn.feature_extraction.text import CountVectorizer\n",
    "# Verwendung einer benutzerdefinierten Stoppwortliste, setzen der Mindesthäufigkeit \n",
    "#von Term-Dokumenten auf 20\n",
    "vectorizer = CountVectorizer(stop_words = stop_words, min_df = 1)\n",
    "A = vectorizer.fit_transform(raw_documents)\n",
    "print( \"Created %d X %d document-term matrix\" % (A.shape[0], A.shape[1]) )"
   ]
  },
  {
   "cell_type": "code",
   "execution_count": 12,
   "metadata": {},
   "outputs": [
    {
     "data": {
      "text/plain": [
       "<1038x22624 sparse matrix of type '<class 'numpy.int64'>'\n",
       "\twith 321643 stored elements in Compressed Sparse Row format>"
      ]
     },
     "execution_count": 12,
     "metadata": {},
     "output_type": "execute_result"
    }
   ],
   "source": [
    "A"
   ]
  },
  {
   "cell_type": "markdown",
   "metadata": {},
   "source": [
    "### Vokabular für das Korpus aufbauen"
   ]
  },
  {
   "cell_type": "code",
   "execution_count": 200,
   "metadata": {},
   "outputs": [
    {
     "name": "stdout",
     "output_type": "stream",
     "text": [
      "Vocabulary has 22624 distinct terms\n"
     ]
    }
   ],
   "source": [
    "terms = vectorizer.get_feature_names()\n",
    "print(\"Vocabulary has %d distinct terms\" % len(terms))"
   ]
  },
  {
   "cell_type": "code",
   "execution_count": 201,
   "metadata": {},
   "outputs": [
    {
     "data": {
      "text/plain": [
       "['articles-raw.pkl']"
      ]
     },
     "execution_count": 201,
     "metadata": {},
     "output_type": "execute_result"
    }
   ],
   "source": [
    "#Dokument-Begriffsmatrix, Begriffe und Schnipsel zur späteren Verwendung speichern, indem wir Joblib verwenden, \n",
    "#um die Daten zu persistieren.\n",
    "\n",
    "from sklearn.externals import joblib\n",
    "snippets = []\n",
    "joblib.dump((A,terms,snippets), \"articles-raw.pkl\")"
   ]
  },
  {
   "cell_type": "markdown",
   "metadata": {},
   "source": [
    "### Term-Gewichtung mit TF-IDF anwenden"
   ]
  },
  {
   "cell_type": "code",
   "execution_count": 13,
   "metadata": {},
   "outputs": [
    {
     "name": "stdout",
     "output_type": "stream",
     "text": [
      "Created 1038 X 22624 TF-IDF-normalized document-term matrix\n"
     ]
    }
   ],
   "source": [
    "from sklearn.feature_extraction.text import TfidfVectorizer\n",
    "# können die gleichen Vorverarbeitungsparameter übergeben\n",
    "vectorizer = TfidfVectorizer(stop_words = stop_words, min_df = 1)\n",
    "A = vectorizer.fit_transform(raw_documents)\n",
    "print( \"Created %d X %d TF-IDF-normalized document-term matrix\" % (A.shape[0], A.shape[1]) )"
   ]
  },
  {
   "cell_type": "code",
   "execution_count": 14,
   "metadata": {},
   "outputs": [
    {
     "data": {
      "text/plain": [
       "<1038x22624 sparse matrix of type '<class 'numpy.float64'>'\n",
       "\twith 321643 stored elements in Compressed Sparse Row format>"
      ]
     },
     "execution_count": 14,
     "metadata": {},
     "output_type": "execute_result"
    }
   ],
   "source": [
    "A"
   ]
  },
  {
   "cell_type": "code",
   "execution_count": 15,
   "metadata": {},
   "outputs": [
    {
     "name": "stdout",
     "output_type": "stream",
     "text": [
      "Vocabulary has 22624 distinct terms\n"
     ]
    }
   ],
   "source": [
    "# den sich ergebenden Wortschatz extrahieren\n",
    "terms = vectorizer.get_feature_names()\n",
    "print(\"Vocabulary has %d distinct terms\" % len(terms))"
   ]
  },
  {
   "cell_type": "code",
   "execution_count": 16,
   "metadata": {},
   "outputs": [],
   "source": [
    "import operator\n",
    "def rank_terms( A, terms ):\n",
    "    # die Summen über jede Spalte erhalten\n",
    "    sums = A.sum(axis=0)\n",
    "    # Gewichte den Begriffen zuordnen\n",
    "    weights = {}\n",
    "    for col, term in enumerate(terms):\n",
    "        weights[term] = sums[0,col]\n",
    "    # die Begriffe nach ihrem Gewicht über alle Dokumente einordnen\n",
    "    return sorted(weights.items(), key=operator.itemgetter(1), reverse=True)"
   ]
  },
  {
   "cell_type": "code",
   "execution_count": 17,
   "metadata": {},
   "outputs": [
    {
     "name": "stdout",
     "output_type": "stream",
     "text": [
      "01. love (128.35)\n",
      "02. baby (82.32)\n",
      "03. know (79.44)\n",
      "04. time (69.67)\n",
      "05. way (57.16)\n",
      "06. want (56.35)\n",
      "07. life (51.08)\n",
      "08. heart (51.01)\n",
      "09. ai (48.20)\n",
      "10. night (44.89)\n",
      "11. man (44.42)\n",
      "12. girl (42.51)\n",
      "13. little (40.45)\n",
      "14. day (40.11)\n",
      "15. world (39.26)\n",
      "16. good (38.87)\n",
      "17. need (36.50)\n",
      "18. say (33.93)\n",
      "19. tonight (30.33)\n",
      "20. nothing (28.86)\n"
     ]
    }
   ],
   "source": [
    "#Rangliste der 20 wichtigsten Begriffe, was einen sehr groben Eindruck vom Inhalt der Dokumentensammlung vermittelt.\n",
    "\n",
    "ranking = rank_terms( A, terms )\n",
    "for i, pair in enumerate( ranking[0:20] ):\n",
    "    print( \"%02d. %s (%.2f)\" % ( i+1, pair[0], pair[1] ) )"
   ]
  },
  {
   "cell_type": "code",
   "execution_count": 206,
   "metadata": {},
   "outputs": [
    {
     "data": {
      "text/plain": [
       "['articles-tfidf.pkl']"
      ]
     },
     "execution_count": 206,
     "metadata": {},
     "output_type": "execute_result"
    }
   ],
   "source": [
    "#wieder Dokument-Begriffsmatrix, Begriffe und Schnipsel für die spätere Themenmodellierung mit Joblib speichern.\n",
    "\n",
    "joblib.dump((A,terms,snippets), \"articles-tfidf.pkl\")"
   ]
  },
  {
   "cell_type": "markdown",
   "metadata": {},
   "source": [
    "## NMF Themen-Modelle"
   ]
  },
  {
   "cell_type": "markdown",
   "metadata": {},
   "source": [
    "Die Themenmodellierung zielt darauf ab, die verborgene thematische Struktur in einem großen Korpus von Textdokumenten automatisch zu entdecken. Ein Ansatz für die Themenmodellierung ist die Anwendung von Methoden der Matrixfaktorisierung, wie z.B. die Nicht-negative Matrixfaktorisierung (NMF). In diesem Notebook wird NMF unter Verwendung der Scikit-Lernbibliothek in Python angewendet."
   ]
  },
  {
   "cell_type": "markdown",
   "metadata": {},
   "source": [
    "## Anwendung von NMF"
   ]
  },
  {
   "cell_type": "code",
   "execution_count": 207,
   "metadata": {},
   "outputs": [
    {
     "name": "stdout",
     "output_type": "stream",
     "text": [
      "Loaded 1038 X 22624 document-term matrix\n"
     ]
    }
   ],
   "source": [
    "#die TF-IDF normalisierte Dokument-Begriffsmatrix und die Liste der Begriffe laden, \n",
    "#die wir vorher mit Joblib gespeichert haben.\n",
    "\n",
    "from sklearn.externals import joblib\n",
    "(A,terms,snippets) = joblib.load( \"articles-tfidf.pkl\" )\n",
    "print( \"Loaded %d X %d document-term matrix\" % (A.shape[0], A.shape[1]) )"
   ]
  },
  {
   "cell_type": "code",
   "execution_count": 19,
   "metadata": {},
   "outputs": [],
   "source": [
    "#Der wichtigste Eingabeparameter für den NMF ist die Anzahl der zu generierenden Themen k.\n",
    "#Zunächst wird ein geschätzter Wert verwendet.\n",
    "\n",
    "k = 10"
   ]
  },
  {
   "cell_type": "markdown",
   "metadata": {},
   "source": [
    "Ein anderer Grund für die Wahl für den NMF dreht sich um die Initialisierung. Am häufigsten wird beim NMF eine zufällige Initialisierung verwendet, um die Werte in den Faktoren W und H zu füllen. Je nach dem verwendeten Zufallssaatgut können Sie unterschiedliche Ergebnisse auf demselben Datensatz erhalten. Stattdessen liefert die Verwendung der SVD-basierten Initialisierung zuverlässigere Ergebnisse."
   ]
  },
  {
   "cell_type": "code",
   "execution_count": 20,
   "metadata": {},
   "outputs": [],
   "source": [
    "# das Modell erstellen\n",
    "from sklearn import decomposition\n",
    "model = decomposition.NMF( init=\"nndsvd\", n_components=k ) \n",
    "# das Modell anwenden und die beiden Faktormatrizen extrahieren\n",
    "W = model.fit_transform( A )\n",
    "H = model.components_"
   ]
  },
  {
   "cell_type": "code",
   "execution_count": 27,
   "metadata": {},
   "outputs": [
    {
     "ename": "TypeError",
     "evalue": "'NMF' object is not iterable",
     "output_type": "error",
     "traceback": [
      "\u001b[0;31m---------------------------------------------------------------------------\u001b[0m",
      "\u001b[0;31mTypeError\u001b[0m                                 Traceback (most recent call last)",
      "\u001b[0;32m<ipython-input-27-3c661dcddf9a>\u001b[0m in \u001b[0;36m<module>\u001b[0;34m\u001b[0m\n\u001b[1;32m     25\u001b[0m \u001b[0;34m\u001b[0m\u001b[0m\n\u001b[1;32m     26\u001b[0m df_topic_sents_keywords = dominant_topics(\n\u001b[0;32m---> 27\u001b[0;31m    \u001b[0mldamodel\u001b[0m\u001b[0;34m=\u001b[0m\u001b[0msorted\u001b[0m\u001b[0;34m(\u001b[0m\u001b[0mmodel\u001b[0m\u001b[0;34m)\u001b[0m\u001b[0;34m,\u001b[0m \u001b[0mcorpus\u001b[0m\u001b[0;34m=\u001b[0m\u001b[0mA\u001b[0m\u001b[0;34m,\u001b[0m \u001b[0mtexts\u001b[0m\u001b[0;34m=\u001b[0m\u001b[0mdf\u001b[0m\u001b[0;34m.\u001b[0m\u001b[0mPOS\u001b[0m\u001b[0;34m.\u001b[0m\u001b[0mvalues\u001b[0m\u001b[0;34m,\u001b[0m \u001b[0mgenre\u001b[0m\u001b[0;34m=\u001b[0m\u001b[0mdf\u001b[0m\u001b[0;34m.\u001b[0m\u001b[0mGenre1\u001b[0m\u001b[0;34m.\u001b[0m\u001b[0mvalues\u001b[0m\u001b[0;34m,\u001b[0m \u001b[0martist\u001b[0m\u001b[0;34m=\u001b[0m\u001b[0mdf\u001b[0m\u001b[0;34m.\u001b[0m\u001b[0martist\u001b[0m\u001b[0;34m.\u001b[0m\u001b[0mvalues\u001b[0m\u001b[0;34m\u001b[0m\u001b[0;34m\u001b[0m\u001b[0m\n\u001b[0m\u001b[1;32m     28\u001b[0m )\n\u001b[1;32m     29\u001b[0m \u001b[0;34m\u001b[0m\u001b[0m\n",
      "\u001b[0;31mTypeError\u001b[0m: 'NMF' object is not iterable"
     ]
    }
   ],
   "source": [
    "def dominant_topics(ldamodel, corpus, texts, genre, artist):\n",
    "    sent_topics_df = pd.DataFrame()\n",
    "\n",
    "\n",
    "    for i, row in enumerate(ldamodel[corpus]):\n",
    "        row = sorted(row, key=lambda x: (x[1]), reverse=True)\n",
    "\n",
    "\n",
    "        for j, (topic_num, prop_topic) in enumerate(row):\n",
    "            if j == 0: # => dominant topic\n",
    "                wp = ldamodel.show_topic(topic_num)\n",
    "                topic_keywords = \", \".join([word for word, prop in wp])\n",
    "                sent_topics_df = sent_topics_df.append(pd.Series([int(topic_num), round(prop_topic,4), topic_keywords]), ignore_index=True)\n",
    "            else:\n",
    "                break\n",
    "    sent_topics_df.columns = ['Dominant_Topic', 'Perc_Contribution', 'Topic_Keywords']\n",
    "\n",
    "\n",
    "    contents = pd.Series(texts)\n",
    "    genres = pd.Series(genre)\n",
    "    artist = pd.Series(artist)\n",
    "    sent_topics_df = pd.concat([sent_topics_df, contents, genres, artist], axis=1)\n",
    "    return(sent_topics_df)\n",
    "\n",
    "\n",
    "df_topic_sents_keywords = dominant_topics(\n",
    "   ldamodel=model, corpus=A, texts=df.POS.values, genre=df.Genre1.values, artist=df.artist.values\n",
    ")\n",
    "\n",
    "\n",
    "df_dominant_topic = df_topic_sents_keywords.reset_index()\n",
    "df_dominant_topic.columns = [\n",
    "   'Document_No', 'Dominant_Topic', 'Topic_Perc_Contrib', 'Keywords', 'Text', 'Genre', 'Artist'\n",
    "]\n",
    "\n",
    "\n",
    "df_dominant_topic.head(15)\n"
   ]
  },
  {
   "cell_type": "markdown",
   "metadata": {},
   "source": [
    "### Untersuchung der Ausgabe"
   ]
  },
  {
   "cell_type": "code",
   "execution_count": 210,
   "metadata": {},
   "outputs": [
    {
     "data": {
      "text/plain": [
       "(1038, 10)"
      ]
     },
     "execution_count": 210,
     "metadata": {},
     "output_type": "execute_result"
    }
   ],
   "source": [
    "#Der W-Faktor enthält die Gewichte der Dokumentenmitgliedschaft relativ zu jedem der k Themen. \n",
    "#Jede Zeile entspricht einem einzelnen Dokument, und jede Spalte entspricht einem Thema.\n",
    "\n",
    "W.shape"
   ]
  },
  {
   "cell_type": "code",
   "execution_count": 211,
   "metadata": {},
   "outputs": [
    {
     "data": {
      "text/plain": [
       "array([0.  , 0.01, 0.03, 0.01, 0.08, 0.01, 0.02, 0.09, 0.01, 0.04])"
      ]
     },
     "execution_count": 211,
     "metadata": {},
     "output_type": "execute_result"
    }
   ],
   "source": [
    "# Rundung auf 2 Dezimalstellen für Anzeigezwecke\n",
    "W[0,:].round(2)"
   ]
  },
  {
   "cell_type": "code",
   "execution_count": 212,
   "metadata": {},
   "outputs": [
    {
     "data": {
      "text/plain": [
       "(10, 22624)"
      ]
     },
     "execution_count": 212,
     "metadata": {},
     "output_type": "execute_result"
    }
   ],
   "source": [
    "#Der H-Faktor enthält die Begriffsgewichte relativ zu jedem der k Themen. \n",
    "#In diesem Fall entspricht jede Zeile einem Thema, und jede Spalte entspricht \n",
    "#einem eindeutigen Begriff im Korpusvokabular.\n",
    "\n",
    "H.shape"
   ]
  },
  {
   "cell_type": "code",
   "execution_count": 213,
   "metadata": {},
   "outputs": [
    {
     "data": {
      "text/plain": [
       "array([0.  , 0.06, 0.15, 2.55, 0.  , 0.  , 0.17, 0.04, 0.19, 0.06])"
      ]
     },
     "execution_count": 213,
     "metadata": {},
     "output_type": "execute_result"
    }
   ],
   "source": [
    "#Zum Beispiel sehen wir bei dem Begriff \"Liebe\", \n",
    "#dass er stark mit einem einzigen Thema verbunden ist. \n",
    "#Auch hier kann in einigen Fällen jeder Begriff mit mehreren Themen assoziiert werden.\n",
    "\n",
    "term_index = terms.index('love')\n",
    "#Rundung auf 2 Dezimalstellen für Anzeigezwecke\n",
    "H[:,term_index].round(2)"
   ]
  },
  {
   "cell_type": "markdown",
   "metadata": {},
   "source": [
    "### Thema Deskriptoren"
   ]
  },
  {
   "cell_type": "markdown",
   "metadata": {},
   "source": [
    "Die ranghöchsten Begriffe aus dem H-Faktor für jedes Thema können uns einen Einblick in den Inhalt des jeweiligen Themas geben. Dies wird oft als Themendeskriptor bezeichnet. Im Folgenden wird eine Funktion definiert, die den Deskriptor für ein bestimmtes Thema extrahiert."
   ]
  },
  {
   "cell_type": "code",
   "execution_count": 214,
   "metadata": {},
   "outputs": [],
   "source": [
    "#Erhalten für jedes Thema einen Deskriptor anhand der am höchsten bewerteten Begriffe \n",
    "#(z.B. Top 10).\n",
    "\n",
    "import numpy as np\n",
    "def get_descriptor( terms, H, topic_index, top ):\n",
    "    # die Werte umgekehrt sortieren, um die Indizes zu sortieren\n",
    "    top_indices = np.argsort( H[topic_index,:] )[::-1]\n",
    "    # Erhalt der Begriffe, die den Indizes mit dem höchsten Rang entsprechen\n",
    "    top_terms = []\n",
    "    for term_index in top_indices[0:top]:\n",
    "        top_terms.append( terms[term_index] )\n",
    "    return top_terms"
   ]
  },
  {
   "cell_type": "code",
   "execution_count": 215,
   "metadata": {},
   "outputs": [
    {
     "name": "stdout",
     "output_type": "stream",
     "text": [
      "Topic 01: know, time, heart, way, life, nothing, everything, say, something, see\n",
      "Topic 02: nigga, shit, bitch, ai, fuck, ass, money, niggas, wit, get\n",
      "Topic 03: baby, ai, honey, want, somebody, good, love, ready, little, sweet\n",
      "Topic 04: love, heart, life, need, feel, lonely, true, chance, say, someone\n",
      "Topic 05: man, old, little, good, ai, woman, time, town, way, big\n",
      "Topic 06: life, world, blood, death, soul, light, pain, end, sky, day\n",
      "Topic 07: girl, know, little, ai, love, dance, world, bad, party, daddy\n",
      "Topic 08: want, need, way, everything, say, day, man, thing, today, enough\n",
      "Topic 09: tonight, night, right, love, time, long, light, hot, music, town\n",
      "Topic 10: rock, roll, dance, know, night, lady, gimme, fool, somebody, fire\n"
     ]
    }
   ],
   "source": [
    "descriptors = []\n",
    "for topic_index in range(k):\n",
    "    descriptors.append( get_descriptor( terms, H, topic_index, 10 ) )\n",
    "    str_descriptor = \", \".join( descriptors[topic_index] )\n",
    "    print(\"Topic %02d: %s\" % ( topic_index+1, str_descriptor ) )"
   ]
  },
  {
   "cell_type": "markdown",
   "metadata": {},
   "source": [
    "Die obigen Ranglisten zeigen nicht die Stärke der Assoziation für die verschiedenen Genre. Wir können die Verteilung der Gewichte für die Top-Terme in einem Genre mit einem horizontalen Balkendiagramm der Matplotlib darstellen."
   ]
  },
  {
   "cell_type": "code",
   "execution_count": 216,
   "metadata": {},
   "outputs": [],
   "source": [
    "%matplotlib inline\n",
    "import numpy as np\n",
    "import matplotlib\n",
    "import matplotlib.pyplot as plt\n",
    "plt.style.use(\"ggplot\")\n",
    "matplotlib.rcParams.update({\"font.size\": 14})"
   ]
  },
  {
   "cell_type": "code",
   "execution_count": 217,
   "metadata": {},
   "outputs": [],
   "source": [
    "#Definieren einer Funktion zum Erstellen eines Balkendiagramms für die angegebenen Daten, \n",
    "#basierend auf dem H-Faktor aus dem aktuellen NMF-Modell.\n",
    "\n",
    "def plot_top_term_weights( terms, H, topic_index, top ):\n",
    "    # die Top-Begriffe und ihre Gewichtung erhalten\n",
    "    top_indices = np.argsort( H[topic_index,:] )[::-1]\n",
    "    top_terms = []\n",
    "    top_weights = []\n",
    "    for term_index in top_indices[0:top]:\n",
    "        top_terms.append( terms[term_index] )\n",
    "        top_weights.append( H[topic_index,term_index] )\n",
    "    # beachten Sie, dass wir die Reihenfolge der Handlung umkehren\n",
    "    top_terms.reverse()\n",
    "    top_weights.reverse()\n",
    "    # erstellen des Plots\n",
    "    fig = plt.figure(figsize=(13,8))\n",
    "    # das horizontale Balkendiagramm hinzufügen\n",
    "    ypos = np.arange(top)\n",
    "    ax = plt.barh(ypos, top_weights, align=\"center\", color=\"green\",tick_label=top_terms)\n",
    "    plt.xlabel(\"Term Weight\",fontsize=14)\n",
    "    plt.tight_layout()\n",
    "    plt.show()"
   ]
  },
  {
   "cell_type": "markdown",
   "metadata": {},
   "source": [
    "So können wir z.B. für das 7. Thema ein Diagramm mit den 15 wichtigsten Begriffen erstellen:\n"
   ]
  },
  {
   "cell_type": "code",
   "execution_count": 218,
   "metadata": {},
   "outputs": [
    {
     "data": {
      "image/png": "[encoded data removed]",
      "text/plain": [
       "<Figure size 936x576 with 1 Axes>"
      ]
     },
     "metadata": {},
     "output_type": "display_data"
    }
   ],
   "source": [
    "plot_top_term_weights( terms, H, 6, 15 )"
   ]
  },
  {
   "cell_type": "code",
   "execution_count": 219,
   "metadata": {},
   "outputs": [
    {
     "data": {
      "text/plain": [
       "['articles-model-nmf-k10.pkl']"
      ]
     },
     "execution_count": 219,
     "metadata": {},
     "output_type": "execute_result"
    }
   ],
   "source": [
    "# Wenn dieses Themenmodell für spätere Benutzer behalten werden soll, \n",
    "# kann man es mit Hilfe der joblib speichern.\n",
    "\n",
    "joblib.dump((W,H,terms,snippets), \"articles-model-nmf-k%02d.pkl\" % k)"
   ]
  },
  {
   "cell_type": "markdown",
   "metadata": {},
   "source": [
    "## Parameterauswahl für NMF"
   ]
  },
  {
   "cell_type": "markdown",
   "metadata": {},
   "source": [
    "Nun soll die fortgeschrittenere Aufgabe der Parameterauswahl für die NMF-Themenmodellierung betrachtet werden - nämlich die Auswahl eines nützlichen Wertes für die Anzahl der Themen k.\n",
    "\n",
    "Zuerst wird die TF-IDF normalisierte Dokument-Begriffsmatrix und die Liste der Begriffe, die wir zuvor mit Joblib gespeichert haben geladen.\n"
   ]
  },
  {
   "cell_type": "code",
   "execution_count": 220,
   "metadata": {},
   "outputs": [
    {
     "name": "stdout",
     "output_type": "stream",
     "text": [
      "Loaded 1038 X 22624 document-term matrix\n"
     ]
    }
   ],
   "source": [
    "from sklearn.externals import joblib\n",
    "(A,terms,snippets) = joblib.load( \"articles-tfidf.pkl\" )\n",
    "print( \"Loaded %d X %d document-term matrix\" % (A.shape[0], A.shape[1]) )"
   ]
  },
  {
   "cell_type": "markdown",
   "metadata": {},
   "source": [
    "### Erstellen der Themenmodelle"
   ]
  },
  {
   "cell_type": "markdown",
   "metadata": {},
   "source": [
    "Ein üblicher Ansatz für die Parameterauswahl besteht darin, die Themenkohärenz von Modellen zu messen und zu vergleichen, die für verschiedene Werte von k generiert wurden.\n",
    "\n",
    "Man beginnt damit, einen anfänglichen Bereich \"sinnvoller\" Werte vorzugeben."
   ]
  },
  {
   "cell_type": "code",
   "execution_count": 221,
   "metadata": {},
   "outputs": [],
   "source": [
    "kmin, kmax = 4, 15"
   ]
  },
  {
   "cell_type": "code",
   "execution_count": 222,
   "metadata": {},
   "outputs": [
    {
     "name": "stdout",
     "output_type": "stream",
     "text": [
      "Applying NMF for k=4 ...\n",
      "Applying NMF for k=5 ...\n",
      "Applying NMF for k=6 ...\n",
      "Applying NMF for k=7 ...\n",
      "Applying NMF for k=8 ...\n",
      "Applying NMF for k=9 ...\n",
      "Applying NMF for k=10 ...\n",
      "Applying NMF for k=11 ...\n",
      "Applying NMF for k=12 ...\n",
      "Applying NMF for k=13 ...\n",
      "Applying NMF for k=14 ...\n",
      "Applying NMF for k=15 ...\n"
     ]
    }
   ],
   "source": [
    "#Anwenden des NMFs für jeden dieser Werte.\n",
    "\n",
    "from sklearn import decomposition\n",
    "topic_models = []\n",
    "# try each value of k\n",
    "for k in range(kmin,kmax+1):\n",
    "    print(\"Applying NMF for k=%d ...\" % k )\n",
    "    # run NMF\n",
    "    model = decomposition.NMF( init=\"nndsvd\", n_components=k ) \n",
    "    W = model.fit_transform( A )\n",
    "    H = model.components_    \n",
    "    # store for later\n",
    "    topic_models.append( (k,W,H) )"
   ]
  },
  {
   "cell_type": "markdown",
   "metadata": {},
   "source": [
    "### Erstellen des Word Embedding"
   ]
  },
  {
   "cell_type": "markdown",
   "metadata": {},
   "source": [
    "Um die Anzahl der Themen auszuwählen, wird hier ein Themenkohärenzmaß namens TC-W2V verwendet. Dieses Maß beruht auf der Verwendung eines Worteinbettungsmodells, das aus dem entsprechenden Korpus konstruiert wurde. In diesem Schritt wird also die Gensim-Implementierung von Word2Vec verwendet, um auf der Grundlage unserer Sammlung von Songtexten ein Word2Vec-Modell zu erstellen."
   ]
  },
  {
   "cell_type": "code",
   "execution_count": 223,
   "metadata": {},
   "outputs": [
    {
     "name": "stdout",
     "output_type": "stream",
     "text": [
      "Read 1038 raw text documents\n"
     ]
    }
   ],
   "source": [
    "#raw_documents = df['text'].to_list()\n",
    "print(\"Read %d raw text documents\" % len(raw_documents))"
   ]
  },
  {
   "cell_type": "code",
   "execution_count": 224,
   "metadata": {},
   "outputs": [
    {
     "name": "stdout",
     "output_type": "stream",
     "text": [
      "Stopword list has 179 entries\n"
     ]
    }
   ],
   "source": [
    "#Einlesen der Stopwortliste.\n",
    "\n",
    "#custom_stop_words = []\n",
    "#with open( \"stopwords.txt\", \"r\", encoding = \"utf8\" ) as fin:\n",
    "    #for line in fin.readlines():\n",
    "        #custom_stop_words.append( line.strip().lower() )\n",
    "# note that we need to make it hashable\n",
    "print(\"Stopword list has %d entries\" % len(stop_words))"
   ]
  },
  {
   "cell_type": "code",
   "execution_count": 225,
   "metadata": {},
   "outputs": [],
   "source": [
    "#Zunächst muss man eine Klasse definieren, die Dokumente in einer Form erzeugt, \n",
    "#die von der Word2Vec-Implementierung von Gensim verwendet werden kann.\n",
    "\n",
    "import re\n",
    "class TokenGenerator:\n",
    "    def __init__( self, raw_documents, stop_words ):\n",
    "        self.documents = raw_documents\n",
    "        self.stopwords = stop_words\n",
    "        self.tokenizer = re.compile( r\"(?u)\\b\\w\\w+\\b\" )\n",
    "\n",
    "    def __iter__( self ):\n",
    "        print(\"Building Word2Vec model ...\")\n",
    "        for doc in self.documents:\n",
    "            tokens = []\n",
    "            for tok in self.tokenizer.findall( doc ):\n",
    "                if tok in self.stopwords:\n",
    "                    tokens.append( \"<stopword>\" )\n",
    "                elif len(tok) >= 2:\n",
    "                    tokens.append( tok )\n",
    "            yield tokens"
   ]
  },
  {
   "cell_type": "code",
   "execution_count": 226,
   "metadata": {},
   "outputs": [
    {
     "name": "stdout",
     "output_type": "stream",
     "text": [
      "Building Word2Vec model ...\n",
      "Building Word2Vec model ...\n",
      "Building Word2Vec model ...\n",
      "Building Word2Vec model ...\n",
      "Building Word2Vec model ...\n",
      "Building Word2Vec model ...\n"
     ]
    }
   ],
   "source": [
    "#Erstellen mit Gensim ein Skipgram Word2Vec-Modell aus allen Dokumenten in der Eingabedatei.\n",
    "\n",
    "import gensim\n",
    "docgen = TokenGenerator( raw_documents, stop_words)\n",
    "# das Modell hat 500 Dimensionen, die minimale Dokument-Begriffshäufigkeit beträgt 20\n",
    "w2v_model = gensim.models.Word2Vec(docgen, min_count=1, size=500)"
   ]
  },
  {
   "cell_type": "code",
   "execution_count": 227,
   "metadata": {},
   "outputs": [
    {
     "name": "stdout",
     "output_type": "stream",
     "text": [
      "Model has 22625 terms\n"
     ]
    }
   ],
   "source": [
    "print(\"Model has %d terms\" % len(w2v_model.wv.vocab))"
   ]
  },
  {
   "cell_type": "code",
   "execution_count": 228,
   "metadata": {},
   "outputs": [],
   "source": [
    "#Erstelltes Model abspeichern.\n",
    "\n",
    "w2v_model.save(\"w2v-model.bin\")"
   ]
  },
  {
   "cell_type": "markdown",
   "metadata": {},
   "source": [
    "## Auswahl der Anzahl der Themen"
   ]
  },
  {
   "cell_type": "markdown",
   "metadata": {},
   "source": [
    "Sobald man ein Word2vec-Modell hat, kann man es als Teil eines Themenkohärenz-Ansatzes verwenden, um die verschiedenen NMF-Themenmodelle zu evaluieren, die man zuvor erstellt hat. Zu diesem Zweck wird eine einfache Version des TC-W2V-Kohärenzmaßes implementiert."
   ]
  },
  {
   "cell_type": "code",
   "execution_count": 229,
   "metadata": {},
   "outputs": [],
   "source": [
    "#Es wird das Word2vec-Modell zur Berechnung der Kohärenz-Scores für jedes dieser Modelle \n",
    "#verwendet.\n",
    "#Man definiert diesen Kohärenz-Score wie folgt:\n",
    "\n",
    "\n",
    "def calculate_coherence( w2v_model, term_rankings ):\n",
    "    overall_coherence = 0.0\n",
    "    for topic_index in range(len(term_rankings)):\n",
    "        # jedes Begriffspaar prüfen\n",
    "        pair_scores = []\n",
    "        for pair in combinations( term_rankings[topic_index], 2 ):\n",
    "            pair_scores.append( w2v_model.similarity(pair[0], pair[1]) )\n",
    "        # den Mittelwert für alle Paare in diesem Thema ermitteln\n",
    "        topic_score = sum(pair_scores) / len(pair_scores)\n",
    "        overall_coherence += topic_score\n",
    "    # den Mittelwert über alle Themen erhalten\n",
    "    return overall_coherence / len(term_rankings)"
   ]
  },
  {
   "cell_type": "code",
   "execution_count": 230,
   "metadata": {},
   "outputs": [],
   "source": [
    "#Man definiert auch eine Funktion, um den Themendeskriptor (d.h. die Liste der Oberbegriffe) \n",
    "#für jedes Thema zu erhalten:\n",
    "\n",
    "import numpy as np\n",
    "def get_descriptor( all_terms, H, topic_index, top ):\n",
    "    # die Werte umgekehrt sortieren, um die Indizes zu sortieren\n",
    "    top_indices = np.argsort( H[topic_index,:] )[::-1]\n",
    "    # nun erhält man die Begriffe, die den Indizes mit dem höchsten Rang entsprechen\n",
    "    top_terms = []\n",
    "    for term_index in top_indices[0:top]:\n",
    "        top_terms.append( all_terms[term_index] )\n",
    "    return top_terms"
   ]
  },
  {
   "cell_type": "code",
   "execution_count": 231,
   "metadata": {},
   "outputs": [
    {
     "name": "stdout",
     "output_type": "stream",
     "text": [
      "K=04: Coherence=0.3601\n",
      "K=05: Coherence=0.3462\n",
      "K=06: Coherence=0.3668\n",
      "K=07: Coherence=0.3592\n",
      "K=08: Coherence=0.3537\n",
      "K=09: Coherence=0.3394\n",
      "K=10: Coherence=0.3265\n",
      "K=11: Coherence=0.3187\n",
      "K=12: Coherence=0.3082\n",
      "K=13: Coherence=0.3095\n",
      "K=14: Coherence=0.3054\n",
      "K=15: Coherence=0.3097\n"
     ]
    }
   ],
   "source": [
    "#Nun wird jedes der Modelle für verschiedene Werte von k verarbeitet.\n",
    "\n",
    "from itertools import combinations\n",
    "k_values = []\n",
    "coherences = []\n",
    "for (k,W,H) in topic_models:\n",
    "    # Erhalt aller Themendeskriptoren - die term_rankings, basierend auf den Top-10-Begriffen\n",
    "    term_rankings = []\n",
    "    for topic_index in range(k):\n",
    "        term_rankings.append( get_descriptor( terms, H, topic_index, 10 ) )\n",
    "    # Berechnung der Kohärenz auf der Grundlage unseres Word2vec-Modells\n",
    "    k_values.append( k )\n",
    "    coherences.append( calculate_coherence( w2v_model, term_rankings ) )\n",
    "    print(\"K=%02d: Coherence=%.4f\" % ( k, coherences[-1] ) )"
   ]
  },
  {
   "cell_type": "code",
   "execution_count": 232,
   "metadata": {},
   "outputs": [],
   "source": [
    "#Erstellung mit Hilfe der Matplotlib ein Liniendiagramm dieser Kohärenz-Scores, \n",
    "#das bei der Auswahl eines geeigneten Wertes hilft.\n",
    "\n",
    "%matplotlib inline\n",
    "import matplotlib\n",
    "import matplotlib.pyplot as plt\n",
    "plt.style.use(\"ggplot\")\n",
    "matplotlib.rcParams.update({\"font.size\": 14})"
   ]
  },
  {
   "cell_type": "code",
   "execution_count": 233,
   "metadata": {},
   "outputs": [
    {
     "data": {
      "image/png": "[encoded data removed]",
      "text/plain": [
       "<Figure size 936x504 with 1 Axes>"
      ]
     },
     "metadata": {},
     "output_type": "display_data"
    }
   ],
   "source": [
    "fig = plt.figure(figsize=(13,7))\n",
    "# das Liniendiagramm erstellen\n",
    "ax = plt.plot( k_values, coherences )\n",
    "plt.xticks(k_values)\n",
    "plt.xlabel(\"Number of Topics\")\n",
    "plt.ylabel(\"Mean Coherence\")\n",
    "# die Punkte hinzufügen\n",
    "plt.scatter( k_values, coherences, s=120)\n",
    "# den maximalen Punkt auf der Parzelle finden und kommentieren\n",
    "ymax = max(coherences)\n",
    "xpos = coherences.index(ymax)\n",
    "best_k = k_values[xpos]\n",
    "plt.annotate( \"k=%d\" % best_k, xy=(best_k, ymax), xytext=(best_k, ymax), textcoords=\"offset points\", fontsize=16)\n",
    "plt.show()"
   ]
  },
  {
   "cell_type": "markdown",
   "metadata": {},
   "source": [
    "## Examine the Final Model"
   ]
  },
  {
   "cell_type": "markdown",
   "metadata": {},
   "source": [
    "Das obige Diagramm legt nahe, dass der geeignetste Wert für die Anzahl der Themen k=8 ist."
   ]
  },
  {
   "cell_type": "code",
   "execution_count": 234,
   "metadata": {},
   "outputs": [],
   "source": [
    "k = best_k\n",
    "# Laden des Modells, das wir zuvor erstellt haben.\n",
    "W = topic_models[k-kmin][1]\n",
    "H = topic_models[k-kmin][2]"
   ]
  },
  {
   "cell_type": "code",
   "execution_count": 235,
   "metadata": {},
   "outputs": [
    {
     "name": "stdout",
     "output_type": "stream",
     "text": [
      "Topic 01: know, time, want, way, life, need, heart, everything, tonight, nothing\n",
      "Topic 02: nigga, shit, bitch, ai, fuck, ass, money, niggas, wit, get\n",
      "Topic 03: baby, girl, want, ai, little, know, love, honey, good, tonight\n",
      "Topic 04: love, heart, life, need, know, feel, time, lonely, night, say\n",
      "Topic 05: man, old, little, ai, good, woman, town, time, big, night\n",
      "Topic 06: life, world, blood, time, heart, death, soul, light, way, end\n"
     ]
    }
   ],
   "source": [
    "#Anzeigen der Themendeskriptoren für dieses Modell.\n",
    "\n",
    "for topic_index in range(k):\n",
    "    descriptor = get_descriptor( terms, H, topic_index, 10 )\n",
    "    str_descriptor = \", \".join( descriptor )\n",
    "    print(\"Topic %02d: %s\" % ( topic_index+1, str_descriptor ) )"
   ]
  },
  {
   "cell_type": "code",
   "execution_count": null,
   "metadata": {},
   "outputs": [],
   "source": []
  }
 ],
 "metadata": {
  "kernelspec": {
   "display_name": "Python 3",
   "language": "python",
   "name": "python3"
  },
  "language_info": {
   "codemirror_mode": {
    "name": "ipython",
    "version": 3
   },
   "file_extension": ".py",
   "mimetype": "text/x-python",
   "name": "python",
   "nbconvert_exporter": "python",
   "pygments_lexer": "ipython3",
   "version": "3.7.4"
  }
 },
 "nbformat": 4,
 "nbformat_minor": 2
}
