{
 "cells": [
  {
   "cell_type": "code",
   "execution_count": 1,
   "metadata": {},
   "outputs": [],
   "source": [
    "import pandas as pd"
   ]
  },
  {
   "cell_type": "markdown",
   "metadata": {},
   "source": [
    "https://programminghistorian.org/en/lessons/topic-modeling-and-mallet"
   ]
  },
  {
   "cell_type": "code",
   "execution_count": 2,
   "metadata": {},
   "outputs": [],
   "source": [
    "df = pd.read_csv(\"../../datasets/currently_dataset/song_decades_long.csv\")"
   ]
  },
  {
   "cell_type": "code",
   "execution_count": 3,
   "metadata": {},
   "outputs": [
    {
     "data": {
      "text/html": [
       "<div>\n",
       "<style scoped>\n",
       "    .dataframe tbody tr th:only-of-type {\n",
       "        vertical-align: middle;\n",
       "    }\n",
       "\n",
       "    .dataframe tbody tr th {\n",
       "        vertical-align: top;\n",
       "    }\n",
       "\n",
       "    .dataframe thead th {\n",
       "        text-align: right;\n",
       "    }\n",
       "</style>\n",
       "<table border=\"1\" class=\"dataframe\">\n",
       "  <thead>\n",
       "    <tr style=\"text-align: right;\">\n",
       "      <th></th>\n",
       "      <th>Unnamed: 0</th>\n",
       "      <th>artist</th>\n",
       "      <th>decades</th>\n",
       "      <th>text</th>\n",
       "      <th>stemmed_text</th>\n",
       "      <th>POS</th>\n",
       "      <th>Genre1</th>\n",
       "      <th>genre1</th>\n",
       "      <th>number_of_tokens</th>\n",
       "      <th>number_of_types</th>\n",
       "    </tr>\n",
       "  </thead>\n",
       "  <tbody>\n",
       "    <tr>\n",
       "      <th>0</th>\n",
       "      <td>0</td>\n",
       "      <td>\"Weird Al\" Yankovic</td>\n",
       "      <td>1980s</td>\n",
       "      <td>potato skins  potato cakes  hash browns  and i...</td>\n",
       "      <td>potato skin potato cake hash brown and instan...</td>\n",
       "      <td>french plain enough greasy sour lumpy tough en...</td>\n",
       "      <td>Rock</td>\n",
       "      <td>antiviral pop</td>\n",
       "      <td>12745.0</td>\n",
       "      <td>2264.0</td>\n",
       "    </tr>\n",
       "    <tr>\n",
       "      <th>1</th>\n",
       "      <td>37</td>\n",
       "      <td>\"Weird Al\" Yankovic</td>\n",
       "      <td>1990s</td>\n",
       "      <td>as i walk through the valley where i harvest m...</td>\n",
       "      <td>as i walk through the valley where i harvest ...</td>\n",
       "      <td>plain perfect fancy amish amish hard amish ami...</td>\n",
       "      <td>Rock</td>\n",
       "      <td>antiviral pop</td>\n",
       "      <td>10803.0</td>\n",
       "      <td>2317.0</td>\n",
       "    </tr>\n",
       "    <tr>\n",
       "      <th>2</th>\n",
       "      <td>65</td>\n",
       "      <td>\"Weird Al\" Yankovic</td>\n",
       "      <td>2000s</td>\n",
       "      <td>jillian was her name  she was sweeter than asp...</td>\n",
       "      <td>jillian wa her name she wa sweeter than aspar...</td>\n",
       "      <td>same gorgeous perfect close sweet young ripe p...</td>\n",
       "      <td>Rock</td>\n",
       "      <td>antiviral pop</td>\n",
       "      <td>4352.0</td>\n",
       "      <td>1159.0</td>\n",
       "    </tr>\n",
       "    <tr>\n",
       "      <th>3</th>\n",
       "      <td>76</td>\n",
       "      <td>\"Weird Al\" Yankovic</td>\n",
       "      <td>2010s</td>\n",
       "      <td>my mama told me when i was hatched  act like a...</td>\n",
       "      <td>my mama told me when i wa hatch act like a su...</td>\n",
       "      <td>red hard sure swiss crazy little okay crazy ev...</td>\n",
       "      <td>Rock</td>\n",
       "      <td>antiviral pop</td>\n",
       "      <td>2077.0</td>\n",
       "      <td>705.0</td>\n",
       "    </tr>\n",
       "    <tr>\n",
       "      <th>4</th>\n",
       "      <td>81</td>\n",
       "      <td>*NSYNC</td>\n",
       "      <td>1990s</td>\n",
       "      <td>here we go      here we go  one more time  eve...</td>\n",
       "      <td>here we go here we go one more time everybodi...</td>\n",
       "      <td>fine fine free right fine right fine free time...</td>\n",
       "      <td>Electronic</td>\n",
       "      <td>boy band</td>\n",
       "      <td>1786.0</td>\n",
       "      <td>345.0</td>\n",
       "    </tr>\n",
       "  </tbody>\n",
       "</table>\n",
       "</div>"
      ],
      "text/plain": [
       "   Unnamed: 0               artist decades  \\\n",
       "0           0  \"Weird Al\" Yankovic   1980s   \n",
       "1          37  \"Weird Al\" Yankovic   1990s   \n",
       "2          65  \"Weird Al\" Yankovic   2000s   \n",
       "3          76  \"Weird Al\" Yankovic   2010s   \n",
       "4          81               *NSYNC   1990s   \n",
       "\n",
       "                                                text  \\\n",
       "0  potato skins  potato cakes  hash browns  and i...   \n",
       "1  as i walk through the valley where i harvest m...   \n",
       "2  jillian was her name  she was sweeter than asp...   \n",
       "3  my mama told me when i was hatched  act like a...   \n",
       "4  here we go      here we go  one more time  eve...   \n",
       "\n",
       "                                        stemmed_text  \\\n",
       "0   potato skin potato cake hash brown and instan...   \n",
       "1   as i walk through the valley where i harvest ...   \n",
       "2   jillian wa her name she wa sweeter than aspar...   \n",
       "3   my mama told me when i wa hatch act like a su...   \n",
       "4   here we go here we go one more time everybodi...   \n",
       "\n",
       "                                                 POS      Genre1  \\\n",
       "0  french plain enough greasy sour lumpy tough en...        Rock   \n",
       "1  plain perfect fancy amish amish hard amish ami...        Rock   \n",
       "2  same gorgeous perfect close sweet young ripe p...        Rock   \n",
       "3  red hard sure swiss crazy little okay crazy ev...        Rock   \n",
       "4  fine fine free right fine right fine free time...  Electronic   \n",
       "\n",
       "          genre1  number_of_tokens  number_of_types  \n",
       "0  antiviral pop           12745.0           2264.0  \n",
       "1  antiviral pop           10803.0           2317.0  \n",
       "2  antiviral pop            4352.0           1159.0  \n",
       "3  antiviral pop            2077.0            705.0  \n",
       "4       boy band            1786.0            345.0  "
      ]
     },
     "execution_count": 3,
     "metadata": {},
     "output_type": "execute_result"
    }
   ],
   "source": [
    "df.head()"
   ]
  },
  {
   "cell_type": "code",
   "execution_count": 42,
   "metadata": {},
   "outputs": [],
   "source": [
    "df['Genre1'] = df['Genre1'].replace(\"Funk / Soul\",  'Funk, Soul') "
   ]
  },
  {
   "cell_type": "markdown",
   "metadata": {},
   "source": [
    "## Zuerst werden die Texte nach Genre in txt-files geschrieben"
   ]
  },
  {
   "cell_type": "code",
   "execution_count": 43,
   "metadata": {},
   "outputs": [],
   "source": [
    "df1 = df.groupby('Genre1')['text'].apply(list)"
   ]
  },
  {
   "cell_type": "code",
   "execution_count": 44,
   "metadata": {},
   "outputs": [
    {
     "data": {
      "text/plain": [
       "Genre1\n",
       "Electronic                [here we go      here we go  one more time  ev...\n",
       "Folk, World, & Country    [when god dips his pen of love in my heart  an...\n",
       "Funk, Soul                [whoa now  when i'm kissing my love  yeah thum...\n",
       "Hip Hop                   [life  by marshal mathers  what is life?  life...\n",
       "Jazz                      [heaven  i'm in heaven  and my heart beats so ...\n",
       "Pop                       [i'll never know why i had to go  why i had to...\n",
       "Reggae                    [get up  stand up  stand up for your right  ge...\n",
       "Rock                      [potato skins  potato cakes  hash browns  and ...\n",
       "Stage & Screen            [take my hand  take a breath  pull me close an...\n",
       "Name: text, dtype: object"
      ]
     },
     "execution_count": 44,
     "metadata": {},
     "output_type": "execute_result"
    }
   ],
   "source": [
    "df1"
   ]
  },
  {
   "cell_type": "code",
   "execution_count": 45,
   "metadata": {},
   "outputs": [],
   "source": [
    "for index, value in df1.items():\n",
    "    for c in value:\n",
    "        with open(f'mallet_text/{index}.txt','a') as f:\n",
    "            f.write(c)"
   ]
  },
  {
   "cell_type": "code",
   "execution_count": null,
   "metadata": {},
   "outputs": [],
   "source": []
  }
 ],
 "metadata": {
  "kernelspec": {
   "display_name": "Python 3",
   "language": "python",
   "name": "python3"
  },
  "language_info": {
   "codemirror_mode": {
    "name": "ipython",
    "version": 3
   },
   "file_extension": ".py",
   "mimetype": "text/x-python",
   "name": "python",
   "nbconvert_exporter": "python",
   "pygments_lexer": "ipython3",
   "version": "3.7.4"
  },
  "toc": {
   "base_numbering": 1,
   "nav_menu": {},
   "number_sections": true,
   "sideBar": true,
   "skip_h1_title": false,
   "title_cell": "Table of Contents",
   "title_sidebar": "Contents",
   "toc_cell": false,
   "toc_position": {},
   "toc_section_display": true,
   "toc_window_display": false
  }
 },
 "nbformat": 4,
 "nbformat_minor": 4
}
