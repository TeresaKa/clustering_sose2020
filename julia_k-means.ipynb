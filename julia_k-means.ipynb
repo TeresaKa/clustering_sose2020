{
 "cells": [
  {
   "cell_type": "markdown",
   "metadata": {},
   "source": [
    "# Implementierung von K-Means"
   ]
  },
  {
   "cell_type": "code",
   "execution_count": 87,
   "metadata": {},
   "outputs": [],
   "source": [
    "import pandas as pd\n",
    "import numpy as np\n",
    "from copy import deepcopy\n",
    "from matplotlib import pyplot as plt\n",
    "import random\n",
    "\n",
    "from sklearn.feature_extraction.text import TfidfVectorizer\n",
    "from sklearn.decomposition import PCA\n",
    "from sklearn.preprocessing import normalize\n",
    "\n",
    "df = pd.read_csv(\"songs_25.csv\")"
   ]
  },
  {
   "cell_type": "markdown",
   "metadata": {},
   "source": [
    "Datensatz vorbereiten"
   ]
  },
  {
   "cell_type": "code",
   "execution_count": 88,
   "metadata": {},
   "outputs": [],
   "source": [
    "from sklearn.feature_extraction.text import TfidfVectorizer\n",
    "from sklearn.decomposition import TruncatedSVD\n",
    "\n",
    "daten = df['text']\n",
    "tf_idf_vectorizor = TfidfVectorizer(\n",
    "                             max_features = 20000)\n",
    "tf_idf = tf_idf_vectorizor.fit_transform(daten)\n",
    "tf_idf_norm = normalize(tf_idf)\n",
    "tf_idf_array = tf_idf_norm.toarray()\n",
    "sklearn_pca = PCA(n_components = 3)\n",
    "data= sklearn_pca.fit_transform(tf_idf_array)"
   ]
  },
  {
   "cell_type": "code",
   "execution_count": 89,
   "metadata": {},
   "outputs": [
    {
     "name": "stdout",
     "output_type": "stream",
     "text": [
      "[[-0.00516563  0.02590398 -0.03969419]\n",
      " [-0.05966299 -0.1708136  -0.02573033]\n",
      " [ 0.04366487  0.05525095 -0.04528973]\n",
      " ...\n",
      " [ 0.06381699 -0.09380346 -0.02455097]\n",
      " [-0.02919828  0.01653483 -0.0075699 ]\n",
      " [-0.15961266 -0.14025815 -0.08490814]]\n"
     ]
    }
   ],
   "source": [
    "# --> array mit drei Komponenten \n",
    "print(data)"
   ]
  },
  {
   "cell_type": "code",
   "execution_count": 144,
   "metadata": {},
   "outputs": [],
   "source": [
    "\n",
    "def select_centroids(k, data):\n",
    "    initial_centroids = np.random.randint(data.shape[0], size=k)\n",
    "    centroids = data[initial_centroids]\n",
    "    return centroids\n",
    "\n",
    "def assign_cluster(k, data, centroids):\n",
    "    \n",
    "    centers_old = np.zeros(centroids.shape) # to store old centers\n",
    "    centers_new = deepcopy(centroids)# Store new centers\n",
    "    \n",
    "    \n",
    "    clusters = np.zeros(data.shape[0])\n",
    "    distances = np.zeros((data.shape[0],k))\n",
    "    \n",
    "    error = np.linalg.norm(centers_new - centers_old)\n",
    "\n",
    "    # When, after an update, the estimate of that center stays the same, exit loop\n",
    "    while error != 0:\n",
    "    \n",
    "        # Measure the distance to every center\n",
    "        for i in range(k):\n",
    "            distances[:,i] = np.linalg.norm(data - centers_new[i], axis=1)\n",
    "        # Assign all training data to closest center\n",
    "        cluster_labels = np.argmin(distances, axis = 1)\n",
    "    \n",
    "    \n",
    "        centers_old = deepcopy(centers_new)\n",
    "        # Calculate mean for every cluster and update the center\n",
    "        for i in range(k):\n",
    "            centers_new[i] = np.mean(data[cluster_labels == i], axis=0)\n",
    "        error = np.linalg.norm(centers_new - centers_old)\n",
    "  \n",
    "        \n",
    "    return cluster_labels, centers_new\n",
    "    \n",
    "        \n",
    "    \n",
    "\n"
   ]
  },
  {
   "cell_type": "code",
   "execution_count": 145,
   "metadata": {},
   "outputs": [],
   "source": [
    "# Number of clusters\n",
    "k = 3"
   ]
  },
  {
   "cell_type": "code",
   "execution_count": 146,
   "metadata": {},
   "outputs": [],
   "source": [
    "centroids = select_centroids(3, data)"
   ]
  },
  {
   "cell_type": "code",
   "execution_count": 147,
   "metadata": {},
   "outputs": [
    {
     "data": {
      "text/plain": [
       "array([[-0.04531203,  0.15377317, -0.02759817],\n",
       "       [-0.16596509, -0.13926002,  0.07635318],\n",
       "       [ 0.03005345, -0.04099104, -0.01508673]])"
      ]
     },
     "execution_count": 147,
     "metadata": {},
     "output_type": "execute_result"
    }
   ],
   "source": [
    "centroids"
   ]
  },
  {
   "cell_type": "code",
   "execution_count": 148,
   "metadata": {},
   "outputs": [
    {
     "data": {
      "text/plain": [
       "<matplotlib.collections.PathCollection at 0x18b22685b88>"
      ]
     },
     "execution_count": 148,
     "metadata": {},
     "output_type": "execute_result"
    },
    {
     "data": {
      "image/png": "[encoded data removed]",
      "text/plain": [
       "<Figure size 432x288 with 1 Axes>"
      ]
     },
     "metadata": {
      "needs_background": "light"
     },
     "output_type": "display_data"
    }
   ],
   "source": [
    "# Plot the data and the centers generated as random\n",
    "plt.scatter(data[:, 0], data[:, 1], s=50, cmap='viridis')\n",
    "plt.scatter(centroids[:,0], centroids[:,1], marker='*', c='g', s=150)"
   ]
  },
  {
   "cell_type": "code",
   "execution_count": 149,
   "metadata": {},
   "outputs": [],
   "source": [
    "cluster_labels, centers_new = assign_cluster(3, data, centroids)"
   ]
  },
  {
   "cell_type": "code",
   "execution_count": 150,
   "metadata": {},
   "outputs": [
    {
     "data": {
      "text/plain": [
       "array([0, 1, 0, ..., 2, 0, 1], dtype=int64)"
      ]
     },
     "execution_count": 150,
     "metadata": {},
     "output_type": "execute_result"
    }
   ],
   "source": [
    "cluster_labels"
   ]
  },
  {
   "cell_type": "code",
   "execution_count": 151,
   "metadata": {},
   "outputs": [
    {
     "data": {
      "text/plain": [
       "array([[-0.05108431,  0.09256638, -0.00468388],\n",
       "       [-0.08153958, -0.06575136,  0.00122492],\n",
       "       [ 0.1592294 , -0.01081657,  0.00328162]])"
      ]
     },
     "execution_count": 151,
     "metadata": {},
     "output_type": "execute_result"
    }
   ],
   "source": [
    "centers_new"
   ]
  },
  {
   "cell_type": "code",
   "execution_count": 152,
   "metadata": {},
   "outputs": [
    {
     "data": {
      "text/plain": [
       "<matplotlib.collections.PathCollection at 0x18b28d9c648>"
      ]
     },
     "execution_count": 152,
     "metadata": {},
     "output_type": "execute_result"
    },
    {
     "data": {
      "image/png": "[encoded data removed]",
      "text/plain": [
       "<Figure size 432x288 with 1 Axes>"
      ]
     },
     "metadata": {
      "needs_background": "light"
     },
     "output_type": "display_data"
    }
   ],
   "source": [
    "# Plot the data\n",
    "n = data.shape[0]\n",
    "colors=['orange', 'blue', 'black']\n",
    "for i in range(n):\n",
    "    plt.scatter(data[i, 0], data[i, 1], s=50, c = colors[cluster_labels[i]])\n",
    "plt.scatter(centers_new[:, 0], centers_new[:, 1], marker='*', c='g', s=150)"
   ]
  },
  {
   "cell_type": "code",
   "execution_count": null,
   "metadata": {},
   "outputs": [],
   "source": []
  }
 ],
 "metadata": {
  "kernelspec": {
   "display_name": "Python 3",
   "language": "python",
   "name": "python3"
  },
  "language_info": {
   "codemirror_mode": {
    "name": "ipython",
    "version": 3
   },
   "file_extension": ".py",
   "mimetype": "text/x-python",
   "name": "python",
   "nbconvert_exporter": "python",
   "pygments_lexer": "ipython3",
   "version": "3.7.7"
  }
 },
 "nbformat": 4,
 "nbformat_minor": 4
}
