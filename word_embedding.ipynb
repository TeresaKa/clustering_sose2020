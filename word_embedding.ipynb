{
 "cells": [
  {
   "cell_type": "code",
   "execution_count": 55,
   "metadata": {},
   "outputs": [],
   "source": [
    "import pandas as pd\n",
    "import numpy as np\n",
    "\n",
    "from gensim.models import Word2Vec, Doc2Vec\n",
    "from gensim.models.doc2vec import TaggedDocument\n",
    " \n",
    "from nltk.cluster import KMeansClusterer\n",
    "import nltk\n",
    " \n",
    "from sklearn import cluster\n",
    "from sklearn import metrics\n",
    "from sklearn.cluster import KMeans \n",
    "from sklearn.decomposition import PCA\n",
    "\n",
    "import matplotlib.pyplot as plt"
   ]
  },
  {
   "cell_type": "code",
   "execution_count": 11,
   "metadata": {},
   "outputs": [],
   "source": [
    "def kmeans(n_clusters, text):\n",
    "    kmean = KMeans(n_clusters=n_clusters, algorithm = 'auto') #max_iter=600\n",
    "    fitted = kmean.fit(text)\n",
    "    prediction = kmean.predict(text)\n",
    "    return prediction"
   ]
  },
  {
   "cell_type": "code",
   "execution_count": 12,
   "metadata": {},
   "outputs": [],
   "source": [
    "def compute_PCA(text):\n",
    "    pca = PCA(n_components = 2)\n",
    "    Y = pca.fit_transform(text)\n",
    "    return Y"
   ]
  },
  {
   "cell_type": "code",
   "execution_count": 13,
   "metadata": {},
   "outputs": [],
   "source": [
    "def plot_PCA(Y, prediction):\n",
    "    plt.figure(figsize=(15,10))\n",
    "    plt.scatter(Y[:, 0], Y[:, 1], c=prediction, s=50, cmap='viridis')\n",
    "    plt.title('PCA')\n",
    "#     plt.savefig('K_Means/PCA_after_kmeans.png', bbox_inches = \"tight\")"
   ]
  },
  {
   "cell_type": "code",
   "execution_count": 16,
   "metadata": {},
   "outputs": [],
   "source": [
    "def KMeans_all(text, n_clusters):\n",
    "#     data = tfidf(text)\n",
    "    prediction = kmeans(n_clusters,text)\n",
    "    Y = compute_PCA(text)\n",
    "    return Y, prediction"
   ]
  },
  {
   "cell_type": "markdown",
   "metadata": {},
   "source": [
    "#### Testdaten"
   ]
  },
  {
   "cell_type": "code",
   "execution_count": 49,
   "metadata": {},
   "outputs": [
    {
     "name": "stderr",
     "output_type": "stream",
     "text": [
      "/home/teresa/.local/lib/python3.7/site-packages/ipykernel_launcher.py:18: DeprecationWarning: Call to deprecated `__getitem__` (Method will be removed in 4.0.0, use self.wv.__getitem__() instead).\n",
      "/home/teresa/.local/lib/python3.7/site-packages/ipykernel_launcher.py:21: DeprecationWarning: Call to deprecated `syn0` (Attribute will be removed in 4.0.0, use self.vectors instead).\n"
     ]
    }
   ],
   "source": [
    "# training data\n",
    " \n",
    "sentences = [['this', 'is', 'the', 'good', 'machine', 'learning', 'book'],\n",
    "            ['this', 'is',  'another', 'book'],\n",
    "            ['one', 'more', 'book'],\n",
    "            ['this', 'is', 'the', 'new', 'post'],\n",
    "          ['this', 'is', 'about', 'machine', 'learning', 'post'],  \n",
    "            ['and', 'this', 'is', 'the', 'last', 'post']]\n",
    "\n",
    "# training model\n",
    "# model = Word2Vec(sentences, min_count=1)\n",
    "# get vector data\n",
    "# X = model[model.wv.vocab]\n",
    "# word_vectors = model.wv.syn0"
   ]
  },
  {
   "cell_type": "code",
   "execution_count": 53,
   "metadata": {},
   "outputs": [
    {
     "name": "stderr",
     "output_type": "stream",
     "text": [
      "/home/teresa/.local/lib/python3.7/site-packages/ipykernel_launcher.py:8: DeprecationWarning: Call to deprecated `syn0` (Attribute will be removed in 4.0.0, use self.vectors instead).\n",
      "  \n"
     ]
    }
   ],
   "source": [
    "documents = [TaggedDocument(doc, [i]) for i, doc in enumerate(sentences)]\n",
    "\n",
    "model = Doc2Vec(documents, min_count=1)\n",
    "\n",
    "# dX = model[dmodel.wv.vocab]\n",
    "# dword_vectors = model.wv.syn0\n",
    "\n",
    "#inference hyper-parameters\n",
    "start_alpha=0.01\n",
    "infer_epoch=1000\n",
    "\n",
    "X=[]\n",
    "for d in sentences:\n",
    "    X.append(model.infer_vector(d, alpha=start_alpha, steps=infer_epoch))"
   ]
  },
  {
   "cell_type": "code",
   "execution_count": 54,
   "metadata": {},
   "outputs": [
    {
     "data": {
      "image/png": "[encoded data removed]",
      "text/plain": [
       "<Figure size 1080x720 with 1 Axes>"
      ]
     },
     "metadata": {
      "needs_background": "light"
     },
     "output_type": "display_data"
    }
   ],
   "source": [
    "Y, prediction = KMeans_all(X, 3)\n",
    "plot_PCA(Y, prediction)"
   ]
  },
  {
   "cell_type": "markdown",
   "metadata": {},
   "source": [
    "#### unsere Daten"
   ]
  },
  {
   "cell_type": "code",
   "execution_count": 56,
   "metadata": {},
   "outputs": [
    {
     "data": {
      "text/html": [
       "<div>\n",
       "<style scoped>\n",
       "    .dataframe tbody tr th:only-of-type {\n",
       "        vertical-align: middle;\n",
       "    }\n",
       "\n",
       "    .dataframe tbody tr th {\n",
       "        vertical-align: top;\n",
       "    }\n",
       "\n",
       "    .dataframe thead th {\n",
       "        text-align: right;\n",
       "    }\n",
       "</style>\n",
       "<table border=\"1\" class=\"dataframe\">\n",
       "  <thead>\n",
       "    <tr style=\"text-align: right;\">\n",
       "      <th></th>\n",
       "      <th>Unnamed: 0</th>\n",
       "      <th>song</th>\n",
       "      <th>artist</th>\n",
       "      <th>link</th>\n",
       "      <th>text</th>\n",
       "      <th>stemmed_text</th>\n",
       "      <th>POS</th>\n",
       "      <th>POS_tags</th>\n",
       "      <th>Genre1</th>\n",
       "      <th>Genre2</th>\n",
       "      <th>genre1</th>\n",
       "      <th>genre2</th>\n",
       "      <th>number_of_tokens</th>\n",
       "      <th>number_of_types</th>\n",
       "      <th>date</th>\n",
       "      <th>decades</th>\n",
       "    </tr>\n",
       "  </thead>\n",
       "  <tbody>\n",
       "    <tr>\n",
       "      <th>0</th>\n",
       "      <td>0</td>\n",
       "      <td>Andante, Andante</td>\n",
       "      <td>ABBA</td>\n",
       "      <td>/a/abba/andante+andante_20002708.html</td>\n",
       "      <td>take it easy with me  please  touch me gently ...</td>\n",
       "      <td>take it easi with me pleas touch me gentli li...</td>\n",
       "      <td>easy slow andante soft light andante strong st...</td>\n",
       "      <td>['VB', 'PRP', 'JJ', 'IN', 'PRP', '_SP', 'UH', ...</td>\n",
       "      <td>Pop</td>\n",
       "      <td>Rock</td>\n",
       "      <td>europop</td>\n",
       "      <td>swedish pop</td>\n",
       "      <td>260.0</td>\n",
       "      <td>87.0</td>\n",
       "      <td>1980</td>\n",
       "      <td>1980s</td>\n",
       "    </tr>\n",
       "    <tr>\n",
       "      <th>1</th>\n",
       "      <td>1</td>\n",
       "      <td>As Good As New</td>\n",
       "      <td>ABBA</td>\n",
       "      <td>/a/abba/as+good+as+new_20003033.html</td>\n",
       "      <td>i'll never know why i had to go  why i had to ...</td>\n",
       "      <td>i 'll never know whi i had to go whi i had to...</td>\n",
       "      <td>lousy rotten tough enough good new good new ne...</td>\n",
       "      <td>['PRP', 'MD', 'RB', 'VB', 'WRB', 'PRP', 'VBD',...</td>\n",
       "      <td>Pop</td>\n",
       "      <td>Rock</td>\n",
       "      <td>europop</td>\n",
       "      <td>swedish pop</td>\n",
       "      <td>312.0</td>\n",
       "      <td>120.0</td>\n",
       "      <td>1979</td>\n",
       "      <td>1970s</td>\n",
       "    </tr>\n",
       "    <tr>\n",
       "      <th>2</th>\n",
       "      <td>3</td>\n",
       "      <td>Cassandra</td>\n",
       "      <td>ABBA</td>\n",
       "      <td>/a/abba/cassandra_20002811.html</td>\n",
       "      <td>down in the street they're all singing and sho...</td>\n",
       "      <td>down in the street they 're all sing and shou...</td>\n",
       "      <td>alive dead hollow smart sorry last sorry final...</td>\n",
       "      <td>['IN', 'IN', 'DT', 'NN', 'PRP', 'VBP', 'DT', '...</td>\n",
       "      <td>Pop</td>\n",
       "      <td>Rock</td>\n",
       "      <td>europop</td>\n",
       "      <td>swedish pop</td>\n",
       "      <td>361.0</td>\n",
       "      <td>157.0</td>\n",
       "      <td>1981</td>\n",
       "      <td>1980s</td>\n",
       "    </tr>\n",
       "    <tr>\n",
       "      <th>3</th>\n",
       "      <td>4</td>\n",
       "      <td>Chiquitita</td>\n",
       "      <td>ABBA</td>\n",
       "      <td>/a/abba/chiquitita_20002978.html</td>\n",
       "      <td>chiquitita  tell me what's wrong  you're encha...</td>\n",
       "      <td>chiquitita tell me what 's wrong you 're ench...</td>\n",
       "      <td>wrong own sad quiet sure new new hard sad quie...</td>\n",
       "      <td>['NNP', '_SP', 'VB', 'PRP', 'WP', 'VBZ', 'JJ',...</td>\n",
       "      <td>Pop</td>\n",
       "      <td>Rock</td>\n",
       "      <td>europop</td>\n",
       "      <td>swedish pop</td>\n",
       "      <td>304.0</td>\n",
       "      <td>119.0</td>\n",
       "      <td>1979</td>\n",
       "      <td>1970s</td>\n",
       "    </tr>\n",
       "    <tr>\n",
       "      <th>4</th>\n",
       "      <td>5</td>\n",
       "      <td>Crazy World</td>\n",
       "      <td>ABBA</td>\n",
       "      <td>/a/abba/crazy+world_20003013.html</td>\n",
       "      <td>i was out with the morning sun  couldn't sleep...</td>\n",
       "      <td>i wa out with the morn sun could n't sleep so...</td>\n",
       "      <td>front crazy stunned crazy other stupid blind l...</td>\n",
       "      <td>['PRP', 'VBD', 'RB', 'IN', 'DT', 'NN', 'NN', '...</td>\n",
       "      <td>Pop</td>\n",
       "      <td>Rock</td>\n",
       "      <td>europop</td>\n",
       "      <td>swedish pop</td>\n",
       "      <td>304.0</td>\n",
       "      <td>143.0</td>\n",
       "      <td>1975</td>\n",
       "      <td>1970s</td>\n",
       "    </tr>\n",
       "  </tbody>\n",
       "</table>\n",
       "</div>"
      ],
      "text/plain": [
       "   Unnamed: 0              song artist                                   link  \\\n",
       "0           0  Andante, Andante   ABBA  /a/abba/andante+andante_20002708.html   \n",
       "1           1    As Good As New   ABBA   /a/abba/as+good+as+new_20003033.html   \n",
       "2           3         Cassandra   ABBA        /a/abba/cassandra_20002811.html   \n",
       "3           4        Chiquitita   ABBA       /a/abba/chiquitita_20002978.html   \n",
       "4           5       Crazy World   ABBA      /a/abba/crazy+world_20003013.html   \n",
       "\n",
       "                                                text  \\\n",
       "0  take it easy with me  please  touch me gently ...   \n",
       "1  i'll never know why i had to go  why i had to ...   \n",
       "2  down in the street they're all singing and sho...   \n",
       "3  chiquitita  tell me what's wrong  you're encha...   \n",
       "4  i was out with the morning sun  couldn't sleep...   \n",
       "\n",
       "                                        stemmed_text  \\\n",
       "0   take it easi with me pleas touch me gentli li...   \n",
       "1   i 'll never know whi i had to go whi i had to...   \n",
       "2   down in the street they 're all sing and shou...   \n",
       "3   chiquitita tell me what 's wrong you 're ench...   \n",
       "4   i wa out with the morn sun could n't sleep so...   \n",
       "\n",
       "                                                 POS  \\\n",
       "0  easy slow andante soft light andante strong st...   \n",
       "1  lousy rotten tough enough good new good new ne...   \n",
       "2  alive dead hollow smart sorry last sorry final...   \n",
       "3  wrong own sad quiet sure new new hard sad quie...   \n",
       "4  front crazy stunned crazy other stupid blind l...   \n",
       "\n",
       "                                            POS_tags Genre1 Genre2   genre1  \\\n",
       "0  ['VB', 'PRP', 'JJ', 'IN', 'PRP', '_SP', 'UH', ...    Pop   Rock  europop   \n",
       "1  ['PRP', 'MD', 'RB', 'VB', 'WRB', 'PRP', 'VBD',...    Pop   Rock  europop   \n",
       "2  ['IN', 'IN', 'DT', 'NN', 'PRP', 'VBP', 'DT', '...    Pop   Rock  europop   \n",
       "3  ['NNP', '_SP', 'VB', 'PRP', 'WP', 'VBZ', 'JJ',...    Pop   Rock  europop   \n",
       "4  ['PRP', 'VBD', 'RB', 'IN', 'DT', 'NN', 'NN', '...    Pop   Rock  europop   \n",
       "\n",
       "        genre2  number_of_tokens  number_of_types  date decades  \n",
       "0  swedish pop             260.0             87.0  1980   1980s  \n",
       "1  swedish pop             312.0            120.0  1979   1970s  \n",
       "2  swedish pop             361.0            157.0  1981   1980s  \n",
       "3  swedish pop             304.0            119.0  1979   1970s  \n",
       "4  swedish pop             304.0            143.0  1975   1970s  "
      ]
     },
     "execution_count": 56,
     "metadata": {},
     "output_type": "execute_result"
    }
   ],
   "source": [
    "songs = pd.read_csv('songs_longtexts.csv')\n",
    "songs.head()"
   ]
  },
  {
   "cell_type": "code",
   "execution_count": 136,
   "metadata": {
    "scrolled": true
   },
   "outputs": [],
   "source": [
    "reggae = songs[songs.Genre1=='Reggae']\n",
    "abba = songs[songs.artist=='ABBA']\n",
    "band = songs[(songs.artist=='System Of A Down')|(songs.artist=='Justin Timberlake')]\n",
    "somegenres = songs[(songs.Genre1!='Pop') | (songs.Genre1!='Rock')]\n",
    "somegenres = somegenres[(somegenres.Genre2!=' Pop') & (somegenres.Genre2!=' Rock')]\n",
    "eighties = somegenres[somegenres.decades=='1980s']"
   ]
  },
  {
   "cell_type": "code",
   "execution_count": 145,
   "metadata": {},
   "outputs": [],
   "source": [
    "sentences = []\n",
    "for row in band.POS:\n",
    "    sentences.append(row.split())"
   ]
  },
  {
   "cell_type": "code",
   "execution_count": 146,
   "metadata": {},
   "outputs": [],
   "source": [
    "documents = [TaggedDocument(doc, [i]) for i, doc in enumerate(sentences)]\n",
    "\n",
    "model = Doc2Vec(documents, min_count=1)\n",
    "\n",
    "#inference hyper-parameters\n",
    "start_alpha=0.01\n",
    "infer_epoch=1000\n",
    "\n",
    "X=[]\n",
    "for d in sentences:\n",
    "    X.append(model.infer_vector(d, alpha=start_alpha, steps=infer_epoch))"
   ]
  },
  {
   "cell_type": "code",
   "execution_count": 147,
   "metadata": {},
   "outputs": [
    {
     "data": {
      "text/plain": [
       "56"
      ]
     },
     "execution_count": 147,
     "metadata": {},
     "output_type": "execute_result"
    }
   ],
   "source": [
    "len(documents)"
   ]
  },
  {
   "cell_type": "code",
   "execution_count": 148,
   "metadata": {},
   "outputs": [
    {
     "data": {
      "image/png": "[encoded data removed]",
      "text/plain": [
       "<Figure size 1080x720 with 1 Axes>"
      ]
     },
     "metadata": {
      "needs_background": "light"
     },
     "output_type": "display_data"
    }
   ],
   "source": [
    "Y, prediction = KMeans_all(X, 2)\n",
    "plot_PCA(Y, prediction)"
   ]
  },
  {
   "cell_type": "code",
   "execution_count": null,
   "metadata": {},
   "outputs": [],
   "source": []
  }
 ],
 "metadata": {
  "kernelspec": {
   "display_name": "Python 3",
   "language": "python",
   "name": "python3"
  },
  "language_info": {
   "codemirror_mode": {
    "name": "ipython",
    "version": 3
   },
   "file_extension": ".py",
   "mimetype": "text/x-python",
   "name": "python",
   "nbconvert_exporter": "python",
   "pygments_lexer": "ipython3",
   "version": "3.7.4"
  }
 },
 "nbformat": 4,
 "nbformat_minor": 2
}
